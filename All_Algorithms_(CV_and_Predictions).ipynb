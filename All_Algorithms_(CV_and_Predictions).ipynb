{
  "cells": [
    {
      "cell_type": "code",
      "execution_count": null,
      "id": "SVncUKnNYl7x",
      "metadata": {
        "colab": {
          "base_uri": "https://localhost:8080/"
        },
        "id": "SVncUKnNYl7x",
        "outputId": "2f2ed975-7ae7-4796-fdc2-4e824032d982"
      },
      "outputs": [
        {
          "name": "stdout",
          "output_type": "stream",
          "text": [
            "--2025-05-24 17:33:01--  https://developer.download.nvidia.com/compute/cuda/repos/ubuntu2004/x86_64/cuda-ubuntu2004.pin\n",
            "Resolving developer.download.nvidia.com (developer.download.nvidia.com)... 23.46.63.202, 23.46.63.200\n",
            "Connecting to developer.download.nvidia.com (developer.download.nvidia.com)|23.46.63.202|:443... connected.\n",
            "HTTP request sent, awaiting response... 200 OK\n",
            "Length: 190 [application/octet-stream]\n",
            "Saving to: ‘cuda-ubuntu2004.pin’\n",
            "\n",
            "cuda-ubuntu2004.pin 100%[===================>]     190  --.-KB/s    in 0s      \n",
            "\n",
            "2025-05-24 17:33:02 (120 MB/s) - ‘cuda-ubuntu2004.pin’ saved [190/190]\n",
            "\n",
            "--2025-05-24 17:33:02--  https://developer.download.nvidia.com/compute/cuda/11.8.0/local_installers/cuda-repo-ubuntu2004-11-8-local_11.8.0-520.61.05-1_amd64.deb\n",
            "Resolving developer.download.nvidia.com (developer.download.nvidia.com)... 23.46.63.202, 23.46.63.200\n",
            "Connecting to developer.download.nvidia.com (developer.download.nvidia.com)|23.46.63.202|:443... connected.\n",
            "HTTP request sent, awaiting response... 200 OK\n",
            "Length: 3181876424 (3.0G) [application/x-deb]\n",
            "Saving to: ‘cuda-repo-ubuntu2004-11-8-local_11.8.0-520.61.05-1_amd64.deb’\n",
            "\n",
            "cuda-repo-ubuntu200 100%[===================>]   2.96G   338MB/s    in 8.3s    \n",
            "\n",
            "2025-05-24 17:33:12 (365 MB/s) - ‘cuda-repo-ubuntu2004-11-8-local_11.8.0-520.61.05-1_amd64.deb’ saved [3181876424/3181876424]\n",
            "\n",
            "Selecting previously unselected package cuda-repo-ubuntu2004-11-8-local.\n",
            "(Reading database ... 126102 files and directories currently installed.)\n",
            "Preparing to unpack cuda-repo-ubuntu2004-11-8-local_11.8.0-520.61.05-1_amd64.deb ...\n",
            "Unpacking cuda-repo-ubuntu2004-11-8-local (11.8.0-520.61.05-1) ...\n",
            "Setting up cuda-repo-ubuntu2004-11-8-local (11.8.0-520.61.05-1) ...\n",
            "\n",
            "The public cuda-repo-ubuntu2004-11-8-local GPG key does not appear to be installed.\n",
            "To install the key, run this command:\n",
            "sudo cp /var/cuda-repo-ubuntu2004-11-8-local/cuda-368EAC11-keyring.gpg /usr/share/keyrings/\n",
            "\n",
            "Get:1 file:/var/cuda-repo-ubuntu2004-11-8-local  InRelease [1,575 B]\n",
            "Get:1 file:/var/cuda-repo-ubuntu2004-11-8-local  InRelease [1,575 B]\n",
            "Get:2 https://developer.download.nvidia.com/compute/cuda/repos/ubuntu2204/x86_64  InRelease [1,581 B]\n",
            "Get:3 https://cloud.r-project.org/bin/linux/ubuntu jammy-cran40/ InRelease [3,632 B]\n",
            "Get:4 file:/var/cuda-repo-ubuntu2004-11-8-local  Packages [33.6 kB]\n",
            "Get:5 http://security.ubuntu.com/ubuntu jammy-security InRelease [129 kB]\n",
            "Hit:6 http://archive.ubuntu.com/ubuntu jammy InRelease\n",
            "Get:7 http://archive.ubuntu.com/ubuntu jammy-updates InRelease [128 kB]\n",
            "Get:8 https://r2u.stat.illinois.edu/ubuntu jammy InRelease [6,555 B]\n",
            "Get:9 https://developer.download.nvidia.com/compute/cuda/repos/ubuntu2204/x86_64  Packages [1,683 kB]\n",
            "Hit:10 https://ppa.launchpadcontent.net/deadsnakes/ppa/ubuntu jammy InRelease\n",
            "Get:11 https://r2u.stat.illinois.edu/ubuntu jammy/main all Packages [8,972 kB]\n",
            "Get:12 http://security.ubuntu.com/ubuntu jammy-security/restricted amd64 Packages [4,387 kB]\n",
            "Get:13 https://ppa.launchpadcontent.net/graphics-drivers/ppa/ubuntu jammy InRelease [24.3 kB]\n",
            "Get:14 http://archive.ubuntu.com/ubuntu jammy-backports InRelease [127 kB]\n",
            "Get:15 https://ppa.launchpadcontent.net/ubuntugis/ppa/ubuntu jammy InRelease [24.6 kB]\n",
            "Get:16 http://archive.ubuntu.com/ubuntu jammy-updates/universe amd64 Packages [1,552 kB]\n",
            "Get:17 https://ppa.launchpadcontent.net/graphics-drivers/ppa/ubuntu jammy/main amd64 Packages [46.6 kB]\n",
            "Get:18 https://ppa.launchpadcontent.net/ubuntugis/ppa/ubuntu jammy/main amd64 Packages [75.1 kB]\n",
            "Get:19 http://security.ubuntu.com/ubuntu jammy-security/main amd64 Packages [2,944 kB]\n",
            "Get:20 http://security.ubuntu.com/ubuntu jammy-security/universe amd64 Packages [1,245 kB]\n",
            "Get:21 http://archive.ubuntu.com/ubuntu jammy-updates/main amd64 Packages [3,255 kB]\n",
            "Get:22 http://archive.ubuntu.com/ubuntu jammy-updates/restricted amd64 Packages [4,540 kB]\n",
            "Get:23 http://archive.ubuntu.com/ubuntu jammy-backports/main amd64 Packages [83.2 kB]\n",
            "Get:24 http://archive.ubuntu.com/ubuntu jammy-backports/universe amd64 Packages [35.2 kB]\n",
            "Get:25 https://r2u.stat.illinois.edu/ubuntu jammy/main amd64 Packages [2,730 kB]\n",
            "Fetched 32.0 MB in 4s (7,880 kB/s)\n",
            "Reading package lists... Done\n",
            "W: Skipping acquire of configured file 'main/source/Sources' as repository 'https://r2u.stat.illinois.edu/ubuntu jammy InRelease' does not seem to provide it (sources.list entry misspelt?)\n",
            "Reading package lists... Done\n",
            "Building dependency tree... Done\n",
            "Reading state information... Done\n",
            "The following additional packages will be installed:\n",
            "  cpp-12 cuda-cccl-11-8 cuda-command-line-tools-11-8 cuda-compiler-11-8\n",
            "  cuda-cudart-11-8 cuda-cudart-dev-11-8 cuda-cuobjdump-11-8 cuda-cupti-11-8\n",
            "  cuda-cupti-dev-11-8 cuda-cuxxfilt-11-8 cuda-demo-suite-11-8\n",
            "  cuda-documentation-11-8 cuda-driver-dev-11-8 cuda-drivers cuda-drivers-575\n",
            "  cuda-gdb-11-8 cuda-libraries-11-8 cuda-libraries-dev-11-8 cuda-memcheck-11-8\n",
            "  cuda-nsight-11-8 cuda-nsight-compute-11-8 cuda-nsight-systems-11-8\n",
            "  cuda-nvcc-11-8 cuda-nvdisasm-11-8 cuda-nvml-dev-11-8 cuda-nvprof-11-8\n",
            "  cuda-nvprune-11-8 cuda-nvrtc-11-8 cuda-nvrtc-dev-11-8 cuda-nvtx-11-8\n",
            "  cuda-nvvp-11-8 cuda-profiler-api-11-8 cuda-runtime-11-8 cuda-sanitizer-11-8\n",
            "  cuda-toolkit-11-8 cuda-toolkit-11-8-config-common\n",
            "  cuda-toolkit-11-config-common cuda-tools-11-8 cuda-visual-tools-11-8\n",
            "  dctrl-tools default-jre default-jre-headless dkms fakeroot fonts-dejavu-core\n",
            "  fonts-dejavu-extra gcc-12 gds-tools-11-8 keyboard-configuration libasan8\n",
            "  libatk-wrapper-java libatk-wrapper-java-jni libcublas-11-8\n",
            "  libcublas-dev-11-8 libcufft-11-8 libcufft-dev-11-8 libcufile-11-8\n",
            "  libcufile-dev-11-8 libcurand-11-8 libcurand-dev-11-8 libcusolver-11-8\n",
            "  libcusolver-dev-11-8 libcusparse-11-8 libcusparse-dev-11-8 libfakeroot\n",
            "  libgail-common libgail18 libgcc-12-dev libgtk2.0-0 libgtk2.0-bin\n",
            "  libgtk2.0-common libgudev-1.0-0 libjansson4 liblocale-gettext-perl\n",
            "  libnpp-11-8 libnpp-dev-11-8 libnvidia-cfg1-575 libnvidia-common-575\n",
            "  libnvidia-compute-575 libnvidia-decode-575 libnvidia-encode-575\n",
            "  libnvidia-extra-575 libnvidia-fbc1-575 libnvidia-gl-575\n",
            "  libnvidia-gpucomp-575 libnvjpeg-11-8 libnvjpeg-dev-11-8 librsvg2-common\n",
            "  libtinfo5 libtsan2 libudev1 libxcb-icccm4 libxcb-image0 libxcb-keysyms1\n",
            "  libxcb-render-util0 libxcb-util1 libxcb-xinerama0 libxcb-xinput0 libxcb-xkb1\n",
            "  libxcvt0 libxkbcommon-x11-0 libxtst6 libxxf86dga1 nsight-compute-2022.3.0\n",
            "  nsight-systems-2022.4.2 nvidia-compute-utils-575 nvidia-dkms-575\n",
            "  nvidia-driver-575 nvidia-firmware-575-575.51.03 nvidia-kernel-common-575\n",
            "  nvidia-kernel-source-575 nvidia-modprobe nvidia-settings nvidia-utils-575\n",
            "  openjdk-11-jre python3-xkit screen-resolution-extra switcheroo-control\n",
            "  systemd-hwe-hwdb udev x11-utils xcvt xserver-xorg-core\n",
            "  xserver-xorg-video-nvidia-575\n",
            "Suggested packages:\n",
            "  gcc-12-locales cpp-12-doc debtags menu gcc-12-multilib gcc-12-doc gvfs\n",
            "  mesa-utils xfonts-100dpi | xfonts-75dpi xfonts-scalable\n",
            "Recommended packages:\n",
            "  libnvidia-compute-575:i386 libnvidia-decode-575:i386\n",
            "  libnvidia-encode-575:i386 libnvidia-fbc1-575:i386 libnvidia-gl-575:i386\n",
            "The following NEW packages will be installed:\n",
            "  cpp-12 cuda-11-8 cuda-cccl-11-8 cuda-command-line-tools-11-8\n",
            "  cuda-compiler-11-8 cuda-cudart-11-8 cuda-cudart-dev-11-8 cuda-cuobjdump-11-8\n",
            "  cuda-cupti-11-8 cuda-cupti-dev-11-8 cuda-cuxxfilt-11-8 cuda-demo-suite-11-8\n",
            "  cuda-documentation-11-8 cuda-driver-dev-11-8 cuda-drivers cuda-drivers-575\n",
            "  cuda-gdb-11-8 cuda-libraries-11-8 cuda-libraries-dev-11-8 cuda-memcheck-11-8\n",
            "  cuda-nsight-11-8 cuda-nsight-compute-11-8 cuda-nsight-systems-11-8\n",
            "  cuda-nvcc-11-8 cuda-nvdisasm-11-8 cuda-nvml-dev-11-8 cuda-nvprof-11-8\n",
            "  cuda-nvprune-11-8 cuda-nvrtc-11-8 cuda-nvrtc-dev-11-8 cuda-nvtx-11-8\n",
            "  cuda-nvvp-11-8 cuda-profiler-api-11-8 cuda-runtime-11-8 cuda-sanitizer-11-8\n",
            "  cuda-toolkit-11-8 cuda-toolkit-11-8-config-common\n",
            "  cuda-toolkit-11-config-common cuda-tools-11-8 cuda-visual-tools-11-8\n",
            "  dctrl-tools default-jre default-jre-headless dkms fakeroot fonts-dejavu-core\n",
            "  fonts-dejavu-extra gcc-12 gds-tools-11-8 keyboard-configuration libasan8\n",
            "  libatk-wrapper-java libatk-wrapper-java-jni libcublas-11-8\n",
            "  libcublas-dev-11-8 libcufft-11-8 libcufft-dev-11-8 libcufile-11-8\n",
            "  libcufile-dev-11-8 libcurand-11-8 libcurand-dev-11-8 libcusolver-11-8\n",
            "  libcusolver-dev-11-8 libcusparse-11-8 libcusparse-dev-11-8 libfakeroot\n",
            "  libgail-common libgail18 libgcc-12-dev libgtk2.0-0 libgtk2.0-bin\n",
            "  libgtk2.0-common libgudev-1.0-0 libjansson4 liblocale-gettext-perl\n",
            "  libnpp-11-8 libnpp-dev-11-8 libnvidia-cfg1-575 libnvidia-common-575\n",
            "  libnvidia-compute-575 libnvidia-decode-575 libnvidia-encode-575\n",
            "  libnvidia-extra-575 libnvidia-fbc1-575 libnvidia-gl-575\n",
            "  libnvidia-gpucomp-575 libnvjpeg-11-8 libnvjpeg-dev-11-8 librsvg2-common\n",
            "  libtinfo5 libtsan2 libxcb-icccm4 libxcb-image0 libxcb-keysyms1\n",
            "  libxcb-render-util0 libxcb-util1 libxcb-xinerama0 libxcb-xinput0 libxcb-xkb1\n",
            "  libxcvt0 libxkbcommon-x11-0 libxtst6 libxxf86dga1 nsight-compute-2022.3.0\n",
            "  nsight-systems-2022.4.2 nvidia-compute-utils-575 nvidia-dkms-575\n",
            "  nvidia-driver-575 nvidia-firmware-575-575.51.03 nvidia-kernel-common-575\n",
            "  nvidia-kernel-source-575 nvidia-modprobe nvidia-settings nvidia-utils-575\n",
            "  openjdk-11-jre python3-xkit screen-resolution-extra switcheroo-control\n",
            "  systemd-hwe-hwdb udev x11-utils xcvt xserver-xorg-core\n",
            "  xserver-xorg-video-nvidia-575\n",
            "The following packages will be upgraded:\n",
            "  libudev1\n",
            "1 upgraded, 124 newly installed, 0 to remove and 92 not upgraded.\n",
            "Need to get 708 MB/3,137 MB of archives.\n",
            "After this operation, 7,967 MB of additional disk space will be used.\n",
            "Get:1 file:/var/cuda-repo-ubuntu2004-11-8-local  cuda-toolkit-11-config-common 11.8.89-1 [16.4 kB]\n",
            "Get:2 file:/var/cuda-repo-ubuntu2004-11-8-local  cuda-toolkit-11-8-config-common 11.8.89-1 [16.3 kB]\n",
            "Get:3 file:/var/cuda-repo-ubuntu2004-11-8-local  cuda-cudart-11-8 11.8.89-1 [165 kB]\n",
            "Get:4 file:/var/cuda-repo-ubuntu2004-11-8-local  cuda-nvrtc-11-8 11.8.89-1 [16.4 MB]\n",
            "Get:5 http://archive.ubuntu.com/ubuntu jammy/main amd64 liblocale-gettext-perl amd64 1.07-4build3 [17.1 kB]\n",
            "Get:6 http://archive.ubuntu.com/ubuntu jammy/main amd64 keyboard-configuration all 1.205ubuntu3 [206 kB]\n",
            "Get:7 http://archive.ubuntu.com/ubuntu jammy-updates/main amd64 cpp-12 amd64 12.3.0-1ubuntu1~22.04 [10.8 MB]\n",
            "Get:8 file:/var/cuda-repo-ubuntu2004-11-8-local  libcublas-11-8 11.11.3.6-1 [248 MB]\n",
            "Get:9 https://developer.download.nvidia.com/compute/cuda/repos/ubuntu2204/x86_64  libnvidia-decode-575 575.51.03-0ubuntu1 [2,556 kB]\n",
            "Get:10 http://archive.ubuntu.com/ubuntu jammy-updates/main amd64 libasan8 amd64 12.3.0-1ubuntu1~22.04 [2,442 kB]\n",
            "Get:11 http://archive.ubuntu.com/ubuntu jammy-updates/main amd64 libtsan2 amd64 12.3.0-1ubuntu1~22.04 [2,477 kB]\n",
            "Get:12 http://archive.ubuntu.com/ubuntu jammy-updates/main amd64 libgcc-12-dev amd64 12.3.0-1ubuntu1~22.04 [2,618 kB]\n",
            "Get:13 http://archive.ubuntu.com/ubuntu jammy-updates/main amd64 gcc-12 amd64 12.3.0-1ubuntu1~22.04 [21.7 MB]\n",
            "Get:14 file:/var/cuda-repo-ubuntu2004-11-8-local  libcufft-11-8 10.9.0.58-1 [94.2 MB]\n",
            "Get:15 file:/var/cuda-repo-ubuntu2004-11-8-local  libcufile-11-8 1.4.0.31-1 [474 kB]\n",
            "Get:16 file:/var/cuda-repo-ubuntu2004-11-8-local  libcurand-11-8 10.3.0.86-1 [42.2 MB]\n",
            "Get:17 file:/var/cuda-repo-ubuntu2004-11-8-local  libcusolver-11-8 11.4.1.48-1 [52.3 MB]\n",
            "Get:18 http://archive.ubuntu.com/ubuntu jammy/main amd64 dctrl-tools amd64 2.24-3build2 [66.9 kB]\n",
            "Get:19 http://archive.ubuntu.com/ubuntu jammy-updates/main amd64 dkms all 2.8.7-2ubuntu2.2 [70.1 kB]\n",
            "Get:20 http://archive.ubuntu.com/ubuntu jammy-updates/main amd64 libudev1 amd64 249.11-0ubuntu3.15 [76.6 kB]\n",
            "Get:21 http://archive.ubuntu.com/ubuntu jammy-updates/main amd64 udev amd64 249.11-0ubuntu3.15 [1,557 kB]\n",
            "Get:22 http://archive.ubuntu.com/ubuntu jammy/main amd64 libjansson4 amd64 2.13.1-1.1build3 [32.4 kB]\n",
            "Get:23 http://archive.ubuntu.com/ubuntu jammy/main amd64 libxcvt0 amd64 0.1.1-3 [5,494 B]\n",
            "Get:24 http://archive.ubuntu.com/ubuntu jammy-updates/main amd64 xserver-xorg-core amd64 2:21.1.4-2ubuntu1.7~22.04.14 [1,478 kB]\n",
            "Get:25 http://archive.ubuntu.com/ubuntu jammy-updates/universe amd64 libtinfo5 amd64 6.3-2ubuntu0.1 [100 kB]\n",
            "Get:26 http://archive.ubuntu.com/ubuntu jammy/main amd64 libxcb-xinerama0 amd64 1.14-3ubuntu3 [5,414 B]\n",
            "Get:27 http://archive.ubuntu.com/ubuntu jammy/main amd64 libxcb-icccm4 amd64 0.4.1-1.1build2 [11.5 kB]\n",
            "Get:28 http://archive.ubuntu.com/ubuntu jammy/main amd64 libxcb-util1 amd64 0.4.0-1build2 [11.4 kB]\n",
            "Get:29 http://archive.ubuntu.com/ubuntu jammy/main amd64 libxcb-image0 amd64 0.4.0-2 [11.5 kB]\n",
            "Get:30 http://archive.ubuntu.com/ubuntu jammy/main amd64 libxcb-keysyms1 amd64 0.4.0-1build3 [8,746 B]\n",
            "Get:31 http://archive.ubuntu.com/ubuntu jammy/main amd64 libxcb-render-util0 amd64 0.3.9-1build3 [10.3 kB]\n",
            "Get:32 http://archive.ubuntu.com/ubuntu jammy/main amd64 libxcb-xkb1 amd64 1.14-3ubuntu3 [32.8 kB]\n",
            "Get:33 http://archive.ubuntu.com/ubuntu jammy/main amd64 libxkbcommon-x11-0 amd64 1.4.0-1 [14.4 kB]\n",
            "Get:34 http://archive.ubuntu.com/ubuntu jammy/main amd64 libxcb-xinput0 amd64 1.14-3ubuntu3 [34.3 kB]\n",
            "Get:35 http://archive.ubuntu.com/ubuntu jammy/main amd64 default-jre-headless amd64 2:1.11-72build2 [3,042 B]\n",
            "Get:36 http://archive.ubuntu.com/ubuntu jammy/main amd64 libxtst6 amd64 2:1.2.3-1build4 [13.4 kB]\n",
            "Get:37 http://archive.ubuntu.com/ubuntu jammy-updates/main amd64 openjdk-11-jre amd64 11.0.27+6~us1-0ubuntu1~22.04 [214 kB]\n",
            "Get:38 http://archive.ubuntu.com/ubuntu jammy/main amd64 default-jre amd64 2:1.11-72build2 [896 B]\n",
            "Get:39 http://archive.ubuntu.com/ubuntu jammy/main amd64 libfakeroot amd64 1.28-1ubuntu1 [31.5 kB]\n",
            "Get:40 http://archive.ubuntu.com/ubuntu jammy/main amd64 fakeroot amd64 1.28-1ubuntu1 [60.4 kB]\n",
            "Get:41 http://archive.ubuntu.com/ubuntu jammy/main amd64 fonts-dejavu-core all 2.37-2build1 [1,041 kB]\n",
            "Get:42 file:/var/cuda-repo-ubuntu2004-11-8-local  libcusparse-11-8 11.7.5.86-1 [116 MB]\n",
            "Get:43 http://archive.ubuntu.com/ubuntu jammy/main amd64 fonts-dejavu-extra all 2.37-2build1 [2,041 kB]\n",
            "Get:44 https://developer.download.nvidia.com/compute/cuda/repos/ubuntu2204/x86_64  libnvidia-gpucomp-575 575.51.03-0ubuntu1 [17.8 MB]\n",
            "Get:45 http://archive.ubuntu.com/ubuntu jammy/main amd64 libxxf86dga1 amd64 2:1.1.5-0ubuntu3 [12.6 kB]\n",
            "Get:46 http://archive.ubuntu.com/ubuntu jammy/main amd64 x11-utils amd64 7.7+5build2 [206 kB]\n",
            "Get:47 http://archive.ubuntu.com/ubuntu jammy/main amd64 libatk-wrapper-java all 0.38.0-5build1 [53.1 kB]\n",
            "Get:48 http://archive.ubuntu.com/ubuntu jammy/main amd64 libatk-wrapper-java-jni amd64 0.38.0-5build1 [49.0 kB]\n",
            "Get:49 http://archive.ubuntu.com/ubuntu jammy-updates/main amd64 libgtk2.0-common all 2.24.33-2ubuntu2.1 [125 kB]\n",
            "Get:50 http://archive.ubuntu.com/ubuntu jammy-updates/main amd64 libgtk2.0-0 amd64 2.24.33-2ubuntu2.1 [2,038 kB]\n",
            "Get:51 http://archive.ubuntu.com/ubuntu jammy-updates/main amd64 libgail18 amd64 2.24.33-2ubuntu2.1 [15.9 kB]\n",
            "Get:52 http://archive.ubuntu.com/ubuntu jammy-updates/main amd64 libgail-common amd64 2.24.33-2ubuntu2.1 [132 kB]\n",
            "Get:53 http://archive.ubuntu.com/ubuntu jammy-updates/main amd64 libgtk2.0-bin amd64 2.24.33-2ubuntu2.1 [7,936 B]\n",
            "Get:54 http://archive.ubuntu.com/ubuntu jammy/main amd64 libgudev-1.0-0 amd64 1:237-2build1 [16.3 kB]\n",
            "Get:55 http://archive.ubuntu.com/ubuntu jammy-updates/main amd64 librsvg2-common amd64 2.52.5+dfsg-3ubuntu0.2 [17.7 kB]\n",
            "Get:56 http://archive.ubuntu.com/ubuntu jammy/main amd64 python3-xkit all 0.5.0ubuntu5 [18.5 kB]\n",
            "Get:57 http://archive.ubuntu.com/ubuntu jammy/main amd64 screen-resolution-extra all 0.18.2 [4,396 B]\n",
            "Get:58 http://archive.ubuntu.com/ubuntu jammy/main amd64 switcheroo-control amd64 2.4-3build2 [16.5 kB]\n",
            "Get:59 http://archive.ubuntu.com/ubuntu jammy-updates/main amd64 systemd-hwe-hwdb all 249.11.5 [3,228 B]\n",
            "Get:60 http://archive.ubuntu.com/ubuntu jammy/main amd64 xcvt amd64 0.1.1-3 [7,140 B]\n",
            "Get:61 file:/var/cuda-repo-ubuntu2004-11-8-local  libnpp-11-8 11.8.0.86-1 [102 MB]\n",
            "Get:62 file:/var/cuda-repo-ubuntu2004-11-8-local  libnvjpeg-11-8 11.9.0.86-1 [1,865 kB]\n",
            "Get:63 file:/var/cuda-repo-ubuntu2004-11-8-local  cuda-libraries-11-8 11.8.0-1 [2,524 B]\n",
            "Get:64 file:/var/cuda-repo-ubuntu2004-11-8-local  cuda-runtime-11-8 11.8.0-1 [2,434 B]\n",
            "Get:65 file:/var/cuda-repo-ubuntu2004-11-8-local  cuda-cuobjdump-11-8 11.8.86-1 [165 kB]\n",
            "Get:66 file:/var/cuda-repo-ubuntu2004-11-8-local  cuda-cuxxfilt-11-8 11.8.86-1 [189 kB]\n",
            "Get:67 file:/var/cuda-repo-ubuntu2004-11-8-local  cuda-cccl-11-8 11.8.89-1 [1,040 kB]\n",
            "Get:68 file:/var/cuda-repo-ubuntu2004-11-8-local  cuda-driver-dev-11-8 11.8.89-1 [27.3 kB]\n",
            "Get:69 file:/var/cuda-repo-ubuntu2004-11-8-local  cuda-cudart-dev-11-8 11.8.89-1 [820 kB]\n",
            "Get:70 file:/var/cuda-repo-ubuntu2004-11-8-local  cuda-nvcc-11-8 11.8.89-1 [43.5 MB]\n",
            "Get:71 file:/var/cuda-repo-ubuntu2004-11-8-local  cuda-nvprune-11-8 11.8.86-1 [58.1 kB]\n",
            "Get:72 file:/var/cuda-repo-ubuntu2004-11-8-local  cuda-compiler-11-8 11.8.0-1 [2,440 B]\n",
            "Get:73 file:/var/cuda-repo-ubuntu2004-11-8-local  cuda-profiler-api-11-8 11.8.86-1 [18.6 kB]\n",
            "Get:74 file:/var/cuda-repo-ubuntu2004-11-8-local  cuda-nvrtc-dev-11-8 11.8.89-1 [13.5 MB]\n",
            "Get:75 https://developer.download.nvidia.com/compute/cuda/repos/ubuntu2204/x86_64  libnvidia-compute-575 575.51.03-0ubuntu1 [54.2 MB]\n",
            "Get:76 file:/var/cuda-repo-ubuntu2004-11-8-local  libcublas-dev-11-8 11.11.3.6-1 [269 MB]\n",
            "Get:77 file:/var/cuda-repo-ubuntu2004-11-8-local  libcufft-dev-11-8 10.9.0.58-1 [189 MB]\n",
            "Get:78 file:/var/cuda-repo-ubuntu2004-11-8-local  libcufile-dev-11-8 1.4.0.31-1 [1,062 kB]\n",
            "Get:79 file:/var/cuda-repo-ubuntu2004-11-8-local  libcurand-dev-11-8 10.3.0.86-1 [42.9 MB]\n",
            "Get:80 file:/var/cuda-repo-ubuntu2004-11-8-local  libcusolver-dev-11-8 11.4.1.48-1 [35.7 MB]\n",
            "Get:81 https://developer.download.nvidia.com/compute/cuda/repos/ubuntu2204/x86_64  libnvidia-common-575 575.51.03-0ubuntu1 [15.9 kB]\n",
            "Get:82 file:/var/cuda-repo-ubuntu2004-11-8-local  libcusparse-dev-11-8 11.7.5.86-1 [116 MB]\n",
            "Get:83 https://developer.download.nvidia.com/compute/cuda/repos/ubuntu2204/x86_64  libnvidia-gl-575 575.51.03-0ubuntu1 [132 MB]\n",
            "Get:84 file:/var/cuda-repo-ubuntu2004-11-8-local  libnpp-dev-11-8 11.8.0.86-1 [100 MB]\n",
            "Get:85 file:/var/cuda-repo-ubuntu2004-11-8-local  libnvjpeg-dev-11-8 11.9.0.86-1 [1,536 kB]\n",
            "Get:86 file:/var/cuda-repo-ubuntu2004-11-8-local  cuda-libraries-dev-11-8 11.8.0-1 [2,562 B]\n",
            "Get:87 file:/var/cuda-repo-ubuntu2004-11-8-local  cuda-cupti-11-8 11.8.87-1 [15.4 MB]\n",
            "Get:88 file:/var/cuda-repo-ubuntu2004-11-8-local  cuda-cupti-dev-11-8 11.8.87-1 [2,552 kB]\n",
            "Get:89 file:/var/cuda-repo-ubuntu2004-11-8-local  cuda-nvdisasm-11-8 11.8.86-1 [50.8 MB]\n",
            "Get:90 file:/var/cuda-repo-ubuntu2004-11-8-local  cuda-gdb-11-8 11.8.86-1 [4,138 kB]\n",
            "Get:91 file:/var/cuda-repo-ubuntu2004-11-8-local  cuda-memcheck-11-8 11.8.86-1 [142 kB]\n",
            "Get:92 file:/var/cuda-repo-ubuntu2004-11-8-local  cuda-nvprof-11-8 11.8.87-1 [1,959 kB]\n",
            "Get:93 file:/var/cuda-repo-ubuntu2004-11-8-local  cuda-nvtx-11-8 11.8.86-1 [51.3 kB]\n",
            "Get:94 file:/var/cuda-repo-ubuntu2004-11-8-local  cuda-sanitizer-11-8 11.8.86-1 [8,784 kB]\n",
            "Get:95 file:/var/cuda-repo-ubuntu2004-11-8-local  cuda-command-line-tools-11-8 11.8.0-1 [2,480 B]\n",
            "Get:96 https://developer.download.nvidia.com/compute/cuda/repos/ubuntu2204/x86_64  nvidia-kernel-source-575 575.51.03-0ubuntu1 [85.5 MB]\n",
            "Get:97 file:/var/cuda-repo-ubuntu2004-11-8-local  nsight-compute-2022.3.0 2022.3.0.22-1 [580 MB]\n",
            "Get:98 file:/var/cuda-repo-ubuntu2004-11-8-local  cuda-nsight-compute-11-8 11.8.0-1 [3,800 B]\n",
            "Get:99 file:/var/cuda-repo-ubuntu2004-11-8-local  cuda-nsight-systems-11-8 11.8.0-1 [3,320 B]\n",
            "Get:100 https://developer.download.nvidia.com/compute/cuda/repos/ubuntu2204/x86_64  nvidia-firmware-575-575.51.03 575.51.03-0ubuntu1 [74.7 MB]\n",
            "Get:101 file:/var/cuda-repo-ubuntu2004-11-8-local  cuda-nsight-11-8 11.8.86-1 [119 MB]\n",
            "Get:102 file:/var/cuda-repo-ubuntu2004-11-8-local  cuda-nvml-dev-11-8 11.8.86-1 [81.4 kB]\n",
            "Get:103 file:/var/cuda-repo-ubuntu2004-11-8-local  cuda-nvvp-11-8 11.8.87-1 [114 MB]\n",
            "Get:104 file:/var/cuda-repo-ubuntu2004-11-8-local  cuda-visual-tools-11-8 11.8.0-1 [2,880 B]\n",
            "Get:105 file:/var/cuda-repo-ubuntu2004-11-8-local  gds-tools-11-8 1.4.0.31-1 [38.7 MB]\n",
            "Get:106 file:/var/cuda-repo-ubuntu2004-11-8-local  cuda-tools-11-8 11.8.0-1 [2,400 B]\n",
            "Get:107 file:/var/cuda-repo-ubuntu2004-11-8-local  cuda-documentation-11-8 11.8.86-1 [49.8 kB]\n",
            "Get:108 file:/var/cuda-repo-ubuntu2004-11-8-local  cuda-toolkit-11-8 11.8.0-1 [3,378 B]\n",
            "Get:109 file:/var/cuda-repo-ubuntu2004-11-8-local  cuda-demo-suite-11-8 11.8.86-1 [3,997 kB]\n",
            "Get:110 file:/var/cuda-repo-ubuntu2004-11-8-local  cuda-11-8 11.8.0-1 [2,460 B]\n",
            "Get:111 https://developer.download.nvidia.com/compute/cuda/repos/ubuntu2204/x86_64  nvidia-modprobe 575.51.03-0ubuntu1 [14.9 kB]\n",
            "Get:112 https://developer.download.nvidia.com/compute/cuda/repos/ubuntu2204/x86_64  nvidia-kernel-common-575 575.51.03-0ubuntu1 [1,245 kB]\n",
            "Get:113 https://developer.download.nvidia.com/compute/cuda/repos/ubuntu2204/x86_64  nvidia-dkms-575 575.51.03-0ubuntu1 [14.9 kB]\n",
            "Get:114 https://developer.download.nvidia.com/compute/cuda/repos/ubuntu2204/x86_64  libnvidia-extra-575 575.51.03-0ubuntu1 [73.2 kB]\n",
            "Get:115 https://developer.download.nvidia.com/compute/cuda/repos/ubuntu2204/x86_64  nvidia-compute-utils-575 575.51.03-0ubuntu1 [109 kB]\n",
            "Get:116 https://developer.download.nvidia.com/compute/cuda/repos/ubuntu2204/x86_64  libnvidia-encode-575 575.51.03-0ubuntu1 [105 kB]\n",
            "Get:117 https://developer.download.nvidia.com/compute/cuda/repos/ubuntu2204/x86_64  nvidia-utils-575 575.51.03-0ubuntu1 [534 kB]\n",
            "Get:118 https://developer.download.nvidia.com/compute/cuda/repos/ubuntu2204/x86_64  libnvidia-cfg1-575 575.51.03-0ubuntu1 [146 kB]\n",
            "Get:119 https://developer.download.nvidia.com/compute/cuda/repos/ubuntu2204/x86_64  xserver-xorg-video-nvidia-575 575.51.03-0ubuntu1 [1,696 kB]\n",
            "Get:120 https://developer.download.nvidia.com/compute/cuda/repos/ubuntu2204/x86_64  libnvidia-fbc1-575 575.51.03-0ubuntu1 [98.1 kB]\n",
            "Get:121 https://developer.download.nvidia.com/compute/cuda/repos/ubuntu2204/x86_64  nvidia-driver-575 575.51.03-0ubuntu1 [497 kB]\n",
            "Get:122 https://developer.download.nvidia.com/compute/cuda/repos/ubuntu2204/x86_64  cuda-drivers-575 575.51.03-0ubuntu1 [2,538 B]\n",
            "Get:123 https://developer.download.nvidia.com/compute/cuda/repos/ubuntu2204/x86_64  cuda-drivers 575.51.03-0ubuntu1 [2,490 B]\n",
            "Get:124 https://developer.download.nvidia.com/compute/cuda/repos/ubuntu2204/x86_64  nsight-systems-2022.4.2 2022.4.2.50-32196742v0 [286 MB]\n",
            "Get:125 https://developer.download.nvidia.com/compute/cuda/repos/ubuntu2204/x86_64  nvidia-settings 575.51.03-0ubuntu1 [957 kB]\n",
            "Fetched 708 MB in 55s (12.8 MB/s)\n",
            "debconf: unable to initialize frontend: Dialog\n",
            "debconf: (No usable dialog-like program is installed, so the dialog based frontend cannot be used. at /usr/share/perl5/Debconf/FrontEnd/Dialog.pm line 78, <> line 125.)\n",
            "debconf: falling back to frontend: Readline\n",
            "debconf: unable to initialize frontend: Readline\n",
            "debconf: (This frontend requires a controlling tty.)\n",
            "debconf: falling back to frontend: Teletype\n",
            "dpkg-preconfigure: unable to re-open stdin: \n",
            "Selecting previously unselected package liblocale-gettext-perl.\n",
            "(Reading database ... 126236 files and directories currently installed.)\n",
            "Preparing to unpack .../0-liblocale-gettext-perl_1.07-4build3_amd64.deb ...\n",
            "Unpacking liblocale-gettext-perl (1.07-4build3) ...\n",
            "Selecting previously unselected package keyboard-configuration.\n",
            "Preparing to unpack .../1-keyboard-configuration_1.205ubuntu3_all.deb ...\n",
            "Unpacking keyboard-configuration (1.205ubuntu3) ...\n",
            "Selecting previously unselected package cpp-12.\n",
            "Preparing to unpack .../2-cpp-12_12.3.0-1ubuntu1~22.04_amd64.deb ...\n",
            "Unpacking cpp-12 (12.3.0-1ubuntu1~22.04) ...\n",
            "Selecting previously unselected package libasan8:amd64.\n",
            "Preparing to unpack .../3-libasan8_12.3.0-1ubuntu1~22.04_amd64.deb ...\n",
            "Unpacking libasan8:amd64 (12.3.0-1ubuntu1~22.04) ...\n",
            "Selecting previously unselected package libtsan2:amd64.\n",
            "Preparing to unpack .../4-libtsan2_12.3.0-1ubuntu1~22.04_amd64.deb ...\n",
            "Unpacking libtsan2:amd64 (12.3.0-1ubuntu1~22.04) ...\n",
            "Selecting previously unselected package libgcc-12-dev:amd64.\n",
            "Preparing to unpack .../5-libgcc-12-dev_12.3.0-1ubuntu1~22.04_amd64.deb ...\n",
            "Unpacking libgcc-12-dev:amd64 (12.3.0-1ubuntu1~22.04) ...\n",
            "Selecting previously unselected package gcc-12.\n",
            "Preparing to unpack .../6-gcc-12_12.3.0-1ubuntu1~22.04_amd64.deb ...\n",
            "Unpacking gcc-12 (12.3.0-1ubuntu1~22.04) ...\n",
            "Selecting previously unselected package dctrl-tools.\n",
            "Preparing to unpack .../7-dctrl-tools_2.24-3build2_amd64.deb ...\n",
            "Unpacking dctrl-tools (2.24-3build2) ...\n",
            "Selecting previously unselected package dkms.\n",
            "Preparing to unpack .../8-dkms_2.8.7-2ubuntu2.2_all.deb ...\n",
            "Unpacking dkms (2.8.7-2ubuntu2.2) ...\n",
            "Preparing to unpack .../9-libudev1_249.11-0ubuntu3.15_amd64.deb ...\n",
            "Unpacking libudev1:amd64 (249.11-0ubuntu3.15) over (249.11-0ubuntu3.12) ...\n",
            "Setting up libudev1:amd64 (249.11-0ubuntu3.15) ...\n",
            "Selecting previously unselected package udev.\n",
            "(Reading database ... 126596 files and directories currently installed.)\n",
            "Preparing to unpack .../000-udev_249.11-0ubuntu3.15_amd64.deb ...\n",
            "Unpacking udev (249.11-0ubuntu3.15) ...\n",
            "Selecting previously unselected package libjansson4:amd64.\n",
            "Preparing to unpack .../001-libjansson4_2.13.1-1.1build3_amd64.deb ...\n",
            "Unpacking libjansson4:amd64 (2.13.1-1.1build3) ...\n",
            "Selecting previously unselected package cuda-toolkit-11-config-common.\n",
            "Preparing to unpack .../002-cuda-toolkit-11-config-common_11.8.89-1_all.deb ...\n",
            "Unpacking cuda-toolkit-11-config-common (11.8.89-1) ...\n",
            "Selecting previously unselected package cuda-toolkit-11-8-config-common.\n",
            "Preparing to unpack .../003-cuda-toolkit-11-8-config-common_11.8.89-1_all.deb ...\n",
            "Unpacking cuda-toolkit-11-8-config-common (11.8.89-1) ...\n",
            "Selecting previously unselected package cuda-cudart-11-8.\n",
            "Preparing to unpack .../004-cuda-cudart-11-8_11.8.89-1_amd64.deb ...\n",
            "Unpacking cuda-cudart-11-8 (11.8.89-1) ...\n",
            "Selecting previously unselected package cuda-nvrtc-11-8.\n",
            "Preparing to unpack .../005-cuda-nvrtc-11-8_11.8.89-1_amd64.deb ...\n",
            "Unpacking cuda-nvrtc-11-8 (11.8.89-1) ...\n",
            "Selecting previously unselected package libcublas-11-8.\n",
            "Preparing to unpack .../006-libcublas-11-8_11.11.3.6-1_amd64.deb ...\n",
            "Unpacking libcublas-11-8 (11.11.3.6-1) ...\n",
            "Selecting previously unselected package libcufft-11-8.\n",
            "Preparing to unpack .../007-libcufft-11-8_10.9.0.58-1_amd64.deb ...\n",
            "Unpacking libcufft-11-8 (10.9.0.58-1) ...\n",
            "Selecting previously unselected package libcufile-11-8.\n",
            "Preparing to unpack .../008-libcufile-11-8_1.4.0.31-1_amd64.deb ...\n",
            "Unpacking libcufile-11-8 (1.4.0.31-1) ...\n",
            "Selecting previously unselected package libcurand-11-8.\n",
            "Preparing to unpack .../009-libcurand-11-8_10.3.0.86-1_amd64.deb ...\n",
            "Unpacking libcurand-11-8 (10.3.0.86-1) ...\n",
            "Selecting previously unselected package libcusolver-11-8.\n",
            "Preparing to unpack .../010-libcusolver-11-8_11.4.1.48-1_amd64.deb ...\n",
            "Unpacking libcusolver-11-8 (11.4.1.48-1) ...\n",
            "Selecting previously unselected package libcusparse-11-8.\n",
            "Preparing to unpack .../011-libcusparse-11-8_11.7.5.86-1_amd64.deb ...\n",
            "Unpacking libcusparse-11-8 (11.7.5.86-1) ...\n",
            "Selecting previously unselected package libnpp-11-8.\n",
            "Preparing to unpack .../012-libnpp-11-8_11.8.0.86-1_amd64.deb ...\n",
            "Unpacking libnpp-11-8 (11.8.0.86-1) ...\n",
            "Selecting previously unselected package libnvjpeg-11-8.\n",
            "Preparing to unpack .../013-libnvjpeg-11-8_11.9.0.86-1_amd64.deb ...\n",
            "Unpacking libnvjpeg-11-8 (11.9.0.86-1) ...\n",
            "Selecting previously unselected package cuda-libraries-11-8.\n",
            "Preparing to unpack .../014-cuda-libraries-11-8_11.8.0-1_amd64.deb ...\n",
            "Unpacking cuda-libraries-11-8 (11.8.0-1) ...\n",
            "Selecting previously unselected package libnvidia-decode-575:amd64.\n",
            "Preparing to unpack .../015-libnvidia-decode-575_575.51.03-0ubuntu1_amd64.deb ...\n",
            "Unpacking libnvidia-decode-575:amd64 (575.51.03-0ubuntu1) ...\n",
            "Selecting previously unselected package libnvidia-gpucomp-575:amd64.\n",
            "Preparing to unpack .../016-libnvidia-gpucomp-575_575.51.03-0ubuntu1_amd64.deb ...\n",
            "Unpacking libnvidia-gpucomp-575:amd64 (575.51.03-0ubuntu1) ...\n",
            "Selecting previously unselected package libnvidia-compute-575:amd64.\n",
            "Preparing to unpack .../017-libnvidia-compute-575_575.51.03-0ubuntu1_amd64.deb ...\n",
            "Unpacking libnvidia-compute-575:amd64 (575.51.03-0ubuntu1) ...\n",
            "Selecting previously unselected package libnvidia-common-575.\n",
            "Preparing to unpack .../018-libnvidia-common-575_575.51.03-0ubuntu1_all.deb ...\n",
            "Unpacking libnvidia-common-575 (575.51.03-0ubuntu1) ...\n",
            "Selecting previously unselected package libnvidia-gl-575:amd64.\n",
            "Preparing to unpack .../019-libnvidia-gl-575_575.51.03-0ubuntu1_amd64.deb ...\n",
            "dpkg-query: no packages found matching libnvidia-gl-535\n",
            "Unpacking libnvidia-gl-575:amd64 (575.51.03-0ubuntu1) ...\n",
            "Selecting previously unselected package nvidia-kernel-source-575.\n",
            "Preparing to unpack .../020-nvidia-kernel-source-575_575.51.03-0ubuntu1_amd64.deb ...\n",
            "Unpacking nvidia-kernel-source-575 (575.51.03-0ubuntu1) ...\n",
            "Selecting previously unselected package nvidia-firmware-575-575.51.03.\n",
            "Preparing to unpack .../021-nvidia-firmware-575-575.51.03_575.51.03-0ubuntu1_amd64.deb ...\n",
            "Unpacking nvidia-firmware-575-575.51.03 (575.51.03-0ubuntu1) ...\n",
            "Selecting previously unselected package nvidia-modprobe.\n",
            "Preparing to unpack .../022-nvidia-modprobe_575.51.03-0ubuntu1_amd64.deb ...\n",
            "Unpacking nvidia-modprobe (575.51.03-0ubuntu1) ...\n",
            "Selecting previously unselected package nvidia-kernel-common-575.\n",
            "Preparing to unpack .../023-nvidia-kernel-common-575_575.51.03-0ubuntu1_amd64.deb ...\n",
            "Unpacking nvidia-kernel-common-575 (575.51.03-0ubuntu1) ...\n",
            "Selecting previously unselected package nvidia-dkms-575.\n",
            "Preparing to unpack .../024-nvidia-dkms-575_575.51.03-0ubuntu1_amd64.deb ...\n",
            "Unpacking nvidia-dkms-575 (575.51.03-0ubuntu1) ...\n",
            "Selecting previously unselected package libnvidia-extra-575:amd64.\n",
            "Preparing to unpack .../025-libnvidia-extra-575_575.51.03-0ubuntu1_amd64.deb ...\n",
            "Unpacking libnvidia-extra-575:amd64 (575.51.03-0ubuntu1) ...\n",
            "Selecting previously unselected package nvidia-compute-utils-575.\n",
            "Preparing to unpack .../026-nvidia-compute-utils-575_575.51.03-0ubuntu1_amd64.deb ...\n",
            "Unpacking nvidia-compute-utils-575 (575.51.03-0ubuntu1) ...\n",
            "Selecting previously unselected package libnvidia-encode-575:amd64.\n",
            "Preparing to unpack .../027-libnvidia-encode-575_575.51.03-0ubuntu1_amd64.deb ...\n",
            "Unpacking libnvidia-encode-575:amd64 (575.51.03-0ubuntu1) ...\n",
            "Selecting previously unselected package nvidia-utils-575.\n",
            "Preparing to unpack .../028-nvidia-utils-575_575.51.03-0ubuntu1_amd64.deb ...\n",
            "Unpacking nvidia-utils-575 (575.51.03-0ubuntu1) ...\n",
            "Selecting previously unselected package libnvidia-cfg1-575:amd64.\n",
            "Preparing to unpack .../029-libnvidia-cfg1-575_575.51.03-0ubuntu1_amd64.deb ...\n",
            "Unpacking libnvidia-cfg1-575:amd64 (575.51.03-0ubuntu1) ...\n",
            "Selecting previously unselected package libxcvt0:amd64.\n",
            "Preparing to unpack .../030-libxcvt0_0.1.1-3_amd64.deb ...\n",
            "Unpacking libxcvt0:amd64 (0.1.1-3) ...\n",
            "Selecting previously unselected package xserver-xorg-core.\n",
            "Preparing to unpack .../031-xserver-xorg-core_2%3a21.1.4-2ubuntu1.7~22.04.14_amd64.deb ...\n",
            "Unpacking xserver-xorg-core (2:21.1.4-2ubuntu1.7~22.04.14) ...\n",
            "Selecting previously unselected package xserver-xorg-video-nvidia-575.\n",
            "Preparing to unpack .../032-xserver-xorg-video-nvidia-575_575.51.03-0ubuntu1_amd64.deb ...\n",
            "Unpacking xserver-xorg-video-nvidia-575 (575.51.03-0ubuntu1) ...\n",
            "Selecting previously unselected package libnvidia-fbc1-575:amd64.\n",
            "Preparing to unpack .../033-libnvidia-fbc1-575_575.51.03-0ubuntu1_amd64.deb ...\n",
            "Unpacking libnvidia-fbc1-575:amd64 (575.51.03-0ubuntu1) ...\n",
            "Selecting previously unselected package nvidia-driver-575.\n",
            "Preparing to unpack .../034-nvidia-driver-575_575.51.03-0ubuntu1_amd64.deb ...\n",
            "Unpacking nvidia-driver-575 (575.51.03-0ubuntu1) ...\n",
            "Selecting previously unselected package cuda-drivers-575.\n",
            "Preparing to unpack .../035-cuda-drivers-575_575.51.03-0ubuntu1_amd64.deb ...\n",
            "Unpacking cuda-drivers-575 (575.51.03-0ubuntu1) ...\n",
            "Selecting previously unselected package cuda-drivers.\n",
            "Preparing to unpack .../036-cuda-drivers_575.51.03-0ubuntu1_amd64.deb ...\n",
            "Unpacking cuda-drivers (575.51.03-0ubuntu1) ...\n",
            "Selecting previously unselected package cuda-runtime-11-8.\n",
            "Preparing to unpack .../037-cuda-runtime-11-8_11.8.0-1_amd64.deb ...\n",
            "Unpacking cuda-runtime-11-8 (11.8.0-1) ...\n",
            "Selecting previously unselected package cuda-cuobjdump-11-8.\n",
            "Preparing to unpack .../038-cuda-cuobjdump-11-8_11.8.86-1_amd64.deb ...\n",
            "Unpacking cuda-cuobjdump-11-8 (11.8.86-1) ...\n",
            "Selecting previously unselected package cuda-cuxxfilt-11-8.\n",
            "Preparing to unpack .../039-cuda-cuxxfilt-11-8_11.8.86-1_amd64.deb ...\n",
            "Unpacking cuda-cuxxfilt-11-8 (11.8.86-1) ...\n",
            "Selecting previously unselected package cuda-cccl-11-8.\n",
            "Preparing to unpack .../040-cuda-cccl-11-8_11.8.89-1_amd64.deb ...\n",
            "Unpacking cuda-cccl-11-8 (11.8.89-1) ...\n",
            "Selecting previously unselected package cuda-driver-dev-11-8.\n",
            "Preparing to unpack .../041-cuda-driver-dev-11-8_11.8.89-1_amd64.deb ...\n",
            "Unpacking cuda-driver-dev-11-8 (11.8.89-1) ...\n",
            "Selecting previously unselected package cuda-cudart-dev-11-8.\n",
            "Preparing to unpack .../042-cuda-cudart-dev-11-8_11.8.89-1_amd64.deb ...\n",
            "Unpacking cuda-cudart-dev-11-8 (11.8.89-1) ...\n",
            "Selecting previously unselected package cuda-nvcc-11-8.\n",
            "Preparing to unpack .../043-cuda-nvcc-11-8_11.8.89-1_amd64.deb ...\n",
            "Unpacking cuda-nvcc-11-8 (11.8.89-1) ...\n",
            "Selecting previously unselected package cuda-nvprune-11-8.\n",
            "Preparing to unpack .../044-cuda-nvprune-11-8_11.8.86-1_amd64.deb ...\n",
            "Unpacking cuda-nvprune-11-8 (11.8.86-1) ...\n",
            "Selecting previously unselected package cuda-compiler-11-8.\n",
            "Preparing to unpack .../045-cuda-compiler-11-8_11.8.0-1_amd64.deb ...\n",
            "Unpacking cuda-compiler-11-8 (11.8.0-1) ...\n",
            "Selecting previously unselected package cuda-profiler-api-11-8.\n",
            "Preparing to unpack .../046-cuda-profiler-api-11-8_11.8.86-1_amd64.deb ...\n",
            "Unpacking cuda-profiler-api-11-8 (11.8.86-1) ...\n",
            "Selecting previously unselected package cuda-nvrtc-dev-11-8.\n",
            "Preparing to unpack .../047-cuda-nvrtc-dev-11-8_11.8.89-1_amd64.deb ...\n",
            "Unpacking cuda-nvrtc-dev-11-8 (11.8.89-1) ...\n",
            "Selecting previously unselected package libcublas-dev-11-8.\n",
            "Preparing to unpack .../048-libcublas-dev-11-8_11.11.3.6-1_amd64.deb ...\n",
            "Unpacking libcublas-dev-11-8 (11.11.3.6-1) ...\n",
            "Selecting previously unselected package libcufft-dev-11-8.\n",
            "Preparing to unpack .../049-libcufft-dev-11-8_10.9.0.58-1_amd64.deb ...\n",
            "Unpacking libcufft-dev-11-8 (10.9.0.58-1) ...\n",
            "Selecting previously unselected package libcufile-dev-11-8.\n",
            "Preparing to unpack .../050-libcufile-dev-11-8_1.4.0.31-1_amd64.deb ...\n",
            "Unpacking libcufile-dev-11-8 (1.4.0.31-1) ...\n",
            "Selecting previously unselected package libcurand-dev-11-8.\n",
            "Preparing to unpack .../051-libcurand-dev-11-8_10.3.0.86-1_amd64.deb ...\n",
            "Unpacking libcurand-dev-11-8 (10.3.0.86-1) ...\n",
            "Selecting previously unselected package libcusolver-dev-11-8.\n",
            "Preparing to unpack .../052-libcusolver-dev-11-8_11.4.1.48-1_amd64.deb ...\n",
            "Unpacking libcusolver-dev-11-8 (11.4.1.48-1) ...\n",
            "Selecting previously unselected package libcusparse-dev-11-8.\n",
            "Preparing to unpack .../053-libcusparse-dev-11-8_11.7.5.86-1_amd64.deb ...\n",
            "Unpacking libcusparse-dev-11-8 (11.7.5.86-1) ...\n",
            "Selecting previously unselected package libnpp-dev-11-8.\n",
            "Preparing to unpack .../054-libnpp-dev-11-8_11.8.0.86-1_amd64.deb ...\n",
            "Unpacking libnpp-dev-11-8 (11.8.0.86-1) ...\n",
            "Selecting previously unselected package libnvjpeg-dev-11-8.\n",
            "Preparing to unpack .../055-libnvjpeg-dev-11-8_11.9.0.86-1_amd64.deb ...\n",
            "Unpacking libnvjpeg-dev-11-8 (11.9.0.86-1) ...\n",
            "Selecting previously unselected package cuda-libraries-dev-11-8.\n",
            "Preparing to unpack .../056-cuda-libraries-dev-11-8_11.8.0-1_amd64.deb ...\n",
            "Unpacking cuda-libraries-dev-11-8 (11.8.0-1) ...\n",
            "Selecting previously unselected package cuda-cupti-11-8.\n",
            "Preparing to unpack .../057-cuda-cupti-11-8_11.8.87-1_amd64.deb ...\n",
            "Unpacking cuda-cupti-11-8 (11.8.87-1) ...\n",
            "Selecting previously unselected package cuda-cupti-dev-11-8.\n",
            "Preparing to unpack .../058-cuda-cupti-dev-11-8_11.8.87-1_amd64.deb ...\n",
            "Unpacking cuda-cupti-dev-11-8 (11.8.87-1) ...\n",
            "Selecting previously unselected package cuda-nvdisasm-11-8.\n",
            "Preparing to unpack .../059-cuda-nvdisasm-11-8_11.8.86-1_amd64.deb ...\n",
            "Unpacking cuda-nvdisasm-11-8 (11.8.86-1) ...\n",
            "Selecting previously unselected package cuda-gdb-11-8.\n",
            "Preparing to unpack .../060-cuda-gdb-11-8_11.8.86-1_amd64.deb ...\n",
            "Unpacking cuda-gdb-11-8 (11.8.86-1) ...\n",
            "Selecting previously unselected package cuda-memcheck-11-8.\n",
            "Preparing to unpack .../061-cuda-memcheck-11-8_11.8.86-1_amd64.deb ...\n",
            "Unpacking cuda-memcheck-11-8 (11.8.86-1) ...\n",
            "Selecting previously unselected package cuda-nvprof-11-8.\n",
            "Preparing to unpack .../062-cuda-nvprof-11-8_11.8.87-1_amd64.deb ...\n",
            "Unpacking cuda-nvprof-11-8 (11.8.87-1) ...\n",
            "Selecting previously unselected package cuda-nvtx-11-8.\n",
            "Preparing to unpack .../063-cuda-nvtx-11-8_11.8.86-1_amd64.deb ...\n",
            "Unpacking cuda-nvtx-11-8 (11.8.86-1) ...\n",
            "Selecting previously unselected package cuda-sanitizer-11-8.\n",
            "Preparing to unpack .../064-cuda-sanitizer-11-8_11.8.86-1_amd64.deb ...\n",
            "Unpacking cuda-sanitizer-11-8 (11.8.86-1) ...\n",
            "Selecting previously unselected package cuda-command-line-tools-11-8.\n",
            "Preparing to unpack .../065-cuda-command-line-tools-11-8_11.8.0-1_amd64.deb ...\n",
            "Unpacking cuda-command-line-tools-11-8 (11.8.0-1) ...\n",
            "Selecting previously unselected package nsight-compute-2022.3.0.\n",
            "Preparing to unpack .../066-nsight-compute-2022.3.0_2022.3.0.22-1_amd64.deb ...\n",
            "Unpacking nsight-compute-2022.3.0 (2022.3.0.22-1) ...\n",
            "Selecting previously unselected package cuda-nsight-compute-11-8.\n",
            "Preparing to unpack .../067-cuda-nsight-compute-11-8_11.8.0-1_amd64.deb ...\n",
            "Unpacking cuda-nsight-compute-11-8 (11.8.0-1) ...\n",
            "Selecting previously unselected package libtinfo5:amd64.\n",
            "Preparing to unpack .../068-libtinfo5_6.3-2ubuntu0.1_amd64.deb ...\n",
            "Unpacking libtinfo5:amd64 (6.3-2ubuntu0.1) ...\n",
            "Selecting previously unselected package libxcb-xinerama0:amd64.\n",
            "Preparing to unpack .../069-libxcb-xinerama0_1.14-3ubuntu3_amd64.deb ...\n",
            "Unpacking libxcb-xinerama0:amd64 (1.14-3ubuntu3) ...\n",
            "Selecting previously unselected package libxcb-icccm4:amd64.\n",
            "Preparing to unpack .../070-libxcb-icccm4_0.4.1-1.1build2_amd64.deb ...\n",
            "Unpacking libxcb-icccm4:amd64 (0.4.1-1.1build2) ...\n",
            "Selecting previously unselected package libxcb-util1:amd64.\n",
            "Preparing to unpack .../071-libxcb-util1_0.4.0-1build2_amd64.deb ...\n",
            "Unpacking libxcb-util1:amd64 (0.4.0-1build2) ...\n",
            "Selecting previously unselected package libxcb-image0:amd64.\n",
            "Preparing to unpack .../072-libxcb-image0_0.4.0-2_amd64.deb ...\n",
            "Unpacking libxcb-image0:amd64 (0.4.0-2) ...\n",
            "Selecting previously unselected package libxcb-keysyms1:amd64.\n",
            "Preparing to unpack .../073-libxcb-keysyms1_0.4.0-1build3_amd64.deb ...\n",
            "Unpacking libxcb-keysyms1:amd64 (0.4.0-1build3) ...\n",
            "Selecting previously unselected package libxcb-render-util0:amd64.\n",
            "Preparing to unpack .../074-libxcb-render-util0_0.3.9-1build3_amd64.deb ...\n",
            "Unpacking libxcb-render-util0:amd64 (0.3.9-1build3) ...\n",
            "Selecting previously unselected package libxcb-xkb1:amd64.\n",
            "Preparing to unpack .../075-libxcb-xkb1_1.14-3ubuntu3_amd64.deb ...\n",
            "Unpacking libxcb-xkb1:amd64 (1.14-3ubuntu3) ...\n",
            "Selecting previously unselected package libxkbcommon-x11-0:amd64.\n",
            "Preparing to unpack .../076-libxkbcommon-x11-0_1.4.0-1_amd64.deb ...\n",
            "Unpacking libxkbcommon-x11-0:amd64 (1.4.0-1) ...\n",
            "Selecting previously unselected package libxcb-xinput0:amd64.\n",
            "Preparing to unpack .../077-libxcb-xinput0_1.14-3ubuntu3_amd64.deb ...\n",
            "Unpacking libxcb-xinput0:amd64 (1.14-3ubuntu3) ...\n",
            "Selecting previously unselected package nsight-systems-2022.4.2.\n",
            "Preparing to unpack .../078-nsight-systems-2022.4.2_2022.4.2.50-32196742v0_amd64.deb ...\n",
            "Unpacking nsight-systems-2022.4.2 (2022.4.2.50-32196742v0) ...\n",
            "Selecting previously unselected package cuda-nsight-systems-11-8.\n",
            "Preparing to unpack .../079-cuda-nsight-systems-11-8_11.8.0-1_amd64.deb ...\n",
            "Unpacking cuda-nsight-systems-11-8 (11.8.0-1) ...\n",
            "Selecting previously unselected package default-jre-headless.\n",
            "Preparing to unpack .../080-default-jre-headless_2%3a1.11-72build2_amd64.deb ...\n",
            "Unpacking default-jre-headless (2:1.11-72build2) ...\n",
            "Selecting previously unselected package libxtst6:amd64.\n",
            "Preparing to unpack .../081-libxtst6_2%3a1.2.3-1build4_amd64.deb ...\n",
            "Unpacking libxtst6:amd64 (2:1.2.3-1build4) ...\n",
            "Selecting previously unselected package openjdk-11-jre:amd64.\n",
            "Preparing to unpack .../082-openjdk-11-jre_11.0.27+6~us1-0ubuntu1~22.04_amd64.deb ...\n",
            "Unpacking openjdk-11-jre:amd64 (11.0.27+6~us1-0ubuntu1~22.04) ...\n",
            "Selecting previously unselected package default-jre.\n",
            "Preparing to unpack .../083-default-jre_2%3a1.11-72build2_amd64.deb ...\n",
            "Unpacking default-jre (2:1.11-72build2) ...\n",
            "Selecting previously unselected package cuda-nsight-11-8.\n",
            "Preparing to unpack .../084-cuda-nsight-11-8_11.8.86-1_amd64.deb ...\n",
            "Unpacking cuda-nsight-11-8 (11.8.86-1) ...\n",
            "Selecting previously unselected package cuda-nvml-dev-11-8.\n",
            "Preparing to unpack .../085-cuda-nvml-dev-11-8_11.8.86-1_amd64.deb ...\n",
            "Unpacking cuda-nvml-dev-11-8 (11.8.86-1) ...\n",
            "Selecting previously unselected package cuda-nvvp-11-8.\n",
            "Preparing to unpack .../086-cuda-nvvp-11-8_11.8.87-1_amd64.deb ...\n",
            "Unpacking cuda-nvvp-11-8 (11.8.87-1) ...\n",
            "Selecting previously unselected package cuda-visual-tools-11-8.\n",
            "Preparing to unpack .../087-cuda-visual-tools-11-8_11.8.0-1_amd64.deb ...\n",
            "Unpacking cuda-visual-tools-11-8 (11.8.0-1) ...\n",
            "Selecting previously unselected package gds-tools-11-8.\n",
            "Preparing to unpack .../088-gds-tools-11-8_1.4.0.31-1_amd64.deb ...\n",
            "Unpacking gds-tools-11-8 (1.4.0.31-1) ...\n",
            "Selecting previously unselected package cuda-tools-11-8.\n",
            "Preparing to unpack .../089-cuda-tools-11-8_11.8.0-1_amd64.deb ...\n",
            "Unpacking cuda-tools-11-8 (11.8.0-1) ...\n",
            "Selecting previously unselected package cuda-documentation-11-8.\n",
            "Preparing to unpack .../090-cuda-documentation-11-8_11.8.86-1_amd64.deb ...\n",
            "Unpacking cuda-documentation-11-8 (11.8.86-1) ...\n",
            "Selecting previously unselected package cuda-toolkit-11-8.\n",
            "Preparing to unpack .../091-cuda-toolkit-11-8_11.8.0-1_amd64.deb ...\n",
            "Unpacking cuda-toolkit-11-8 (11.8.0-1) ...\n",
            "Selecting previously unselected package cuda-demo-suite-11-8.\n",
            "Preparing to unpack .../092-cuda-demo-suite-11-8_11.8.86-1_amd64.deb ...\n",
            "Unpacking cuda-demo-suite-11-8 (11.8.86-1) ...\n",
            "Selecting previously unselected package cuda-11-8.\n",
            "Preparing to unpack .../093-cuda-11-8_11.8.0-1_amd64.deb ...\n",
            "Unpacking cuda-11-8 (11.8.0-1) ...\n",
            "Selecting previously unselected package libfakeroot:amd64.\n",
            "Preparing to unpack .../094-libfakeroot_1.28-1ubuntu1_amd64.deb ...\n",
            "Unpacking libfakeroot:amd64 (1.28-1ubuntu1) ...\n",
            "Selecting previously unselected package fakeroot.\n",
            "Preparing to unpack .../095-fakeroot_1.28-1ubuntu1_amd64.deb ...\n",
            "Unpacking fakeroot (1.28-1ubuntu1) ...\n",
            "Selecting previously unselected package fonts-dejavu-core.\n",
            "Preparing to unpack .../096-fonts-dejavu-core_2.37-2build1_all.deb ...\n",
            "Unpacking fonts-dejavu-core (2.37-2build1) ...\n",
            "Selecting previously unselected package fonts-dejavu-extra.\n",
            "Preparing to unpack .../097-fonts-dejavu-extra_2.37-2build1_all.deb ...\n",
            "Unpacking fonts-dejavu-extra (2.37-2build1) ...\n",
            "Selecting previously unselected package libxxf86dga1:amd64.\n",
            "Preparing to unpack .../098-libxxf86dga1_2%3a1.1.5-0ubuntu3_amd64.deb ...\n",
            "Unpacking libxxf86dga1:amd64 (2:1.1.5-0ubuntu3) ...\n",
            "Selecting previously unselected package x11-utils.\n",
            "Preparing to unpack .../099-x11-utils_7.7+5build2_amd64.deb ...\n",
            "Unpacking x11-utils (7.7+5build2) ...\n",
            "Selecting previously unselected package libatk-wrapper-java.\n",
            "Preparing to unpack .../100-libatk-wrapper-java_0.38.0-5build1_all.deb ...\n",
            "Unpacking libatk-wrapper-java (0.38.0-5build1) ...\n",
            "Selecting previously unselected package libatk-wrapper-java-jni:amd64.\n",
            "Preparing to unpack .../101-libatk-wrapper-java-jni_0.38.0-5build1_amd64.deb ...\n",
            "Unpacking libatk-wrapper-java-jni:amd64 (0.38.0-5build1) ...\n",
            "Selecting previously unselected package libgtk2.0-common.\n",
            "Preparing to unpack .../102-libgtk2.0-common_2.24.33-2ubuntu2.1_all.deb ...\n",
            "Unpacking libgtk2.0-common (2.24.33-2ubuntu2.1) ...\n",
            "Selecting previously unselected package libgtk2.0-0:amd64.\n",
            "Preparing to unpack .../103-libgtk2.0-0_2.24.33-2ubuntu2.1_amd64.deb ...\n",
            "Unpacking libgtk2.0-0:amd64 (2.24.33-2ubuntu2.1) ...\n",
            "Selecting previously unselected package libgail18:amd64.\n",
            "Preparing to unpack .../104-libgail18_2.24.33-2ubuntu2.1_amd64.deb ...\n",
            "Unpacking libgail18:amd64 (2.24.33-2ubuntu2.1) ...\n",
            "Selecting previously unselected package libgail-common:amd64.\n",
            "Preparing to unpack .../105-libgail-common_2.24.33-2ubuntu2.1_amd64.deb ...\n",
            "Unpacking libgail-common:amd64 (2.24.33-2ubuntu2.1) ...\n",
            "Selecting previously unselected package libgtk2.0-bin.\n",
            "Preparing to unpack .../106-libgtk2.0-bin_2.24.33-2ubuntu2.1_amd64.deb ...\n",
            "Unpacking libgtk2.0-bin (2.24.33-2ubuntu2.1) ...\n",
            "Selecting previously unselected package libgudev-1.0-0:amd64.\n",
            "Preparing to unpack .../107-libgudev-1.0-0_1%3a237-2build1_amd64.deb ...\n",
            "Unpacking libgudev-1.0-0:amd64 (1:237-2build1) ...\n",
            "Selecting previously unselected package librsvg2-common:amd64.\n",
            "Preparing to unpack .../108-librsvg2-common_2.52.5+dfsg-3ubuntu0.2_amd64.deb ...\n",
            "Unpacking librsvg2-common:amd64 (2.52.5+dfsg-3ubuntu0.2) ...\n",
            "Selecting previously unselected package python3-xkit.\n",
            "Preparing to unpack .../109-python3-xkit_0.5.0ubuntu5_all.deb ...\n",
            "Unpacking python3-xkit (0.5.0ubuntu5) ...\n",
            "Selecting previously unselected package screen-resolution-extra.\n",
            "Preparing to unpack .../110-screen-resolution-extra_0.18.2_all.deb ...\n",
            "Unpacking screen-resolution-extra (0.18.2) ...\n",
            "Selecting previously unselected package nvidia-settings.\n",
            "Preparing to unpack .../111-nvidia-settings_575.51.03-0ubuntu1_amd64.deb ...\n",
            "Unpacking nvidia-settings (575.51.03-0ubuntu1) ...\n",
            "Selecting previously unselected package switcheroo-control.\n",
            "Preparing to unpack .../112-switcheroo-control_2.4-3build2_amd64.deb ...\n",
            "Unpacking switcheroo-control (2.4-3build2) ...\n",
            "Selecting previously unselected package systemd-hwe-hwdb.\n",
            "Preparing to unpack .../113-systemd-hwe-hwdb_249.11.5_all.deb ...\n",
            "Unpacking systemd-hwe-hwdb (249.11.5) ...\n",
            "Selecting previously unselected package xcvt.\n",
            "Preparing to unpack .../114-xcvt_0.1.1-3_amd64.deb ...\n",
            "Unpacking xcvt (0.1.1-3) ...\n",
            "Setting up cpp-12 (12.3.0-1ubuntu1~22.04) ...\n",
            "Setting up cuda-nvml-dev-11-8 (11.8.86-1) ...\n",
            "Setting up default-jre-headless (2:1.11-72build2) ...\n",
            "Setting up cuda-toolkit-11-config-common (11.8.89-1) ...\n",
            "Setting up libxcb-xinput0:amd64 (1.14-3ubuntu3) ...\n",
            "Setting up cuda-cccl-11-8 (11.8.89-1) ...\n",
            "Setting up cuda-cuobjdump-11-8 (11.8.86-1) ...\n",
            "Setting up cuda-nvrtc-11-8 (11.8.89-1) ...\n",
            "Setting up cuda-sanitizer-11-8 (11.8.86-1) ...\n",
            "Setting up libxtst6:amd64 (2:1.2.3-1build4) ...\n",
            "Setting up cuda-cupti-11-8 (11.8.87-1) ...\n",
            "Setting up libxcb-keysyms1:amd64 (0.4.0-1build3) ...\n",
            "Setting up libxxf86dga1:amd64 (2:1.1.5-0ubuntu3) ...\n",
            "Setting up libnvidia-gpucomp-575:amd64 (575.51.03-0ubuntu1) ...\n",
            "Setting up libxcb-render-util0:amd64 (0.3.9-1build3) ...\n",
            "Setting up openjdk-11-jre:amd64 (11.0.27+6~us1-0ubuntu1~22.04) ...\n",
            "Setting up cuda-nvdisasm-11-8 (11.8.86-1) ...\n",
            "Setting up libxcb-icccm4:amd64 (0.4.1-1.1build2) ...\n",
            "Setting up default-jre (2:1.11-72build2) ...\n",
            "Setting up cuda-cuxxfilt-11-8 (11.8.86-1) ...\n",
            "Setting up libfakeroot:amd64 (1.28-1ubuntu1) ...\n",
            "Setting up libxcb-util1:amd64 (0.4.0-1build2) ...\n",
            "Setting up libjansson4:amd64 (2.13.1-1.1build3) ...\n",
            "Setting up libxcb-xkb1:amd64 (1.14-3ubuntu3) ...\n",
            "Setting up nvidia-modprobe (575.51.03-0ubuntu1) ...\n",
            "Setting up libxcb-image0:amd64 (0.4.0-2) ...\n",
            "Setting up fakeroot (1.28-1ubuntu1) ...\n",
            "update-alternatives: using /usr/bin/fakeroot-sysv to provide /usr/bin/fakeroot (fakeroot) in auto mode\n",
            "Setting up nvidia-kernel-source-575 (575.51.03-0ubuntu1) ...\n",
            "Setting up libxcb-xinerama0:amd64 (1.14-3ubuntu3) ...\n",
            "Setting up cuda-nvvp-11-8 (11.8.87-1) ...\n",
            "Setting up cuda-nvtx-11-8 (11.8.86-1) ...\n",
            "Setting up cuda-gdb-11-8 (11.8.86-1) ...\n",
            "Setting up cuda-toolkit-11-8-config-common (11.8.89-1) ...\n",
            "Setting alternatives\n",
            "update-alternatives: using /usr/local/cuda-11.8 to provide /usr/local/cuda-11 (cuda-11) in auto mode\n",
            "Setting up libxkbcommon-x11-0:amd64 (1.4.0-1) ...\n",
            "Setting up libnvidia-fbc1-575:amd64 (575.51.03-0ubuntu1) ...\n",
            "Setting up udev (249.11-0ubuntu3.15) ...\n",
            "invoke-rc.d: could not determine current runlevel\n",
            "invoke-rc.d: policy-rc.d denied execution of start.\n",
            "Setting up libcusolver-11-8 (11.4.1.48-1) ...\n",
            "Setting up cuda-nvrtc-dev-11-8 (11.8.89-1) ...\n",
            "Setting up fonts-dejavu-core (2.37-2build1) ...\n",
            "Setting up librsvg2-common:amd64 (2.52.5+dfsg-3ubuntu0.2) ...\n",
            "Setting up cuda-driver-dev-11-8 (11.8.89-1) ...\n",
            "Setting up systemd-hwe-hwdb (249.11.5) ...\n",
            "Setting up cuda-memcheck-11-8 (11.8.86-1) ...\n",
            "Setting up fonts-dejavu-extra (2.37-2build1) ...\n",
            "Setting up nvidia-firmware-575-575.51.03 (575.51.03-0ubuntu1) ...\n",
            "Setting up gds-tools-11-8 (1.4.0.31-1) ...\n",
            "Setting up cuda-nsight-11-8 (11.8.86-1) ...\n",
            "Setting up cuda-profiler-api-11-8 (11.8.86-1) ...\n",
            "Setting up libasan8:amd64 (12.3.0-1ubuntu1~22.04) ...\n",
            "Setting up libxcvt0:amd64 (0.1.1-3) ...\n",
            "Setting up x11-utils (7.7+5build2) ...\n",
            "Setting up libnvidia-common-575 (575.51.03-0ubuntu1) ...\n",
            "Setting up libgtk2.0-common (2.24.33-2ubuntu2.1) ...\n",
            "Setting up cuda-documentation-11-8 (11.8.86-1) ...\n",
            "Setting up libatk-wrapper-java (0.38.0-5build1) ...\n",
            "Setting up libtsan2:amd64 (12.3.0-1ubuntu1~22.04) ...\n",
            "Setting up libnvidia-extra-575:amd64 (575.51.03-0ubuntu1) ...\n",
            "Setting up python3-xkit (0.5.0ubuntu5) ...\n",
            "Setting up libtinfo5:amd64 (6.3-2ubuntu0.1) ...\n",
            "Setting up libnvidia-cfg1-575:amd64 (575.51.03-0ubuntu1) ...\n",
            "Setting up cuda-nvprune-11-8 (11.8.86-1) ...\n",
            "Setting up cuda-cudart-11-8 (11.8.89-1) ...\n",
            "Setting up libnvjpeg-11-8 (11.9.0.86-1) ...\n",
            "Setting up liblocale-gettext-perl (1.07-4build3) ...\n",
            "Setting up libgudev-1.0-0:amd64 (1:237-2build1) ...\n",
            "Setting up dctrl-tools (2.24-3build2) ...\n",
            "Setting up cuda-nvprof-11-8 (11.8.87-1) ...\n",
            "Setting up nsight-compute-2022.3.0 (2022.3.0.22-1) ...\n",
            "Setting up nsight-systems-2022.4.2 (2022.4.2.50-32196742v0) ...\n",
            "update-alternatives: using /opt/nvidia/nsight-systems/2022.4.2/target-linux-x64/nsys to provide /usr/local/bin/nsys (nsys) in auto mode\n",
            "update-alternatives: using /opt/nvidia/nsight-systems/2022.4.2/host-linux-x64/nsys-ui to provide /usr/local/bin/nsys-ui (nsys-ui) in auto mode\n",
            "Setting up libcusparse-11-8 (11.7.5.86-1) ...\n",
            "Setting up libcufft-11-8 (10.9.0.58-1) ...\n",
            "Setting up cuda-cupti-dev-11-8 (11.8.87-1) ...\n",
            "Setting up libcufft-dev-11-8 (10.9.0.58-1) ...\n",
            "Setting up cuda-cudart-dev-11-8 (11.8.89-1) ...\n",
            "Setting up libnpp-11-8 (11.8.0.86-1) ...\n",
            "Setting up libcusolver-dev-11-8 (11.4.1.48-1) ...\n",
            "Setting up libgtk2.0-0:amd64 (2.24.33-2ubuntu2.1) ...\n",
            "Setting up libatk-wrapper-java-jni:amd64 (0.38.0-5build1) ...\n",
            "Setting up xcvt (0.1.1-3) ...\n",
            "Setting up cuda-nsight-systems-11-8 (11.8.0-1) ...\n",
            "Setting up cuda-command-line-tools-11-8 (11.8.0-1) ...\n",
            "Setting up libcusparse-dev-11-8 (11.7.5.86-1) ...\n",
            "Setting up libcurand-11-8 (10.3.0.86-1) ...\n",
            "Setting up libcufile-11-8 (1.4.0.31-1) ...\n",
            "Setting alternatives\n",
            "Setting up libcublas-11-8 (11.11.3.6-1) ...\n",
            "Setting up libnpp-dev-11-8 (11.8.0.86-1) ...\n",
            "Setting up libgcc-12-dev:amd64 (12.3.0-1ubuntu1~22.04) ...\n",
            "Setting up cuda-libraries-11-8 (11.8.0-1) ...\n",
            "Setting up nvidia-kernel-common-575 (575.51.03-0ubuntu1) ...\n",
            "Setting up cuda-nsight-compute-11-8 (11.8.0-1) ...\n",
            "Setting up screen-resolution-extra (0.18.2) ...\n",
            "Setting up libgail18:amd64 (2.24.33-2ubuntu2.1) ...\n",
            "Setting up libgtk2.0-bin (2.24.33-2ubuntu2.1) ...\n",
            "Setting up switcheroo-control (2.4-3build2) ...\n",
            "Created symlink /etc/systemd/system/graphical.target.wants/switcheroo-control.service → /lib/systemd/system/switcheroo-control.service.\n",
            "Setting up nvidia-settings (575.51.03-0ubuntu1) ...\n",
            "Setting up libnvjpeg-dev-11-8 (11.9.0.86-1) ...\n",
            "Setting up keyboard-configuration (1.205ubuntu3) ...\n",
            "debconf: unable to initialize frontend: Dialog\n",
            "debconf: (No usable dialog-like program is installed, so the dialog based frontend cannot be used. at /usr/share/perl5/Debconf/FrontEnd/Dialog.pm line 78.)\n",
            "debconf: falling back to frontend: Readline\n",
            "Configuring keyboard-configuration\n",
            "----------------------------------\n",
            "\n",
            "The layout of keyboards varies per country, with some countries having multiple\n",
            "common layouts. Please select the country of origin for the keyboard of this\n",
            "computer.\n",
            "\n",
            "  1. Afghani\n",
            "  2. Albanian\n",
            "  3. Amharic\n",
            "  4. Arabic\n",
            "  5. Arabic (Morocco)\n",
            "  6. Arabic (Syria)\n",
            "  7. Armenian\n",
            "  8. A user-defined custom Layout\n",
            "  9. Azerbaijani\n",
            "  10. Bambara\n",
            "  11. Bangla\n",
            "  12. Belarusian\n",
            "  13. Belgian\n",
            "  14. Berber (Algeria, Latin)\n",
            "  15. Bosnian\n",
            "  16. Braille\n",
            "  17. Bulgarian\n",
            "  18. Burmese\n",
            "  19. Chinese\n",
            "  20. Croatian\n",
            "  21. Czech\n",
            "  22. Danish\n",
            "  23. Dhivehi\n",
            "  24. Dutch\n",
            "  25. Dzongkha\n",
            "  26. English (Australian)\n",
            "  27. English (Cameroon)\n",
            "  28. English (Ghana)\n",
            "  29. English (Nigeria)\n",
            "  30. English (South Africa)\n",
            "  31. English (UK)\n",
            "  32. English (US)\n",
            "  33. Esperanto\n",
            "  34. Estonian\n",
            "  35. Faroese\n",
            "  36. Filipino\n",
            "  37. Finnish\n",
            "  38. French\n",
            "  39. French (Canada)\n",
            "  40. French (Democratic Republic of the Congo)\n",
            "  41. French (Togo)\n",
            "  42. Georgian\n",
            "  43. German\n",
            "  44. German (Austria)\n",
            "  45. Greek\n",
            "  46. Hebrew\n",
            "  47. Hungarian\n",
            "  48. Icelandic\n",
            "  49. Indian\n",
            "  50. Indonesian (Javanese)\n",
            "  51. Indonesian (Latin)\n",
            "  52. Iraqi\n",
            "  53. Irish\n",
            "  54. Italian\n",
            "  55. Japanese\n",
            "  56. Japanese (PC-98)\n",
            "  57. Kazakh\n",
            "  58. Khmer (Cambodia)\n",
            "  59. Korean\n",
            "  60. Kyrgyz\n",
            "  61. Lao\n",
            "  62. Latvian\n",
            "  63. Lithuanian\n",
            "  64. Macedonian\n",
            "  65. Malay (Jawi, Arabic Keyboard)\n",
            "  66. Maltese\n",
            "  67. Maori\n",
            "  68. Moldavian\n",
            "  69. Mongolian\n",
            "  70. Montenegrin\n",
            "  71. Nepali\n",
            "  72. NKo (AZERTY)\n",
            "  73. Norwegian\n",
            "  74. Persian\n",
            "  75. Polish\n",
            "  76. Portuguese\n",
            "  77. Portuguese (Brazil)\n",
            "  78. Romanian\n",
            "  79. Russian\n",
            "  80. Serbian\n",
            "  81. Sinhala (phonetic)\n",
            "  82. Slovak\n",
            "  83. Slovenian\n",
            "  84. Spanish\n",
            "  85. Spanish (Latin American)\n",
            "  86. Swahili (Kenya)\n",
            "  87. Swahili (Tanzania)\n",
            "  88. Swedish\n",
            "  89. Switzerland\n",
            "  90. Taiwanese\n",
            "  91. Tajik\n",
            "  92. Thai\n",
            "  93. Tswana\n",
            "  94. Turkish\n",
            "  95. Turkmen\n",
            "  96. Ukrainian\n",
            "  97. Urdu (Pakistan)\n",
            "  98. Uzbek\n",
            "  99. Vietnamese\n",
            "  100. Wolof\n",
            "\u001b[4mCountry of origin for the keyboard: \u001b[m\u001b[1m32\n",
            "\u001b[m\u001b[m\n",
            "Please select the layout matching the keyboard for this machine.\n",
            "\n",
            "  1. English (US)\n",
            "  2. English (US) - Cherokee\n",
            "  3. English (US) - English (classic Dvorak)\n",
            "  4. English (US) - English (Colemak)\n",
            "  5. English (US) - English (Colemak-DH)\n",
            "  6. English (US) - English (Colemak-DH ISO)\n",
            "  7. English (US) - English (Dvorak)\n",
            "  8. English (US) - English (Dvorak, alt. intl.)\n",
            "  9. English (US) - English (Dvorak, intl., with dead keys)\n",
            "  10. English (US) - English (Dvorak, left-handed)\n",
            "  11. English (US) - English (Dvorak, right-handed)\n",
            "  12. English (US) - English (intl., with AltGr dead keys)\n",
            "  13. English (US) - English (Macintosh)\n",
            "  14. English (US) - English (Norman)\n",
            "  15. English (US) - English (programmer Dvorak)\n",
            "  16. English (US) - English (the divide/multiply toggle the layout)\n",
            "  17. English (US) - English (US, alt. intl.)\n",
            "  18. English (US) - English (US, euro on 5)\n",
            "  19. English (US) - English (US, intl., with dead keys)\n",
            "  20. English (US) - English (US, Symbolic)\n",
            "  21. English (US) - English (Workman)\n",
            "  22. English (US) - English (Workman, intl., with dead keys)\n",
            "  23. English (US) - Hawaiian\n",
            "  24. English (US) - Russian (US, phonetic)\n",
            "  25. English (US) - Serbo-Croatian (US)\n",
            "\u001b[4mKeyboard layout: \u001b[m\u001b[1m1\n",
            "\u001b[m\u001b[m\n",
            "Your console font configuration will be updated the next time your system\n",
            "boots. If you want to update it now, run 'setupcon' from a virtual console.\n",
            "Setting up cuda-nvcc-11-8 (11.8.89-1) ...\n",
            "Setting up libgail-common:amd64 (2.24.33-2ubuntu2.1) ...\n",
            "Setting up xserver-xorg-core (2:21.1.4-2ubuntu1.7~22.04.14) ...\n",
            "Setting up xserver-xorg-video-nvidia-575 (575.51.03-0ubuntu1) ...\n",
            "Setting up libcublas-dev-11-8 (11.11.3.6-1) ...\n",
            "Setting up libcurand-dev-11-8 (10.3.0.86-1) ...\n",
            "Setting up libcufile-dev-11-8 (1.4.0.31-1) ...\n",
            "Setting up gcc-12 (12.3.0-1ubuntu1~22.04) ...\n",
            "Setting up cuda-compiler-11-8 (11.8.0-1) ...\n",
            "Setting up cuda-libraries-dev-11-8 (11.8.0-1) ...\n",
            "Setting up dkms (2.8.7-2ubuntu2.2) ...\n",
            "Setting up cuda-visual-tools-11-8 (11.8.0-1) ...\n",
            "Setting up nvidia-dkms-575 (575.51.03-0ubuntu1) ...\n",
            "debconf: unable to initialize frontend: Dialog\n",
            "debconf: (No usable dialog-like program is installed, so the dialog based frontend cannot be used. at /usr/share/perl5/Debconf/FrontEnd/Dialog.pm line 78.)\n",
            "debconf: falling back to frontend: Readline\n",
            "Loading new nvidia-575.51.03 DKMS files...\n",
            "It is likely that 6.1.123+ belongs to a chroot's host\n",
            "Building for 5.15.0-139-generic\n",
            "Building for architecture x86_64\n",
            "Building initial module for 5.15.0-139-generic\n",
            "Done.\n",
            "\n",
            "nvidia.ko:\n",
            "Running module version sanity check.\n",
            " - Original module\n",
            "   - No original module exists within this kernel\n",
            " - Installation\n",
            "   - Installing to /lib/modules/5.15.0-139-generic/updates/dkms/\n",
            "\n",
            "nvidia-modeset.ko:\n",
            "Running module version sanity check.\n",
            " - Original module\n",
            "   - No original module exists within this kernel\n",
            " - Installation\n",
            "   - Installing to /lib/modules/5.15.0-139-generic/updates/dkms/\n",
            "\n",
            "nvidia-drm.ko:\n",
            "Running module version sanity check.\n",
            " - Original module\n",
            "   - No original module exists within this kernel\n",
            " - Installation\n",
            "   - Installing to /lib/modules/5.15.0-139-generic/updates/dkms/\n",
            "\n",
            "nvidia-uvm.ko:\n",
            "Running module version sanity check.\n",
            " - Original module\n",
            "   - No original module exists within this kernel\n",
            " - Installation\n",
            "   - Installing to /lib/modules/5.15.0-139-generic/updates/dkms/\n",
            "\n",
            "nvidia-peermem.ko:\n",
            "Running module version sanity check.\n",
            " - Original module\n",
            "   - No original module exists within this kernel\n",
            " - Installation\n",
            "   - Installing to /lib/modules/5.15.0-139-generic/updates/dkms/\n",
            "\n",
            "depmod...\n",
            "Setting up cuda-tools-11-8 (11.8.0-1) ...\n",
            "Setting up cuda-toolkit-11-8 (11.8.0-1) ...\n",
            "Setting alternatives\n",
            "Setting up libnvidia-compute-575:amd64 (575.51.03-0ubuntu1) ...\n",
            "Setting up libnvidia-decode-575:amd64 (575.51.03-0ubuntu1) ...\n",
            "Setting up nvidia-utils-575 (575.51.03-0ubuntu1) ...\n",
            "Setting up nvidia-compute-utils-575 (575.51.03-0ubuntu1) ...\n",
            "Setting up libnvidia-gl-575:amd64 (575.51.03-0ubuntu1) ...\n",
            "Setting up libnvidia-encode-575:amd64 (575.51.03-0ubuntu1) ...\n",
            "Setting up nvidia-driver-575 (575.51.03-0ubuntu1) ...\n",
            "Setting up cuda-drivers-575 (575.51.03-0ubuntu1) ...\n",
            "Setting up cuda-drivers (575.51.03-0ubuntu1) ...\n",
            "Setting up cuda-runtime-11-8 (11.8.0-1) ...\n",
            "Setting up cuda-demo-suite-11-8 (11.8.86-1) ...\n",
            "Setting up cuda-11-8 (11.8.0-1) ...\n",
            "Processing triggers for fontconfig (2.13.1-4.2ubuntu5) ...\n",
            "Processing triggers for hicolor-icon-theme (0.17-2) ...\n",
            "Processing triggers for libc-bin (2.35-0ubuntu3.8) ...\n",
            "/sbin/ldconfig.real: /usr/local/lib/libtbbmalloc.so.2 is not a symbolic link\n",
            "\n",
            "/sbin/ldconfig.real: /usr/local/lib/libtcm.so.1 is not a symbolic link\n",
            "\n",
            "/sbin/ldconfig.real: /usr/local/lib/libur_loader.so.0 is not a symbolic link\n",
            "\n",
            "/sbin/ldconfig.real: /usr/local/lib/libtbbbind_2_5.so.3 is not a symbolic link\n",
            "\n",
            "/sbin/ldconfig.real: /usr/local/lib/libumf.so.0 is not a symbolic link\n",
            "\n",
            "/sbin/ldconfig.real: /usr/local/lib/libtbbmalloc_proxy.so.2 is not a symbolic link\n",
            "\n",
            "/sbin/ldconfig.real: /usr/local/lib/libtbbbind_2_0.so.3 is not a symbolic link\n",
            "\n",
            "/sbin/ldconfig.real: /usr/local/lib/libhwloc.so.15 is not a symbolic link\n",
            "\n",
            "/sbin/ldconfig.real: /usr/local/lib/libur_adapter_level_zero.so.0 is not a symbolic link\n",
            "\n",
            "/sbin/ldconfig.real: /usr/local/lib/libtbb.so.12 is not a symbolic link\n",
            "\n",
            "/sbin/ldconfig.real: /usr/local/lib/libtbbbind.so.3 is not a symbolic link\n",
            "\n",
            "/sbin/ldconfig.real: /usr/local/lib/libur_adapter_opencl.so.0 is not a symbolic link\n",
            "\n",
            "/sbin/ldconfig.real: /usr/local/lib/libtcm_debug.so.1 is not a symbolic link\n",
            "\n",
            "Processing triggers for man-db (2.10.2-1) ...\n",
            "Processing triggers for dbus (1.12.20-2ubuntu4.1) ...\n",
            "Processing triggers for libgdk-pixbuf-2.0-0:amd64 (2.42.8+dfsg-1ubuntu0.3) ...\n",
            "Processing triggers for mailcap (3.70+nmu1ubuntu1) ...\n",
            "Get:1 file:/var/cuda-repo-ubuntu2004-11-8-local  InRelease [1,575 B]\n",
            "Get:1 file:/var/cuda-repo-ubuntu2004-11-8-local  InRelease [1,575 B]\n",
            "Hit:2 https://developer.download.nvidia.com/compute/cuda/repos/ubuntu2204/x86_64  InRelease\n",
            "Hit:3 http://security.ubuntu.com/ubuntu jammy-security InRelease\n",
            "Hit:4 http://archive.ubuntu.com/ubuntu jammy InRelease\n",
            "Hit:5 http://archive.ubuntu.com/ubuntu jammy-updates InRelease\n",
            "Hit:6 https://cloud.r-project.org/bin/linux/ubuntu jammy-cran40/ InRelease\n",
            "Hit:7 http://archive.ubuntu.com/ubuntu jammy-backports InRelease\n",
            "Hit:8 https://ppa.launchpadcontent.net/deadsnakes/ppa/ubuntu jammy InRelease\n",
            "Hit:9 https://r2u.stat.illinois.edu/ubuntu jammy InRelease\n",
            "Hit:10 https://ppa.launchpadcontent.net/graphics-drivers/ppa/ubuntu jammy InRelease\n",
            "Hit:11 https://ppa.launchpadcontent.net/ubuntugis/ppa/ubuntu jammy InRelease\n",
            "Reading package lists... Done\n",
            "W: Skipping acquire of configured file 'main/source/Sources' as repository 'https://r2u.stat.illinois.edu/ubuntu jammy InRelease' does not seem to provide it (sources.list entry misspelt?)\n",
            "Reading package lists... Done\n",
            "Building dependency tree... Done\n",
            "Reading state information... Done\n",
            "cuda-runtime-11-8 is already the newest version (11.8.0-1).\n",
            "cuda-runtime-11-8 set to manually installed.\n",
            "Selected version '8.9.7.29-1+cuda11.8' (NVIDIA CUDA:developer.download.nvidia.com [amd64]) for 'libcudnn8'\n",
            "Selected version '8.9.7.29-1+cuda11.8' (NVIDIA CUDA:developer.download.nvidia.com [amd64]) for 'libcudnn8-dev'\n",
            "The following NEW packages will be installed:\n",
            "  libcudnn8 libcudnn8-dev\n",
            "0 upgraded, 2 newly installed, 0 to remove and 92 not upgraded.\n",
            "Need to get 878 MB of archives.\n",
            "After this operation, 2,366 MB of additional disk space will be used.\n",
            "Get:1 https://developer.download.nvidia.com/compute/cuda/repos/ubuntu2204/x86_64  libcudnn8 8.9.7.29-1+cuda11.8 [441 MB]\n",
            "Get:2 https://developer.download.nvidia.com/compute/cuda/repos/ubuntu2204/x86_64  libcudnn8-dev 8.9.7.29-1+cuda11.8 [437 MB]\n",
            "Fetched 878 MB in 11s (82.2 MB/s)\n",
            "debconf: unable to initialize frontend: Dialog\n",
            "debconf: (No usable dialog-like program is installed, so the dialog based frontend cannot be used. at /usr/share/perl5/Debconf/FrontEnd/Dialog.pm line 78, <> line 2.)\n",
            "debconf: falling back to frontend: Readline\n",
            "debconf: unable to initialize frontend: Readline\n",
            "debconf: (This frontend requires a controlling tty.)\n",
            "debconf: falling back to frontend: Teletype\n",
            "dpkg-preconfigure: unable to re-open stdin: \n",
            "Selecting previously unselected package libcudnn8.\n",
            "(Reading database ... 133101 files and directories currently installed.)\n",
            "Preparing to unpack .../libcudnn8_8.9.7.29-1+cuda11.8_amd64.deb ...\n",
            "Unpacking libcudnn8 (8.9.7.29-1+cuda11.8) ...\n",
            "Selecting previously unselected package libcudnn8-dev.\n",
            "Preparing to unpack .../libcudnn8-dev_8.9.7.29-1+cuda11.8_amd64.deb ...\n",
            "Unpacking libcudnn8-dev (8.9.7.29-1+cuda11.8) ...\n",
            "Setting up libcudnn8 (8.9.7.29-1+cuda11.8) ...\n",
            "Setting up libcudnn8-dev (8.9.7.29-1+cuda11.8) ...\n",
            "update-alternatives: warning: forcing reinstallation of alternative /usr/include/x86_64-linux-gnu/cudnn_v9.h because link group libcudnn is broken\n",
            "update-alternatives: using /usr/include/x86_64-linux-gnu/cudnn_v8.h to provide /usr/include/cudnn.h (libcudnn) in manual mode\n"
          ]
        }
      ],
      "source": [
        "# Run this cell to run the notebook in Colab T4 GPU\n",
        "\n",
        "!wget https://developer.download.nvidia.com/compute/cuda/repos/ubuntu2004/x86_64/cuda-ubuntu2004.pin\n",
        "!sudo mv cuda-ubuntu2004.pin /etc/apt/preferences.d/cuda-repository-pin-600\n",
        "!wget https://developer.download.nvidia.com/compute/cuda/11.8.0/local_installers/cuda-repo-ubuntu2004-11-8-local_11.8.0-520.61.05-1_amd64.deb\n",
        "!sudo dpkg -i cuda-repo-ubuntu2004-11-8-local_11.8.0-520.61.05-1_amd64.deb\n",
        "!sudo cp /var/cuda-repo-ubuntu2004-11-8-local/cuda-*-keyring.gpg /usr/share/keyrings/\n",
        "!sudo apt-get update\n",
        "!sudo apt-get install cuda-11-8\n",
        "!sudo rm /usr/local/cuda\n",
        "!sudo ln -s /usr/local/cuda-11.8 /usr/local/cuda\n",
        "!source ~/.bashrc\n",
        "!sudo apt-get update\n",
        "!sudo apt-get install -y cuda-runtime-11-8 libcudnn8=8.*-1+cuda11.8 libcudnn8-dev=8.*-1+cuda11.8\n",
        "!sudo ln -sfn /usr/local/cuda-11.8 /usr/local/cuda\n",
        "!export PATH=/usr/local/cuda/bin:$PATH\n",
        "!export LD_LIBRARY_PATH=/usr/local/cuda/lib64:/usr/local/cuda/extras/CUPTI/lib64:$LD_LIBRARY_PATH\n",
        "!source ~/.bashrc\n"
      ]
    },
    {
      "cell_type": "code",
      "execution_count": null,
      "id": "4HWke8sfkcG_",
      "metadata": {
        "colab": {
          "base_uri": "https://localhost:8080/"
        },
        "id": "4HWke8sfkcG_",
        "outputId": "5979fded-cb4d-4e70-bb7c-2158eed8e4c5"
      },
      "outputs": [
        {
          "name": "stdout",
          "output_type": "stream",
          "text": [
            "nvcc: NVIDIA (R) Cuda compiler driver\n",
            "Copyright (c) 2005-2022 NVIDIA Corporation\n",
            "Built on Wed_Sep_21_10:33:58_PDT_2022\n",
            "Cuda compilation tools, release 11.8, V11.8.89\n",
            "Build cuda_11.8.r11.8/compiler.31833905_0\n",
            "Sat May 24 17:41:01 2025       \n",
            "+-----------------------------------------------------------------------------------------+\n",
            "| NVIDIA-SMI 550.54.15              Driver Version: 550.54.15      CUDA Version: 12.4     |\n",
            "|-----------------------------------------+------------------------+----------------------+\n",
            "| GPU  Name                 Persistence-M | Bus-Id          Disp.A | Volatile Uncorr. ECC |\n",
            "| Fan  Temp   Perf          Pwr:Usage/Cap |           Memory-Usage | GPU-Util  Compute M. |\n",
            "|                                         |                        |               MIG M. |\n",
            "|=========================================+========================+======================|\n",
            "|   0  Tesla T4                       Off |   00000000:00:04.0 Off |                    0 |\n",
            "| N/A   35C    P8              9W /   70W |       0MiB /  15360MiB |      0%      Default |\n",
            "|                                         |                        |                  N/A |\n",
            "+-----------------------------------------+------------------------+----------------------+\n",
            "                                                                                         \n",
            "+-----------------------------------------------------------------------------------------+\n",
            "| Processes:                                                                              |\n",
            "|  GPU   GI   CI        PID   Type   Process name                              GPU Memory |\n",
            "|        ID   ID                                                               Usage      |\n",
            "|=========================================================================================|\n",
            "|  No running processes found                                                             |\n",
            "+-----------------------------------------------------------------------------------------+\n"
          ]
        }
      ],
      "source": [
        "!nvcc --version      # should now show 11.8\n",
        "!nvidia-smi"
      ]
    },
    {
      "cell_type": "code",
      "execution_count": null,
      "id": "jQ443NEaLVm3",
      "metadata": {
        "colab": {
          "base_uri": "https://localhost:8080/",
          "height": 1000
        },
        "id": "jQ443NEaLVm3",
        "outputId": "61d5f24f-ce7d-41c1-f75e-3ca7610f7ed0"
      },
      "outputs": [
        {
          "name": "stdout",
          "output_type": "stream",
          "text": [
            "Collecting tensorflow==2.12.0\n",
            "  Downloading tensorflow-2.12.0-cp311-cp311-manylinux_2_17_x86_64.manylinux2014_x86_64.whl.metadata (3.4 kB)\n",
            "Requirement already satisfied: absl-py>=1.0.0 in /usr/local/lib/python3.11/dist-packages (from tensorflow==2.12.0) (1.4.0)\n",
            "Requirement already satisfied: astunparse>=1.6.0 in /usr/local/lib/python3.11/dist-packages (from tensorflow==2.12.0) (1.6.3)\n",
            "Requirement already satisfied: flatbuffers>=2.0 in /usr/local/lib/python3.11/dist-packages (from tensorflow==2.12.0) (25.2.10)\n",
            "Collecting gast<=0.4.0,>=0.2.1 (from tensorflow==2.12.0)\n",
            "  Downloading gast-0.4.0-py3-none-any.whl.metadata (1.1 kB)\n",
            "Requirement already satisfied: google-pasta>=0.1.1 in /usr/local/lib/python3.11/dist-packages (from tensorflow==2.12.0) (0.2.0)\n",
            "Requirement already satisfied: grpcio<2.0,>=1.24.3 in /usr/local/lib/python3.11/dist-packages (from tensorflow==2.12.0) (1.71.0)\n",
            "Requirement already satisfied: h5py>=2.9.0 in /usr/local/lib/python3.11/dist-packages (from tensorflow==2.12.0) (3.13.0)\n",
            "Requirement already satisfied: jax>=0.3.15 in /usr/local/lib/python3.11/dist-packages (from tensorflow==2.12.0) (0.5.2)\n",
            "Collecting keras<2.13,>=2.12.0 (from tensorflow==2.12.0)\n",
            "  Downloading keras-2.12.0-py2.py3-none-any.whl.metadata (1.4 kB)\n",
            "Requirement already satisfied: libclang>=13.0.0 in /usr/local/lib/python3.11/dist-packages (from tensorflow==2.12.0) (18.1.1)\n",
            "Collecting numpy<1.24,>=1.22 (from tensorflow==2.12.0)\n",
            "  Downloading numpy-1.23.5-cp311-cp311-manylinux_2_17_x86_64.manylinux2014_x86_64.whl.metadata (2.3 kB)\n",
            "Requirement already satisfied: opt-einsum>=2.3.2 in /usr/local/lib/python3.11/dist-packages (from tensorflow==2.12.0) (3.4.0)\n",
            "Requirement already satisfied: packaging in /usr/local/lib/python3.11/dist-packages (from tensorflow==2.12.0) (24.2)\n",
            "Collecting protobuf!=4.21.0,!=4.21.1,!=4.21.2,!=4.21.3,!=4.21.4,!=4.21.5,<5.0.0dev,>=3.20.3 (from tensorflow==2.12.0)\n",
            "  Downloading protobuf-4.25.7-cp37-abi3-manylinux2014_x86_64.whl.metadata (541 bytes)\n",
            "Requirement already satisfied: setuptools in /usr/local/lib/python3.11/dist-packages (from tensorflow==2.12.0) (75.2.0)\n",
            "Requirement already satisfied: six>=1.12.0 in /usr/local/lib/python3.11/dist-packages (from tensorflow==2.12.0) (1.17.0)\n",
            "Collecting tensorboard<2.13,>=2.12 (from tensorflow==2.12.0)\n",
            "  Downloading tensorboard-2.12.3-py3-none-any.whl.metadata (1.8 kB)\n",
            "Collecting tensorflow-estimator<2.13,>=2.12.0 (from tensorflow==2.12.0)\n",
            "  Downloading tensorflow_estimator-2.12.0-py2.py3-none-any.whl.metadata (1.3 kB)\n",
            "Requirement already satisfied: termcolor>=1.1.0 in /usr/local/lib/python3.11/dist-packages (from tensorflow==2.12.0) (3.1.0)\n",
            "Requirement already satisfied: typing-extensions>=3.6.6 in /usr/local/lib/python3.11/dist-packages (from tensorflow==2.12.0) (4.13.2)\n",
            "Collecting wrapt<1.15,>=1.11.0 (from tensorflow==2.12.0)\n",
            "  Downloading wrapt-1.14.1-cp311-cp311-manylinux_2_5_x86_64.manylinux1_x86_64.manylinux_2_17_x86_64.manylinux2014_x86_64.whl.metadata (6.7 kB)\n",
            "Requirement already satisfied: tensorflow-io-gcs-filesystem>=0.23.1 in /usr/local/lib/python3.11/dist-packages (from tensorflow==2.12.0) (0.37.1)\n",
            "Requirement already satisfied: wheel<1.0,>=0.23.0 in /usr/local/lib/python3.11/dist-packages (from astunparse>=1.6.0->tensorflow==2.12.0) (0.45.1)\n",
            "Requirement already satisfied: jaxlib<=0.5.2,>=0.5.1 in /usr/local/lib/python3.11/dist-packages (from jax>=0.3.15->tensorflow==2.12.0) (0.5.1)\n",
            "Requirement already satisfied: ml_dtypes>=0.4.0 in /usr/local/lib/python3.11/dist-packages (from jax>=0.3.15->tensorflow==2.12.0) (0.4.1)\n",
            "INFO: pip is looking at multiple versions of jax to determine which version is compatible with other requirements. This could take a while.\n",
            "Collecting jax>=0.3.15 (from tensorflow==2.12.0)\n",
            "  Downloading jax-0.6.1-py3-none-any.whl.metadata (13 kB)\n",
            "Collecting jaxlib<=0.6.1,>=0.6.1 (from jax>=0.3.15->tensorflow==2.12.0)\n",
            "  Downloading jaxlib-0.6.1-cp311-cp311-manylinux2014_x86_64.whl.metadata (1.2 kB)\n",
            "Collecting ml_dtypes>=0.5.0 (from jax>=0.3.15->tensorflow==2.12.0)\n",
            "  Downloading ml_dtypes-0.5.1-cp311-cp311-manylinux_2_17_x86_64.manylinux2014_x86_64.whl.metadata (21 kB)\n",
            "Collecting jax>=0.3.15 (from tensorflow==2.12.0)\n",
            "  Downloading jax-0.6.0-py3-none-any.whl.metadata (22 kB)\n",
            "Collecting jaxlib<=0.6.0,>=0.6.0 (from jax>=0.3.15->tensorflow==2.12.0)\n",
            "  Downloading jaxlib-0.6.0-cp311-cp311-manylinux2014_x86_64.whl.metadata (1.2 kB)\n",
            "Collecting jax>=0.3.15 (from tensorflow==2.12.0)\n",
            "  Downloading jax-0.5.3-py3-none-any.whl.metadata (22 kB)\n",
            "Collecting jaxlib<=0.5.3,>=0.5.3 (from jax>=0.3.15->tensorflow==2.12.0)\n",
            "  Downloading jaxlib-0.5.3-cp311-cp311-manylinux2014_x86_64.whl.metadata (1.2 kB)\n",
            "Collecting jax>=0.3.15 (from tensorflow==2.12.0)\n",
            "  Downloading jax-0.5.1-py3-none-any.whl.metadata (22 kB)\n",
            "  Downloading jax-0.5.0-py3-none-any.whl.metadata (22 kB)\n",
            "Collecting jaxlib<=0.5.0,>=0.5.0 (from jax>=0.3.15->tensorflow==2.12.0)\n",
            "  Downloading jaxlib-0.5.0-cp311-cp311-manylinux2014_x86_64.whl.metadata (978 bytes)\n",
            "Collecting jax>=0.3.15 (from tensorflow==2.12.0)\n",
            "  Downloading jax-0.4.38-py3-none-any.whl.metadata (22 kB)\n",
            "Collecting jaxlib<=0.4.38,>=0.4.38 (from jax>=0.3.15->tensorflow==2.12.0)\n",
            "  Downloading jaxlib-0.4.38-cp311-cp311-manylinux2014_x86_64.whl.metadata (1.0 kB)\n",
            "Collecting jax>=0.3.15 (from tensorflow==2.12.0)\n",
            "  Downloading jax-0.4.37-py3-none-any.whl.metadata (22 kB)\n",
            "Collecting jaxlib<=0.4.37,>=0.4.36 (from jax>=0.3.15->tensorflow==2.12.0)\n",
            "  Downloading jaxlib-0.4.36-cp311-cp311-manylinux2014_x86_64.whl.metadata (1.0 kB)\n",
            "INFO: pip is still looking at multiple versions of jax to determine which version is compatible with other requirements. This could take a while.\n",
            "Collecting jax>=0.3.15 (from tensorflow==2.12.0)\n",
            "  Downloading jax-0.4.36-py3-none-any.whl.metadata (22 kB)\n",
            "  Downloading jax-0.4.35-py3-none-any.whl.metadata (22 kB)\n",
            "Collecting jaxlib<=0.4.35,>=0.4.34 (from jax>=0.3.15->tensorflow==2.12.0)\n",
            "  Downloading jaxlib-0.4.35-cp311-cp311-manylinux2014_x86_64.whl.metadata (983 bytes)\n",
            "Collecting jax>=0.3.15 (from tensorflow==2.12.0)\n",
            "  Downloading jax-0.4.34-py3-none-any.whl.metadata (22 kB)\n",
            "Collecting jaxlib<=0.4.34,>=0.4.34 (from jax>=0.3.15->tensorflow==2.12.0)\n",
            "  Downloading jaxlib-0.4.34-cp311-cp311-manylinux2014_x86_64.whl.metadata (983 bytes)\n",
            "Collecting jax>=0.3.15 (from tensorflow==2.12.0)\n",
            "  Downloading jax-0.4.33-py3-none-any.whl.metadata (22 kB)\n",
            "Collecting jaxlib<=0.4.33,>=0.4.33 (from jax>=0.3.15->tensorflow==2.12.0)\n",
            "  Downloading jaxlib-0.4.33-cp311-cp311-manylinux2014_x86_64.whl.metadata (983 bytes)\n",
            "Collecting jax>=0.3.15 (from tensorflow==2.12.0)\n",
            "  Downloading jax-0.4.31-py3-none-any.whl.metadata (22 kB)\n",
            "Collecting jaxlib<=0.4.31,>=0.4.30 (from jax>=0.3.15->tensorflow==2.12.0)\n",
            "  Downloading jaxlib-0.4.31-cp311-cp311-manylinux2014_x86_64.whl.metadata (983 bytes)\n",
            "INFO: This is taking longer than usual. You might need to provide the dependency resolver with stricter constraints to reduce runtime. See https://pip.pypa.io/warnings/backtracking for guidance. If you want to abort this run, press Ctrl + C.\n",
            "Collecting jax>=0.3.15 (from tensorflow==2.12.0)\n",
            "  Downloading jax-0.4.30-py3-none-any.whl.metadata (22 kB)\n",
            "Collecting jaxlib<=0.4.30,>=0.4.27 (from jax>=0.3.15->tensorflow==2.12.0)\n",
            "  Downloading jaxlib-0.4.30-cp311-cp311-manylinux2014_x86_64.whl.metadata (1.0 kB)\n",
            "Requirement already satisfied: scipy>=1.9 in /usr/local/lib/python3.11/dist-packages (from jax>=0.3.15->tensorflow==2.12.0) (1.15.3)\n",
            "Requirement already satisfied: google-auth<3,>=1.6.3 in /usr/local/lib/python3.11/dist-packages (from tensorboard<2.13,>=2.12->tensorflow==2.12.0) (2.38.0)\n",
            "Collecting google-auth-oauthlib<1.1,>=0.5 (from tensorboard<2.13,>=2.12->tensorflow==2.12.0)\n",
            "  Downloading google_auth_oauthlib-1.0.0-py2.py3-none-any.whl.metadata (2.7 kB)\n",
            "Requirement already satisfied: markdown>=2.6.8 in /usr/local/lib/python3.11/dist-packages (from tensorboard<2.13,>=2.12->tensorflow==2.12.0) (3.8)\n",
            "Requirement already satisfied: requests<3,>=2.21.0 in /usr/local/lib/python3.11/dist-packages (from tensorboard<2.13,>=2.12->tensorflow==2.12.0) (2.32.3)\n",
            "Requirement already satisfied: tensorboard-data-server<0.8.0,>=0.7.0 in /usr/local/lib/python3.11/dist-packages (from tensorboard<2.13,>=2.12->tensorflow==2.12.0) (0.7.2)\n",
            "Requirement already satisfied: werkzeug>=1.0.1 in /usr/local/lib/python3.11/dist-packages (from tensorboard<2.13,>=2.12->tensorflow==2.12.0) (3.1.3)\n",
            "Requirement already satisfied: cachetools<6.0,>=2.0.0 in /usr/local/lib/python3.11/dist-packages (from google-auth<3,>=1.6.3->tensorboard<2.13,>=2.12->tensorflow==2.12.0) (5.5.2)\n",
            "Requirement already satisfied: pyasn1-modules>=0.2.1 in /usr/local/lib/python3.11/dist-packages (from google-auth<3,>=1.6.3->tensorboard<2.13,>=2.12->tensorflow==2.12.0) (0.4.2)\n",
            "Requirement already satisfied: rsa<5,>=3.1.4 in /usr/local/lib/python3.11/dist-packages (from google-auth<3,>=1.6.3->tensorboard<2.13,>=2.12->tensorflow==2.12.0) (4.9.1)\n",
            "Requirement already satisfied: requests-oauthlib>=0.7.0 in /usr/local/lib/python3.11/dist-packages (from google-auth-oauthlib<1.1,>=0.5->tensorboard<2.13,>=2.12->tensorflow==2.12.0) (2.0.0)\n",
            "Requirement already satisfied: charset-normalizer<4,>=2 in /usr/local/lib/python3.11/dist-packages (from requests<3,>=2.21.0->tensorboard<2.13,>=2.12->tensorflow==2.12.0) (3.4.2)\n",
            "Requirement already satisfied: idna<4,>=2.5 in /usr/local/lib/python3.11/dist-packages (from requests<3,>=2.21.0->tensorboard<2.13,>=2.12->tensorflow==2.12.0) (3.10)\n",
            "Requirement already satisfied: urllib3<3,>=1.21.1 in /usr/local/lib/python3.11/dist-packages (from requests<3,>=2.21.0->tensorboard<2.13,>=2.12->tensorflow==2.12.0) (2.4.0)\n",
            "Requirement already satisfied: certifi>=2017.4.17 in /usr/local/lib/python3.11/dist-packages (from requests<3,>=2.21.0->tensorboard<2.13,>=2.12->tensorflow==2.12.0) (2025.4.26)\n",
            "Requirement already satisfied: MarkupSafe>=2.1.1 in /usr/local/lib/python3.11/dist-packages (from werkzeug>=1.0.1->tensorboard<2.13,>=2.12->tensorflow==2.12.0) (3.0.2)\n",
            "Requirement already satisfied: pyasn1<0.7.0,>=0.6.1 in /usr/local/lib/python3.11/dist-packages (from pyasn1-modules>=0.2.1->google-auth<3,>=1.6.3->tensorboard<2.13,>=2.12->tensorflow==2.12.0) (0.6.1)\n",
            "Requirement already satisfied: oauthlib>=3.0.0 in /usr/local/lib/python3.11/dist-packages (from requests-oauthlib>=0.7.0->google-auth-oauthlib<1.1,>=0.5->tensorboard<2.13,>=2.12->tensorflow==2.12.0) (3.2.2)\n",
            "Downloading tensorflow-2.12.0-cp311-cp311-manylinux_2_17_x86_64.manylinux2014_x86_64.whl (586.0 MB)\n",
            "\u001b[2K   \u001b[90m━━━━━━━━━━━━━━━━━━━━━━━━━━━━━━━━━━━━━━━━\u001b[0m \u001b[32m586.0/586.0 MB\u001b[0m \u001b[31m2.4 MB/s\u001b[0m eta \u001b[36m0:00:00\u001b[0m\n",
            "\u001b[?25hDownloading gast-0.4.0-py3-none-any.whl (9.8 kB)\n",
            "Downloading jax-0.4.30-py3-none-any.whl (2.0 MB)\n",
            "\u001b[2K   \u001b[90m━━━━━━━━━━━━━━━━━━━━━━━━━━━━━━━━━━━━━━━━\u001b[0m \u001b[32m2.0/2.0 MB\u001b[0m \u001b[31m96.2 MB/s\u001b[0m eta \u001b[36m0:00:00\u001b[0m\n",
            "\u001b[?25hDownloading keras-2.12.0-py2.py3-none-any.whl (1.7 MB)\n",
            "\u001b[2K   \u001b[90m━━━━━━━━━━━━━━━━━━━━━━━━━━━━━━━━━━━━━━━━\u001b[0m \u001b[32m1.7/1.7 MB\u001b[0m \u001b[31m93.3 MB/s\u001b[0m eta \u001b[36m0:00:00\u001b[0m\n",
            "\u001b[?25hDownloading numpy-1.23.5-cp311-cp311-manylinux_2_17_x86_64.manylinux2014_x86_64.whl (17.1 MB)\n",
            "\u001b[2K   \u001b[90m━━━━━━━━━━━━━━━━━━━━━━━━━━━━━━━━━━━━━━━━\u001b[0m \u001b[32m17.1/17.1 MB\u001b[0m \u001b[31m109.5 MB/s\u001b[0m eta \u001b[36m0:00:00\u001b[0m\n",
            "\u001b[?25hDownloading protobuf-4.25.7-cp37-abi3-manylinux2014_x86_64.whl (294 kB)\n",
            "\u001b[2K   \u001b[90m━━━━━━━━━━━━━━━━━━━━━━━━━━━━━━━━━━━━━━━━\u001b[0m \u001b[32m294.6/294.6 kB\u001b[0m \u001b[31m33.5 MB/s\u001b[0m eta \u001b[36m0:00:00\u001b[0m\n",
            "\u001b[?25hDownloading tensorboard-2.12.3-py3-none-any.whl (5.6 MB)\n",
            "\u001b[2K   \u001b[90m━━━━━━━━━━━━━━━━━━━━━━━━━━━━━━━━━━━━━━━━\u001b[0m \u001b[32m5.6/5.6 MB\u001b[0m \u001b[31m131.3 MB/s\u001b[0m eta \u001b[36m0:00:00\u001b[0m\n",
            "\u001b[?25hDownloading tensorflow_estimator-2.12.0-py2.py3-none-any.whl (440 kB)\n",
            "\u001b[2K   \u001b[90m━━━━━━━━━━━━━━━━━━━━━━━━━━━━━━━━━━━━━━━━\u001b[0m \u001b[32m440.7/440.7 kB\u001b[0m \u001b[31m43.4 MB/s\u001b[0m eta \u001b[36m0:00:00\u001b[0m\n",
            "\u001b[?25hDownloading wrapt-1.14.1-cp311-cp311-manylinux_2_5_x86_64.manylinux1_x86_64.manylinux_2_17_x86_64.manylinux2014_x86_64.whl (78 kB)\n",
            "\u001b[2K   \u001b[90m━━━━━━━━━━━━━━━━━━━━━━━━━━━━━━━━━━━━━━━━\u001b[0m \u001b[32m78.4/78.4 kB\u001b[0m \u001b[31m9.2 MB/s\u001b[0m eta \u001b[36m0:00:00\u001b[0m\n",
            "\u001b[?25hDownloading google_auth_oauthlib-1.0.0-py2.py3-none-any.whl (18 kB)\n",
            "Downloading jaxlib-0.4.30-cp311-cp311-manylinux2014_x86_64.whl (79.6 MB)\n",
            "\u001b[2K   \u001b[90m━━━━━━━━━━━━━━━━━━━━━━━━━━━━━━━━━━━━━━━━\u001b[0m \u001b[32m79.6/79.6 MB\u001b[0m \u001b[31m31.3 MB/s\u001b[0m eta \u001b[36m0:00:00\u001b[0m\n",
            "\u001b[?25hInstalling collected packages: wrapt, tensorflow-estimator, protobuf, numpy, keras, gast, jaxlib, google-auth-oauthlib, tensorboard, jax, tensorflow\n",
            "  Attempting uninstall: wrapt\n",
            "    Found existing installation: wrapt 1.17.2\n",
            "    Uninstalling wrapt-1.17.2:\n",
            "      Successfully uninstalled wrapt-1.17.2\n",
            "  Attempting uninstall: protobuf\n",
            "    Found existing installation: protobuf 5.29.4\n",
            "    Uninstalling protobuf-5.29.4:\n",
            "      Successfully uninstalled protobuf-5.29.4\n",
            "  Attempting uninstall: numpy\n",
            "    Found existing installation: numpy 2.0.2\n",
            "    Uninstalling numpy-2.0.2:\n",
            "      Successfully uninstalled numpy-2.0.2\n",
            "  Attempting uninstall: keras\n",
            "    Found existing installation: keras 3.8.0\n",
            "    Uninstalling keras-3.8.0:\n",
            "      Successfully uninstalled keras-3.8.0\n",
            "  Attempting uninstall: gast\n",
            "    Found existing installation: gast 0.6.0\n",
            "    Uninstalling gast-0.6.0:\n",
            "      Successfully uninstalled gast-0.6.0\n",
            "  Attempting uninstall: jaxlib\n",
            "    Found existing installation: jaxlib 0.5.1\n",
            "    Uninstalling jaxlib-0.5.1:\n",
            "      Successfully uninstalled jaxlib-0.5.1\n",
            "  Attempting uninstall: google-auth-oauthlib\n",
            "    Found existing installation: google-auth-oauthlib 1.2.2\n",
            "    Uninstalling google-auth-oauthlib-1.2.2:\n",
            "      Successfully uninstalled google-auth-oauthlib-1.2.2\n",
            "  Attempting uninstall: tensorboard\n",
            "    Found existing installation: tensorboard 2.18.0\n",
            "    Uninstalling tensorboard-2.18.0:\n",
            "      Successfully uninstalled tensorboard-2.18.0\n",
            "  Attempting uninstall: jax\n",
            "    Found existing installation: jax 0.5.2\n",
            "    Uninstalling jax-0.5.2:\n",
            "      Successfully uninstalled jax-0.5.2\n",
            "  Attempting uninstall: tensorflow\n",
            "    Found existing installation: tensorflow 2.18.0\n",
            "    Uninstalling tensorflow-2.18.0:\n",
            "      Successfully uninstalled tensorflow-2.18.0\n",
            "\u001b[31mERROR: pip's dependency resolver does not currently take into account all the packages that are installed. This behaviour is the source of the following dependency conflicts.\n",
            "orbax-checkpoint 0.11.13 requires jax>=0.5.0, but you have jax 0.4.30 which is incompatible.\n",
            "thinc 8.3.6 requires numpy<3.0.0,>=2.0.0, but you have numpy 1.23.5 which is incompatible.\n",
            "treescope 0.1.9 requires numpy>=1.25.2, but you have numpy 1.23.5 which is incompatible.\n",
            "tensorflow-decision-forests 1.11.0 requires tensorflow==2.18.0, but you have tensorflow 2.12.0 which is incompatible.\n",
            "pymc 5.22.0 requires numpy>=1.25.0, but you have numpy 1.23.5 which is incompatible.\n",
            "flax 0.10.6 requires jax>=0.5.1, but you have jax 0.4.30 which is incompatible.\n",
            "db-dtypes 1.4.3 requires numpy>=1.24.0, but you have numpy 1.23.5 which is incompatible.\n",
            "tensorflow-text 2.18.1 requires tensorflow<2.19,>=2.18.0, but you have tensorflow 2.12.0 which is incompatible.\n",
            "chex 0.1.89 requires numpy>=1.24.1, but you have numpy 1.23.5 which is incompatible.\n",
            "albumentations 2.0.6 requires numpy>=1.24.4, but you have numpy 1.23.5 which is incompatible.\n",
            "blosc2 3.3.2 requires numpy>=1.26, but you have numpy 1.23.5 which is incompatible.\n",
            "imbalanced-learn 0.13.0 requires numpy<3,>=1.24.3, but you have numpy 1.23.5 which is incompatible.\n",
            "scikit-image 0.25.2 requires numpy>=1.24, but you have numpy 1.23.5 which is incompatible.\n",
            "bigframes 2.4.0 requires numpy>=1.24.0, but you have numpy 1.23.5 which is incompatible.\n",
            "ydf 0.11.0 requires protobuf<6.0.0,>=5.29.1, but you have protobuf 4.25.7 which is incompatible.\n",
            "albucore 0.0.24 requires numpy>=1.24.4, but you have numpy 1.23.5 which is incompatible.\n",
            "tf-keras 2.18.0 requires tensorflow<2.19,>=2.18, but you have tensorflow 2.12.0 which is incompatible.\n",
            "xarray 2025.3.1 requires numpy>=1.24, but you have numpy 1.23.5 which is incompatible.\n",
            "grpcio-status 1.71.0 requires protobuf<6.0dev,>=5.26.1, but you have protobuf 4.25.7 which is incompatible.\u001b[0m\u001b[31m\n",
            "\u001b[0mSuccessfully installed gast-0.4.0 google-auth-oauthlib-1.0.0 jax-0.4.30 jaxlib-0.4.30 keras-2.12.0 numpy-1.23.5 protobuf-4.25.7 tensorboard-2.12.3 tensorflow-2.12.0 tensorflow-estimator-2.12.0 wrapt-1.14.1\n"
          ]
        },
        {
          "data": {
            "application/vnd.colab-display-data+json": {
              "id": "f4b6546fc2194c34a205d92d574be568",
              "pip_warning": {
                "packages": [
                  "numpy"
                ]
              }
            }
          },
          "metadata": {},
          "output_type": "display_data"
        }
      ],
      "source": [
        "!pip install tensorflow==2.12.0"
      ]
    },
    {
      "cell_type": "code",
      "execution_count": null,
      "id": "q4IWuvxKj-zw",
      "metadata": {
        "colab": {
          "base_uri": "https://localhost:8080/"
        },
        "id": "q4IWuvxKj-zw",
        "outputId": "36bef10a-58e9-430e-a4b1-3874880eb735"
      },
      "outputs": [
        {
          "name": "stdout",
          "output_type": "stream",
          "text": [
            "Looking in indexes: https://download.pytorch.org/whl/cu118\n",
            "Requirement already satisfied: torch in /usr/local/lib/python3.11/dist-packages (2.6.0+cu124)\n",
            "Requirement already satisfied: torchvision in /usr/local/lib/python3.11/dist-packages (0.21.0+cu124)\n",
            "Requirement already satisfied: torchaudio in /usr/local/lib/python3.11/dist-packages (2.6.0+cu124)\n",
            "Requirement already satisfied: filelock in /usr/local/lib/python3.11/dist-packages (from torch) (3.18.0)\n",
            "Requirement already satisfied: typing-extensions>=4.10.0 in /usr/local/lib/python3.11/dist-packages (from torch) (4.13.2)\n",
            "Requirement already satisfied: networkx in /usr/local/lib/python3.11/dist-packages (from torch) (3.4.2)\n",
            "Requirement already satisfied: jinja2 in /usr/local/lib/python3.11/dist-packages (from torch) (3.1.6)\n",
            "Requirement already satisfied: fsspec in /usr/local/lib/python3.11/dist-packages (from torch) (2025.3.2)\n",
            "INFO: pip is looking at multiple versions of torch to determine which version is compatible with other requirements. This could take a while.\n",
            "Collecting torch\n",
            "  Downloading https://download.pytorch.org/whl/cu118/torch-2.7.0%2Bcu118-cp311-cp311-manylinux_2_28_x86_64.whl.metadata (28 kB)\n",
            "Collecting sympy>=1.13.3 (from torch)\n",
            "  Downloading https://download.pytorch.org/whl/sympy-1.13.3-py3-none-any.whl.metadata (12 kB)\n",
            "Collecting nvidia-cuda-nvrtc-cu11==11.8.89 (from torch)\n",
            "  Downloading https://download.pytorch.org/whl/cu118/nvidia_cuda_nvrtc_cu11-11.8.89-py3-none-manylinux1_x86_64.whl (23.2 MB)\n",
            "\u001b[2K     \u001b[90m━━━━━━━━━━━━━━━━━━━━━━━━━━━━━━━━━━━━━━━━\u001b[0m \u001b[32m23.2/23.2 MB\u001b[0m \u001b[31m89.2 MB/s\u001b[0m eta \u001b[36m0:00:00\u001b[0m\n",
            "\u001b[?25hCollecting nvidia-cuda-runtime-cu11==11.8.89 (from torch)\n",
            "  Downloading https://download.pytorch.org/whl/cu118/nvidia_cuda_runtime_cu11-11.8.89-py3-none-manylinux1_x86_64.whl (875 kB)\n",
            "\u001b[2K     \u001b[90m━━━━━━━━━━━━━━━━━━━━━━━━━━━━━━━━━━━━━━\u001b[0m \u001b[32m875.6/875.6 kB\u001b[0m \u001b[31m57.4 MB/s\u001b[0m eta \u001b[36m0:00:00\u001b[0m\n",
            "\u001b[?25hCollecting nvidia-cuda-cupti-cu11==11.8.87 (from torch)\n",
            "  Downloading https://download.pytorch.org/whl/cu118/nvidia_cuda_cupti_cu11-11.8.87-py3-none-manylinux1_x86_64.whl (13.1 MB)\n",
            "\u001b[2K     \u001b[90m━━━━━━━━━━━━━━━━━━━━━━━━━━━━━━━━━━━━━━━\u001b[0m \u001b[32m13.1/13.1 MB\u001b[0m \u001b[31m112.3 MB/s\u001b[0m eta \u001b[36m0:00:00\u001b[0m\n",
            "\u001b[?25hCollecting nvidia-cudnn-cu11==9.1.0.70 (from torch)\n",
            "  Downloading https://download.pytorch.org/whl/cu118/nvidia_cudnn_cu11-9.1.0.70-py3-none-manylinux2014_x86_64.whl (663.9 MB)\n",
            "\u001b[2K     \u001b[90m━━━━━━━━━━━━━━━━━━━━━━━━━━━━━━━━━━━━━━━\u001b[0m \u001b[32m663.9/663.9 MB\u001b[0m \u001b[31m2.2 MB/s\u001b[0m eta \u001b[36m0:00:00\u001b[0m\n",
            "\u001b[?25hCollecting nvidia-cublas-cu11==11.11.3.6 (from torch)\n",
            "  Downloading https://download.pytorch.org/whl/cu118/nvidia_cublas_cu11-11.11.3.6-py3-none-manylinux1_x86_64.whl (417.9 MB)\n",
            "\u001b[2K     \u001b[90m━━━━━━━━━━━━━━━━━━━━━━━━━━━━━━━━━━━━━━━\u001b[0m \u001b[32m417.9/417.9 MB\u001b[0m \u001b[31m3.2 MB/s\u001b[0m eta \u001b[36m0:00:00\u001b[0m\n",
            "\u001b[?25hCollecting nvidia-cufft-cu11==10.9.0.58 (from torch)\n",
            "  Downloading https://download.pytorch.org/whl/cu118/nvidia_cufft_cu11-10.9.0.58-py3-none-manylinux1_x86_64.whl (168.4 MB)\n",
            "\u001b[2K     \u001b[90m━━━━━━━━━━━━━━━━━━━━━━━━━━━━━━━━━━━━━━━\u001b[0m \u001b[32m168.4/168.4 MB\u001b[0m \u001b[31m9.3 MB/s\u001b[0m eta \u001b[36m0:00:00\u001b[0m\n",
            "\u001b[?25hCollecting nvidia-curand-cu11==10.3.0.86 (from torch)\n",
            "  Downloading https://download.pytorch.org/whl/cu118/nvidia_curand_cu11-10.3.0.86-py3-none-manylinux1_x86_64.whl (58.1 MB)\n",
            "\u001b[2K     \u001b[90m━━━━━━━━━━━━━━━━━━━━━━━━━━━━━━━━━━━━━━━━\u001b[0m \u001b[32m58.1/58.1 MB\u001b[0m \u001b[31m42.0 MB/s\u001b[0m eta \u001b[36m0:00:00\u001b[0m\n",
            "\u001b[?25hCollecting nvidia-cusolver-cu11==11.4.1.48 (from torch)\n",
            "  Downloading https://download.pytorch.org/whl/cu118/nvidia_cusolver_cu11-11.4.1.48-py3-none-manylinux1_x86_64.whl (128.2 MB)\n",
            "\u001b[2K     \u001b[90m━━━━━━━━━━━━━━━━━━━━━━━━━━━━━━━━━━━━━━━\u001b[0m \u001b[32m128.2/128.2 MB\u001b[0m \u001b[31m5.4 MB/s\u001b[0m eta \u001b[36m0:00:00\u001b[0m\n",
            "\u001b[?25hCollecting nvidia-cusparse-cu11==11.7.5.86 (from torch)\n",
            "  Downloading https://download.pytorch.org/whl/cu118/nvidia_cusparse_cu11-11.7.5.86-py3-none-manylinux1_x86_64.whl (204.1 MB)\n",
            "\u001b[2K     \u001b[90m━━━━━━━━━━━━━━━━━━━━━━━━━━━━━━━━━━━━━━━\u001b[0m \u001b[32m204.1/204.1 MB\u001b[0m \u001b[31m5.2 MB/s\u001b[0m eta \u001b[36m0:00:00\u001b[0m\n",
            "\u001b[?25hCollecting nvidia-nccl-cu11==2.21.5 (from torch)\n",
            "  Downloading https://download.pytorch.org/whl/cu118/nvidia_nccl_cu11-2.21.5-py3-none-manylinux2014_x86_64.whl (147.8 MB)\n",
            "\u001b[2K     \u001b[90m━━━━━━━━━━━━━━━━━━━━━━━━━━━━━━━━━━━━━━\u001b[0m \u001b[32m147.8/147.8 MB\u001b[0m \u001b[31m16.2 MB/s\u001b[0m eta \u001b[36m0:00:00\u001b[0m\n",
            "\u001b[?25hCollecting nvidia-nvtx-cu11==11.8.86 (from torch)\n",
            "  Downloading https://download.pytorch.org/whl/cu118/nvidia_nvtx_cu11-11.8.86-py3-none-manylinux1_x86_64.whl (99 kB)\n",
            "\u001b[2K     \u001b[90m━━━━━━━━━━━━━━━━━━━━━━━━━━━━━━━━━━━━━━━━\u001b[0m \u001b[32m99.1/99.1 kB\u001b[0m \u001b[31m10.8 MB/s\u001b[0m eta \u001b[36m0:00:00\u001b[0m\n",
            "\u001b[?25hCollecting triton==3.3.0 (from torch)\n",
            "  Downloading https://download.pytorch.org/whl/triton-3.3.0-cp311-cp311-manylinux_2_27_x86_64.manylinux_2_28_x86_64.whl.metadata (1.5 kB)\n",
            "Requirement already satisfied: setuptools>=40.8.0 in /usr/local/lib/python3.11/dist-packages (from triton==3.3.0->torch) (75.2.0)\n",
            "Requirement already satisfied: numpy in /usr/local/lib/python3.11/dist-packages (from torchvision) (1.23.5)\n",
            "Requirement already satisfied: pillow!=8.3.*,>=5.3.0 in /usr/local/lib/python3.11/dist-packages (from torchvision) (11.2.1)\n",
            "Collecting torch\n",
            "  Downloading https://download.pytorch.org/whl/cu118/torch-2.6.0%2Bcu118-cp311-cp311-linux_x86_64.whl.metadata (27 kB)\n",
            "Requirement already satisfied: triton==3.2.0 in /usr/local/lib/python3.11/dist-packages (from torch) (3.2.0)\n",
            "Requirement already satisfied: sympy==1.13.1 in /usr/local/lib/python3.11/dist-packages (from torch) (1.13.1)\n",
            "Requirement already satisfied: mpmath<1.4,>=1.1.0 in /usr/local/lib/python3.11/dist-packages (from sympy==1.13.1->torch) (1.3.0)\n",
            "Requirement already satisfied: MarkupSafe>=2.0 in /usr/local/lib/python3.11/dist-packages (from jinja2->torch) (3.0.2)\n",
            "Downloading https://download.pytorch.org/whl/cu118/torch-2.6.0%2Bcu118-cp311-cp311-linux_x86_64.whl (848.7 MB)\n",
            "\u001b[2K   \u001b[90m━━━━━━━━━━━━━━━━━━━━━━━━━━━━━━━━━━━━━━━━\u001b[0m \u001b[32m848.7/848.7 MB\u001b[0m \u001b[31m2.1 MB/s\u001b[0m eta \u001b[36m0:00:00\u001b[0m\n",
            "\u001b[?25hInstalling collected packages: nvidia-nvtx-cu11, nvidia-nccl-cu11, nvidia-cusparse-cu11, nvidia-curand-cu11, nvidia-cufft-cu11, nvidia-cuda-runtime-cu11, nvidia-cuda-nvrtc-cu11, nvidia-cuda-cupti-cu11, nvidia-cublas-cu11, nvidia-cusolver-cu11, nvidia-cudnn-cu11, torch\n",
            "  Attempting uninstall: torch\n",
            "    Found existing installation: torch 2.6.0+cu124\n",
            "    Uninstalling torch-2.6.0+cu124:\n",
            "      Successfully uninstalled torch-2.6.0+cu124\n",
            "Successfully installed nvidia-cublas-cu11-11.11.3.6 nvidia-cuda-cupti-cu11-11.8.87 nvidia-cuda-nvrtc-cu11-11.8.89 nvidia-cuda-runtime-cu11-11.8.89 nvidia-cudnn-cu11-9.1.0.70 nvidia-cufft-cu11-10.9.0.58 nvidia-curand-cu11-10.3.0.86 nvidia-cusolver-cu11-11.4.1.48 nvidia-cusparse-cu11-11.7.5.86 nvidia-nccl-cu11-2.21.5 nvidia-nvtx-cu11-11.8.86 torch-2.6.0+cu118\n"
          ]
        }
      ],
      "source": [
        "!pip3 install torch torchvision torchaudio --index-url https://download.pytorch.org/whl/cu118"
      ]
    },
    {
      "cell_type": "code",
      "execution_count": null,
      "id": "b2GQBHIX0KKW",
      "metadata": {
        "colab": {
          "base_uri": "https://localhost:8080/"
        },
        "id": "b2GQBHIX0KKW",
        "outputId": "ed8bf87f-569c-4327-f342-00b90429e4bc"
      },
      "outputs": [
        {
          "name": "stdout",
          "output_type": "stream",
          "text": [
            "Collecting scikit-surprise\n",
            "  Downloading scikit_surprise-1.1.4.tar.gz (154 kB)\n",
            "\u001b[?25l     \u001b[90m━━━━━━━━━━━━━━━━━━━━━━━━━━━━━━━━━━━━━━━━\u001b[0m \u001b[32m0.0/154.4 kB\u001b[0m \u001b[31m?\u001b[0m eta \u001b[36m-:--:--\u001b[0m\r\u001b[2K     \u001b[91m━━━━━━━━━━━━━━━━━━━━━━━━━━━━━━━━━━━━━━\u001b[0m\u001b[91m╸\u001b[0m \u001b[32m153.6/154.4 kB\u001b[0m \u001b[31m4.3 MB/s\u001b[0m eta \u001b[36m0:00:01\u001b[0m\r\u001b[2K     \u001b[90m━━━━━━━━━━━━━━━━━━━━━━━━━━━━━━━━━━━━━━━\u001b[0m \u001b[32m154.4/154.4 kB\u001b[0m \u001b[31m3.4 MB/s\u001b[0m eta \u001b[36m0:00:00\u001b[0m\n",
            "\u001b[?25h  Installing build dependencies ... \u001b[?25l\u001b[?25hdone\n",
            "  Getting requirements to build wheel ... \u001b[?25l\u001b[?25hdone\n",
            "  Preparing metadata (pyproject.toml) ... \u001b[?25l\u001b[?25hdone\n",
            "Collecting implicit\n",
            "  Downloading implicit-0.7.2-cp311-cp311-manylinux2014_x86_64.whl.metadata (6.1 kB)\n",
            "Collecting LibRecommender\n",
            "  Downloading LibRecommender-1.5.1-cp311-cp311-manylinux_2_17_x86_64.manylinux2014_x86_64.whl.metadata (30 kB)\n",
            "Requirement already satisfied: scikit-learn in /usr/local/lib/python3.11/dist-packages (1.6.1)\n",
            "Requirement already satisfied: joblib>=1.2.0 in /usr/local/lib/python3.11/dist-packages (from scikit-surprise) (1.5.0)\n",
            "Requirement already satisfied: numpy>=1.19.5 in /usr/local/lib/python3.11/dist-packages (from scikit-surprise) (1.23.5)\n",
            "Requirement already satisfied: scipy>=1.6.0 in /usr/local/lib/python3.11/dist-packages (from scikit-surprise) (1.15.3)\n",
            "Requirement already satisfied: tqdm>=4.27 in /usr/local/lib/python3.11/dist-packages (from implicit) (4.67.1)\n",
            "Requirement already satisfied: threadpoolctl in /usr/local/lib/python3.11/dist-packages (from implicit) (3.6.0)\n",
            "Collecting gensim>=4.0.0 (from LibRecommender)\n",
            "  Downloading gensim-4.3.3-cp311-cp311-manylinux_2_17_x86_64.manylinux2014_x86_64.whl.metadata (8.1 kB)\n",
            "Collecting scipy>=1.6.0 (from scikit-surprise)\n",
            "  Downloading scipy-1.13.1-cp311-cp311-manylinux_2_17_x86_64.manylinux2014_x86_64.whl.metadata (60 kB)\n",
            "\u001b[2K     \u001b[90m━━━━━━━━━━━━━━━━━━━━━━━━━━━━━━━━━━━━━━━━\u001b[0m \u001b[32m60.6/60.6 kB\u001b[0m \u001b[31m6.9 MB/s\u001b[0m eta \u001b[36m0:00:00\u001b[0m\n",
            "\u001b[?25hRequirement already satisfied: smart-open>=1.8.1 in /usr/local/lib/python3.11/dist-packages (from gensim>=4.0.0->LibRecommender) (7.1.0)\n",
            "Requirement already satisfied: wrapt in /usr/local/lib/python3.11/dist-packages (from smart-open>=1.8.1->gensim>=4.0.0->LibRecommender) (1.14.1)\n",
            "Downloading implicit-0.7.2-cp311-cp311-manylinux2014_x86_64.whl (8.9 MB)\n",
            "\u001b[2K   \u001b[90m━━━━━━━━━━━━━━━━━━━━━━━━━━━━━━━━━━━━━━━━\u001b[0m \u001b[32m8.9/8.9 MB\u001b[0m \u001b[31m87.8 MB/s\u001b[0m eta \u001b[36m0:00:00\u001b[0m\n",
            "\u001b[?25hDownloading LibRecommender-1.5.1-cp311-cp311-manylinux_2_17_x86_64.manylinux2014_x86_64.whl (2.2 MB)\n",
            "\u001b[2K   \u001b[90m━━━━━━━━━━━━━━━━━━━━━━━━━━━━━━━━━━━━━━━━\u001b[0m \u001b[32m2.2/2.2 MB\u001b[0m \u001b[31m93.3 MB/s\u001b[0m eta \u001b[36m0:00:00\u001b[0m\n",
            "\u001b[?25hDownloading gensim-4.3.3-cp311-cp311-manylinux_2_17_x86_64.manylinux2014_x86_64.whl (26.7 MB)\n",
            "\u001b[2K   \u001b[90m━━━━━━━━━━━━━━━━━━━━━━━━━━━━━━━━━━━━━━━━\u001b[0m \u001b[32m26.7/26.7 MB\u001b[0m \u001b[31m89.4 MB/s\u001b[0m eta \u001b[36m0:00:00\u001b[0m\n",
            "\u001b[?25hDownloading scipy-1.13.1-cp311-cp311-manylinux_2_17_x86_64.manylinux2014_x86_64.whl (38.6 MB)\n",
            "\u001b[2K   \u001b[90m━━━━━━━━━━━━━━━━━━━━━━━━━━━━━━━━━━━━━━━━\u001b[0m \u001b[32m38.6/38.6 MB\u001b[0m \u001b[31m49.0 MB/s\u001b[0m eta \u001b[36m0:00:00\u001b[0m\n",
            "\u001b[?25hBuilding wheels for collected packages: scikit-surprise\n",
            "  Building wheel for scikit-surprise (pyproject.toml) ... \u001b[?25l\u001b[?25hdone\n",
            "  Created wheel for scikit-surprise: filename=scikit_surprise-1.1.4-cp311-cp311-linux_x86_64.whl size=2463312 sha256=020a553167aaa626eff9a2521a152e565126e140deac3bcf124d8e77be5d25a4\n",
            "  Stored in directory: /root/.cache/pip/wheels/2a/8f/6e/7e2899163e2d85d8266daab4aa1cdabec7a6c56f83c015b5af\n",
            "Successfully built scikit-surprise\n",
            "Installing collected packages: scipy, scikit-surprise, implicit, gensim, LibRecommender\n",
            "  Attempting uninstall: scipy\n",
            "    Found existing installation: scipy 1.15.3\n",
            "    Uninstalling scipy-1.15.3:\n",
            "      Successfully uninstalled scipy-1.15.3\n",
            "\u001b[31mERROR: pip's dependency resolver does not currently take into account all the packages that are installed. This behaviour is the source of the following dependency conflicts.\n",
            "orbax-checkpoint 0.11.13 requires jax>=0.5.0, but you have jax 0.4.30 which is incompatible.\n",
            "tsfresh 0.21.0 requires scipy>=1.14.0; python_version >= \"3.10\", but you have scipy 1.13.1 which is incompatible.\n",
            "tensorflow-decision-forests 1.11.0 requires tensorflow==2.18.0, but you have tensorflow 2.12.0 which is incompatible.\n",
            "pymc 5.22.0 requires numpy>=1.25.0, but you have numpy 1.23.5 which is incompatible.\n",
            "flax 0.10.6 requires jax>=0.5.1, but you have jax 0.4.30 which is incompatible.\n",
            "tensorflow-text 2.18.1 requires tensorflow<2.19,>=2.18.0, but you have tensorflow 2.12.0 which is incompatible.\n",
            "chex 0.1.89 requires numpy>=1.24.1, but you have numpy 1.23.5 which is incompatible.\n",
            "albumentations 2.0.6 requires numpy>=1.24.4, but you have numpy 1.23.5 which is incompatible.\n",
            "imbalanced-learn 0.13.0 requires numpy<3,>=1.24.3, but you have numpy 1.23.5 which is incompatible.\n",
            "scikit-image 0.25.2 requires numpy>=1.24, but you have numpy 1.23.5 which is incompatible.\n",
            "tf-keras 2.18.0 requires tensorflow<2.19,>=2.18, but you have tensorflow 2.12.0 which is incompatible.\u001b[0m\u001b[31m\n",
            "\u001b[0mSuccessfully installed LibRecommender-1.5.1 gensim-4.3.3 implicit-0.7.2 scikit-surprise-1.1.4 scipy-1.13.1\n"
          ]
        }
      ],
      "source": [
        "!pip install -U scikit-surprise implicit LibRecommender scikit-learn"
      ]
    },
    {
      "cell_type": "code",
      "execution_count": null,
      "id": "2ualBV7we-z0",
      "metadata": {
        "colab": {
          "base_uri": "https://localhost:8080/"
        },
        "id": "2ualBV7we-z0",
        "outputId": "e4207e83-1ecf-469d-ae51-a5b63057637e"
      },
      "outputs": [
        {
          "name": "stdout",
          "output_type": "stream",
          "text": [
            "Requirement already satisfied: scipy in /usr/local/lib/python3.11/dist-packages (1.13.1)\n",
            "Collecting scipy\n",
            "  Downloading scipy-1.15.3-cp311-cp311-manylinux_2_17_x86_64.manylinux2014_x86_64.whl.metadata (61 kB)\n",
            "\u001b[2K     \u001b[90m━━━━━━━━━━━━━━━━━━━━━━━━━━━━━━━━━━━━━━━━\u001b[0m \u001b[32m62.0/62.0 kB\u001b[0m \u001b[31m1.8 MB/s\u001b[0m eta \u001b[36m0:00:00\u001b[0m\n",
            "\u001b[?25hRequirement already satisfied: numpy<2.5,>=1.23.5 in /usr/local/lib/python3.11/dist-packages (from scipy) (1.23.5)\n",
            "Downloading scipy-1.15.3-cp311-cp311-manylinux_2_17_x86_64.manylinux2014_x86_64.whl (37.7 MB)\n",
            "\u001b[2K   \u001b[90m━━━━━━━━━━━━━━━━━━━━━━━━━━━━━━━━━━━━━━━━\u001b[0m \u001b[32m37.7/37.7 MB\u001b[0m \u001b[31m64.4 MB/s\u001b[0m eta \u001b[36m0:00:00\u001b[0m\n",
            "\u001b[?25hInstalling collected packages: scipy\n",
            "  Attempting uninstall: scipy\n",
            "    Found existing installation: scipy 1.13.1\n",
            "    Uninstalling scipy-1.13.1:\n",
            "      Successfully uninstalled scipy-1.13.1\n",
            "\u001b[31mERROR: pip's dependency resolver does not currently take into account all the packages that are installed. This behaviour is the source of the following dependency conflicts.\n",
            "gensim 4.3.3 requires scipy<1.14.0,>=1.7.0, but you have scipy 1.15.3 which is incompatible.\n",
            "orbax-checkpoint 0.11.13 requires jax>=0.5.0, but you have jax 0.4.30 which is incompatible.\n",
            "tensorflow-decision-forests 1.11.0 requires tensorflow==2.18.0, but you have tensorflow 2.12.0 which is incompatible.\n",
            "pymc 5.22.0 requires numpy>=1.25.0, but you have numpy 1.23.5 which is incompatible.\n",
            "flax 0.10.6 requires jax>=0.5.1, but you have jax 0.4.30 which is incompatible.\n",
            "tensorflow-text 2.18.1 requires tensorflow<2.19,>=2.18.0, but you have tensorflow 2.12.0 which is incompatible.\n",
            "chex 0.1.89 requires numpy>=1.24.1, but you have numpy 1.23.5 which is incompatible.\n",
            "albumentations 2.0.6 requires numpy>=1.24.4, but you have numpy 1.23.5 which is incompatible.\n",
            "imbalanced-learn 0.13.0 requires numpy<3,>=1.24.3, but you have numpy 1.23.5 which is incompatible.\n",
            "scikit-image 0.25.2 requires numpy>=1.24, but you have numpy 1.23.5 which is incompatible.\n",
            "tf-keras 2.18.0 requires tensorflow<2.19,>=2.18, but you have tensorflow 2.12.0 which is incompatible.\u001b[0m\u001b[31m\n",
            "\u001b[0mSuccessfully installed scipy-1.15.3\n"
          ]
        }
      ],
      "source": [
        "!pip install -U scipy"
      ]
    },
    {
      "cell_type": "markdown",
      "id": "lEFWp9wafFgp",
      "metadata": {
        "id": "lEFWp9wafFgp"
      },
      "source": [
        "Restart Session before continuing"
      ]
    },
    {
      "cell_type": "markdown",
      "id": "_GH44ViyfKLZ",
      "metadata": {
        "id": "_GH44ViyfKLZ"
      },
      "source": [
        "# Import Libraries"
      ]
    },
    {
      "cell_type": "code",
      "execution_count": null,
      "id": "6c1783d8-6da4-49b1-93ee-1f1b250b9328",
      "metadata": {
        "colab": {
          "base_uri": "https://localhost:8080/"
        },
        "id": "6c1783d8-6da4-49b1-93ee-1f1b250b9328",
        "outputId": "040336b4-5fe5-488a-ece5-f7aa7dff0b8c"
      },
      "outputs": [
        {
          "name": "stderr",
          "output_type": "stream",
          "text": [
            "WARNING:tensorflow:From /usr/local/lib/python3.11/dist-packages/tensorflow/python/compat/v2_compat.py:107: disable_resource_variables (from tensorflow.python.ops.variable_scope) is deprecated and will be removed in a future version.\n",
            "Instructions for updating:\n",
            "non-resource variables are not supported in the long term\n"
          ]
        }
      ],
      "source": [
        "import pandas as pd\n",
        "import numpy as np\n",
        "from sklearn.model_selection import KFold\n",
        "from sklearn.metrics import mean_squared_error\n",
        "from sklearn.decomposition import TruncatedSVD\n",
        "\n",
        "import implicit\n",
        "from surprise import Dataset, Reader, SVD, SVDpp\n",
        "from surprise.model_selection import cross_validate as surprise_cv\n",
        "\n",
        "import tensorflow as tf\n",
        "from tensorflow.keras import layers, Model\n",
        "\n",
        "from libreco.algorithms import FM,DeepFM,UserCF,WaveNet,Transformer\n",
        "from libreco.algorithms import SVD as libSVD, SVDpp as libSVDpp, ALS as libALS, NCF as libNCF\n",
        "from libreco.data import DatasetPure, random_split\n",
        "from libreco.evaluation import evaluate as lib_eval"
      ]
    },
    {
      "cell_type": "code",
      "execution_count": null,
      "id": "YF0dkfYhd8JY",
      "metadata": {
        "colab": {
          "base_uri": "https://localhost:8080/"
        },
        "id": "YF0dkfYhd8JY",
        "outputId": "47b09092-4c84-4430-cf0b-b11bdfcebdef"
      },
      "outputs": [
        {
          "name": "stdout",
          "output_type": "stream",
          "text": [
            "TF version: 2.12.0\n",
            "Build info: OrderedDict([('cpu_compiler', '/dt9/usr/bin/gcc'), ('cuda_compute_capabilities', ['sm_35', 'sm_50', 'sm_60', 'sm_70', 'sm_75', 'compute_80']), ('cuda_version', '11.8'), ('cudnn_version', '8'), ('is_cuda_build', True), ('is_rocm_build', False), ('is_tensorrt_build', True)])\n",
            "Built with CUDA support: True\n",
            "Physical GPUs: [PhysicalDevice(name='/physical_device:GPU:0', device_type='GPU')]\n",
            "[name: \"/device:CPU:0\"\n",
            "device_type: \"CPU\"\n",
            "memory_limit: 268435456\n",
            "locality {\n",
            "}\n",
            "incarnation: 11354779885291988854\n",
            "xla_global_id: -1\n",
            ", name: \"/device:GPU:0\"\n",
            "device_type: \"GPU\"\n",
            "memory_limit: 14619377664\n",
            "locality {\n",
            "  bus_id: 1\n",
            "  links {\n",
            "  }\n",
            "}\n",
            "incarnation: 6709056934058715250\n",
            "physical_device_desc: \"device: 0, name: Tesla T4, pci bus id: 0000:00:04.0, compute capability: 7.5\"\n",
            "xla_global_id: 416903419\n",
            "]\n"
          ]
        }
      ],
      "source": [
        "from tensorflow.python.client import device_lib\n",
        "print(\"TF version:\", tf.version.VERSION)\n",
        "build_info = tf.sysconfig.get_build_info()\n",
        "print(\"Build info:\", build_info)\n",
        "print(\"Built with CUDA support:\", tf.test.is_built_with_cuda())\n",
        "print(\"Physical GPUs:\", tf.config.list_physical_devices(\"GPU\"))\n",
        "print(device_lib.list_local_devices())\n",
        "tf.config.set_soft_device_placement(True)\n",
        "tf.debugging.set_log_device_placement(True)"
      ]
    },
    {
      "cell_type": "code",
      "execution_count": null,
      "id": "kqn2mETKg8Pf",
      "metadata": {
        "colab": {
          "base_uri": "https://localhost:8080/"
        },
        "id": "kqn2mETKg8Pf",
        "outputId": "536443f1-6017-424d-c66c-d41850186ee0"
      },
      "outputs": [
        {
          "name": "stdout",
          "output_type": "stream",
          "text": [
            "Mounted at /content/gdrive\n"
          ]
        }
      ],
      "source": [
        "from google.colab import drive\n",
        "drive.mount('/content/gdrive')"
      ]
    },
    {
      "cell_type": "markdown",
      "id": "lOcUssltfNwC",
      "metadata": {
        "id": "lOcUssltfNwC"
      },
      "source": [
        "# Retrieve Dataset"
      ]
    },
    {
      "cell_type": "code",
      "execution_count": null,
      "id": "BTg8Ehej3SQx",
      "metadata": {
        "colab": {
          "base_uri": "https://localhost:8080/"
        },
        "id": "BTg8Ehej3SQx",
        "outputId": "91fde10d-7257-44af-8daf-175e4e7d0ca7"
      },
      "outputs": [
        {
          "name": "stdout",
          "output_type": "stream",
          "text": [
            "Cloning into 'cil'...\n",
            "remote: Enumerating objects: 10, done.\u001b[K\n",
            "remote: Counting objects: 100% (10/10), done.\u001b[K\n",
            "remote: Compressing objects: 100% (10/10), done.\u001b[K\n",
            "remote: Total 10 (delta 2), reused 0 (delta 0), pack-reused 0 (from 0)\u001b[K\n",
            "Receiving objects: 100% (10/10), 6.45 MiB | 7.16 MiB/s, done.\n",
            "Resolving deltas: 100% (2/2), done.\n",
            "/content/cil\n",
            "From https://github.com/ldiony01/cil\n",
            " * branch            HEAD       -> FETCH_HEAD\n",
            "Already up to date.\n",
            "/content\n"
          ]
        }
      ],
      "source": [
        "import sys\n",
        "\n",
        "![ ! -d 'cil' ] && git clone https://github.com/ldiony01/cil.git\n",
        "%cd cil\n",
        "!git pull https://github.com/ldiony01/cil.git\n",
        "%cd ..\n",
        "if \"cil\" not in sys.path:\n",
        "  sys.path.append(\"cil\")"
      ]
    },
    {
      "cell_type": "markdown",
      "id": "0ZDEp5IxfVr2",
      "metadata": {
        "id": "0ZDEp5IxfVr2"
      },
      "source": [
        "# Helper functions"
      ]
    },
    {
      "cell_type": "code",
      "execution_count": null,
      "id": "8b924bed-8a53-47f1-befb-2a4b97ac5823",
      "metadata": {
        "id": "8b924bed-8a53-47f1-befb-2a4b97ac5823"
      },
      "outputs": [],
      "source": [
        "def load_data(path_train_tbr, path_train_ratings, path_submission=None):\n",
        "    tbr = pd.read_csv(path_train_tbr)\n",
        "    ratings = pd.read_csv(path_train_ratings)\n",
        "    if 'sid_pid' in ratings.columns:\n",
        "        ratings[['sid','pid']] = (\n",
        "            ratings['sid_pid'].str.split('_', expand=True)\n",
        "            .astype(int)\n",
        "        )\n",
        "        ratings = ratings[['sid','pid','rating']]\n",
        "    submission = pd.read_csv(path_submission) if path_submission else None\n",
        "    return tbr, ratings, submission"
      ]
    },
    {
      "cell_type": "code",
      "execution_count": null,
      "id": "a49f4574-7125-41fe-8ba8-158c46472260",
      "metadata": {
        "id": "a49f4574-7125-41fe-8ba8-158c46472260"
      },
      "outputs": [],
      "source": [
        "def integrate_wishlist(ratings, tbr, typ='row'):\n",
        "    row_means = ratings.groupby('sid')['rating'].mean()\n",
        "    column_means = ratings.groupby('pid')['rating'].mean()\n",
        "    global_mean = ratings['rating'].mean()\n",
        "    tbr_unique = tbr.loc[\n",
        "        ~tbr.set_index(['sid','pid']).index.isin(\n",
        "            ratings.set_index(['sid','pid']).index\n",
        "        )\n",
        "    ].copy()\n",
        "    if typ == 'row':\n",
        "      tbr_unique['rating'] = tbr_unique['sid'].map(row_means).fillna(global_mean)\n",
        "    elif typ == 'column':\n",
        "      tbr_unique['rating'] = tbr_unique['pid'].map(column_means).fillna(global_mean)\n",
        "    elif typ == 'global':\n",
        "      tbr_unique['rating'] = global_mean\n",
        "    elif typ == 'const':\n",
        "      tbr_unique['rating'] = 3.0\n",
        "    return pd.concat([ratings, tbr_unique[['sid','pid','rating']]], ignore_index=True)"
      ]
    },
    {
      "cell_type": "code",
      "execution_count": null,
      "id": "hSPJiOnVxXNs",
      "metadata": {
        "colab": {
          "base_uri": "https://localhost:8080/"
        },
        "id": "hSPJiOnVxXNs",
        "outputId": "1d3a13f6-2c9f-4de7-f29b-75d4044563c3"
      },
      "outputs": [
        {
          "data": {
            "text/plain": [
              "8"
            ]
          },
          "execution_count": 7,
          "metadata": {},
          "output_type": "execute_result"
        }
      ],
      "source": [
        "import os\n",
        "os.cpu_count()"
      ]
    },
    {
      "cell_type": "code",
      "execution_count": null,
      "id": "ba20ef3f-a4ee-4040-a1bc-3a0ecba6401c",
      "metadata": {
        "id": "ba20ef3f-a4ee-4040-a1bc-3a0ecba6401c"
      },
      "outputs": [],
      "source": [
        "def rmse(y_true, y_pred):\n",
        "    return np.sqrt(mean_squared_error(y_true, y_pred))\n",
        "\n",
        "def cross_val_explicit(ratings, train_func, predict_func, n_splits=5, **kwargs):\n",
        "    kf = KFold(n_splits=n_splits, shuffle=True, random_state=42)\n",
        "    rmses = []\n",
        "    for train_idx, test_idx in kf.split(ratings):\n",
        "        tr = ratings.iloc[train_idx]\n",
        "        te = ratings.iloc[test_idx]\n",
        "        model = train_func(tr, **kwargs)\n",
        "        preds = predict_func(model, te)\n",
        "        rmses.append(rmse(te['rating'], preds))\n",
        "    return np.mean(rmses), np.std(rmses)\n",
        "\n",
        "def popularity_cv(ratings, n_splits=5):\n",
        "    def train_b(tr, **kw):\n",
        "        gm = tr['rating'].mean(); pm = tr.groupby('pid')['rating'].mean()\n",
        "        return (gm, pm)\n",
        "    def pred_b(m, te):\n",
        "        gm, pm = m\n",
        "        return te['pid'].map(pm).fillna(gm).values\n",
        "    return cross_val_explicit(ratings, train_b, pred_b, n_splits)\n",
        "\n",
        "def svd_cv(ratings, n_splits=5, n_factors=100, lr=0.005, reg=0.02):\n",
        "    r = Reader(rating_scale=(ratings.rating.min(), ratings.rating.max()))\n",
        "    data = Dataset.load_from_df(ratings[['sid','pid','rating']], r)\n",
        "    algo = SVD(n_factors=n_factors, lr_all=lr, reg_all=reg)\n",
        "    res = surprise_cv(algo, data, measures=['RMSE'], cv=n_splits, verbose=True, return_train_measures=True)\n",
        "    return np.mean(res['train_rmse']), np.std(res['train_rmse']), np.mean(res['test_rmse']), np.std(res['test_rmse'])\n",
        "\n",
        "def svdpp_cv(ratings, n_splits=5, n_factors=50, lr=0.005, reg=0.02):\n",
        "    r = Reader(rating_scale=(ratings.rating.min(), ratings.rating.max()))\n",
        "    data = Dataset.load_from_df(ratings[['sid','pid','rating']], r)\n",
        "    algo = SVDpp(n_factors=n_factors, lr_all=lr, reg_all=reg)\n",
        "    res = surprise_cv(algo, data, measures=['RMSE'], cv=n_splits, verbose=True, return_train_measures=True)\n",
        "    return np.mean(res['train_rmse']), np.std(res['train_rmse']), np.mean(res['test_rmse']), np.std(res['test_rmse'])\n",
        "\n",
        "def libreco_cv(ratings, algo_name='FM', n_splits=5, **kwargs):\n",
        "    df = ratings.copy()\n",
        "    df = df.rename(columns={'sid': 'user', 'pid': 'item', 'rating':'label'})\n",
        "\n",
        "    rmses = []\n",
        "    kf = KFold(n_splits=5, shuffle=True, random_state=42)\n",
        "\n",
        "    for i, (train_idx, val_idx) in enumerate(kf.split(df), 1):\n",
        "        train_df = df.iloc[train_idx]\n",
        "        val_df = df.iloc[val_idx]\n",
        "        tf.compat.v1.reset_default_graph()\n",
        "        train_data, train_data_info = DatasetPure.build_trainset(train_df)\n",
        "        test_data = DatasetPure.build_testset(val_df)\n",
        "\n",
        "        if algo_name == 'FM':\n",
        "            model = FM('rating', train_data_info, n_epochs=10, **kwargs)\n",
        "        elif algo_name == 'DeepFM':\n",
        "            model = DeepFM('rating', train_data_info, n_epochs=10, **kwargs)\n",
        "        elif algo_name == 'WaveNet':\n",
        "            model = WaveNet('rating', train_data_info, n_epochs=10, **kwargs)\n",
        "        elif algo_name == 'Transformer':\n",
        "            model = Transformer('rating', train_data_info, n_epochs=10, **kwargs)\n",
        "        elif algo_name == 'SVD':\n",
        "            model = libSVD('rating', train_data_info, n_epochs=10, **kwargs)\n",
        "        elif algo_name == 'SVDpp':\n",
        "            model = libSVDpp('rating', train_data_info, n_epochs=10, **kwargs)\n",
        "        elif algo_name == 'ALS':\n",
        "            model = libALS('rating', train_data_info, reg=0.01, **kwargs)\n",
        "        elif algo_name == 'NCF':\n",
        "            model = libNCF('rating', train_data_info, **kwargs)\n",
        "        else:\n",
        "            raise ValueError(f\"Algo {algo_name} not supported.\")\n",
        "        model.fit(train_data, False, verbose=2, num_workers=os.cpu_count(), metrics=['rmse'] )\n",
        "        eval_result = lib_eval(model, test_data, False, metrics=['rmse'])\n",
        "        rmses.append(eval_result['rmse'])\n",
        "    return np.mean(rmses), np.std(rmses)\n",
        "\n",
        "def build_ncf(n_users, n_items, embedding_dim=32, layers_sizes=[64, 32, 16, 8], dropout=0.2):\n",
        "    user_input = layers.Input(shape=(1,))\n",
        "    item_input = layers.Input(shape=(1,))\n",
        "    u_emb = layers.Embedding(n_users, embedding_dim)(user_input)\n",
        "    i_emb = layers.Embedding(n_items, embedding_dim)(item_input)\n",
        "    u_flat = layers.Flatten()(u_emb)\n",
        "    i_flat = layers.Flatten()(i_emb)\n",
        "    x = layers.Concatenate()([u_flat, i_flat])\n",
        "    for size in layers_sizes:\n",
        "        x = layers.Dense(size, activation='relu')(x)\n",
        "        x = layers.Dropout(dropout)(x)\n",
        "    out = layers.Dense(1)(x)\n",
        "    model = Model([user_input, item_input], out)\n",
        "    model.compile(optimizer='adam', loss='mse')\n",
        "    return model\n",
        "\n",
        "\n",
        "def ncf_cv(ratings, n_splits=5, epochs=3, batch_size=256, **kwargs):\n",
        "    kf = KFold(n_splits=n_splits, shuffle=True, random_state=42)\n",
        "    rmses = []\n",
        "    all_train_losses = []\n",
        "    n_users = ratings.sid.max() + 1\n",
        "    n_items = ratings.pid.max() + 1\n",
        "    for fold, (train_idx, test_idx) in enumerate(kf.split(ratings), 1):\n",
        "        tr = ratings.iloc[train_idx]\n",
        "        te = ratings.iloc[test_idx]\n",
        "        model = build_ncf(n_users, n_items, **kwargs)\n",
        "        history = model.fit([tr.sid, tr.pid],\n",
        "                            tr.rating,\n",
        "                            epochs=epochs,\n",
        "                            batch_size=batch_size,\n",
        "                            verbose=0)\n",
        "\n",
        "        train_losses = history.history['loss']\n",
        "        all_train_losses.append(train_losses[-1])\n",
        "\n",
        "        preds = model.predict([te.sid, te.pid], verbose=0).flatten()\n",
        "        rmses.append(rmse(te.rating, preds))\n",
        "    return np.mean(all_train_losses), np.std(all_train_losses), np.mean(rmses), np.std(rmses)"
      ]
    },
    {
      "cell_type": "code",
      "execution_count": null,
      "id": "Wz5RgKixFlxP",
      "metadata": {
        "id": "Wz5RgKixFlxP"
      },
      "outputs": [],
      "source": [
        "import sys\n",
        "import io\n",
        "import re\n",
        "\n",
        "class Tee(io.StringIO):\n",
        "    def __init__(self, *streams):\n",
        "        super().__init__()\n",
        "        self.streams = streams\n",
        "\n",
        "    def write(self, data):\n",
        "        for stream in self.streams:\n",
        "            stream.write(data)\n",
        "            stream.flush()\n",
        "        super().write(data)\n",
        "\n",
        "buffer = io.StringIO()\n",
        "tee = Tee(sys.stdout, buffer)\n",
        "original_stdout = sys.stdout\n",
        "\n",
        "def clear_buffer():\n",
        "    buffer.truncate(0)\n",
        "    buffer.seek(0)\n",
        "\n",
        "def train_metrics(epochs_per_run):\n",
        "    output = buffer.getvalue()\n",
        "    losses = []\n",
        "    for line in output.splitlines():\n",
        "        match = re.search(r\"loss:\\s*([\\d\\.]+)\", line)\n",
        "        if match:\n",
        "            losses.append(float(match.group(1)))\n",
        "    last_epoch_losses = [losses[i * epochs_per_run - 1] for i in range(1, 6)]\n",
        "    return \"Train Loss:\", np.mean(last_epoch_losses), np.std(last_epoch_losses)\n",
        "\n",
        "def train_lib_model(algo, df):\n",
        "    try:\n",
        "        clear_buffer()\n",
        "        sys.stdout = tee\n",
        "        epochs = 10\n",
        "        if algo == 'NCF': epochs = 20\n",
        "        print(f\"\\nLibReco {algo}\", libreco_cv(df, algo_name=algo), train_metrics(epochs))\n",
        "    finally:\n",
        "        sys.stdout = original_stdout"
      ]
    },
    {
      "cell_type": "markdown",
      "id": "aHxZ4pbTVCeT",
      "metadata": {
        "id": "aHxZ4pbTVCeT"
      },
      "source": [
        "# Read Data"
      ]
    },
    {
      "cell_type": "code",
      "execution_count": null,
      "id": "5eb42629-400b-45c1-aaab-6a44552a7107",
      "metadata": {
        "id": "5eb42629-400b-45c1-aaab-6a44552a7107"
      },
      "outputs": [],
      "source": [
        "tbr, ratings, _ = load_data('cil/train_tbr.csv', 'cil/train_ratings.csv')\n",
        "ext = integrate_wishlist(ratings, tbr, 'row')\n",
        "column_ext = integrate_wishlist(ratings, tbr, 'column')\n",
        "global_ext = integrate_wishlist(ratings, tbr, 'global')\n",
        "const_ext = integrate_wishlist(ratings, tbr, 'const')\n",
        "sample = ext.sample(1000)"
      ]
    },
    {
      "cell_type": "markdown",
      "id": "ncU9gGXIeKMb",
      "metadata": {
        "id": "ncU9gGXIeKMb"
      },
      "source": [
        "# Cross Validation (5-fold)"
      ]
    },
    {
      "cell_type": "markdown",
      "id": "6e65db65",
      "metadata": {
        "id": "6e65db65"
      },
      "source": [
        "## Popularity (Baseline)"
      ]
    },
    {
      "cell_type": "code",
      "execution_count": null,
      "id": "244e5fbe-8765-477d-a830-a068e5ea5aad",
      "metadata": {
        "colab": {
          "base_uri": "https://localhost:8080/"
        },
        "id": "244e5fbe-8765-477d-a830-a068e5ea5aad",
        "outputId": "dc18eafe-7890-4873-9649-1263e5c4a933"
      },
      "outputs": [
        {
          "name": "stdout",
          "output_type": "stream",
          "text": [
            "Popularity: 0.872171444824539 0.0007092287936397478\n",
            "Popularity: 0.8474150684848596 0.0007843896052382067\n",
            "Popularity: 0.854283092623351 0.0006922880925669412\n",
            "Popularity: 0.9116198455213409 0.0008421294312029106\n"
          ]
        }
      ],
      "source": [
        "print(\"Popularity:\", *popularity_cv(ext))\n",
        "print(\"Popularity:\", *popularity_cv(column_ext))\n",
        "print(\"Popularity:\", *popularity_cv(global_ext))\n",
        "print(\"Popularity:\", *popularity_cv(const_ext))"
      ]
    },
    {
      "cell_type": "markdown",
      "id": "A01CMfCdEj71",
      "metadata": {
        "id": "A01CMfCdEj71"
      },
      "source": [
        "## LibReco ALS"
      ]
    },
    {
      "cell_type": "code",
      "execution_count": null,
      "id": "jTSnDjKhsbcJ",
      "metadata": {
        "colab": {
          "base_uri": "https://localhost:8080/"
        },
        "id": "jTSnDjKhsbcJ",
        "outputId": "a7c496b2-69bc-4ee5-88e1-ac9e4cc71d03"
      },
      "outputs": [
        {
          "name": "stdout",
          "output_type": "stream",
          "text": [
            "Training start time: \u001b[35m2025-05-22 20:42:25\u001b[0m\n",
            "Epoch 1 elapsed: 0.473s\n",
            "Epoch 2 elapsed: 0.479s\n",
            "Epoch 3 elapsed: 0.483s\n",
            "Epoch 4 elapsed: 0.472s\n",
            "Epoch 5 elapsed: 0.498s\n",
            "Epoch 6 elapsed: 0.474s\n",
            "Epoch 7 elapsed: 0.489s\n",
            "Epoch 8 elapsed: 0.499s\n",
            "Epoch 9 elapsed: 0.508s\n",
            "Epoch 10 elapsed: 0.503s\n"
          ]
        },
        {
          "name": "stderr",
          "output_type": "stream",
          "text": [
            "eval_pointwise: 100%|██████████| 36/36 [00:00<00:00, 406.30it/s]\n"
          ]
        },
        {
          "name": "stdout",
          "output_type": "stream",
          "text": [
            "Training start time: \u001b[35m2025-05-22 20:42:32\u001b[0m\n",
            "Epoch 1 elapsed: 0.517s\n",
            "Epoch 2 elapsed: 0.506s\n",
            "Epoch 3 elapsed: 0.504s\n",
            "Epoch 4 elapsed: 0.486s\n",
            "Epoch 5 elapsed: 0.476s\n",
            "Epoch 6 elapsed: 0.483s\n",
            "Epoch 7 elapsed: 0.499s\n",
            "Epoch 8 elapsed: 0.487s\n",
            "Epoch 9 elapsed: 0.484s\n",
            "Epoch 10 elapsed: 0.474s\n"
          ]
        },
        {
          "name": "stderr",
          "output_type": "stream",
          "text": [
            "eval_pointwise: 100%|██████████| 36/36 [00:00<00:00, 397.63it/s]\n"
          ]
        },
        {
          "name": "stdout",
          "output_type": "stream",
          "text": [
            "Training start time: \u001b[35m2025-05-22 20:42:40\u001b[0m\n",
            "Epoch 1 elapsed: 0.495s\n",
            "Epoch 2 elapsed: 0.514s\n",
            "Epoch 3 elapsed: 0.490s\n",
            "Epoch 4 elapsed: 0.487s\n",
            "Epoch 5 elapsed: 0.483s\n",
            "Epoch 6 elapsed: 0.497s\n",
            "Epoch 7 elapsed: 0.491s\n",
            "Epoch 8 elapsed: 0.490s\n",
            "Epoch 9 elapsed: 0.490s\n",
            "Epoch 10 elapsed: 0.468s\n"
          ]
        },
        {
          "name": "stderr",
          "output_type": "stream",
          "text": [
            "eval_pointwise: 100%|██████████| 36/36 [00:00<00:00, 384.10it/s]\n"
          ]
        },
        {
          "name": "stdout",
          "output_type": "stream",
          "text": [
            "Training start time: \u001b[35m2025-05-22 20:42:47\u001b[0m\n",
            "Epoch 1 elapsed: 0.484s\n",
            "Epoch 2 elapsed: 0.491s\n",
            "Epoch 3 elapsed: 0.472s\n",
            "Epoch 4 elapsed: 0.500s\n",
            "Epoch 5 elapsed: 0.479s\n",
            "Epoch 6 elapsed: 0.489s\n",
            "Epoch 7 elapsed: 0.472s\n",
            "Epoch 8 elapsed: 0.511s\n",
            "Epoch 9 elapsed: 0.490s\n",
            "Epoch 10 elapsed: 0.526s\n"
          ]
        },
        {
          "name": "stderr",
          "output_type": "stream",
          "text": [
            "eval_pointwise: 100%|██████████| 36/36 [00:00<00:00, 403.75it/s]\n"
          ]
        },
        {
          "name": "stdout",
          "output_type": "stream",
          "text": [
            "Training start time: \u001b[35m2025-05-22 20:42:54\u001b[0m\n",
            "Epoch 1 elapsed: 0.505s\n",
            "Epoch 2 elapsed: 0.493s\n",
            "Epoch 3 elapsed: 0.490s\n",
            "Epoch 4 elapsed: 0.473s\n",
            "Epoch 5 elapsed: 0.476s\n",
            "Epoch 6 elapsed: 0.480s\n",
            "Epoch 7 elapsed: 0.506s\n",
            "Epoch 8 elapsed: 0.473s\n",
            "Epoch 9 elapsed: 0.482s\n",
            "Epoch 10 elapsed: 0.474s\n"
          ]
        },
        {
          "name": "stderr",
          "output_type": "stream",
          "text": [
            "eval_pointwise: 100%|██████████| 36/36 [00:00<00:00, 402.70it/s]"
          ]
        },
        {
          "name": "stdout",
          "output_type": "stream",
          "text": [
            "\n",
            "LibReco ALS: 0.8106770347318328 1.1102230246251565e-16\n"
          ]
        },
        {
          "name": "stderr",
          "output_type": "stream",
          "text": [
            "\n"
          ]
        }
      ],
      "source": [
        "print(\"\\nLibReco ALS:\", *libreco_cv(ext, algo_name='ALS'))"
      ]
    },
    {
      "cell_type": "code",
      "execution_count": null,
      "id": "NGiqWcuzRETq",
      "metadata": {
        "colab": {
          "base_uri": "https://localhost:8080/"
        },
        "id": "NGiqWcuzRETq",
        "outputId": "5ed30eb6-943d-410d-af93-42e9f90dc1fa"
      },
      "outputs": [
        {
          "name": "stdout",
          "output_type": "stream",
          "text": [
            "Training start time: \u001b[35m2025-05-23 08:46:02\u001b[0m\n",
            "Epoch 1 elapsed: 0.437s\n",
            "==============================\n",
            "Epoch 2 elapsed: 0.422s\n",
            "==============================\n",
            "Epoch 3 elapsed: 0.419s\n",
            "==============================\n",
            "Epoch 4 elapsed: 0.423s\n",
            "==============================\n",
            "Epoch 5 elapsed: 0.422s\n",
            "==============================\n",
            "Epoch 6 elapsed: 0.422s\n",
            "==============================\n",
            "Epoch 7 elapsed: 0.424s\n",
            "==============================\n",
            "Epoch 8 elapsed: 0.420s\n",
            "==============================\n",
            "Epoch 9 elapsed: 0.484s\n",
            "==============================\n",
            "Epoch 10 elapsed: 0.420s\n",
            "==============================\n"
          ]
        },
        {
          "name": "stderr",
          "output_type": "stream",
          "text": [
            "eval_pointwise: 100%|██████████| 36/36 [00:00<00:00, 435.07it/s]\n"
          ]
        },
        {
          "name": "stdout",
          "output_type": "stream",
          "text": [
            "Training start time: \u001b[35m2025-05-23 08:46:08\u001b[0m\n",
            "Epoch 1 elapsed: 0.453s\n",
            "==============================\n",
            "Epoch 2 elapsed: 0.438s\n",
            "==============================\n",
            "Epoch 3 elapsed: 0.457s\n",
            "==============================\n",
            "Epoch 4 elapsed: 0.421s\n",
            "==============================\n",
            "Epoch 5 elapsed: 0.423s\n",
            "==============================\n",
            "Epoch 6 elapsed: 0.417s\n",
            "==============================\n",
            "Epoch 7 elapsed: 0.437s\n",
            "==============================\n",
            "Epoch 8 elapsed: 0.420s\n",
            "==============================\n",
            "Epoch 9 elapsed: 0.417s\n",
            "==============================\n",
            "Epoch 10 elapsed: 0.422s\n",
            "==============================\n"
          ]
        },
        {
          "name": "stderr",
          "output_type": "stream",
          "text": [
            "eval_pointwise: 100%|██████████| 36/36 [00:00<00:00, 437.29it/s]\n"
          ]
        },
        {
          "name": "stdout",
          "output_type": "stream",
          "text": [
            "Training start time: \u001b[35m2025-05-23 08:46:14\u001b[0m\n",
            "Epoch 1 elapsed: 0.421s\n",
            "==============================\n",
            "Epoch 2 elapsed: 0.418s\n",
            "==============================\n",
            "Epoch 3 elapsed: 0.422s\n",
            "==============================\n",
            "Epoch 4 elapsed: 0.425s\n",
            "==============================\n",
            "Epoch 5 elapsed: 0.423s\n",
            "==============================\n",
            "Epoch 6 elapsed: 0.451s\n",
            "==============================\n",
            "Epoch 7 elapsed: 0.427s\n",
            "==============================\n",
            "Epoch 8 elapsed: 0.450s\n",
            "==============================\n",
            "Epoch 9 elapsed: 0.428s\n",
            "==============================\n",
            "Epoch 10 elapsed: 0.439s\n",
            "==============================\n"
          ]
        },
        {
          "name": "stderr",
          "output_type": "stream",
          "text": [
            "eval_pointwise: 100%|██████████| 36/36 [00:00<00:00, 450.24it/s]\n"
          ]
        },
        {
          "name": "stdout",
          "output_type": "stream",
          "text": [
            "Training start time: \u001b[35m2025-05-23 08:46:20\u001b[0m\n",
            "Epoch 1 elapsed: 0.459s\n",
            "==============================\n",
            "Epoch 2 elapsed: 0.431s\n",
            "==============================\n",
            "Epoch 3 elapsed: 0.421s\n",
            "==============================\n",
            "Epoch 4 elapsed: 0.429s\n",
            "==============================\n",
            "Epoch 5 elapsed: 0.420s\n",
            "==============================\n",
            "Epoch 6 elapsed: 0.427s\n",
            "==============================\n",
            "Epoch 7 elapsed: 0.429s\n",
            "==============================\n",
            "Epoch 8 elapsed: 0.424s\n",
            "==============================\n",
            "Epoch 9 elapsed: 0.423s\n",
            "==============================\n",
            "Epoch 10 elapsed: 0.419s\n",
            "==============================\n"
          ]
        },
        {
          "name": "stderr",
          "output_type": "stream",
          "text": [
            "eval_pointwise: 100%|██████████| 36/36 [00:00<00:00, 444.60it/s]\n"
          ]
        },
        {
          "name": "stdout",
          "output_type": "stream",
          "text": [
            "Training start time: \u001b[35m2025-05-23 08:46:26\u001b[0m\n",
            "Epoch 1 elapsed: 0.412s\n",
            "==============================\n",
            "Epoch 2 elapsed: 0.422s\n",
            "==============================\n",
            "Epoch 3 elapsed: 0.421s\n",
            "==============================\n",
            "Epoch 4 elapsed: 0.428s\n",
            "==============================\n",
            "Epoch 5 elapsed: 0.424s\n",
            "==============================\n",
            "Epoch 6 elapsed: 0.421s\n",
            "==============================\n",
            "Epoch 7 elapsed: 0.429s\n",
            "==============================\n",
            "Epoch 8 elapsed: 0.421s\n",
            "==============================\n",
            "Epoch 9 elapsed: 0.418s\n",
            "==============================\n",
            "Epoch 10 elapsed: 0.419s\n",
            "==============================\n"
          ]
        },
        {
          "name": "stderr",
          "output_type": "stream",
          "text": [
            "eval_pointwise: 100%|██████████| 36/36 [00:00<00:00, 453.34it/s]"
          ]
        },
        {
          "name": "stdout",
          "output_type": "stream",
          "text": [
            "\n",
            "LibReco ALS: 0.8141627280170989 0.0008028336443819036\n"
          ]
        },
        {
          "name": "stderr",
          "output_type": "stream",
          "text": [
            "\n"
          ]
        }
      ],
      "source": [
        "print(\"\\nLibReco ALS:\", *libreco_cv(column_ext, algo_name='ALS'))"
      ]
    },
    {
      "cell_type": "code",
      "execution_count": null,
      "id": "tD5a11DuREpr",
      "metadata": {
        "colab": {
          "base_uri": "https://localhost:8080/"
        },
        "id": "tD5a11DuREpr",
        "outputId": "f684f0e8-ba47-4014-9a3e-20bfbdd2ec8c"
      },
      "outputs": [
        {
          "name": "stdout",
          "output_type": "stream",
          "text": [
            "Training start time: \u001b[35m2025-05-23 08:46:31\u001b[0m\n",
            "Epoch 1 elapsed: 0.472s\n",
            "==============================\n",
            "Epoch 2 elapsed: 0.424s\n",
            "==============================\n",
            "Epoch 3 elapsed: 0.436s\n",
            "==============================\n",
            "Epoch 4 elapsed: 0.417s\n",
            "==============================\n",
            "Epoch 5 elapsed: 0.428s\n",
            "==============================\n",
            "Epoch 6 elapsed: 0.431s\n",
            "==============================\n",
            "Epoch 7 elapsed: 0.423s\n",
            "==============================\n",
            "Epoch 8 elapsed: 0.429s\n",
            "==============================\n",
            "Epoch 9 elapsed: 0.421s\n",
            "==============================\n",
            "Epoch 10 elapsed: 0.447s\n",
            "==============================\n"
          ]
        },
        {
          "name": "stderr",
          "output_type": "stream",
          "text": [
            "eval_pointwise: 100%|██████████| 36/36 [00:00<00:00, 444.63it/s]\n"
          ]
        },
        {
          "name": "stdout",
          "output_type": "stream",
          "text": [
            "Training start time: \u001b[35m2025-05-23 08:46:37\u001b[0m\n",
            "Epoch 1 elapsed: 0.431s\n",
            "==============================\n",
            "Epoch 2 elapsed: 0.443s\n",
            "==============================\n",
            "Epoch 3 elapsed: 0.418s\n",
            "==============================\n",
            "Epoch 4 elapsed: 0.427s\n",
            "==============================\n",
            "Epoch 5 elapsed: 0.420s\n",
            "==============================\n",
            "Epoch 6 elapsed: 0.432s\n",
            "==============================\n",
            "Epoch 7 elapsed: 0.424s\n",
            "==============================\n",
            "Epoch 8 elapsed: 0.425s\n",
            "==============================\n",
            "Epoch 9 elapsed: 0.431s\n",
            "==============================\n",
            "Epoch 10 elapsed: 0.420s\n",
            "==============================\n"
          ]
        },
        {
          "name": "stderr",
          "output_type": "stream",
          "text": [
            "eval_pointwise: 100%|██████████| 36/36 [00:00<00:00, 453.34it/s]\n"
          ]
        },
        {
          "name": "stdout",
          "output_type": "stream",
          "text": [
            "Training start time: \u001b[35m2025-05-23 08:46:44\u001b[0m\n",
            "Epoch 1 elapsed: 0.431s\n",
            "==============================\n",
            "Epoch 2 elapsed: 0.421s\n",
            "==============================\n",
            "Epoch 3 elapsed: 0.425s\n",
            "==============================\n",
            "Epoch 4 elapsed: 0.417s\n",
            "==============================\n",
            "Epoch 5 elapsed: 0.433s\n",
            "==============================\n",
            "Epoch 6 elapsed: 0.417s\n",
            "==============================\n",
            "Epoch 7 elapsed: 0.427s\n",
            "==============================\n",
            "Epoch 8 elapsed: 0.434s\n",
            "==============================\n",
            "Epoch 9 elapsed: 0.421s\n",
            "==============================\n",
            "Epoch 10 elapsed: 0.441s\n",
            "==============================\n"
          ]
        },
        {
          "name": "stderr",
          "output_type": "stream",
          "text": [
            "eval_pointwise: 100%|██████████| 36/36 [00:00<00:00, 423.27it/s]\n"
          ]
        },
        {
          "name": "stdout",
          "output_type": "stream",
          "text": [
            "Training start time: \u001b[35m2025-05-23 08:46:49\u001b[0m\n",
            "Epoch 1 elapsed: 0.428s\n",
            "==============================\n",
            "Epoch 2 elapsed: 0.420s\n",
            "==============================\n",
            "Epoch 3 elapsed: 0.438s\n",
            "==============================\n",
            "Epoch 4 elapsed: 0.433s\n",
            "==============================\n",
            "Epoch 5 elapsed: 0.422s\n",
            "==============================\n",
            "Epoch 6 elapsed: 0.436s\n",
            "==============================\n",
            "Epoch 7 elapsed: 0.426s\n",
            "==============================\n",
            "Epoch 8 elapsed: 0.441s\n",
            "==============================\n",
            "Epoch 9 elapsed: 0.446s\n",
            "==============================\n",
            "Epoch 10 elapsed: 0.456s\n",
            "==============================\n"
          ]
        },
        {
          "name": "stderr",
          "output_type": "stream",
          "text": [
            "eval_pointwise: 100%|██████████| 36/36 [00:00<00:00, 272.34it/s]\n"
          ]
        },
        {
          "name": "stdout",
          "output_type": "stream",
          "text": [
            "Training start time: \u001b[35m2025-05-23 08:46:55\u001b[0m\n",
            "Epoch 1 elapsed: 0.429s\n",
            "==============================\n",
            "Epoch 2 elapsed: 0.422s\n",
            "==============================\n",
            "Epoch 3 elapsed: 0.416s\n",
            "==============================\n",
            "Epoch 4 elapsed: 0.422s\n",
            "==============================\n",
            "Epoch 5 elapsed: 0.424s\n",
            "==============================\n",
            "Epoch 6 elapsed: 0.433s\n",
            "==============================\n",
            "Epoch 7 elapsed: 0.435s\n",
            "==============================\n",
            "Epoch 8 elapsed: 0.418s\n",
            "==============================\n",
            "Epoch 9 elapsed: 0.422s\n",
            "==============================\n",
            "Epoch 10 elapsed: 0.421s\n",
            "==============================\n"
          ]
        },
        {
          "name": "stderr",
          "output_type": "stream",
          "text": [
            "eval_pointwise: 100%|██████████| 36/36 [00:00<00:00, 437.82it/s]"
          ]
        },
        {
          "name": "stdout",
          "output_type": "stream",
          "text": [
            "\n",
            "LibReco ALS: 0.8215704248689166 0.0006220230304345946\n"
          ]
        },
        {
          "name": "stderr",
          "output_type": "stream",
          "text": [
            "\n"
          ]
        }
      ],
      "source": [
        "print(\"\\nLibReco ALS:\", *libreco_cv(global_ext, algo_name='ALS'))"
      ]
    },
    {
      "cell_type": "code",
      "execution_count": null,
      "id": "zyhtvTMuREvR",
      "metadata": {
        "colab": {
          "base_uri": "https://localhost:8080/"
        },
        "id": "zyhtvTMuREvR",
        "outputId": "a58ef6d3-f01f-434d-9fa8-3405825fcb2f"
      },
      "outputs": [
        {
          "name": "stdout",
          "output_type": "stream",
          "text": [
            "Training start time: \u001b[35m2025-05-23 08:47:01\u001b[0m\n",
            "Epoch 1 elapsed: 0.427s\n",
            "==============================\n",
            "Epoch 2 elapsed: 0.439s\n",
            "==============================\n",
            "Epoch 3 elapsed: 0.431s\n",
            "==============================\n",
            "Epoch 4 elapsed: 0.420s\n",
            "==============================\n",
            "Epoch 5 elapsed: 0.427s\n",
            "==============================\n",
            "Epoch 6 elapsed: 0.418s\n",
            "==============================\n",
            "Epoch 7 elapsed: 0.424s\n",
            "==============================\n",
            "Epoch 8 elapsed: 0.424s\n",
            "==============================\n",
            "Epoch 9 elapsed: 0.440s\n",
            "==============================\n",
            "Epoch 10 elapsed: 0.436s\n",
            "==============================\n"
          ]
        },
        {
          "name": "stderr",
          "output_type": "stream",
          "text": [
            "eval_pointwise: 100%|██████████| 36/36 [00:00<00:00, 421.22it/s]\n"
          ]
        },
        {
          "name": "stdout",
          "output_type": "stream",
          "text": [
            "Training start time: \u001b[35m2025-05-23 08:47:07\u001b[0m\n",
            "Epoch 1 elapsed: 0.422s\n",
            "==============================\n",
            "Epoch 2 elapsed: 0.424s\n",
            "==============================\n",
            "Epoch 3 elapsed: 0.423s\n",
            "==============================\n",
            "Epoch 4 elapsed: 0.423s\n",
            "==============================\n",
            "Epoch 5 elapsed: 0.416s\n",
            "==============================\n",
            "Epoch 6 elapsed: 0.429s\n",
            "==============================\n",
            "Epoch 7 elapsed: 0.419s\n",
            "==============================\n",
            "Epoch 8 elapsed: 0.418s\n",
            "==============================\n",
            "Epoch 9 elapsed: 0.426s\n",
            "==============================\n",
            "Epoch 10 elapsed: 0.437s\n",
            "==============================\n"
          ]
        },
        {
          "name": "stderr",
          "output_type": "stream",
          "text": [
            "eval_pointwise: 100%|██████████| 36/36 [00:00<00:00, 418.41it/s]\n"
          ]
        },
        {
          "name": "stdout",
          "output_type": "stream",
          "text": [
            "Training start time: \u001b[35m2025-05-23 08:47:13\u001b[0m\n",
            "Epoch 1 elapsed: 0.432s\n",
            "==============================\n",
            "Epoch 2 elapsed: 0.430s\n",
            "==============================\n",
            "Epoch 3 elapsed: 0.424s\n",
            "==============================\n",
            "Epoch 4 elapsed: 0.424s\n",
            "==============================\n",
            "Epoch 5 elapsed: 0.419s\n",
            "==============================\n",
            "Epoch 6 elapsed: 0.427s\n",
            "==============================\n",
            "Epoch 7 elapsed: 0.433s\n",
            "==============================\n",
            "Epoch 8 elapsed: 0.438s\n",
            "==============================\n",
            "Epoch 9 elapsed: 0.453s\n",
            "==============================\n",
            "Epoch 10 elapsed: 0.435s\n",
            "==============================\n"
          ]
        },
        {
          "name": "stderr",
          "output_type": "stream",
          "text": [
            "eval_pointwise: 100%|██████████| 36/36 [00:00<00:00, 411.64it/s]\n"
          ]
        },
        {
          "name": "stdout",
          "output_type": "stream",
          "text": [
            "Training start time: \u001b[35m2025-05-23 08:47:19\u001b[0m\n",
            "Epoch 1 elapsed: 0.417s\n",
            "==============================\n",
            "Epoch 2 elapsed: 0.424s\n",
            "==============================\n",
            "Epoch 3 elapsed: 0.426s\n",
            "==============================\n",
            "Epoch 4 elapsed: 0.424s\n",
            "==============================\n",
            "Epoch 5 elapsed: 0.431s\n",
            "==============================\n",
            "Epoch 6 elapsed: 0.428s\n",
            "==============================\n",
            "Epoch 7 elapsed: 0.456s\n",
            "==============================\n",
            "Epoch 8 elapsed: 0.431s\n",
            "==============================\n",
            "Epoch 9 elapsed: 0.431s\n",
            "==============================\n",
            "Epoch 10 elapsed: 0.427s\n",
            "==============================\n"
          ]
        },
        {
          "name": "stderr",
          "output_type": "stream",
          "text": [
            "eval_pointwise: 100%|██████████| 36/36 [00:00<00:00, 438.41it/s]\n"
          ]
        },
        {
          "name": "stdout",
          "output_type": "stream",
          "text": [
            "Training start time: \u001b[35m2025-05-23 08:47:24\u001b[0m\n",
            "Epoch 1 elapsed: 0.458s\n",
            "==============================\n",
            "Epoch 2 elapsed: 0.441s\n",
            "==============================\n",
            "Epoch 3 elapsed: 0.445s\n",
            "==============================\n",
            "Epoch 4 elapsed: 0.431s\n",
            "==============================\n",
            "Epoch 5 elapsed: 0.455s\n",
            "==============================\n",
            "Epoch 6 elapsed: 0.424s\n",
            "==============================\n",
            "Epoch 7 elapsed: 0.434s\n",
            "==============================\n",
            "Epoch 8 elapsed: 0.444s\n",
            "==============================\n",
            "Epoch 9 elapsed: 0.463s\n",
            "==============================\n",
            "Epoch 10 elapsed: 0.454s\n",
            "==============================\n"
          ]
        },
        {
          "name": "stderr",
          "output_type": "stream",
          "text": [
            "eval_pointwise: 100%|██████████| 36/36 [00:00<00:00, 444.14it/s]"
          ]
        },
        {
          "name": "stdout",
          "output_type": "stream",
          "text": [
            "\n",
            "LibReco ALS: 0.8697510996315018 0.00028333011504624525\n"
          ]
        },
        {
          "name": "stderr",
          "output_type": "stream",
          "text": [
            "\n"
          ]
        }
      ],
      "source": [
        "print(\"\\nLibReco ALS:\", *libreco_cv(const_ext, algo_name='ALS'))"
      ]
    },
    {
      "cell_type": "markdown",
      "id": "yihfC11XROWI",
      "metadata": {
        "id": "yihfC11XROWI"
      },
      "source": [
        "## Surprise SVD"
      ]
    },
    {
      "cell_type": "code",
      "execution_count": null,
      "id": "96b839fb",
      "metadata": {
        "colab": {
          "background_save": true
        },
        "id": "96b839fb",
        "outputId": "c73e5a90-d893-416c-b389-354a945aa8de"
      },
      "outputs": [
        {
          "name": "stdout",
          "output_type": "stream",
          "text": [
            "Evaluating RMSE of algorithm SVD on 5 split(s).\n",
            "\n",
            "                  Fold 1  Fold 2  Fold 3  Fold 4  Fold 5  Mean    Std     \n",
            "RMSE (testset)    0.7815  0.7792  0.7790  0.7796  0.7808  0.7800  0.0010  \n",
            "RMSE (trainset)   0.6298  0.6295  0.6304  0.6305  0.6303  0.6301  0.0004  \n",
            "Fit time          15.53   15.94   16.18   16.03   16.19   15.97   0.24    \n",
            "Test time         1.30    2.15    2.11    1.28    2.06    1.78    0.40    \n",
            "\n",
            "Surprise SVD: 0.6301062451711317 0.00036710309230848505 0.7800095052641683 0.000981139109855623\n"
          ]
        }
      ],
      "source": [
        "print(\"\\nSurprise SVD:\", *svd_cv(ext))"
      ]
    },
    {
      "cell_type": "code",
      "execution_count": null,
      "id": "oOBfXzNoRUB3",
      "metadata": {
        "colab": {
          "base_uri": "https://localhost:8080/"
        },
        "id": "oOBfXzNoRUB3",
        "outputId": "547cd3b5-ca36-4dee-c5fd-39117901dd73"
      },
      "outputs": [
        {
          "name": "stdout",
          "output_type": "stream",
          "text": [
            "Evaluating RMSE of algorithm SVD on 5 split(s).\n",
            "\n",
            "                  Fold 1  Fold 2  Fold 3  Fold 4  Fold 5  Mean    Std     \n",
            "RMSE (testset)    0.7835  0.7856  0.7843  0.7821  0.7830  0.7837  0.0012  \n",
            "RMSE (trainset)   0.6315  0.6318  0.6314  0.6311  0.6316  0.6315  0.0003  \n",
            "Fit time          15.37   16.67   15.93   16.23   15.92   16.03   0.43    \n",
            "Test time         2.97    2.52    1.93    1.98    1.85    2.25    0.43    \n",
            "\n",
            "Surprise SVD: 0.6314929763149012 0.0002529975207746211 0.7836754589493429 0.0011808070303000848\n"
          ]
        }
      ],
      "source": [
        "print(\"\\nSurprise SVD:\", *svd_cv(column_ext))"
      ]
    },
    {
      "cell_type": "code",
      "execution_count": null,
      "id": "j7gvtjF-RUEe",
      "metadata": {
        "colab": {
          "base_uri": "https://localhost:8080/"
        },
        "id": "j7gvtjF-RUEe",
        "outputId": "e032afd2-837e-4cc4-e9ec-5d28499b14f0"
      },
      "outputs": [
        {
          "name": "stdout",
          "output_type": "stream",
          "text": [
            "Evaluating RMSE of algorithm SVD on 5 split(s).\n",
            "\n",
            "                  Fold 1  Fold 2  Fold 3  Fold 4  Fold 5  Mean    Std     \n",
            "RMSE (testset)    0.7890  0.7877  0.7916  0.7922  0.7929  0.7907  0.0020  \n",
            "RMSE (trainset)   0.6354  0.6348  0.6349  0.6350  0.6356  0.6351  0.0003  \n",
            "Fit time          15.82   16.11   16.03   16.05   16.01   16.00   0.10    \n",
            "Test time         1.96    1.92    1.86    2.41    2.48    2.13    0.26    \n",
            "\n",
            "Surprise SVD: 0.6351340774479911 0.0003044628963584334 0.7906950527321174 0.0019797464028374987\n"
          ]
        }
      ],
      "source": [
        "print(\"\\nSurprise SVD:\", *svd_cv(global_ext))"
      ]
    },
    {
      "cell_type": "code",
      "execution_count": null,
      "id": "8UCGOhvGRUGw",
      "metadata": {
        "colab": {
          "base_uri": "https://localhost:8080/"
        },
        "id": "8UCGOhvGRUGw",
        "outputId": "c4c1187a-721c-40e2-926c-78b3219cf0b2"
      },
      "outputs": [
        {
          "name": "stdout",
          "output_type": "stream",
          "text": [
            "Evaluating RMSE of algorithm SVD on 5 split(s).\n",
            "\n",
            "                  Fold 1  Fold 2  Fold 3  Fold 4  Fold 5  Mean    Std     \n",
            "RMSE (testset)    0.8496  0.8478  0.8500  0.8470  0.8465  0.8482  0.0014  \n",
            "RMSE (trainset)   0.6626  0.6620  0.6624  0.6627  0.6622  0.6624  0.0003  \n",
            "Fit time          15.64   16.13   16.13   16.11   16.08   16.02   0.19    \n",
            "Test time         1.88    1.33    2.44    1.87    1.30    1.76    0.42    \n",
            "\n",
            "Surprise SVD: 0.6623781973835211 0.00026135946918605927 0.8481604536921836 0.001366801919921612\n"
          ]
        }
      ],
      "source": [
        "print(\"\\nSurprise SVD:\", *svd_cv(const_ext))"
      ]
    },
    {
      "cell_type": "markdown",
      "id": "EsV_aFSiRbob",
      "metadata": {
        "id": "EsV_aFSiRbob"
      },
      "source": [
        "## LibReco SVD"
      ]
    },
    {
      "cell_type": "code",
      "execution_count": null,
      "id": "bH5NdbrNqQCa",
      "metadata": {
        "colab": {
          "base_uri": "https://localhost:8080/"
        },
        "id": "bH5NdbrNqQCa",
        "outputId": "4de68d35-eb51-45ff-b683-47bd76f329f8"
      },
      "outputs": [
        {
          "name": "stdout",
          "output_type": "stream",
          "text": [
            "Training start time: \u001b[35m2025-05-23 08:54:43\u001b[0m\n"
          ]
        },
        {
          "name": "stderr",
          "output_type": "stream",
          "text": [
            "train: 100%|██████████| 9107/9107 [00:20<00:00, 446.16it/s]"
          ]
        },
        {
          "name": "stdout",
          "output_type": "stream",
          "text": [
            "Epoch 1 elapsed: 20.413s\n",
            "\t \u001b[32mtrain_loss: 2.9245\u001b[0m\n",
            "==============================\n"
          ]
        },
        {
          "name": "stderr",
          "output_type": "stream",
          "text": [
            "\n",
            "train: 100%|██████████| 9107/9107 [00:20<00:00, 443.40it/s]"
          ]
        },
        {
          "name": "stdout",
          "output_type": "stream",
          "text": [
            "Epoch 2 elapsed: 20.541s\n",
            "\t \u001b[32mtrain_loss: 0.6627\u001b[0m\n",
            "==============================\n"
          ]
        },
        {
          "name": "stderr",
          "output_type": "stream",
          "text": [
            "\n",
            "train: 100%|██████████| 9107/9107 [00:20<00:00, 450.43it/s]"
          ]
        },
        {
          "name": "stdout",
          "output_type": "stream",
          "text": [
            "Epoch 3 elapsed: 20.221s\n",
            "\t \u001b[32mtrain_loss: 0.6481\u001b[0m\n",
            "==============================\n"
          ]
        },
        {
          "name": "stderr",
          "output_type": "stream",
          "text": [
            "\n",
            "train: 100%|██████████| 9107/9107 [00:20<00:00, 451.65it/s]"
          ]
        },
        {
          "name": "stdout",
          "output_type": "stream",
          "text": [
            "Epoch 4 elapsed: 20.166s\n",
            "\t \u001b[32mtrain_loss: 0.631\u001b[0m\n",
            "==============================\n"
          ]
        },
        {
          "name": "stderr",
          "output_type": "stream",
          "text": [
            "\n",
            "train: 100%|██████████| 9107/9107 [00:20<00:00, 447.39it/s]"
          ]
        },
        {
          "name": "stdout",
          "output_type": "stream",
          "text": [
            "Epoch 5 elapsed: 20.358s\n",
            "\t \u001b[32mtrain_loss: 0.6154\u001b[0m\n",
            "==============================\n"
          ]
        },
        {
          "name": "stderr",
          "output_type": "stream",
          "text": [
            "\n",
            "train: 100%|██████████| 9107/9107 [00:20<00:00, 451.77it/s]"
          ]
        },
        {
          "name": "stdout",
          "output_type": "stream",
          "text": [
            "Epoch 6 elapsed: 20.161s\n",
            "\t \u001b[32mtrain_loss: 0.5992\u001b[0m\n",
            "==============================\n"
          ]
        },
        {
          "name": "stderr",
          "output_type": "stream",
          "text": [
            "\n",
            "train: 100%|██████████| 9107/9107 [00:20<00:00, 452.76it/s]"
          ]
        },
        {
          "name": "stdout",
          "output_type": "stream",
          "text": [
            "Epoch 7 elapsed: 20.116s\n",
            "\t \u001b[32mtrain_loss: 0.58\u001b[0m\n",
            "==============================\n"
          ]
        },
        {
          "name": "stderr",
          "output_type": "stream",
          "text": [
            "\n",
            "train: 100%|██████████| 9107/9107 [00:20<00:00, 449.15it/s]"
          ]
        },
        {
          "name": "stdout",
          "output_type": "stream",
          "text": [
            "Epoch 8 elapsed: 20.278s\n",
            "\t \u001b[32mtrain_loss: 0.5595\u001b[0m\n",
            "==============================\n"
          ]
        },
        {
          "name": "stderr",
          "output_type": "stream",
          "text": [
            "\n",
            "train: 100%|██████████| 9107/9107 [00:20<00:00, 449.40it/s]"
          ]
        },
        {
          "name": "stdout",
          "output_type": "stream",
          "text": [
            "Epoch 9 elapsed: 20.267s\n",
            "\t \u001b[32mtrain_loss: 0.5414\u001b[0m\n",
            "==============================\n"
          ]
        },
        {
          "name": "stderr",
          "output_type": "stream",
          "text": [
            "\n",
            "train: 100%|██████████| 9107/9107 [00:20<00:00, 449.86it/s]"
          ]
        },
        {
          "name": "stdout",
          "output_type": "stream",
          "text": [
            "Epoch 10 elapsed: 20.246s\n",
            "\t \u001b[32mtrain_loss: 0.5273\u001b[0m\n",
            "==============================\n"
          ]
        },
        {
          "name": "stderr",
          "output_type": "stream",
          "text": [
            "\n",
            "eval_pointwise: 100%|██████████| 36/36 [00:00<00:00, 350.69it/s]\n"
          ]
        },
        {
          "name": "stdout",
          "output_type": "stream",
          "text": [
            "Training start time: \u001b[35m2025-05-23 08:58:07\u001b[0m\n"
          ]
        },
        {
          "name": "stderr",
          "output_type": "stream",
          "text": [
            "train: 100%|██████████| 9107/9107 [00:20<00:00, 447.64it/s]"
          ]
        },
        {
          "name": "stdout",
          "output_type": "stream",
          "text": [
            "Epoch 1 elapsed: 20.346s\n",
            "\t \u001b[32mtrain_loss: 2.9444\u001b[0m\n",
            "==============================\n"
          ]
        },
        {
          "name": "stderr",
          "output_type": "stream",
          "text": [
            "\n",
            "train: 100%|██████████| 9107/9107 [00:20<00:00, 449.77it/s]"
          ]
        },
        {
          "name": "stdout",
          "output_type": "stream",
          "text": [
            "Epoch 2 elapsed: 20.250s\n",
            "\t \u001b[32mtrain_loss: 0.6639\u001b[0m\n",
            "==============================\n"
          ]
        },
        {
          "name": "stderr",
          "output_type": "stream",
          "text": [
            "\n",
            "train: 100%|██████████| 9107/9107 [00:20<00:00, 451.16it/s]"
          ]
        },
        {
          "name": "stdout",
          "output_type": "stream",
          "text": [
            "Epoch 3 elapsed: 20.188s\n",
            "\t \u001b[32mtrain_loss: 0.6543\u001b[0m\n",
            "==============================\n"
          ]
        },
        {
          "name": "stderr",
          "output_type": "stream",
          "text": [
            "\n",
            "train: 100%|██████████| 9107/9107 [00:20<00:00, 454.00it/s]"
          ]
        },
        {
          "name": "stdout",
          "output_type": "stream",
          "text": [
            "Epoch 4 elapsed: 20.062s\n",
            "\t \u001b[32mtrain_loss: 0.6389\u001b[0m\n",
            "==============================\n"
          ]
        },
        {
          "name": "stderr",
          "output_type": "stream",
          "text": [
            "\n",
            "train: 100%|██████████| 9107/9107 [00:20<00:00, 452.11it/s]"
          ]
        },
        {
          "name": "stdout",
          "output_type": "stream",
          "text": [
            "Epoch 5 elapsed: 20.145s\n",
            "\t \u001b[32mtrain_loss: 0.6202\u001b[0m\n",
            "==============================\n"
          ]
        },
        {
          "name": "stderr",
          "output_type": "stream",
          "text": [
            "\n",
            "train: 100%|██████████| 9107/9107 [00:20<00:00, 449.30it/s]"
          ]
        },
        {
          "name": "stdout",
          "output_type": "stream",
          "text": [
            "Epoch 6 elapsed: 20.271s\n",
            "\t \u001b[32mtrain_loss: 0.5996\u001b[0m"
          ]
        },
        {
          "name": "stderr",
          "output_type": "stream",
          "text": [
            "\n"
          ]
        },
        {
          "name": "stdout",
          "output_type": "stream",
          "text": [
            "\n",
            "==============================\n"
          ]
        },
        {
          "name": "stderr",
          "output_type": "stream",
          "text": [
            "train: 100%|██████████| 9107/9107 [00:20<00:00, 446.45it/s]"
          ]
        },
        {
          "name": "stdout",
          "output_type": "stream",
          "text": [
            "Epoch 7 elapsed: 20.401s\n",
            "\t \u001b[32mtrain_loss: 0.5785\u001b[0m\n",
            "==============================\n"
          ]
        },
        {
          "name": "stderr",
          "output_type": "stream",
          "text": [
            "\n",
            "train: 100%|██████████| 9107/9107 [00:20<00:00, 447.85it/s]"
          ]
        },
        {
          "name": "stdout",
          "output_type": "stream",
          "text": [
            "Epoch 8 elapsed: 20.337s\n",
            "\t \u001b[32mtrain_loss: 0.5578\u001b[0m\n",
            "==============================\n"
          ]
        },
        {
          "name": "stderr",
          "output_type": "stream",
          "text": [
            "\n",
            "train: 100%|██████████| 9107/9107 [00:20<00:00, 452.15it/s]"
          ]
        },
        {
          "name": "stdout",
          "output_type": "stream",
          "text": [
            "Epoch 9 elapsed: 20.143s\n",
            "\t \u001b[32mtrain_loss: 0.5401\u001b[0m\n",
            "==============================\n"
          ]
        },
        {
          "name": "stderr",
          "output_type": "stream",
          "text": [
            "\n",
            "train: 100%|██████████| 9107/9107 [00:20<00:00, 449.45it/s]"
          ]
        },
        {
          "name": "stdout",
          "output_type": "stream",
          "text": [
            "Epoch 10 elapsed: 20.265s\n",
            "\t \u001b[32mtrain_loss: 0.5264\u001b[0m\n",
            "==============================\n"
          ]
        },
        {
          "name": "stderr",
          "output_type": "stream",
          "text": [
            "\n",
            "eval_pointwise: 100%|██████████| 36/36 [00:00<00:00, 356.78it/s]\n"
          ]
        },
        {
          "name": "stdout",
          "output_type": "stream",
          "text": [
            "Training start time: \u001b[35m2025-05-23 09:01:32\u001b[0m\n"
          ]
        },
        {
          "name": "stderr",
          "output_type": "stream",
          "text": [
            "train: 100%|██████████| 9107/9107 [00:20<00:00, 453.99it/s]"
          ]
        },
        {
          "name": "stdout",
          "output_type": "stream",
          "text": [
            "Epoch 1 elapsed: 20.061s\n",
            "\t \u001b[32mtrain_loss: 2.9299\u001b[0m\n"
          ]
        },
        {
          "name": "stderr",
          "output_type": "stream",
          "text": [
            "\n"
          ]
        },
        {
          "name": "stdout",
          "output_type": "stream",
          "text": [
            "==============================\n"
          ]
        },
        {
          "name": "stderr",
          "output_type": "stream",
          "text": [
            "train: 100%|██████████| 9107/9107 [00:19<00:00, 457.44it/s]"
          ]
        },
        {
          "name": "stdout",
          "output_type": "stream",
          "text": [
            "Epoch 2 elapsed: 19.911s\n",
            "\t \u001b[32mtrain_loss: 0.6649\u001b[0m\n",
            "==============================\n"
          ]
        },
        {
          "name": "stderr",
          "output_type": "stream",
          "text": [
            "\n",
            "train: 100%|██████████| 9107/9107 [00:19<00:00, 457.60it/s]"
          ]
        },
        {
          "name": "stdout",
          "output_type": "stream",
          "text": [
            "Epoch 3 elapsed: 19.904s\n",
            "\t \u001b[32mtrain_loss: 0.6572\u001b[0m\n",
            "==============================\n"
          ]
        },
        {
          "name": "stderr",
          "output_type": "stream",
          "text": [
            "\n",
            "train: 100%|██████████| 9107/9107 [00:19<00:00, 455.38it/s]"
          ]
        },
        {
          "name": "stdout",
          "output_type": "stream",
          "text": [
            "Epoch 4 elapsed: 20.001s\n",
            "\t \u001b[32mtrain_loss: 0.6416\u001b[0m\n",
            "==============================\n"
          ]
        },
        {
          "name": "stderr",
          "output_type": "stream",
          "text": [
            "\n",
            "train: 100%|██████████| 9107/9107 [00:20<00:00, 455.15it/s]"
          ]
        },
        {
          "name": "stdout",
          "output_type": "stream",
          "text": [
            "Epoch 5 elapsed: 20.011s\n",
            "\t \u001b[32mtrain_loss: 0.6196\u001b[0m\n",
            "==============================\n"
          ]
        },
        {
          "name": "stderr",
          "output_type": "stream",
          "text": [
            "\n",
            "train: 100%|██████████| 9107/9107 [00:19<00:00, 456.31it/s]"
          ]
        },
        {
          "name": "stdout",
          "output_type": "stream",
          "text": [
            "Epoch 6 elapsed: 19.960s\n",
            "\t \u001b[32mtrain_loss: 0.5985\u001b[0m\n",
            "==============================\n"
          ]
        },
        {
          "name": "stderr",
          "output_type": "stream",
          "text": [
            "\n",
            "train: 100%|██████████| 9107/9107 [00:20<00:00, 454.84it/s]"
          ]
        },
        {
          "name": "stdout",
          "output_type": "stream",
          "text": [
            "Epoch 7 elapsed: 20.024s\n",
            "\t \u001b[32mtrain_loss: 0.5779\u001b[0m\n",
            "==============================\n"
          ]
        },
        {
          "name": "stderr",
          "output_type": "stream",
          "text": [
            "\n",
            "train: 100%|██████████| 9107/9107 [00:19<00:00, 456.00it/s]"
          ]
        },
        {
          "name": "stdout",
          "output_type": "stream",
          "text": [
            "Epoch 8 elapsed: 19.974s\n",
            "\t \u001b[32mtrain_loss: 0.5578\u001b[0m\n",
            "==============================\n"
          ]
        },
        {
          "name": "stderr",
          "output_type": "stream",
          "text": [
            "\n",
            "train: 100%|██████████| 9107/9107 [00:19<00:00, 457.04it/s]"
          ]
        },
        {
          "name": "stdout",
          "output_type": "stream",
          "text": [
            "Epoch 9 elapsed: 19.928s\n",
            "\t \u001b[32mtrain_loss: 0.541\u001b[0m\n",
            "==============================\n"
          ]
        },
        {
          "name": "stderr",
          "output_type": "stream",
          "text": [
            "\n",
            "train: 100%|██████████| 9107/9107 [00:19<00:00, 458.36it/s]"
          ]
        },
        {
          "name": "stdout",
          "output_type": "stream",
          "text": [
            "Epoch 10 elapsed: 19.871s\n",
            "\t \u001b[32mtrain_loss: 0.5273\u001b[0m\n",
            "==============================\n"
          ]
        },
        {
          "name": "stderr",
          "output_type": "stream",
          "text": [
            "\n",
            "eval_pointwise: 100%|██████████| 36/36 [00:00<00:00, 372.54it/s]\n"
          ]
        },
        {
          "name": "stdout",
          "output_type": "stream",
          "text": [
            "Training start time: \u001b[35m2025-05-23 09:04:53\u001b[0m\n"
          ]
        },
        {
          "name": "stderr",
          "output_type": "stream",
          "text": [
            "train: 100%|██████████| 9107/9107 [00:20<00:00, 451.94it/s]"
          ]
        },
        {
          "name": "stdout",
          "output_type": "stream",
          "text": [
            "Epoch 1 elapsed: 20.152s\n",
            "\t \u001b[32mtrain_loss: 2.9322\u001b[0m\n"
          ]
        },
        {
          "name": "stderr",
          "output_type": "stream",
          "text": [
            "\n"
          ]
        },
        {
          "name": "stdout",
          "output_type": "stream",
          "text": [
            "==============================\n"
          ]
        },
        {
          "name": "stderr",
          "output_type": "stream",
          "text": [
            "train: 100%|██████████| 9107/9107 [00:20<00:00, 452.02it/s]"
          ]
        },
        {
          "name": "stdout",
          "output_type": "stream",
          "text": [
            "Epoch 2 elapsed: 20.149s\n",
            "\t \u001b[32mtrain_loss: 0.6657\u001b[0m\n",
            "==============================\n"
          ]
        },
        {
          "name": "stderr",
          "output_type": "stream",
          "text": [
            "\n",
            "train: 100%|██████████| 9107/9107 [00:20<00:00, 446.63it/s]"
          ]
        },
        {
          "name": "stdout",
          "output_type": "stream",
          "text": [
            "Epoch 3 elapsed: 20.393s\n",
            "\t \u001b[32mtrain_loss: 0.6591\u001b[0m\n",
            "==============================\n"
          ]
        },
        {
          "name": "stderr",
          "output_type": "stream",
          "text": [
            "\n",
            "train: 100%|██████████| 9107/9107 [00:20<00:00, 453.49it/s]"
          ]
        },
        {
          "name": "stdout",
          "output_type": "stream",
          "text": [
            "Epoch 4 elapsed: 20.085s\n",
            "\t \u001b[32mtrain_loss: 0.646\u001b[0m\n",
            "==============================\n"
          ]
        },
        {
          "name": "stderr",
          "output_type": "stream",
          "text": [
            "\n",
            "train: 100%|██████████| 9107/9107 [00:20<00:00, 452.01it/s]"
          ]
        },
        {
          "name": "stdout",
          "output_type": "stream",
          "text": [
            "Epoch 5 elapsed: 20.150s\n",
            "\t \u001b[32mtrain_loss: 0.6237\u001b[0m\n",
            "==============================\n"
          ]
        },
        {
          "name": "stderr",
          "output_type": "stream",
          "text": [
            "\n",
            "train: 100%|██████████| 9107/9107 [00:20<00:00, 452.62it/s]"
          ]
        },
        {
          "name": "stdout",
          "output_type": "stream",
          "text": [
            "Epoch 6 elapsed: 20.123s\n",
            "\t \u001b[32mtrain_loss: 0.6008\u001b[0m\n",
            "==============================\n"
          ]
        },
        {
          "name": "stderr",
          "output_type": "stream",
          "text": [
            "\n",
            "train: 100%|██████████| 9107/9107 [00:20<00:00, 453.32it/s]"
          ]
        },
        {
          "name": "stdout",
          "output_type": "stream",
          "text": [
            "Epoch 7 elapsed: 20.092s\n",
            "\t \u001b[32mtrain_loss: 0.5788\u001b[0m\n",
            "==============================\n"
          ]
        },
        {
          "name": "stderr",
          "output_type": "stream",
          "text": [
            "\n",
            "train: 100%|██████████| 9107/9107 [00:20<00:00, 453.46it/s]"
          ]
        },
        {
          "name": "stdout",
          "output_type": "stream",
          "text": [
            "Epoch 8 elapsed: 20.086s\n",
            "\t \u001b[32mtrain_loss: 0.5578\u001b[0m\n",
            "==============================\n"
          ]
        },
        {
          "name": "stderr",
          "output_type": "stream",
          "text": [
            "\n",
            "train: 100%|██████████| 9107/9107 [00:20<00:00, 455.28it/s]"
          ]
        },
        {
          "name": "stdout",
          "output_type": "stream",
          "text": [
            "Epoch 9 elapsed: 20.005s\n",
            "\t \u001b[32mtrain_loss: 0.5395\u001b[0m\n",
            "==============================\n"
          ]
        },
        {
          "name": "stderr",
          "output_type": "stream",
          "text": [
            "\n",
            "train: 100%|██████████| 9107/9107 [00:20<00:00, 452.21it/s]"
          ]
        },
        {
          "name": "stdout",
          "output_type": "stream",
          "text": [
            "Epoch 10 elapsed: 20.141s\n",
            "\t \u001b[32mtrain_loss: 0.5256\u001b[0m\n",
            "=============================="
          ]
        },
        {
          "name": "stderr",
          "output_type": "stream",
          "text": [
            "\n"
          ]
        },
        {
          "name": "stdout",
          "output_type": "stream",
          "text": [
            "\n"
          ]
        },
        {
          "name": "stderr",
          "output_type": "stream",
          "text": [
            "eval_pointwise: 100%|██████████| 36/36 [00:00<00:00, 298.33it/s]\n"
          ]
        },
        {
          "name": "stdout",
          "output_type": "stream",
          "text": [
            "Training start time: \u001b[35m2025-05-23 09:08:17\u001b[0m\n"
          ]
        },
        {
          "name": "stderr",
          "output_type": "stream",
          "text": [
            "train: 100%|██████████| 9107/9107 [00:20<00:00, 446.09it/s]"
          ]
        },
        {
          "name": "stdout",
          "output_type": "stream",
          "text": [
            "Epoch 1 elapsed: 20.417s\n",
            "\t \u001b[32mtrain_loss: 2.9431\u001b[0m\n",
            "==============================\n"
          ]
        },
        {
          "name": "stderr",
          "output_type": "stream",
          "text": [
            "\n",
            "train: 100%|██████████| 9107/9107 [00:20<00:00, 452.60it/s]"
          ]
        },
        {
          "name": "stdout",
          "output_type": "stream",
          "text": [
            "Epoch 2 elapsed: 20.124s\n",
            "\t \u001b[32mtrain_loss: 0.6642\u001b[0m\n",
            "==============================\n"
          ]
        },
        {
          "name": "stderr",
          "output_type": "stream",
          "text": [
            "\n",
            "train: 100%|██████████| 9107/9107 [00:20<00:00, 448.53it/s]"
          ]
        },
        {
          "name": "stdout",
          "output_type": "stream",
          "text": [
            "Epoch 3 elapsed: 20.306s\n",
            "\t \u001b[32mtrain_loss: 0.652\u001b[0m\n",
            "==============================\n"
          ]
        },
        {
          "name": "stderr",
          "output_type": "stream",
          "text": [
            "\n",
            "train: 100%|██████████| 9107/9107 [00:20<00:00, 448.02it/s]"
          ]
        },
        {
          "name": "stdout",
          "output_type": "stream",
          "text": [
            "Epoch 4 elapsed: 20.329s\n",
            "\t \u001b[32mtrain_loss: 0.6318\u001b[0m\n",
            "==============================\n"
          ]
        },
        {
          "name": "stderr",
          "output_type": "stream",
          "text": [
            "\n",
            "train: 100%|██████████| 9107/9107 [00:20<00:00, 448.26it/s]"
          ]
        },
        {
          "name": "stdout",
          "output_type": "stream",
          "text": [
            "Epoch 5 elapsed: 20.319s\n",
            "\t \u001b[32mtrain_loss: 0.6143\u001b[0m\n",
            "==============================\n"
          ]
        },
        {
          "name": "stderr",
          "output_type": "stream",
          "text": [
            "\n",
            "train: 100%|██████████| 9107/9107 [00:20<00:00, 451.53it/s]"
          ]
        },
        {
          "name": "stdout",
          "output_type": "stream",
          "text": [
            "Epoch 6 elapsed: 20.172s\n",
            "\t \u001b[32mtrain_loss: 0.5991\u001b[0m\n",
            "==============================\n"
          ]
        },
        {
          "name": "stderr",
          "output_type": "stream",
          "text": [
            "\n",
            "train: 100%|██████████| 9107/9107 [00:20<00:00, 447.15it/s]"
          ]
        },
        {
          "name": "stdout",
          "output_type": "stream",
          "text": [
            "Epoch 7 elapsed: 20.369s\n",
            "\t \u001b[32mtrain_loss: 0.5814\u001b[0m\n",
            "==============================\n"
          ]
        },
        {
          "name": "stderr",
          "output_type": "stream",
          "text": [
            "\n",
            "train: 100%|██████████| 9107/9107 [00:20<00:00, 440.47it/s]"
          ]
        },
        {
          "name": "stdout",
          "output_type": "stream",
          "text": [
            "Epoch 8 elapsed: 20.678s\n",
            "\t \u001b[32mtrain_loss: 0.5619\u001b[0m\n",
            "==============================\n"
          ]
        },
        {
          "name": "stderr",
          "output_type": "stream",
          "text": [
            "\n",
            "train: 100%|██████████| 9107/9107 [00:20<00:00, 449.85it/s]"
          ]
        },
        {
          "name": "stdout",
          "output_type": "stream",
          "text": [
            "Epoch 9 elapsed: 20.247s\n",
            "\t \u001b[32mtrain_loss: 0.5441\u001b[0m\n",
            "==============================\n"
          ]
        },
        {
          "name": "stderr",
          "output_type": "stream",
          "text": [
            "\n",
            "train: 100%|██████████| 9107/9107 [00:20<00:00, 451.03it/s]"
          ]
        },
        {
          "name": "stdout",
          "output_type": "stream",
          "text": [
            "Epoch 10 elapsed: 20.194s\n"
          ]
        },
        {
          "name": "stderr",
          "output_type": "stream",
          "text": [
            "\n"
          ]
        },
        {
          "name": "stdout",
          "output_type": "stream",
          "text": [
            "\t \u001b[32mtrain_loss: 0.5299\u001b[0m\n",
            "==============================\n"
          ]
        },
        {
          "name": "stderr",
          "output_type": "stream",
          "text": [
            "eval_pointwise: 100%|██████████| 36/36 [00:00<00:00, 322.38it/s]\n"
          ]
        },
        {
          "name": "stdout",
          "output_type": "stream",
          "text": [
            "\n",
            "LibReco SVD (0.7924399030985273, 0.0008455758476715153) ('Train Loss:', 0.5273, 0.0014463747785411901)\n"
          ]
        }
      ],
      "source": [
        "train_lib_model(\"SVD\", ext)"
      ]
    },
    {
      "cell_type": "code",
      "execution_count": null,
      "id": "HVgQay7aRrD0",
      "metadata": {
        "colab": {
          "base_uri": "https://localhost:8080/"
        },
        "id": "HVgQay7aRrD0",
        "outputId": "1726bfff-b98c-4b66-907a-fc4b025352fc"
      },
      "outputs": [
        {
          "name": "stdout",
          "output_type": "stream",
          "text": [
            "Training start time: \u001b[35m2025-05-23 09:11:42\u001b[0m\n"
          ]
        },
        {
          "name": "stderr",
          "output_type": "stream",
          "text": [
            "train: 100%|██████████| 9107/9107 [00:20<00:00, 439.22it/s]"
          ]
        },
        {
          "name": "stdout",
          "output_type": "stream",
          "text": [
            "Epoch 1 elapsed: 20.736s\n",
            "\t \u001b[32mtrain_loss: 2.9147\u001b[0m\n"
          ]
        },
        {
          "name": "stderr",
          "output_type": "stream",
          "text": [
            "\n"
          ]
        },
        {
          "name": "stdout",
          "output_type": "stream",
          "text": [
            "==============================\n"
          ]
        },
        {
          "name": "stderr",
          "output_type": "stream",
          "text": [
            "train: 100%|██████████| 9107/9107 [00:20<00:00, 441.69it/s]"
          ]
        },
        {
          "name": "stdout",
          "output_type": "stream",
          "text": [
            "Epoch 2 elapsed: 20.621s\n",
            "\t \u001b[32mtrain_loss: 0.6679\u001b[0m\n",
            "==============================\n"
          ]
        },
        {
          "name": "stderr",
          "output_type": "stream",
          "text": [
            "\n",
            "train: 100%|██████████| 9107/9107 [00:20<00:00, 444.87it/s]"
          ]
        },
        {
          "name": "stdout",
          "output_type": "stream",
          "text": [
            "Epoch 3 elapsed: 20.473s\n",
            "\t \u001b[32mtrain_loss: 0.6495\u001b[0m\n",
            "==============================\n"
          ]
        },
        {
          "name": "stderr",
          "output_type": "stream",
          "text": [
            "\n",
            "train: 100%|██████████| 9107/9107 [00:20<00:00, 447.79it/s]"
          ]
        },
        {
          "name": "stdout",
          "output_type": "stream",
          "text": [
            "Epoch 4 elapsed: 20.340s\n",
            "\t \u001b[32mtrain_loss: 0.6346\u001b[0m\n",
            "==============================\n"
          ]
        },
        {
          "name": "stderr",
          "output_type": "stream",
          "text": [
            "\n",
            "train: 100%|██████████| 9107/9107 [00:20<00:00, 443.35it/s]"
          ]
        },
        {
          "name": "stdout",
          "output_type": "stream",
          "text": [
            "Epoch 5 elapsed: 20.543s\n",
            "\t \u001b[32mtrain_loss: 0.6208\u001b[0m\n",
            "==============================\n"
          ]
        },
        {
          "name": "stderr",
          "output_type": "stream",
          "text": [
            "\n",
            "train: 100%|██████████| 9107/9107 [00:20<00:00, 443.24it/s]"
          ]
        },
        {
          "name": "stdout",
          "output_type": "stream",
          "text": [
            "Epoch 6 elapsed: 20.549s\n",
            "\t \u001b[32mtrain_loss: 0.6055\u001b[0m\n",
            "==============================\n"
          ]
        },
        {
          "name": "stderr",
          "output_type": "stream",
          "text": [
            "\n",
            "train: 100%|██████████| 9107/9107 [00:20<00:00, 441.71it/s]"
          ]
        },
        {
          "name": "stdout",
          "output_type": "stream",
          "text": [
            "Epoch 7 elapsed: 20.619s\n",
            "\t \u001b[32mtrain_loss: 0.5866\u001b[0m\n",
            "==============================\n"
          ]
        },
        {
          "name": "stderr",
          "output_type": "stream",
          "text": [
            "\n",
            "train: 100%|██████████| 9107/9107 [00:20<00:00, 446.62it/s]"
          ]
        },
        {
          "name": "stdout",
          "output_type": "stream",
          "text": [
            "Epoch 8 elapsed: 20.394s\n",
            "\t \u001b[32mtrain_loss: 0.5658\u001b[0m\n",
            "==============================\n"
          ]
        },
        {
          "name": "stderr",
          "output_type": "stream",
          "text": [
            "\n",
            "train: 100%|██████████| 9107/9107 [00:20<00:00, 443.46it/s]"
          ]
        },
        {
          "name": "stdout",
          "output_type": "stream",
          "text": [
            "Epoch 9 elapsed: 20.538s\n",
            "\t \u001b[32mtrain_loss: 0.5474\u001b[0m\n",
            "==============================\n"
          ]
        },
        {
          "name": "stderr",
          "output_type": "stream",
          "text": [
            "\n",
            "train: 100%|██████████| 9107/9107 [00:20<00:00, 442.31it/s]"
          ]
        },
        {
          "name": "stdout",
          "output_type": "stream",
          "text": [
            "Epoch 10 elapsed: 20.592s\n",
            "\t \u001b[32mtrain_loss: 0.5332\u001b[0m\n",
            "==============================\n"
          ]
        },
        {
          "name": "stderr",
          "output_type": "stream",
          "text": [
            "\n",
            "eval_pointwise: 100%|██████████| 36/36 [00:00<00:00, 360.73it/s]\n"
          ]
        },
        {
          "name": "stdout",
          "output_type": "stream",
          "text": [
            "Training start time: \u001b[35m2025-05-23 09:15:09\u001b[0m\n"
          ]
        },
        {
          "name": "stderr",
          "output_type": "stream",
          "text": [
            "train: 100%|██████████| 9107/9107 [00:20<00:00, 454.51it/s]"
          ]
        },
        {
          "name": "stdout",
          "output_type": "stream",
          "text": [
            "Epoch 1 elapsed: 20.039s\n",
            "\t \u001b[32mtrain_loss: 2.9341\u001b[0m\n",
            "==============================\n"
          ]
        },
        {
          "name": "stderr",
          "output_type": "stream",
          "text": [
            "\n",
            "train: 100%|██████████| 9107/9107 [00:19<00:00, 459.71it/s]"
          ]
        },
        {
          "name": "stdout",
          "output_type": "stream",
          "text": [
            "Epoch 2 elapsed: 19.812s\n",
            "\t \u001b[32mtrain_loss: 0.6698\u001b[0m\n",
            "==============================\n"
          ]
        },
        {
          "name": "stderr",
          "output_type": "stream",
          "text": [
            "\n",
            "train: 100%|██████████| 9107/9107 [00:20<00:00, 450.66it/s]"
          ]
        },
        {
          "name": "stdout",
          "output_type": "stream",
          "text": [
            "Epoch 3 elapsed: 20.210s\n",
            "\t \u001b[32mtrain_loss: 0.654\u001b[0m\n",
            "==============================\n"
          ]
        },
        {
          "name": "stderr",
          "output_type": "stream",
          "text": [
            "\n",
            "train: 100%|██████████| 9107/9107 [00:19<00:00, 457.92it/s]"
          ]
        },
        {
          "name": "stdout",
          "output_type": "stream",
          "text": [
            "Epoch 4 elapsed: 19.890s\n",
            "\t \u001b[32mtrain_loss: 0.6382\u001b[0m\n",
            "==============================\n"
          ]
        },
        {
          "name": "stderr",
          "output_type": "stream",
          "text": [
            "\n",
            "train: 100%|██████████| 9107/9107 [00:19<00:00, 458.43it/s]"
          ]
        },
        {
          "name": "stdout",
          "output_type": "stream",
          "text": [
            "Epoch 5 elapsed: 19.867s\n",
            "\t \u001b[32mtrain_loss: 0.6229\u001b[0m\n",
            "==============================\n"
          ]
        },
        {
          "name": "stderr",
          "output_type": "stream",
          "text": [
            "\n",
            "train: 100%|██████████| 9107/9107 [00:19<00:00, 463.05it/s]"
          ]
        },
        {
          "name": "stdout",
          "output_type": "stream",
          "text": [
            "Epoch 6 elapsed: 19.670s\n",
            "\t \u001b[32mtrain_loss: 0.6045\u001b[0m\n",
            "==============================\n"
          ]
        },
        {
          "name": "stderr",
          "output_type": "stream",
          "text": [
            "\n",
            "train: 100%|██████████| 9107/9107 [00:19<00:00, 459.84it/s]"
          ]
        },
        {
          "name": "stdout",
          "output_type": "stream",
          "text": [
            "Epoch 7 elapsed: 19.807s\n",
            "\t \u001b[32mtrain_loss: 0.5837\u001b[0m\n",
            "==============================\n"
          ]
        },
        {
          "name": "stderr",
          "output_type": "stream",
          "text": [
            "\n",
            "train: 100%|██████████| 9107/9107 [00:19<00:00, 457.72it/s]"
          ]
        },
        {
          "name": "stdout",
          "output_type": "stream",
          "text": [
            "Epoch 8 elapsed: 19.899s\n",
            "\t \u001b[32mtrain_loss: 0.5629\u001b[0m\n",
            "==============================\n"
          ]
        },
        {
          "name": "stderr",
          "output_type": "stream",
          "text": [
            "\n",
            "train: 100%|██████████| 9107/9107 [00:19<00:00, 457.86it/s]"
          ]
        },
        {
          "name": "stdout",
          "output_type": "stream",
          "text": [
            "Epoch 9 elapsed: 19.893s\n",
            "\t \u001b[32mtrain_loss: 0.5452\u001b[0m\n",
            "==============================\n"
          ]
        },
        {
          "name": "stderr",
          "output_type": "stream",
          "text": [
            "\n",
            "train: 100%|██████████| 9107/9107 [00:19<00:00, 461.21it/s]"
          ]
        },
        {
          "name": "stdout",
          "output_type": "stream",
          "text": [
            "Epoch 10 elapsed: 19.748s\n",
            "\t \u001b[32mtrain_loss: 0.5315\u001b[0m\n",
            "==============================\n"
          ]
        },
        {
          "name": "stderr",
          "output_type": "stream",
          "text": [
            "\n",
            "eval_pointwise: 100%|██████████| 36/36 [00:00<00:00, 390.05it/s]\n"
          ]
        },
        {
          "name": "stdout",
          "output_type": "stream",
          "text": [
            "Training start time: \u001b[35m2025-05-23 09:18:30\u001b[0m\n"
          ]
        },
        {
          "name": "stderr",
          "output_type": "stream",
          "text": [
            "train: 100%|██████████| 9107/9107 [00:20<00:00, 444.42it/s]"
          ]
        },
        {
          "name": "stdout",
          "output_type": "stream",
          "text": [
            "Epoch 1 elapsed: 20.493s\n",
            "\t \u001b[32mtrain_loss: 2.9188\u001b[0m\n",
            "==============================\n"
          ]
        },
        {
          "name": "stderr",
          "output_type": "stream",
          "text": [
            "\n",
            "train: 100%|██████████| 9107/9107 [00:20<00:00, 449.23it/s]"
          ]
        },
        {
          "name": "stdout",
          "output_type": "stream",
          "text": [
            "Epoch 2 elapsed: 20.275s\n",
            "\t \u001b[32mtrain_loss: 0.6744\u001b[0m\n",
            "==============================\n"
          ]
        },
        {
          "name": "stderr",
          "output_type": "stream",
          "text": [
            "\n",
            "train: 100%|██████████| 9107/9107 [00:20<00:00, 449.27it/s]"
          ]
        },
        {
          "name": "stdout",
          "output_type": "stream",
          "text": [
            "Epoch 3 elapsed: 20.272s\n",
            "\t \u001b[32mtrain_loss: 0.6673\u001b[0m\n",
            "==============================\n"
          ]
        },
        {
          "name": "stderr",
          "output_type": "stream",
          "text": [
            "\n",
            "train: 100%|██████████| 9107/9107 [00:20<00:00, 455.10it/s]"
          ]
        },
        {
          "name": "stdout",
          "output_type": "stream",
          "text": [
            "Epoch 4 elapsed: 20.013s\n",
            "\t \u001b[32mtrain_loss: 0.6508\u001b[0m\n",
            "==============================\n"
          ]
        },
        {
          "name": "stderr",
          "output_type": "stream",
          "text": [
            "\n",
            "train: 100%|██████████| 9107/9107 [00:20<00:00, 448.94it/s]"
          ]
        },
        {
          "name": "stdout",
          "output_type": "stream",
          "text": [
            "Epoch 5 elapsed: 20.288s\n",
            "\t \u001b[32mtrain_loss: 0.6265\u001b[0m\n",
            "==============================\n"
          ]
        },
        {
          "name": "stderr",
          "output_type": "stream",
          "text": [
            "\n",
            "train: 100%|██████████| 9107/9107 [00:20<00:00, 449.18it/s]"
          ]
        },
        {
          "name": "stdout",
          "output_type": "stream",
          "text": [
            "Epoch 6 elapsed: 20.277s\n",
            "\t \u001b[32mtrain_loss: 0.6045\u001b[0m\n",
            "==============================\n"
          ]
        },
        {
          "name": "stderr",
          "output_type": "stream",
          "text": [
            "\n",
            "train: 100%|██████████| 9107/9107 [00:20<00:00, 451.41it/s]"
          ]
        },
        {
          "name": "stdout",
          "output_type": "stream",
          "text": [
            "Epoch 7 elapsed: 20.177s\n",
            "\t \u001b[32mtrain_loss: 0.5838\u001b[0m\n",
            "==============================\n"
          ]
        },
        {
          "name": "stderr",
          "output_type": "stream",
          "text": [
            "\n",
            "train: 100%|██████████| 9107/9107 [00:20<00:00, 448.49it/s]"
          ]
        },
        {
          "name": "stdout",
          "output_type": "stream",
          "text": [
            "Epoch 8 elapsed: 20.308s\n",
            "\t \u001b[32mtrain_loss: 0.5638\u001b[0m\n",
            "==============================\n"
          ]
        },
        {
          "name": "stderr",
          "output_type": "stream",
          "text": [
            "\n",
            "train: 100%|██████████| 9107/9107 [00:20<00:00, 446.87it/s]"
          ]
        },
        {
          "name": "stdout",
          "output_type": "stream",
          "text": [
            "Epoch 9 elapsed: 20.382s\n",
            "\t \u001b[32mtrain_loss: 0.5469\u001b[0m\n",
            "==============================\n"
          ]
        },
        {
          "name": "stderr",
          "output_type": "stream",
          "text": [
            "\n",
            "train: 100%|██████████| 9107/9107 [00:20<00:00, 449.90it/s]"
          ]
        },
        {
          "name": "stdout",
          "output_type": "stream",
          "text": [
            "Epoch 10 elapsed: 20.244s\n",
            "\t \u001b[32mtrain_loss: 0.5332\u001b[0m\n",
            "==============================\n"
          ]
        },
        {
          "name": "stderr",
          "output_type": "stream",
          "text": [
            "\n",
            "eval_pointwise: 100%|██████████| 36/36 [00:00<00:00, 375.43it/s]\n"
          ]
        },
        {
          "name": "stdout",
          "output_type": "stream",
          "text": [
            "Training start time: \u001b[35m2025-05-23 09:21:55\u001b[0m\n"
          ]
        },
        {
          "name": "stderr",
          "output_type": "stream",
          "text": [
            "train: 100%|██████████| 9107/9107 [00:20<00:00, 442.22it/s]"
          ]
        },
        {
          "name": "stdout",
          "output_type": "stream",
          "text": [
            "Epoch 1 elapsed: 20.595s\n",
            "\t \u001b[32mtrain_loss: 2.922\u001b[0m\n",
            "==============================\n"
          ]
        },
        {
          "name": "stderr",
          "output_type": "stream",
          "text": [
            "\n",
            "train: 100%|██████████| 9107/9107 [00:20<00:00, 446.69it/s]"
          ]
        },
        {
          "name": "stdout",
          "output_type": "stream",
          "text": [
            "Epoch 2 elapsed: 20.390s\n",
            "\t \u001b[32mtrain_loss: 0.6746\u001b[0m\n",
            "==============================\n"
          ]
        },
        {
          "name": "stderr",
          "output_type": "stream",
          "text": [
            "\n",
            "train: 100%|██████████| 9107/9107 [00:20<00:00, 440.96it/s]"
          ]
        },
        {
          "name": "stdout",
          "output_type": "stream",
          "text": [
            "Epoch 3 elapsed: 20.655s\n",
            "\t \u001b[32mtrain_loss: 0.6673\u001b[0m\n",
            "==============================\n"
          ]
        },
        {
          "name": "stderr",
          "output_type": "stream",
          "text": [
            "\n",
            "train: 100%|██████████| 9107/9107 [00:20<00:00, 443.42it/s]"
          ]
        },
        {
          "name": "stdout",
          "output_type": "stream",
          "text": [
            "Epoch 4 elapsed: 20.541s\n",
            "\t \u001b[32mtrain_loss: 0.6523\u001b[0m\n",
            "==============================\n"
          ]
        },
        {
          "name": "stderr",
          "output_type": "stream",
          "text": [
            "\n",
            "train: 100%|██████████| 9107/9107 [00:20<00:00, 444.56it/s]"
          ]
        },
        {
          "name": "stdout",
          "output_type": "stream",
          "text": [
            "Epoch 5 elapsed: 20.488s\n",
            "\t \u001b[32mtrain_loss: 0.6291\u001b[0m\n",
            "==============================\n"
          ]
        },
        {
          "name": "stderr",
          "output_type": "stream",
          "text": [
            "\n",
            "train: 100%|██████████| 9107/9107 [00:20<00:00, 445.85it/s]"
          ]
        },
        {
          "name": "stdout",
          "output_type": "stream",
          "text": [
            "Epoch 6 elapsed: 20.428s\n",
            "\t \u001b[32mtrain_loss: 0.6065\u001b[0m\n",
            "==============================\n"
          ]
        },
        {
          "name": "stderr",
          "output_type": "stream",
          "text": [
            "\n",
            "train: 100%|██████████| 9107/9107 [00:20<00:00, 445.17it/s]"
          ]
        },
        {
          "name": "stdout",
          "output_type": "stream",
          "text": [
            "Epoch 7 elapsed: 20.459s\n",
            "\t \u001b[32mtrain_loss: 0.5843\u001b[0m\n",
            "==============================\n"
          ]
        },
        {
          "name": "stderr",
          "output_type": "stream",
          "text": [
            "\n",
            "train: 100%|██████████| 9107/9107 [00:20<00:00, 443.30it/s]"
          ]
        },
        {
          "name": "stdout",
          "output_type": "stream",
          "text": [
            "Epoch 8 elapsed: 20.546s\n",
            "\t \u001b[32mtrain_loss: 0.5629\u001b[0m\n",
            "==============================\n"
          ]
        },
        {
          "name": "stderr",
          "output_type": "stream",
          "text": [
            "\n",
            "train: 100%|██████████| 9107/9107 [00:20<00:00, 445.06it/s]"
          ]
        },
        {
          "name": "stdout",
          "output_type": "stream",
          "text": [
            "Epoch 9 elapsed: 20.465s\n",
            "\t \u001b[32mtrain_loss: 0.5442\u001b[0m\n",
            "==============================\n"
          ]
        },
        {
          "name": "stderr",
          "output_type": "stream",
          "text": [
            "\n",
            "train: 100%|██████████| 9107/9107 [00:20<00:00, 446.36it/s]"
          ]
        },
        {
          "name": "stdout",
          "output_type": "stream",
          "text": [
            "Epoch 10 elapsed: 20.405s\n",
            "\t \u001b[32mtrain_loss: 0.5304\u001b[0m\n",
            "==============================\n"
          ]
        },
        {
          "name": "stderr",
          "output_type": "stream",
          "text": [
            "\n",
            "eval_pointwise: 100%|██████████| 36/36 [00:00<00:00, 378.37it/s]\n"
          ]
        },
        {
          "name": "stdout",
          "output_type": "stream",
          "text": [
            "Training start time: \u001b[35m2025-05-23 09:25:22\u001b[0m\n"
          ]
        },
        {
          "name": "stderr",
          "output_type": "stream",
          "text": [
            "train: 100%|██████████| 9107/9107 [00:19<00:00, 457.68it/s]"
          ]
        },
        {
          "name": "stdout",
          "output_type": "stream",
          "text": [
            "Epoch 1 elapsed: 19.899s\n",
            "\t \u001b[32mtrain_loss: 2.9293\u001b[0m\n",
            "==============================\n"
          ]
        },
        {
          "name": "stderr",
          "output_type": "stream",
          "text": [
            "\n",
            "train: 100%|██████████| 9107/9107 [00:19<00:00, 456.89it/s]"
          ]
        },
        {
          "name": "stdout",
          "output_type": "stream",
          "text": [
            "Epoch 2 elapsed: 19.934s\n",
            "\t \u001b[32mtrain_loss: 0.674\u001b[0m\n",
            "==============================\n"
          ]
        },
        {
          "name": "stderr",
          "output_type": "stream",
          "text": [
            "\n",
            "train: 100%|██████████| 9107/9107 [00:20<00:00, 453.45it/s]"
          ]
        },
        {
          "name": "stdout",
          "output_type": "stream",
          "text": [
            "Epoch 3 elapsed: 20.086s\n",
            "\t \u001b[32mtrain_loss: 0.6638\u001b[0m\n",
            "==============================\n"
          ]
        },
        {
          "name": "stderr",
          "output_type": "stream",
          "text": [
            "\n",
            "train: 100%|██████████| 9107/9107 [00:20<00:00, 454.32it/s]"
          ]
        },
        {
          "name": "stdout",
          "output_type": "stream",
          "text": [
            "Epoch 4 elapsed: 20.048s\n",
            "\t \u001b[32mtrain_loss: 0.6435\u001b[0m\n",
            "==============================\n"
          ]
        },
        {
          "name": "stderr",
          "output_type": "stream",
          "text": [
            "\n",
            "train: 100%|██████████| 9107/9107 [00:19<00:00, 459.94it/s]"
          ]
        },
        {
          "name": "stdout",
          "output_type": "stream",
          "text": [
            "Epoch 5 elapsed: 19.803s\n",
            "\t \u001b[32mtrain_loss: 0.6232\u001b[0m\n",
            "==============================\n"
          ]
        },
        {
          "name": "stderr",
          "output_type": "stream",
          "text": [
            "\n",
            "train: 100%|██████████| 9107/9107 [00:19<00:00, 458.48it/s]"
          ]
        },
        {
          "name": "stdout",
          "output_type": "stream",
          "text": [
            "Epoch 6 elapsed: 19.866s\n",
            "\t \u001b[32mtrain_loss: 0.607\u001b[0m\n",
            "=============================="
          ]
        },
        {
          "name": "stderr",
          "output_type": "stream",
          "text": [
            "\n"
          ]
        },
        {
          "name": "stdout",
          "output_type": "stream",
          "text": [
            "\n"
          ]
        },
        {
          "name": "stderr",
          "output_type": "stream",
          "text": [
            "train: 100%|██████████| 9107/9107 [00:19<00:00, 455.69it/s]"
          ]
        },
        {
          "name": "stdout",
          "output_type": "stream",
          "text": [
            "Epoch 7 elapsed: 19.987s\n",
            "\t \u001b[32mtrain_loss: 0.589\u001b[0m\n",
            "==============================\n"
          ]
        },
        {
          "name": "stderr",
          "output_type": "stream",
          "text": [
            "\n",
            "train: 100%|██████████| 9107/9107 [00:20<00:00, 453.02it/s]"
          ]
        },
        {
          "name": "stdout",
          "output_type": "stream",
          "text": [
            "Epoch 8 elapsed: 20.105s\n",
            "\t \u001b[32mtrain_loss: 0.5688\u001b[0m\n",
            "==============================\n"
          ]
        },
        {
          "name": "stderr",
          "output_type": "stream",
          "text": [
            "\n",
            "train: 100%|██████████| 9107/9107 [00:20<00:00, 436.87it/s]"
          ]
        },
        {
          "name": "stdout",
          "output_type": "stream",
          "text": [
            "Epoch 9 elapsed: 20.849s\n",
            "\t \u001b[32mtrain_loss: 0.5504\u001b[0m\n",
            "==============================\n"
          ]
        },
        {
          "name": "stderr",
          "output_type": "stream",
          "text": [
            "\n",
            "train: 100%|██████████| 9107/9107 [00:19<00:00, 458.01it/s]"
          ]
        },
        {
          "name": "stdout",
          "output_type": "stream",
          "text": [
            "Epoch 10 elapsed: 19.886s\n",
            "\t \u001b[32mtrain_loss: 0.5358\u001b[0m\n",
            "==============================\n"
          ]
        },
        {
          "name": "stderr",
          "output_type": "stream",
          "text": [
            "\n",
            "eval_pointwise: 100%|██████████| 36/36 [00:00<00:00, 376.50it/s]\n"
          ]
        },
        {
          "name": "stdout",
          "output_type": "stream",
          "text": [
            "\n",
            "LibReco SVD (0.7964789858263807, 0.0010612340055286404) ('Train Loss:', 0.5328200000000001, 0.0018312837027615624)\n"
          ]
        }
      ],
      "source": [
        "train_lib_model(\"SVD\", column_ext)"
      ]
    },
    {
      "cell_type": "code",
      "execution_count": null,
      "id": "1f6cifjXRsJU",
      "metadata": {
        "colab": {
          "base_uri": "https://localhost:8080/"
        },
        "id": "1f6cifjXRsJU",
        "outputId": "45c9c4db-037e-4b0d-a36c-5fdd88709468"
      },
      "outputs": [
        {
          "name": "stdout",
          "output_type": "stream",
          "text": [
            "Training start time: \u001b[35m2025-05-23 09:29:50\u001b[0m\n"
          ]
        },
        {
          "name": "stderr",
          "output_type": "stream",
          "text": [
            "train: 100%|██████████| 9107/9107 [00:20<00:00, 449.08it/s]"
          ]
        },
        {
          "name": "stdout",
          "output_type": "stream",
          "text": [
            "Epoch 1 elapsed: 20.281s\n",
            "\t \u001b[32mtrain_loss: 2.92\u001b[0m\n",
            "==============================\n"
          ]
        },
        {
          "name": "stderr",
          "output_type": "stream",
          "text": [
            "\n",
            "train: 100%|██████████| 9107/9107 [00:19<00:00, 455.76it/s]"
          ]
        },
        {
          "name": "stdout",
          "output_type": "stream",
          "text": [
            "Epoch 2 elapsed: 19.984s\n",
            "\t \u001b[32mtrain_loss: 0.6825\u001b[0m\n",
            "==============================\n"
          ]
        },
        {
          "name": "stderr",
          "output_type": "stream",
          "text": [
            "\n",
            "train: 100%|██████████| 9107/9107 [00:20<00:00, 454.39it/s]"
          ]
        },
        {
          "name": "stdout",
          "output_type": "stream",
          "text": [
            "Epoch 3 elapsed: 20.044s\n",
            "\t \u001b[32mtrain_loss: 0.666\u001b[0m\n",
            "==============================\n"
          ]
        },
        {
          "name": "stderr",
          "output_type": "stream",
          "text": [
            "\n",
            "train: 100%|██████████| 9107/9107 [00:20<00:00, 451.35it/s]"
          ]
        },
        {
          "name": "stdout",
          "output_type": "stream",
          "text": [
            "Epoch 4 elapsed: 20.179s\n",
            "\t \u001b[32mtrain_loss: 0.6487\u001b[0m\n",
            "==============================\n"
          ]
        },
        {
          "name": "stderr",
          "output_type": "stream",
          "text": [
            "\n",
            "train: 100%|██████████| 9107/9107 [00:20<00:00, 450.07it/s]"
          ]
        },
        {
          "name": "stdout",
          "output_type": "stream",
          "text": [
            "Epoch 5 elapsed: 20.237s\n",
            "\t \u001b[32mtrain_loss: 0.6333\u001b[0m\n",
            "==============================\n"
          ]
        },
        {
          "name": "stderr",
          "output_type": "stream",
          "text": [
            "\n",
            "train: 100%|██████████| 9107/9107 [00:20<00:00, 436.31it/s]"
          ]
        },
        {
          "name": "stdout",
          "output_type": "stream",
          "text": [
            "Epoch 6 elapsed: 20.875s\n",
            "\t \u001b[32mtrain_loss: 0.6169\u001b[0m\n",
            "==============================\n"
          ]
        },
        {
          "name": "stderr",
          "output_type": "stream",
          "text": [
            "\n",
            "train: 100%|██████████| 9107/9107 [00:20<00:00, 442.29it/s]"
          ]
        },
        {
          "name": "stdout",
          "output_type": "stream",
          "text": [
            "Epoch 7 elapsed: 20.593s\n",
            "\t \u001b[32mtrain_loss: 0.5971\u001b[0m\n",
            "==============================\n"
          ]
        },
        {
          "name": "stderr",
          "output_type": "stream",
          "text": [
            "\n",
            "train: 100%|██████████| 9107/9107 [00:20<00:00, 439.12it/s]"
          ]
        },
        {
          "name": "stdout",
          "output_type": "stream",
          "text": [
            "Epoch 8 elapsed: 20.741s\n",
            "\t \u001b[32mtrain_loss: 0.5756\u001b[0m\n",
            "==============================\n"
          ]
        },
        {
          "name": "stderr",
          "output_type": "stream",
          "text": [
            "\n",
            "train: 100%|██████████| 9107/9107 [00:20<00:00, 437.87it/s]"
          ]
        },
        {
          "name": "stdout",
          "output_type": "stream",
          "text": [
            "Epoch 9 elapsed: 20.800s\n",
            "\t \u001b[32mtrain_loss: 0.5568\u001b[0m\n"
          ]
        },
        {
          "name": "stderr",
          "output_type": "stream",
          "text": [
            "\n"
          ]
        },
        {
          "name": "stdout",
          "output_type": "stream",
          "text": [
            "==============================\n"
          ]
        },
        {
          "name": "stderr",
          "output_type": "stream",
          "text": [
            "train: 100%|██████████| 9107/9107 [00:20<00:00, 439.24it/s]"
          ]
        },
        {
          "name": "stdout",
          "output_type": "stream",
          "text": [
            "Epoch 10 elapsed: 20.735s\n",
            "\t \u001b[32mtrain_loss: 0.5424\u001b[0m\n",
            "==============================\n"
          ]
        },
        {
          "name": "stderr",
          "output_type": "stream",
          "text": [
            "\n",
            "eval_pointwise: 100%|██████████| 36/36 [00:00<00:00, 257.26it/s]\n"
          ]
        },
        {
          "name": "stdout",
          "output_type": "stream",
          "text": [
            "Training start time: \u001b[35m2025-05-23 09:33:16\u001b[0m\n"
          ]
        },
        {
          "name": "stderr",
          "output_type": "stream",
          "text": [
            "train: 100%|██████████| 9107/9107 [00:21<00:00, 430.12it/s]"
          ]
        },
        {
          "name": "stdout",
          "output_type": "stream",
          "text": [
            "Epoch 1 elapsed: 21.175s\n",
            "\t \u001b[32mtrain_loss: 2.9408\u001b[0m\n",
            "==============================\n"
          ]
        },
        {
          "name": "stderr",
          "output_type": "stream",
          "text": [
            "\n",
            "train: 100%|██████████| 9107/9107 [00:20<00:00, 439.88it/s]"
          ]
        },
        {
          "name": "stdout",
          "output_type": "stream",
          "text": [
            "Epoch 2 elapsed: 20.706s\n",
            "\t \u001b[32mtrain_loss: 0.6831\u001b[0m\n",
            "==============================\n"
          ]
        },
        {
          "name": "stderr",
          "output_type": "stream",
          "text": [
            "\n",
            "train: 100%|██████████| 9107/9107 [00:20<00:00, 439.63it/s]"
          ]
        },
        {
          "name": "stdout",
          "output_type": "stream",
          "text": [
            "Epoch 3 elapsed: 20.717s\n",
            "\t \u001b[32mtrain_loss: 0.6697\u001b[0m\n",
            "==============================\n"
          ]
        },
        {
          "name": "stderr",
          "output_type": "stream",
          "text": [
            "\n",
            "train: 100%|██████████| 9107/9107 [00:20<00:00, 442.59it/s]"
          ]
        },
        {
          "name": "stdout",
          "output_type": "stream",
          "text": [
            "Epoch 4 elapsed: 20.579s\n",
            "\t \u001b[32mtrain_loss: 0.6528\u001b[0m\n",
            "==============================\n"
          ]
        },
        {
          "name": "stderr",
          "output_type": "stream",
          "text": [
            "\n",
            "train: 100%|██████████| 9107/9107 [00:20<00:00, 435.26it/s]"
          ]
        },
        {
          "name": "stdout",
          "output_type": "stream",
          "text": [
            "Epoch 5 elapsed: 20.925s\n",
            "\t \u001b[32mtrain_loss: 0.6354\u001b[0m\n",
            "==============================\n"
          ]
        },
        {
          "name": "stderr",
          "output_type": "stream",
          "text": [
            "\n",
            "train: 100%|██████████| 9107/9107 [00:20<00:00, 436.73it/s]"
          ]
        },
        {
          "name": "stdout",
          "output_type": "stream",
          "text": [
            "Epoch 6 elapsed: 20.855s\n",
            "\t \u001b[32mtrain_loss: 0.6158\u001b[0m\n",
            "==============================\n"
          ]
        },
        {
          "name": "stderr",
          "output_type": "stream",
          "text": [
            "\n",
            "train: 100%|██████████| 9107/9107 [00:20<00:00, 437.65it/s]"
          ]
        },
        {
          "name": "stdout",
          "output_type": "stream",
          "text": [
            "Epoch 7 elapsed: 20.811s\n",
            "\t \u001b[32mtrain_loss: 0.5943\u001b[0m\n",
            "==============================\n"
          ]
        },
        {
          "name": "stderr",
          "output_type": "stream",
          "text": [
            "\n",
            "train: 100%|██████████| 9107/9107 [00:20<00:00, 439.27it/s]"
          ]
        },
        {
          "name": "stdout",
          "output_type": "stream",
          "text": [
            "Epoch 8 elapsed: 20.734s\n",
            "\t \u001b[32mtrain_loss: 0.5731\u001b[0m\n",
            "==============================\n"
          ]
        },
        {
          "name": "stderr",
          "output_type": "stream",
          "text": [
            "\n",
            "train: 100%|██████████| 9107/9107 [00:20<00:00, 435.22it/s]"
          ]
        },
        {
          "name": "stdout",
          "output_type": "stream",
          "text": [
            "Epoch 9 elapsed: 20.927s\n",
            "\t \u001b[32mtrain_loss: 0.555\u001b[0m\n",
            "==============================\n"
          ]
        },
        {
          "name": "stderr",
          "output_type": "stream",
          "text": [
            "\n",
            "train: 100%|██████████| 9107/9107 [00:21<00:00, 432.72it/s]"
          ]
        },
        {
          "name": "stdout",
          "output_type": "stream",
          "text": [
            "Epoch 10 elapsed: 21.048s\n",
            "\t \u001b[32mtrain_loss: 0.5409\u001b[0m\n",
            "==============================\n"
          ]
        },
        {
          "name": "stderr",
          "output_type": "stream",
          "text": [
            "\n",
            "eval_pointwise: 100%|██████████| 36/36 [00:00<00:00, 325.20it/s]\n"
          ]
        },
        {
          "name": "stdout",
          "output_type": "stream",
          "text": [
            "Training start time: \u001b[35m2025-05-23 09:36:47\u001b[0m\n"
          ]
        },
        {
          "name": "stderr",
          "output_type": "stream",
          "text": [
            "train: 100%|██████████| 9107/9107 [00:20<00:00, 448.29it/s]"
          ]
        },
        {
          "name": "stdout",
          "output_type": "stream",
          "text": [
            "Epoch 1 elapsed: 20.317s\n",
            "\t \u001b[32mtrain_loss: 2.9236\u001b[0m\n",
            "==============================\n"
          ]
        },
        {
          "name": "stderr",
          "output_type": "stream",
          "text": [
            "\n",
            "train: 100%|██████████| 9107/9107 [00:19<00:00, 459.32it/s]"
          ]
        },
        {
          "name": "stdout",
          "output_type": "stream",
          "text": [
            "Epoch 2 elapsed: 19.829s\n",
            "\t \u001b[32mtrain_loss: 0.686\u001b[0m\n",
            "==============================\n"
          ]
        },
        {
          "name": "stderr",
          "output_type": "stream",
          "text": [
            "\n",
            "train: 100%|██████████| 9107/9107 [00:20<00:00, 452.07it/s]"
          ]
        },
        {
          "name": "stdout",
          "output_type": "stream",
          "text": [
            "Epoch 3 elapsed: 20.147s\n",
            "\t \u001b[32mtrain_loss: 0.6789\u001b[0m\n",
            "==============================\n"
          ]
        },
        {
          "name": "stderr",
          "output_type": "stream",
          "text": [
            "\n",
            "train: 100%|██████████| 9107/9107 [00:20<00:00, 452.88it/s]"
          ]
        },
        {
          "name": "stdout",
          "output_type": "stream",
          "text": [
            "Epoch 4 elapsed: 20.111s\n",
            "\t \u001b[32mtrain_loss: 0.6629\u001b[0m\n",
            "==============================\n"
          ]
        },
        {
          "name": "stderr",
          "output_type": "stream",
          "text": [
            "\n",
            "train: 100%|██████████| 9107/9107 [00:20<00:00, 453.13it/s]"
          ]
        },
        {
          "name": "stdout",
          "output_type": "stream",
          "text": [
            "Epoch 5 elapsed: 20.100s\n",
            "\t \u001b[32mtrain_loss: 0.6387\u001b[0m\n",
            "==============================\n"
          ]
        },
        {
          "name": "stderr",
          "output_type": "stream",
          "text": [
            "\n",
            "train: 100%|██████████| 9107/9107 [00:19<00:00, 457.96it/s]"
          ]
        },
        {
          "name": "stdout",
          "output_type": "stream",
          "text": [
            "Epoch 6 elapsed: 19.888s\n",
            "\t \u001b[32mtrain_loss: 0.6158\u001b[0m\n",
            "==============================\n"
          ]
        },
        {
          "name": "stderr",
          "output_type": "stream",
          "text": [
            "\n",
            "train: 100%|██████████| 9107/9107 [00:20<00:00, 454.54it/s]"
          ]
        },
        {
          "name": "stdout",
          "output_type": "stream",
          "text": [
            "Epoch 7 elapsed: 20.038s\n",
            "\t \u001b[32mtrain_loss: 0.5943\u001b[0m\n",
            "==============================\n"
          ]
        },
        {
          "name": "stderr",
          "output_type": "stream",
          "text": [
            "\n",
            "train: 100%|██████████| 9107/9107 [00:20<00:00, 453.46it/s]"
          ]
        },
        {
          "name": "stdout",
          "output_type": "stream",
          "text": [
            "Epoch 8 elapsed: 20.086s\n",
            "\t \u001b[32mtrain_loss: 0.5738\u001b[0m\n",
            "==============================\n"
          ]
        },
        {
          "name": "stderr",
          "output_type": "stream",
          "text": [
            "\n",
            "train: 100%|██████████| 9107/9107 [00:20<00:00, 452.57it/s]"
          ]
        },
        {
          "name": "stdout",
          "output_type": "stream",
          "text": [
            "Epoch 9 elapsed: 20.125s\n",
            "\t \u001b[32mtrain_loss: 0.5565\u001b[0m\n",
            "==============================\n"
          ]
        },
        {
          "name": "stderr",
          "output_type": "stream",
          "text": [
            "\n",
            "train: 100%|██████████| 9107/9107 [00:19<00:00, 458.26it/s]"
          ]
        },
        {
          "name": "stdout",
          "output_type": "stream",
          "text": [
            "Epoch 10 elapsed: 19.875s\n",
            "\t \u001b[32mtrain_loss: 0.5425\u001b[0m\n",
            "==============================\n"
          ]
        },
        {
          "name": "stderr",
          "output_type": "stream",
          "text": [
            "\n",
            "eval_pointwise: 100%|██████████| 36/36 [00:00<00:00, 378.51it/s]\n"
          ]
        },
        {
          "name": "stdout",
          "output_type": "stream",
          "text": [
            "Training start time: \u001b[35m2025-05-23 09:40:10\u001b[0m\n"
          ]
        },
        {
          "name": "stderr",
          "output_type": "stream",
          "text": [
            "train: 100%|██████████| 9107/9107 [00:20<00:00, 449.44it/s]"
          ]
        },
        {
          "name": "stdout",
          "output_type": "stream",
          "text": [
            "Epoch 1 elapsed: 20.265s\n",
            "\t \u001b[32mtrain_loss: 2.9278\u001b[0m\n",
            "==============================\n"
          ]
        },
        {
          "name": "stderr",
          "output_type": "stream",
          "text": [
            "\n",
            "train: 100%|██████████| 9107/9107 [00:20<00:00, 451.32it/s]"
          ]
        },
        {
          "name": "stdout",
          "output_type": "stream",
          "text": [
            "Epoch 2 elapsed: 20.181s\n",
            "\t \u001b[32mtrain_loss: 0.6864\u001b[0m\n",
            "==============================\n"
          ]
        },
        {
          "name": "stderr",
          "output_type": "stream",
          "text": [
            "\n",
            "train: 100%|██████████| 9107/9107 [00:20<00:00, 450.69it/s]"
          ]
        },
        {
          "name": "stdout",
          "output_type": "stream",
          "text": [
            "Epoch 3 elapsed: 20.209s\n",
            "\t \u001b[32mtrain_loss: 0.6796\u001b[0m\n",
            "==============================\n"
          ]
        },
        {
          "name": "stderr",
          "output_type": "stream",
          "text": [
            "\n",
            "train: 100%|██████████| 9107/9107 [00:20<00:00, 454.25it/s]"
          ]
        },
        {
          "name": "stdout",
          "output_type": "stream",
          "text": [
            "Epoch 4 elapsed: 20.051s\n",
            "\t \u001b[32mtrain_loss: 0.6658\u001b[0m\n",
            "==============================\n"
          ]
        },
        {
          "name": "stderr",
          "output_type": "stream",
          "text": [
            "\n",
            "train: 100%|██████████| 9107/9107 [00:20<00:00, 448.89it/s]"
          ]
        },
        {
          "name": "stdout",
          "output_type": "stream",
          "text": [
            "Epoch 5 elapsed: 20.290s\n",
            "\t \u001b[32mtrain_loss: 0.6418\u001b[0m\n",
            "==============================\n"
          ]
        },
        {
          "name": "stderr",
          "output_type": "stream",
          "text": [
            "\n",
            "train: 100%|██████████| 9107/9107 [00:20<00:00, 444.45it/s]"
          ]
        },
        {
          "name": "stdout",
          "output_type": "stream",
          "text": [
            "Epoch 6 elapsed: 20.493s\n",
            "\t \u001b[32mtrain_loss: 0.6176\u001b[0m\n",
            "==============================\n"
          ]
        },
        {
          "name": "stderr",
          "output_type": "stream",
          "text": [
            "\n",
            "train: 100%|██████████| 9107/9107 [00:20<00:00, 450.78it/s]"
          ]
        },
        {
          "name": "stdout",
          "output_type": "stream",
          "text": [
            "Epoch 7 elapsed: 20.205s\n",
            "\t \u001b[32mtrain_loss: 0.5947\u001b[0m\n",
            "==============================\n"
          ]
        },
        {
          "name": "stderr",
          "output_type": "stream",
          "text": [
            "\n",
            "train: 100%|██████████| 9107/9107 [00:20<00:00, 453.73it/s]"
          ]
        },
        {
          "name": "stdout",
          "output_type": "stream",
          "text": [
            "Epoch 8 elapsed: 20.074s\n",
            "\t \u001b[32mtrain_loss: 0.5728\u001b[0m\n",
            "==============================\n"
          ]
        },
        {
          "name": "stderr",
          "output_type": "stream",
          "text": [
            "\n",
            "train: 100%|██████████| 9107/9107 [00:20<00:00, 451.14it/s]"
          ]
        },
        {
          "name": "stdout",
          "output_type": "stream",
          "text": [
            "Epoch 9 elapsed: 20.189s\n",
            "\t \u001b[32mtrain_loss: 0.5539\u001b[0m\n",
            "==============================\n"
          ]
        },
        {
          "name": "stderr",
          "output_type": "stream",
          "text": [
            "\n",
            "train: 100%|██████████| 9107/9107 [00:20<00:00, 450.51it/s]"
          ]
        },
        {
          "name": "stdout",
          "output_type": "stream",
          "text": [
            "Epoch 10 elapsed: 20.217s\n",
            "\t \u001b[32mtrain_loss: 0.5398\u001b[0m\n",
            "==============================\n"
          ]
        },
        {
          "name": "stderr",
          "output_type": "stream",
          "text": [
            "\n",
            "eval_pointwise: 100%|██████████| 36/36 [00:00<00:00, 370.94it/s]\n"
          ]
        },
        {
          "name": "stdout",
          "output_type": "stream",
          "text": [
            "Training start time: \u001b[35m2025-05-23 09:43:34\u001b[0m\n"
          ]
        },
        {
          "name": "stderr",
          "output_type": "stream",
          "text": [
            "train: 100%|██████████| 9107/9107 [00:20<00:00, 445.12it/s]"
          ]
        },
        {
          "name": "stdout",
          "output_type": "stream",
          "text": [
            "Epoch 1 elapsed: 20.461s\n",
            "\t \u001b[32mtrain_loss: 2.9377\u001b[0m\n",
            "==============================\n"
          ]
        },
        {
          "name": "stderr",
          "output_type": "stream",
          "text": [
            "\n",
            "train: 100%|██████████| 9107/9107 [00:20<00:00, 451.83it/s]"
          ]
        },
        {
          "name": "stdout",
          "output_type": "stream",
          "text": [
            "Epoch 2 elapsed: 20.158s\n",
            "\t \u001b[32mtrain_loss: 0.6852\u001b[0m\n",
            "==============================\n"
          ]
        },
        {
          "name": "stderr",
          "output_type": "stream",
          "text": [
            "\n",
            "train: 100%|██████████| 9107/9107 [00:20<00:00, 448.43it/s]"
          ]
        },
        {
          "name": "stdout",
          "output_type": "stream",
          "text": [
            "Epoch 3 elapsed: 20.311s\n",
            "\t \u001b[32mtrain_loss: 0.6736\u001b[0m\n",
            "==============================\n"
          ]
        },
        {
          "name": "stderr",
          "output_type": "stream",
          "text": [
            "\n",
            "train: 100%|██████████| 9107/9107 [00:20<00:00, 448.67it/s]"
          ]
        },
        {
          "name": "stdout",
          "output_type": "stream",
          "text": [
            "Epoch 4 elapsed: 20.300s\n",
            "\t \u001b[32mtrain_loss: 0.6528\u001b[0m\n",
            "==============================\n"
          ]
        },
        {
          "name": "stderr",
          "output_type": "stream",
          "text": [
            "\n",
            "train: 100%|██████████| 9107/9107 [00:20<00:00, 446.63it/s]"
          ]
        },
        {
          "name": "stdout",
          "output_type": "stream",
          "text": [
            "Epoch 5 elapsed: 20.393s\n",
            "\t \u001b[32mtrain_loss: 0.6337\u001b[0m\n",
            "==============================\n"
          ]
        },
        {
          "name": "stderr",
          "output_type": "stream",
          "text": [
            "\n",
            "train: 100%|██████████| 9107/9107 [00:20<00:00, 450.70it/s]"
          ]
        },
        {
          "name": "stdout",
          "output_type": "stream",
          "text": [
            "Epoch 6 elapsed: 20.209s\n",
            "\t \u001b[32mtrain_loss: 0.6179\u001b[0m\n",
            "==============================\n"
          ]
        },
        {
          "name": "stderr",
          "output_type": "stream",
          "text": [
            "\n",
            "train: 100%|██████████| 9107/9107 [00:20<00:00, 447.88it/s]"
          ]
        },
        {
          "name": "stdout",
          "output_type": "stream",
          "text": [
            "Epoch 7 elapsed: 20.336s\n",
            "\t \u001b[32mtrain_loss: 0.5996\u001b[0m\n",
            "==============================\n"
          ]
        },
        {
          "name": "stderr",
          "output_type": "stream",
          "text": [
            "\n",
            "train: 100%|██████████| 9107/9107 [00:20<00:00, 448.18it/s]"
          ]
        },
        {
          "name": "stdout",
          "output_type": "stream",
          "text": [
            "Epoch 8 elapsed: 20.322s\n",
            "\t \u001b[32mtrain_loss: 0.5789\u001b[0m\n",
            "==============================\n"
          ]
        },
        {
          "name": "stderr",
          "output_type": "stream",
          "text": [
            "\n",
            "train: 100%|██████████| 9107/9107 [00:20<00:00, 447.82it/s]"
          ]
        },
        {
          "name": "stdout",
          "output_type": "stream",
          "text": [
            "Epoch 9 elapsed: 20.339s\n",
            "\t \u001b[32mtrain_loss: 0.56\u001b[0m\n",
            "==============================\n"
          ]
        },
        {
          "name": "stderr",
          "output_type": "stream",
          "text": [
            "\n",
            "train: 100%|██████████| 9107/9107 [00:20<00:00, 450.26it/s]"
          ]
        },
        {
          "name": "stdout",
          "output_type": "stream",
          "text": [
            "Epoch 10 elapsed: 20.228s\n",
            "\t \u001b[32mtrain_loss: 0.5452\u001b[0m\n",
            "==============================\n"
          ]
        },
        {
          "name": "stderr",
          "output_type": "stream",
          "text": [
            "\n",
            "eval_pointwise: 100%|██████████| 36/36 [00:00<00:00, 373.58it/s]\n"
          ]
        },
        {
          "name": "stdout",
          "output_type": "stream",
          "text": [
            "\n",
            "LibReco SVD (0.8035246017718721, 0.0010287814940176578) ('Train Loss:', 0.54216, 0.0018205493676360564)\n"
          ]
        }
      ],
      "source": [
        "train_lib_model(\"SVD\", global_ext)"
      ]
    },
    {
      "cell_type": "code",
      "execution_count": null,
      "id": "Le_z30AmRrGJ",
      "metadata": {
        "colab": {
          "base_uri": "https://localhost:8080/"
        },
        "id": "Le_z30AmRrGJ",
        "outputId": "b0703590-6302-401b-9d9b-46c627ac164c"
      },
      "outputs": [
        {
          "name": "stdout",
          "output_type": "stream",
          "text": [
            "Training start time: \u001b[35m2025-05-23 09:46:59\u001b[0m\n"
          ]
        },
        {
          "name": "stderr",
          "output_type": "stream",
          "text": [
            "train: 100%|██████████| 9107/9107 [00:20<00:00, 453.58it/s]"
          ]
        },
        {
          "name": "stdout",
          "output_type": "stream",
          "text": [
            "Epoch 1 elapsed: 20.080s\n",
            "\t \u001b[32mtrain_loss: 2.7947\u001b[0m\n",
            "==============================\n"
          ]
        },
        {
          "name": "stderr",
          "output_type": "stream",
          "text": [
            "\n",
            "train: 100%|██████████| 9107/9107 [00:19<00:00, 462.47it/s]"
          ]
        },
        {
          "name": "stdout",
          "output_type": "stream",
          "text": [
            "Epoch 2 elapsed: 19.694s\n",
            "\t \u001b[32mtrain_loss: 0.7793\u001b[0m\n",
            "==============================\n"
          ]
        },
        {
          "name": "stderr",
          "output_type": "stream",
          "text": [
            "\n",
            "train: 100%|██████████| 9107/9107 [00:21<00:00, 433.59it/s]"
          ]
        },
        {
          "name": "stdout",
          "output_type": "stream",
          "text": [
            "Epoch 3 elapsed: 21.006s\n",
            "\t \u001b[32mtrain_loss: 0.7591\u001b[0m\n",
            "==============================\n"
          ]
        },
        {
          "name": "stderr",
          "output_type": "stream",
          "text": [
            "\n",
            "train: 100%|██████████| 9107/9107 [00:20<00:00, 455.19it/s]"
          ]
        },
        {
          "name": "stdout",
          "output_type": "stream",
          "text": [
            "Epoch 4 elapsed: 20.009s\n",
            "\t \u001b[32mtrain_loss: 0.7435\u001b[0m\n",
            "==============================\n"
          ]
        },
        {
          "name": "stderr",
          "output_type": "stream",
          "text": [
            "\n",
            "train: 100%|██████████| 9107/9107 [00:19<00:00, 456.42it/s]"
          ]
        },
        {
          "name": "stdout",
          "output_type": "stream",
          "text": [
            "Epoch 5 elapsed: 19.956s\n",
            "\t \u001b[32mtrain_loss: 0.727\u001b[0m\n",
            "==============================\n"
          ]
        },
        {
          "name": "stderr",
          "output_type": "stream",
          "text": [
            "\n",
            "train: 100%|██████████| 9107/9107 [00:19<00:00, 455.94it/s]"
          ]
        },
        {
          "name": "stdout",
          "output_type": "stream",
          "text": [
            "Epoch 6 elapsed: 19.977s\n",
            "\t \u001b[32mtrain_loss: 0.7068\u001b[0m\n",
            "==============================\n"
          ]
        },
        {
          "name": "stderr",
          "output_type": "stream",
          "text": [
            "\n",
            "train: 100%|██████████| 9107/9107 [00:19<00:00, 460.06it/s]"
          ]
        },
        {
          "name": "stdout",
          "output_type": "stream",
          "text": [
            "Epoch 7 elapsed: 19.798s\n",
            "\t \u001b[32mtrain_loss: 0.6823\u001b[0m\n",
            "==============================\n"
          ]
        },
        {
          "name": "stderr",
          "output_type": "stream",
          "text": [
            "\n",
            "train: 100%|██████████| 9107/9107 [00:19<00:00, 458.70it/s]"
          ]
        },
        {
          "name": "stdout",
          "output_type": "stream",
          "text": [
            "Epoch 8 elapsed: 19.856s\n",
            "\t \u001b[32mtrain_loss: 0.6572\u001b[0m\n",
            "==============================\n"
          ]
        },
        {
          "name": "stderr",
          "output_type": "stream",
          "text": [
            "\n",
            "train: 100%|██████████| 9107/9107 [00:19<00:00, 456.55it/s]"
          ]
        },
        {
          "name": "stdout",
          "output_type": "stream",
          "text": [
            "Epoch 9 elapsed: 19.949s\n",
            "\t \u001b[32mtrain_loss: 0.6361\u001b[0m\n",
            "==============================\n"
          ]
        },
        {
          "name": "stderr",
          "output_type": "stream",
          "text": [
            "\n",
            "train: 100%|██████████| 9107/9107 [00:19<00:00, 455.57it/s]"
          ]
        },
        {
          "name": "stdout",
          "output_type": "stream",
          "text": [
            "Epoch 10 elapsed: 19.992s\n",
            "\t \u001b[32mtrain_loss: 0.6207\u001b[0m\n",
            "==============================\n"
          ]
        },
        {
          "name": "stderr",
          "output_type": "stream",
          "text": [
            "\n",
            "eval_pointwise: 100%|██████████| 36/36 [00:00<00:00, 258.82it/s]\n"
          ]
        },
        {
          "name": "stdout",
          "output_type": "stream",
          "text": [
            "Training start time: \u001b[35m2025-05-23 09:50:21\u001b[0m\n"
          ]
        },
        {
          "name": "stderr",
          "output_type": "stream",
          "text": [
            "train: 100%|██████████| 9107/9107 [00:21<00:00, 422.64it/s]"
          ]
        },
        {
          "name": "stdout",
          "output_type": "stream",
          "text": [
            "Epoch 1 elapsed: 21.550s\n",
            "\t \u001b[32mtrain_loss: 2.8173\u001b[0m\n",
            "==============================\n"
          ]
        },
        {
          "name": "stderr",
          "output_type": "stream",
          "text": [
            "\n",
            "train: 100%|██████████| 9107/9107 [00:21<00:00, 421.23it/s]"
          ]
        },
        {
          "name": "stdout",
          "output_type": "stream",
          "text": [
            "Epoch 2 elapsed: 21.622s\n",
            "\t \u001b[32mtrain_loss: 0.7753\u001b[0m\n",
            "==============================\n"
          ]
        },
        {
          "name": "stderr",
          "output_type": "stream",
          "text": [
            "\n",
            "train: 100%|██████████| 9107/9107 [00:21<00:00, 416.58it/s]"
          ]
        },
        {
          "name": "stdout",
          "output_type": "stream",
          "text": [
            "Epoch 3 elapsed: 21.864s\n",
            "\t \u001b[32mtrain_loss: 0.7558\u001b[0m\n",
            "==============================\n"
          ]
        },
        {
          "name": "stderr",
          "output_type": "stream",
          "text": [
            "\n",
            "train: 100%|██████████| 9107/9107 [00:21<00:00, 415.33it/s]"
          ]
        },
        {
          "name": "stdout",
          "output_type": "stream",
          "text": [
            "Epoch 4 elapsed: 21.929s\n",
            "\t \u001b[32mtrain_loss: 0.7403\u001b[0m\n",
            "==============================\n"
          ]
        },
        {
          "name": "stderr",
          "output_type": "stream",
          "text": [
            "\n",
            "train: 100%|██████████| 9107/9107 [00:21<00:00, 424.35it/s]"
          ]
        },
        {
          "name": "stdout",
          "output_type": "stream",
          "text": [
            "Epoch 5 elapsed: 21.463s\n",
            "\t \u001b[32mtrain_loss: 0.7234\u001b[0m\n",
            "==============================\n"
          ]
        },
        {
          "name": "stderr",
          "output_type": "stream",
          "text": [
            "\n",
            "train: 100%|██████████| 9107/9107 [00:21<00:00, 415.71it/s]"
          ]
        },
        {
          "name": "stdout",
          "output_type": "stream",
          "text": [
            "Epoch 6 elapsed: 21.909s\n",
            "\t \u001b[32mtrain_loss: 0.7028\u001b[0m\n",
            "==============================\n"
          ]
        },
        {
          "name": "stderr",
          "output_type": "stream",
          "text": [
            "\n",
            "train: 100%|██████████| 9107/9107 [00:21<00:00, 421.80it/s]"
          ]
        },
        {
          "name": "stdout",
          "output_type": "stream",
          "text": [
            "Epoch 7 elapsed: 21.593s\n",
            "\t \u001b[32mtrain_loss: 0.678\u001b[0m\n",
            "==============================\n"
          ]
        },
        {
          "name": "stderr",
          "output_type": "stream",
          "text": [
            "\n",
            "train: 100%|██████████| 9107/9107 [00:21<00:00, 421.16it/s]"
          ]
        },
        {
          "name": "stdout",
          "output_type": "stream",
          "text": [
            "Epoch 8 elapsed: 21.625s\n",
            "\t \u001b[32mtrain_loss: 0.6537\u001b[0m\n",
            "==============================\n"
          ]
        },
        {
          "name": "stderr",
          "output_type": "stream",
          "text": [
            "\n",
            "train: 100%|██████████| 9107/9107 [00:21<00:00, 421.83it/s]"
          ]
        },
        {
          "name": "stdout",
          "output_type": "stream",
          "text": [
            "Epoch 9 elapsed: 21.592s\n",
            "\t \u001b[32mtrain_loss: 0.6335\u001b[0m\n",
            "==============================\n"
          ]
        },
        {
          "name": "stderr",
          "output_type": "stream",
          "text": [
            "\n",
            "train: 100%|██████████| 9107/9107 [00:21<00:00, 419.80it/s]"
          ]
        },
        {
          "name": "stdout",
          "output_type": "stream",
          "text": [
            "Epoch 10 elapsed: 21.696s\n",
            "\t \u001b[32mtrain_loss: 0.6184\u001b[0m\n",
            "==============================\n"
          ]
        },
        {
          "name": "stderr",
          "output_type": "stream",
          "text": [
            "\n",
            "eval_pointwise: 100%|██████████| 36/36 [00:00<00:00, 259.47it/s]\n"
          ]
        },
        {
          "name": "stdout",
          "output_type": "stream",
          "text": [
            "Training start time: \u001b[35m2025-05-23 09:54:00\u001b[0m\n"
          ]
        },
        {
          "name": "stderr",
          "output_type": "stream",
          "text": [
            "train: 100%|██████████| 9107/9107 [00:20<00:00, 454.16it/s]"
          ]
        },
        {
          "name": "stdout",
          "output_type": "stream",
          "text": [
            "Epoch 1 elapsed: 20.054s\n",
            "\t \u001b[32mtrain_loss: 2.8022\u001b[0m\n",
            "==============================\n"
          ]
        },
        {
          "name": "stderr",
          "output_type": "stream",
          "text": [
            "\n",
            "train: 100%|██████████| 9107/9107 [00:20<00:00, 453.34it/s]"
          ]
        },
        {
          "name": "stdout",
          "output_type": "stream",
          "text": [
            "Epoch 2 elapsed: 20.091s\n",
            "\t \u001b[32mtrain_loss: 0.7877\u001b[0m\n",
            "==============================\n"
          ]
        },
        {
          "name": "stderr",
          "output_type": "stream",
          "text": [
            "\n",
            "train: 100%|██████████| 9107/9107 [00:19<00:00, 457.57it/s]"
          ]
        },
        {
          "name": "stdout",
          "output_type": "stream",
          "text": [
            "Epoch 3 elapsed: 19.905s\n",
            "\t \u001b[32mtrain_loss: 0.7786\u001b[0m\n",
            "==============================\n"
          ]
        },
        {
          "name": "stderr",
          "output_type": "stream",
          "text": [
            "\n",
            "train: 100%|██████████| 9107/9107 [00:20<00:00, 454.67it/s]"
          ]
        },
        {
          "name": "stdout",
          "output_type": "stream",
          "text": [
            "Epoch 4 elapsed: 20.032s\n",
            "\t \u001b[32mtrain_loss: 0.7578\u001b[0m\n",
            "==============================\n"
          ]
        },
        {
          "name": "stderr",
          "output_type": "stream",
          "text": [
            "\n",
            "train: 100%|██████████| 9107/9107 [00:19<00:00, 456.97it/s]"
          ]
        },
        {
          "name": "stdout",
          "output_type": "stream",
          "text": [
            "Epoch 5 elapsed: 19.932s\n",
            "\t \u001b[32mtrain_loss: 0.7293\u001b[0m\n",
            "==============================\n"
          ]
        },
        {
          "name": "stderr",
          "output_type": "stream",
          "text": [
            "\n",
            "train: 100%|██████████| 9107/9107 [00:20<00:00, 455.25it/s]"
          ]
        },
        {
          "name": "stdout",
          "output_type": "stream",
          "text": [
            "Epoch 6 elapsed: 20.007s\n",
            "\t \u001b[32mtrain_loss: 0.7031\u001b[0m\n",
            "==============================\n"
          ]
        },
        {
          "name": "stderr",
          "output_type": "stream",
          "text": [
            "\n",
            "train: 100%|██████████| 9107/9107 [00:19<00:00, 457.10it/s]"
          ]
        },
        {
          "name": "stdout",
          "output_type": "stream",
          "text": [
            "Epoch 7 elapsed: 19.925s\n",
            "\t \u001b[32mtrain_loss: 0.6778\u001b[0m\n"
          ]
        },
        {
          "name": "stderr",
          "output_type": "stream",
          "text": [
            "\n"
          ]
        },
        {
          "name": "stdout",
          "output_type": "stream",
          "text": [
            "==============================\n"
          ]
        },
        {
          "name": "stderr",
          "output_type": "stream",
          "text": [
            "train: 100%|██████████| 9107/9107 [00:20<00:00, 454.47it/s]"
          ]
        },
        {
          "name": "stdout",
          "output_type": "stream",
          "text": [
            "Epoch 8 elapsed: 20.040s\n",
            "\t \u001b[32mtrain_loss: 0.6546\u001b[0m\n",
            "==============================\n"
          ]
        },
        {
          "name": "stderr",
          "output_type": "stream",
          "text": [
            "\n",
            "train: 100%|██████████| 9107/9107 [00:19<00:00, 457.49it/s]"
          ]
        },
        {
          "name": "stdout",
          "output_type": "stream",
          "text": [
            "Epoch 9 elapsed: 19.908s\n",
            "\t \u001b[32mtrain_loss: 0.6353\u001b[0m\n",
            "==============================\n"
          ]
        },
        {
          "name": "stderr",
          "output_type": "stream",
          "text": [
            "\n",
            "train: 100%|██████████| 9107/9107 [00:20<00:00, 452.94it/s]"
          ]
        },
        {
          "name": "stdout",
          "output_type": "stream",
          "text": [
            "Epoch 10 elapsed: 20.108s\n",
            "\t \u001b[32mtrain_loss: 0.6202\u001b[0m\n",
            "==============================\n"
          ]
        },
        {
          "name": "stderr",
          "output_type": "stream",
          "text": [
            "\n",
            "eval_pointwise: 100%|██████████| 36/36 [00:00<00:00, 315.26it/s]\n"
          ]
        },
        {
          "name": "stdout",
          "output_type": "stream",
          "text": [
            "Training start time: \u001b[35m2025-05-23 09:57:22\u001b[0m\n"
          ]
        },
        {
          "name": "stderr",
          "output_type": "stream",
          "text": [
            "train: 100%|██████████| 9107/9107 [00:20<00:00, 440.91it/s]"
          ]
        },
        {
          "name": "stdout",
          "output_type": "stream",
          "text": [
            "Epoch 1 elapsed: 20.657s\n",
            "\t \u001b[32mtrain_loss: 2.8028\u001b[0m\n",
            "==============================\n"
          ]
        },
        {
          "name": "stderr",
          "output_type": "stream",
          "text": [
            "\n",
            "train: 100%|██████████| 9107/9107 [00:20<00:00, 451.24it/s]"
          ]
        },
        {
          "name": "stdout",
          "output_type": "stream",
          "text": [
            "Epoch 2 elapsed: 20.185s\n",
            "\t \u001b[32mtrain_loss: 0.7882\u001b[0m\n",
            "==============================\n"
          ]
        },
        {
          "name": "stderr",
          "output_type": "stream",
          "text": [
            "\n",
            "train: 100%|██████████| 9107/9107 [00:20<00:00, 451.01it/s]"
          ]
        },
        {
          "name": "stdout",
          "output_type": "stream",
          "text": [
            "Epoch 3 elapsed: 20.194s\n",
            "\t \u001b[32mtrain_loss: 0.78\u001b[0m\n",
            "==============================\n"
          ]
        },
        {
          "name": "stderr",
          "output_type": "stream",
          "text": [
            "\n",
            "train: 100%|██████████| 9107/9107 [00:20<00:00, 454.84it/s]"
          ]
        },
        {
          "name": "stdout",
          "output_type": "stream",
          "text": [
            "Epoch 4 elapsed: 20.025s\n",
            "\t \u001b[32mtrain_loss: 0.7624\u001b[0m\n",
            "==============================\n"
          ]
        },
        {
          "name": "stderr",
          "output_type": "stream",
          "text": [
            "\n",
            "train: 100%|██████████| 9107/9107 [00:20<00:00, 454.84it/s]"
          ]
        },
        {
          "name": "stdout",
          "output_type": "stream",
          "text": [
            "Epoch 5 elapsed: 20.025s\n",
            "\t \u001b[32mtrain_loss: 0.7327\u001b[0m\n",
            "==============================\n"
          ]
        },
        {
          "name": "stderr",
          "output_type": "stream",
          "text": [
            "\n",
            "train: 100%|██████████| 9107/9107 [00:20<00:00, 451.04it/s]"
          ]
        },
        {
          "name": "stdout",
          "output_type": "stream",
          "text": [
            "Epoch 6 elapsed: 20.193s\n",
            "\t \u001b[32mtrain_loss: 0.7035\u001b[0m\n",
            "==============================\n"
          ]
        },
        {
          "name": "stderr",
          "output_type": "stream",
          "text": [
            "\n",
            "train: 100%|██████████| 9107/9107 [00:20<00:00, 451.66it/s]"
          ]
        },
        {
          "name": "stdout",
          "output_type": "stream",
          "text": [
            "Epoch 7 elapsed: 20.165s\n",
            "\t \u001b[32mtrain_loss: 0.6764\u001b[0m\n",
            "==============================\n"
          ]
        },
        {
          "name": "stderr",
          "output_type": "stream",
          "text": [
            "\n",
            "train: 100%|██████████| 9107/9107 [00:20<00:00, 453.25it/s]"
          ]
        },
        {
          "name": "stdout",
          "output_type": "stream",
          "text": [
            "Epoch 8 elapsed: 20.095s\n",
            "\t \u001b[32mtrain_loss: 0.6518\u001b[0m\n",
            "==============================\n"
          ]
        },
        {
          "name": "stderr",
          "output_type": "stream",
          "text": [
            "\n",
            "train: 100%|██████████| 9107/9107 [00:20<00:00, 454.14it/s]"
          ]
        },
        {
          "name": "stdout",
          "output_type": "stream",
          "text": [
            "Epoch 9 elapsed: 20.055s\n",
            "\t \u001b[32mtrain_loss: 0.6315\u001b[0m\n",
            "==============================\n"
          ]
        },
        {
          "name": "stderr",
          "output_type": "stream",
          "text": [
            "\n",
            "train: 100%|██████████| 9107/9107 [00:20<00:00, 451.58it/s]"
          ]
        },
        {
          "name": "stdout",
          "output_type": "stream",
          "text": [
            "Epoch 10 elapsed: 20.170s\n",
            "\t \u001b[32mtrain_loss: 0.6165\u001b[0m\n",
            "==============================\n"
          ]
        },
        {
          "name": "stderr",
          "output_type": "stream",
          "text": [
            "\n",
            "eval_pointwise: 100%|██████████| 36/36 [00:00<00:00, 331.42it/s]\n"
          ]
        },
        {
          "name": "stdout",
          "output_type": "stream",
          "text": [
            "Training start time: \u001b[35m2025-05-23 10:00:45\u001b[0m\n"
          ]
        },
        {
          "name": "stderr",
          "output_type": "stream",
          "text": [
            "train: 100%|██████████| 9107/9107 [00:21<00:00, 427.44it/s]"
          ]
        },
        {
          "name": "stdout",
          "output_type": "stream",
          "text": [
            "Epoch 1 elapsed: 21.308s\n",
            "\t \u001b[32mtrain_loss: 2.8129\u001b[0m\n",
            "==============================\n"
          ]
        },
        {
          "name": "stderr",
          "output_type": "stream",
          "text": [
            "\n",
            "train: 100%|██████████| 9107/9107 [00:21<00:00, 431.30it/s]"
          ]
        },
        {
          "name": "stdout",
          "output_type": "stream",
          "text": [
            "Epoch 2 elapsed: 21.118s\n",
            "\t \u001b[32mtrain_loss: 0.7869\u001b[0m\n",
            "==============================\n"
          ]
        },
        {
          "name": "stderr",
          "output_type": "stream",
          "text": [
            "\n",
            "train: 100%|██████████| 9107/9107 [00:20<00:00, 434.26it/s]"
          ]
        },
        {
          "name": "stdout",
          "output_type": "stream",
          "text": [
            "Epoch 3 elapsed: 20.973s\n",
            "\t \u001b[32mtrain_loss: 0.7725\u001b[0m\n",
            "==============================\n"
          ]
        },
        {
          "name": "stderr",
          "output_type": "stream",
          "text": [
            "\n",
            "train: 100%|██████████| 9107/9107 [00:21<00:00, 432.09it/s]"
          ]
        },
        {
          "name": "stdout",
          "output_type": "stream",
          "text": [
            "Epoch 4 elapsed: 21.079s\n",
            "\t \u001b[32mtrain_loss: 0.748\u001b[0m\n",
            "==============================\n"
          ]
        },
        {
          "name": "stderr",
          "output_type": "stream",
          "text": [
            "\n",
            "train: 100%|██████████| 9107/9107 [00:21<00:00, 430.21it/s]"
          ]
        },
        {
          "name": "stdout",
          "output_type": "stream",
          "text": [
            "Epoch 5 elapsed: 21.171s\n",
            "\t \u001b[32mtrain_loss: 0.727\u001b[0m\n",
            "==============================\n"
          ]
        },
        {
          "name": "stderr",
          "output_type": "stream",
          "text": [
            "\n",
            "train: 100%|██████████| 9107/9107 [00:21<00:00, 429.00it/s]"
          ]
        },
        {
          "name": "stdout",
          "output_type": "stream",
          "text": [
            "Epoch 6 elapsed: 21.231s\n",
            "\t \u001b[32mtrain_loss: 0.7079\u001b[0m\n",
            "==============================\n"
          ]
        },
        {
          "name": "stderr",
          "output_type": "stream",
          "text": [
            "\n",
            "train: 100%|██████████| 9107/9107 [00:21<00:00, 430.21it/s]"
          ]
        },
        {
          "name": "stdout",
          "output_type": "stream",
          "text": [
            "Epoch 7 elapsed: 21.171s\n",
            "\t \u001b[32mtrain_loss: 0.685\u001b[0m\n",
            "==============================\n"
          ]
        },
        {
          "name": "stderr",
          "output_type": "stream",
          "text": [
            "\n",
            "train: 100%|██████████| 9107/9107 [00:21<00:00, 430.09it/s]"
          ]
        },
        {
          "name": "stdout",
          "output_type": "stream",
          "text": [
            "Epoch 8 elapsed: 21.176s\n",
            "\t \u001b[32mtrain_loss: 0.6603\u001b[0m\n",
            "==============================\n"
          ]
        },
        {
          "name": "stderr",
          "output_type": "stream",
          "text": [
            "\n",
            "train: 100%|██████████| 9107/9107 [00:21<00:00, 432.53it/s]"
          ]
        },
        {
          "name": "stdout",
          "output_type": "stream",
          "text": [
            "Epoch 9 elapsed: 21.057s\n",
            "\t \u001b[32mtrain_loss: 0.6389\u001b[0m\n",
            "==============================\n"
          ]
        },
        {
          "name": "stderr",
          "output_type": "stream",
          "text": [
            "\n",
            "train: 100%|██████████| 9107/9107 [00:20<00:00, 433.87it/s]"
          ]
        },
        {
          "name": "stdout",
          "output_type": "stream",
          "text": [
            "Epoch 10 elapsed: 20.993s\n",
            "\t \u001b[32mtrain_loss: 0.6231\u001b[0m\n",
            "==============================\n"
          ]
        },
        {
          "name": "stderr",
          "output_type": "stream",
          "text": [
            "\n",
            "eval_pointwise: 100%|██████████| 36/36 [00:00<00:00, 401.01it/s]"
          ]
        },
        {
          "name": "stdout",
          "output_type": "stream",
          "text": [
            "\n",
            "LibReco SVD (0.8596245176295529, 0.000957132252232994) ('Train Loss:', 0.6197800000000001, 0.0022229709849658306)\n"
          ]
        },
        {
          "name": "stderr",
          "output_type": "stream",
          "text": [
            "\n"
          ]
        }
      ],
      "source": [
        "train_lib_model(\"SVD\", const_ext)"
      ]
    },
    {
      "cell_type": "markdown",
      "id": "YF40IBIERyV7",
      "metadata": {
        "id": "YF40IBIERyV7"
      },
      "source": [
        "## Surprise SVD++"
      ]
    },
    {
      "cell_type": "code",
      "execution_count": null,
      "id": "aa02aeab",
      "metadata": {
        "colab": {
          "background_save": true
        },
        "id": "aa02aeab",
        "outputId": "9094f07d-186f-4764-944b-56ee50ebe9c8"
      },
      "outputs": [
        {
          "name": "stdout",
          "output_type": "stream",
          "text": [
            "Evaluating RMSE of algorithm SVDpp on 5 split(s).\n",
            "\n",
            "                  Fold 1  Fold 2  Fold 3  Fold 4  Fold 5  Mean    Std     \n",
            "RMSE (testset)    0.7743  0.7718  0.7734  0.7740  0.7724  0.7732  0.0009  \n",
            "RMSE (trainset)   0.6776  0.6777  0.6780  0.6782  0.6792  0.6781  0.0006  \n",
            "Fit time          468.70  471.60  467.02  485.68  463.55  471.31  7.64    \n",
            "Test time         41.53   41.91   44.43   43.34   42.44   42.73   1.04    \n",
            "\n",
            "SVD++: 0.6781305301469155 0.0005694597285280549 0.7731699429733865 0.0009383199623156552\n"
          ]
        }
      ],
      "source": [
        "print(\"\\nSVD++:\", *svdpp_cv(ext))"
      ]
    },
    {
      "cell_type": "code",
      "execution_count": null,
      "id": "OcknOToPR4CV",
      "metadata": {
        "colab": {
          "background_save": true
        },
        "id": "OcknOToPR4CV",
        "outputId": "d78bb8b1-2de6-4a43-dfa0-65ff54080e14"
      },
      "outputs": [
        {
          "name": "stdout",
          "output_type": "stream",
          "text": [
            "Evaluating RMSE of algorithm SVDpp on 5 split(s).\n",
            "\n",
            "                  Fold 1  Fold 2  Fold 3  Fold 4  Fold 5  Mean    Std     \n",
            "RMSE (testset)    0.7776  0.7753  0.7776  0.7757  0.7785  0.7769  0.0012  \n",
            "RMSE (trainset)   0.6801  0.6820  0.6828  0.6808  0.6815  0.6815  0.0009  \n",
            "Fit time          460.66  463.69  442.02  443.81  442.81  450.60  9.52    \n",
            "Test time         38.06   38.71   37.55   37.90   36.85   37.81   0.61    \n",
            "\n",
            "SVD++: 0.681459064098026 0.0009383419620028387 0.7769433830918118 0.0012364169763134064\n"
          ]
        }
      ],
      "source": [
        "print(\"\\nSVD++:\", *svdpp_cv(column_ext))"
      ]
    },
    {
      "cell_type": "code",
      "execution_count": null,
      "id": "O1RcnPkGR4M8",
      "metadata": {
        "colab": {
          "background_save": true
        },
        "id": "O1RcnPkGR4M8",
        "outputId": "2872cd2b-bf93-4c67-fe46-912ef3f5c8d3"
      },
      "outputs": [
        {
          "name": "stdout",
          "output_type": "stream",
          "text": [
            "Evaluating RMSE of algorithm SVDpp on 5 split(s).\n",
            "\n",
            "                  Fold 1  Fold 2  Fold 3  Fold 4  Fold 5  Mean    Std     \n",
            "RMSE (testset)    0.7848  0.7817  0.7843  0.7833  0.7843  0.7837  0.0011  \n",
            "RMSE (trainset)   0.6848  0.6847  0.6834  0.6857  0.6852  0.6848  0.0008  \n",
            "Fit time          462.77  441.90  444.24  442.85  443.45  447.04  7.90    \n",
            "Test time         40.34   37.30   37.52   37.45   38.03   38.13   1.13    \n",
            "\n",
            "SVD++: 0.6847626048072767 0.0007649425840182488 0.7836767909239389 0.0011070598385321537\n"
          ]
        }
      ],
      "source": [
        "print(\"\\nSVD++:\", *svdpp_cv(global_ext))"
      ]
    },
    {
      "cell_type": "code",
      "execution_count": null,
      "id": "4Dn5BLchR4X9",
      "metadata": {
        "colab": {
          "background_save": true
        },
        "id": "4Dn5BLchR4X9",
        "outputId": "d97b4a1c-44eb-4295-d538-563e80073f28"
      },
      "outputs": [
        {
          "name": "stdout",
          "output_type": "stream",
          "text": [
            "Evaluating RMSE of algorithm SVDpp on 5 split(s).\n",
            "\n",
            "                  Fold 1  Fold 2  Fold 3  Fold 4  Fold 5  Mean    Std     \n",
            "RMSE (testset)    0.8402  0.8384  0.8392  0.8392  0.8385  0.8391  0.0006  \n",
            "RMSE (trainset)   0.7237  0.7213  0.7223  0.7232  0.7219  0.7225  0.0009  \n",
            "Fit time          442.97  442.66  443.13  442.44  441.93  442.63  0.42    \n",
            "Test time         36.94   37.70   37.09   38.07   37.33   37.43   0.41    \n",
            "\n",
            "SVD++: 0.7224718930886749 0.0008684421312291142 0.839114558357996 0.0006443726400583764\n"
          ]
        }
      ],
      "source": [
        "print(\"\\nSVD++:\", *svdpp_cv(const_ext))"
      ]
    },
    {
      "cell_type": "markdown",
      "id": "7G7EAVr8R9gI",
      "metadata": {
        "id": "7G7EAVr8R9gI"
      },
      "source": [
        "## LibReco SVD++"
      ]
    },
    {
      "cell_type": "code",
      "execution_count": null,
      "id": "2o8Q9Antr6fZ",
      "metadata": {
        "colab": {
          "background_save": true
        },
        "id": "2o8Q9Antr6fZ",
        "outputId": "7f755fac-ac53-4b03-ae84-4a03e6351040"
      },
      "outputs": [
        {
          "name": "stdout",
          "output_type": "stream",
          "text": [
            "Training start time: \u001b[35m2025-05-23 13:20:09\u001b[0m\n"
          ]
        },
        {
          "name": "stderr",
          "output_type": "stream",
          "text": [
            "train: 100%|██████████| 9107/9107 [00:24<00:00, 375.10it/s]"
          ]
        },
        {
          "name": "stdout",
          "output_type": "stream",
          "text": [
            "Epoch 1 elapsed: 24.281s\n",
            "\t \u001b[32mtrain_loss: 1.0187\u001b[0m\n"
          ]
        },
        {
          "name": "stderr",
          "output_type": "stream",
          "text": [
            "\n"
          ]
        },
        {
          "name": "stdout",
          "output_type": "stream",
          "text": [
            "==============================\n"
          ]
        },
        {
          "name": "stderr",
          "output_type": "stream",
          "text": [
            "train: 100%|██████████| 9107/9107 [00:23<00:00, 380.31it/s]"
          ]
        },
        {
          "name": "stdout",
          "output_type": "stream",
          "text": [
            "Epoch 2 elapsed: 23.948s\n",
            "\t \u001b[32mtrain_loss: 0.6496\u001b[0m\n",
            "==============================\n"
          ]
        },
        {
          "name": "stderr",
          "output_type": "stream",
          "text": [
            "\n",
            "train: 100%|██████████| 9107/9107 [00:23<00:00, 379.78it/s]"
          ]
        },
        {
          "name": "stdout",
          "output_type": "stream",
          "text": [
            "Epoch 3 elapsed: 23.981s\n",
            "\t \u001b[32mtrain_loss: 0.6294\u001b[0m\n"
          ]
        },
        {
          "name": "stderr",
          "output_type": "stream",
          "text": [
            "\n"
          ]
        },
        {
          "name": "stdout",
          "output_type": "stream",
          "text": [
            "==============================\n"
          ]
        },
        {
          "name": "stderr",
          "output_type": "stream",
          "text": [
            "train: 100%|██████████| 9107/9107 [00:24<00:00, 378.99it/s]"
          ]
        },
        {
          "name": "stdout",
          "output_type": "stream",
          "text": [
            "Epoch 4 elapsed: 24.031s\n",
            "\t \u001b[32mtrain_loss: 0.6078\u001b[0m\n",
            "==============================\n"
          ]
        },
        {
          "name": "stderr",
          "output_type": "stream",
          "text": [
            "\n",
            "train: 100%|██████████| 9107/9107 [00:24<00:00, 379.28it/s]"
          ]
        },
        {
          "name": "stdout",
          "output_type": "stream",
          "text": [
            "Epoch 5 elapsed: 24.013s\n",
            "\t \u001b[32mtrain_loss: 0.5876\u001b[0m\n",
            "==============================\n"
          ]
        },
        {
          "name": "stderr",
          "output_type": "stream",
          "text": [
            "\n",
            "train: 100%|██████████| 9107/9107 [00:23<00:00, 382.45it/s]"
          ]
        },
        {
          "name": "stdout",
          "output_type": "stream",
          "text": [
            "Epoch 6 elapsed: 23.814s\n",
            "\t \u001b[32mtrain_loss: 0.5694\u001b[0m\n",
            "==============================\n"
          ]
        },
        {
          "name": "stderr",
          "output_type": "stream",
          "text": [
            "\n",
            "train: 100%|██████████| 9107/9107 [00:24<00:00, 379.18it/s]"
          ]
        },
        {
          "name": "stdout",
          "output_type": "stream",
          "text": [
            "Epoch 7 elapsed: 24.020s\n",
            "\t \u001b[32mtrain_loss: 0.5527\u001b[0m\n",
            "==============================\n"
          ]
        },
        {
          "name": "stderr",
          "output_type": "stream",
          "text": [
            "\n",
            "train: 100%|██████████| 9107/9107 [00:23<00:00, 379.81it/s]"
          ]
        },
        {
          "name": "stdout",
          "output_type": "stream",
          "text": [
            "Epoch 8 elapsed: 23.980s\n",
            "\t \u001b[32mtrain_loss: 0.5384\u001b[0m\n",
            "==============================\n"
          ]
        },
        {
          "name": "stderr",
          "output_type": "stream",
          "text": [
            "\n",
            "train: 100%|██████████| 9107/9107 [00:23<00:00, 382.94it/s]"
          ]
        },
        {
          "name": "stdout",
          "output_type": "stream",
          "text": [
            "Epoch 9 elapsed: 23.784s\n",
            "\t \u001b[32mtrain_loss: 0.5267\u001b[0m\n",
            "==============================\n"
          ]
        },
        {
          "name": "stderr",
          "output_type": "stream",
          "text": [
            "\n",
            "train: 100%|██████████| 9107/9107 [00:23<00:00, 380.07it/s]"
          ]
        },
        {
          "name": "stdout",
          "output_type": "stream",
          "text": [
            "Epoch 10 elapsed: 23.963s\n",
            "\t \u001b[32mtrain_loss: 0.5178\u001b[0m\n",
            "==============================\n"
          ]
        },
        {
          "name": "stderr",
          "output_type": "stream",
          "text": [
            "\n",
            "eval_pointwise: 100%|██████████| 36/36 [00:00<00:00, 460.77it/s]\n"
          ]
        },
        {
          "name": "stdout",
          "output_type": "stream",
          "text": [
            "Training start time: \u001b[35m2025-05-23 13:24:11\u001b[0m\n"
          ]
        },
        {
          "name": "stderr",
          "output_type": "stream",
          "text": [
            "train: 100%|██████████| 9107/9107 [00:24<00:00, 372.34it/s]"
          ]
        },
        {
          "name": "stdout",
          "output_type": "stream",
          "text": [
            "Epoch 1 elapsed: 24.460s\n",
            "\t \u001b[32mtrain_loss: 1.021\u001b[0m\n"
          ]
        },
        {
          "name": "stderr",
          "output_type": "stream",
          "text": [
            "\n"
          ]
        },
        {
          "name": "stdout",
          "output_type": "stream",
          "text": [
            "==============================\n"
          ]
        },
        {
          "name": "stderr",
          "output_type": "stream",
          "text": [
            "train: 100%|██████████| 9107/9107 [00:23<00:00, 381.16it/s]"
          ]
        },
        {
          "name": "stdout",
          "output_type": "stream",
          "text": [
            "Epoch 2 elapsed: 23.895s\n",
            "\t \u001b[32mtrain_loss: 0.632\u001b[0m\n",
            "==============================\n"
          ]
        },
        {
          "name": "stderr",
          "output_type": "stream",
          "text": [
            "\n",
            "train: 100%|██████████| 9107/9107 [00:23<00:00, 381.04it/s]"
          ]
        },
        {
          "name": "stdout",
          "output_type": "stream",
          "text": [
            "Epoch 3 elapsed: 23.902s\n",
            "\t \u001b[32mtrain_loss: 0.6148\u001b[0m\n",
            "==============================\n"
          ]
        },
        {
          "name": "stderr",
          "output_type": "stream",
          "text": [
            "\n",
            "train: 100%|██████████| 9107/9107 [00:23<00:00, 381.16it/s]"
          ]
        },
        {
          "name": "stdout",
          "output_type": "stream",
          "text": [
            "Epoch 4 elapsed: 23.895s\n",
            "\t \u001b[32mtrain_loss: 0.5996\u001b[0m\n",
            "==============================\n"
          ]
        },
        {
          "name": "stderr",
          "output_type": "stream",
          "text": [
            "\n",
            "train: 100%|██████████| 9107/9107 [00:23<00:00, 380.73it/s]"
          ]
        },
        {
          "name": "stdout",
          "output_type": "stream",
          "text": [
            "Epoch 5 elapsed: 23.922s\n",
            "\t \u001b[32mtrain_loss: 0.5841\u001b[0m\n",
            "==============================\n"
          ]
        },
        {
          "name": "stderr",
          "output_type": "stream",
          "text": [
            "\n",
            "train: 100%|██████████| 9107/9107 [00:23<00:00, 384.42it/s]"
          ]
        },
        {
          "name": "stdout",
          "output_type": "stream",
          "text": [
            "Epoch 6 elapsed: 23.692s\n",
            "\t \u001b[32mtrain_loss: 0.5678\u001b[0m\n",
            "==============================\n"
          ]
        },
        {
          "name": "stderr",
          "output_type": "stream",
          "text": [
            "\n",
            "train: 100%|██████████| 9107/9107 [00:23<00:00, 382.16it/s]"
          ]
        },
        {
          "name": "stdout",
          "output_type": "stream",
          "text": [
            "Epoch 7 elapsed: 23.832s\n",
            "\t \u001b[32mtrain_loss: 0.5518\u001b[0m\n",
            "==============================\n"
          ]
        },
        {
          "name": "stderr",
          "output_type": "stream",
          "text": [
            "\n",
            "train: 100%|██████████| 9107/9107 [00:23<00:00, 383.84it/s]"
          ]
        },
        {
          "name": "stdout",
          "output_type": "stream",
          "text": [
            "Epoch 8 elapsed: 23.728s\n",
            "\t \u001b[32mtrain_loss: 0.5376\u001b[0m\n",
            "==============================\n"
          ]
        },
        {
          "name": "stderr",
          "output_type": "stream",
          "text": [
            "\n",
            "train: 100%|██████████| 9107/9107 [00:23<00:00, 387.64it/s]"
          ]
        },
        {
          "name": "stdout",
          "output_type": "stream",
          "text": [
            "Epoch 9 elapsed: 23.495s\n",
            "\t \u001b[32mtrain_loss: 0.526\u001b[0m\n",
            "==============================\n"
          ]
        },
        {
          "name": "stderr",
          "output_type": "stream",
          "text": [
            "\n",
            "train: 100%|██████████| 9107/9107 [00:23<00:00, 384.42it/s]"
          ]
        },
        {
          "name": "stdout",
          "output_type": "stream",
          "text": [
            "Epoch 10 elapsed: 23.692s\n",
            "\t \u001b[32mtrain_loss: 0.5174\u001b[0m\n",
            "==============================\n"
          ]
        },
        {
          "name": "stderr",
          "output_type": "stream",
          "text": [
            "\n",
            "eval_pointwise: 100%|██████████| 36/36 [00:00<00:00, 470.09it/s]\n"
          ]
        },
        {
          "name": "stdout",
          "output_type": "stream",
          "text": [
            "Training start time: \u001b[35m2025-05-23 13:28:11\u001b[0m\n"
          ]
        },
        {
          "name": "stderr",
          "output_type": "stream",
          "text": [
            "train: 100%|██████████| 9107/9107 [00:24<00:00, 377.14it/s]"
          ]
        },
        {
          "name": "stdout",
          "output_type": "stream",
          "text": [
            "Epoch 1 elapsed: 24.149s\n",
            "\t \u001b[32mtrain_loss: 1.0161\u001b[0m\n"
          ]
        },
        {
          "name": "stderr",
          "output_type": "stream",
          "text": [
            "\n"
          ]
        },
        {
          "name": "stdout",
          "output_type": "stream",
          "text": [
            "==============================\n"
          ]
        },
        {
          "name": "stderr",
          "output_type": "stream",
          "text": [
            "train: 100%|██████████| 9107/9107 [00:23<00:00, 382.56it/s]"
          ]
        },
        {
          "name": "stdout",
          "output_type": "stream",
          "text": [
            "Epoch 2 elapsed: 23.807s\n",
            "\t \u001b[32mtrain_loss: 0.653\u001b[0m\n",
            "==============================\n"
          ]
        },
        {
          "name": "stderr",
          "output_type": "stream",
          "text": [
            "\n",
            "train: 100%|██████████| 9107/9107 [00:23<00:00, 383.81it/s]"
          ]
        },
        {
          "name": "stdout",
          "output_type": "stream",
          "text": [
            "Epoch 3 elapsed: 23.730s\n",
            "\t \u001b[32mtrain_loss: 0.6361\u001b[0m\n",
            "==============================\n"
          ]
        },
        {
          "name": "stderr",
          "output_type": "stream",
          "text": [
            "\n",
            "train: 100%|██████████| 9107/9107 [00:24<00:00, 377.31it/s]"
          ]
        },
        {
          "name": "stdout",
          "output_type": "stream",
          "text": [
            "Epoch 4 elapsed: 24.139s\n",
            "\t \u001b[32mtrain_loss: 0.6154\u001b[0m\n",
            "==============================\n"
          ]
        },
        {
          "name": "stderr",
          "output_type": "stream",
          "text": [
            "\n",
            "train: 100%|██████████| 9107/9107 [00:23<00:00, 380.73it/s]"
          ]
        },
        {
          "name": "stdout",
          "output_type": "stream",
          "text": [
            "Epoch 5 elapsed: 23.922s\n",
            "\t \u001b[32mtrain_loss: 0.5927\u001b[0m\n",
            "==============================\n"
          ]
        },
        {
          "name": "stderr",
          "output_type": "stream",
          "text": [
            "\n",
            "train: 100%|██████████| 9107/9107 [00:23<00:00, 384.67it/s]"
          ]
        },
        {
          "name": "stdout",
          "output_type": "stream",
          "text": [
            "Epoch 6 elapsed: 23.676s\n",
            "\t \u001b[32mtrain_loss: 0.5712\u001b[0m\n",
            "==============================\n"
          ]
        },
        {
          "name": "stderr",
          "output_type": "stream",
          "text": [
            "\n",
            "train: 100%|██████████| 9107/9107 [00:23<00:00, 381.15it/s]"
          ]
        },
        {
          "name": "stdout",
          "output_type": "stream",
          "text": [
            "Epoch 7 elapsed: 23.895s\n",
            "\t \u001b[32mtrain_loss: 0.5528\u001b[0m\n",
            "==============================\n"
          ]
        },
        {
          "name": "stderr",
          "output_type": "stream",
          "text": [
            "\n",
            "train: 100%|██████████| 9107/9107 [00:23<00:00, 381.15it/s]\n"
          ]
        },
        {
          "name": "stdout",
          "output_type": "stream",
          "text": [
            "Epoch 8 elapsed: 23.895s\n",
            "\t \u001b[32mtrain_loss: 0.5376\u001b[0m\n",
            "==============================\n"
          ]
        },
        {
          "name": "stderr",
          "output_type": "stream",
          "text": [
            "train: 100%|██████████| 9107/9107 [00:23<00:00, 384.68it/s]"
          ]
        },
        {
          "name": "stdout",
          "output_type": "stream",
          "text": [
            "Epoch 9 elapsed: 23.676s\n",
            "\t \u001b[32mtrain_loss: 0.5262\u001b[0m\n",
            "==============================\n"
          ]
        },
        {
          "name": "stderr",
          "output_type": "stream",
          "text": [
            "\n",
            "train: 100%|██████████| 9107/9107 [00:23<00:00, 382.00it/s]"
          ]
        },
        {
          "name": "stdout",
          "output_type": "stream",
          "text": [
            "Epoch 10 elapsed: 23.842s\n",
            "\t \u001b[32mtrain_loss: 0.5171\u001b[0m\n",
            "==============================\n"
          ]
        },
        {
          "name": "stderr",
          "output_type": "stream",
          "text": [
            "\n",
            "eval_pointwise: 100%|██████████| 36/36 [00:00<00:00, 455.08it/s]\n"
          ]
        },
        {
          "name": "stdout",
          "output_type": "stream",
          "text": [
            "Training start time: \u001b[35m2025-05-23 13:32:13\u001b[0m\n"
          ]
        },
        {
          "name": "stderr",
          "output_type": "stream",
          "text": [
            "train: 100%|██████████| 9107/9107 [00:24<00:00, 366.21it/s]"
          ]
        },
        {
          "name": "stdout",
          "output_type": "stream",
          "text": [
            "Epoch 1 elapsed: 24.870s\n",
            "\t \u001b[32mtrain_loss: 1.0213\u001b[0m\n"
          ]
        },
        {
          "name": "stderr",
          "output_type": "stream",
          "text": [
            "\n"
          ]
        },
        {
          "name": "stdout",
          "output_type": "stream",
          "text": [
            "==============================\n"
          ]
        },
        {
          "name": "stderr",
          "output_type": "stream",
          "text": [
            "train: 100%|██████████| 9107/9107 [00:24<00:00, 371.44it/s]"
          ]
        },
        {
          "name": "stdout",
          "output_type": "stream",
          "text": [
            "Epoch 2 elapsed: 24.520s\n",
            "\t \u001b[32mtrain_loss: 0.6519\u001b[0m\n",
            "==============================\n"
          ]
        },
        {
          "name": "stderr",
          "output_type": "stream",
          "text": [
            "\n",
            "train: 100%|██████████| 9107/9107 [00:24<00:00, 372.29it/s]"
          ]
        },
        {
          "name": "stdout",
          "output_type": "stream",
          "text": [
            "Epoch 3 elapsed: 24.464s\n",
            "\t \u001b[32mtrain_loss: 0.6341\u001b[0m\n",
            "==============================\n"
          ]
        },
        {
          "name": "stderr",
          "output_type": "stream",
          "text": [
            "\n",
            "train: 100%|██████████| 9107/9107 [00:24<00:00, 369.62it/s]"
          ]
        },
        {
          "name": "stdout",
          "output_type": "stream",
          "text": [
            "Epoch 4 elapsed: 24.641s\n",
            "\t \u001b[32mtrain_loss: 0.613\u001b[0m\n",
            "==============================\n"
          ]
        },
        {
          "name": "stderr",
          "output_type": "stream",
          "text": [
            "\n",
            "train: 100%|██████████| 9107/9107 [00:24<00:00, 370.56it/s]"
          ]
        },
        {
          "name": "stdout",
          "output_type": "stream",
          "text": [
            "Epoch 5 elapsed: 24.578s\n",
            "\t \u001b[32mtrain_loss: 0.5901\u001b[0m\n",
            "==============================\n"
          ]
        },
        {
          "name": "stderr",
          "output_type": "stream",
          "text": [
            "\n",
            "train: 100%|██████████| 9107/9107 [00:24<00:00, 373.65it/s]"
          ]
        },
        {
          "name": "stdout",
          "output_type": "stream",
          "text": [
            "Epoch 6 elapsed: 24.375s\n",
            "\t \u001b[32mtrain_loss: 0.5694\u001b[0m\n"
          ]
        },
        {
          "name": "stderr",
          "output_type": "stream",
          "text": [
            "\n"
          ]
        },
        {
          "name": "stdout",
          "output_type": "stream",
          "text": [
            "==============================\n"
          ]
        },
        {
          "name": "stderr",
          "output_type": "stream",
          "text": [
            "train: 100%|██████████| 9107/9107 [00:24<00:00, 365.83it/s]"
          ]
        },
        {
          "name": "stdout",
          "output_type": "stream",
          "text": [
            "Epoch 7 elapsed: 24.896s\n",
            "\t \u001b[32mtrain_loss: 0.5513\u001b[0m\n",
            "==============================\n"
          ]
        },
        {
          "name": "stderr",
          "output_type": "stream",
          "text": [
            "\n",
            "train: 100%|██████████| 9107/9107 [00:24<00:00, 371.53it/s]"
          ]
        },
        {
          "name": "stdout",
          "output_type": "stream",
          "text": [
            "Epoch 8 elapsed: 24.514s\n",
            "\t \u001b[32mtrain_loss: 0.5366\u001b[0m\n",
            "==============================\n"
          ]
        },
        {
          "name": "stderr",
          "output_type": "stream",
          "text": [
            "\n",
            "train: 100%|██████████| 9107/9107 [00:24<00:00, 374.68it/s]"
          ]
        },
        {
          "name": "stdout",
          "output_type": "stream",
          "text": [
            "Epoch 9 elapsed: 24.308s\n",
            "\t \u001b[32mtrain_loss: 0.5249\u001b[0m\n",
            "==============================\n"
          ]
        },
        {
          "name": "stderr",
          "output_type": "stream",
          "text": [
            "\n",
            "train: 100%|██████████| 9107/9107 [00:24<00:00, 371.20it/s]"
          ]
        },
        {
          "name": "stdout",
          "output_type": "stream",
          "text": [
            "Epoch 10 elapsed: 24.536s\n",
            "\t \u001b[32mtrain_loss: 0.5159\u001b[0m\n",
            "==============================\n"
          ]
        },
        {
          "name": "stderr",
          "output_type": "stream",
          "text": [
            "\n",
            "eval_pointwise: 100%|██████████| 36/36 [00:00<00:00, 409.92it/s]\n"
          ]
        },
        {
          "name": "stdout",
          "output_type": "stream",
          "text": [
            "Training start time: \u001b[35m2025-05-23 13:36:20\u001b[0m\n"
          ]
        },
        {
          "name": "stderr",
          "output_type": "stream",
          "text": [
            "train: 100%|██████████| 9107/9107 [00:24<00:00, 375.15it/s]"
          ]
        },
        {
          "name": "stdout",
          "output_type": "stream",
          "text": [
            "Epoch 1 elapsed: 24.277s\n",
            "\t \u001b[32mtrain_loss: 1.0217\u001b[0m\n"
          ]
        },
        {
          "name": "stderr",
          "output_type": "stream",
          "text": [
            "\n"
          ]
        },
        {
          "name": "stdout",
          "output_type": "stream",
          "text": [
            "==============================\n"
          ]
        },
        {
          "name": "stderr",
          "output_type": "stream",
          "text": [
            "train: 100%|██████████| 9107/9107 [00:23<00:00, 382.05it/s]"
          ]
        },
        {
          "name": "stdout",
          "output_type": "stream",
          "text": [
            "Epoch 2 elapsed: 23.839s\n",
            "\t \u001b[32mtrain_loss: 0.6528\u001b[0m\n",
            "==============================\n"
          ]
        },
        {
          "name": "stderr",
          "output_type": "stream",
          "text": [
            "\n",
            "train: 100%|██████████| 9107/9107 [00:24<00:00, 378.72it/s]"
          ]
        },
        {
          "name": "stdout",
          "output_type": "stream",
          "text": [
            "Epoch 3 elapsed: 24.048s\n",
            "\t \u001b[32mtrain_loss: 0.6361\u001b[0m\n",
            "==============================\n"
          ]
        },
        {
          "name": "stderr",
          "output_type": "stream",
          "text": [
            "\n",
            "train: 100%|██████████| 9107/9107 [00:24<00:00, 378.84it/s]"
          ]
        },
        {
          "name": "stdout",
          "output_type": "stream",
          "text": [
            "Epoch 4 elapsed: 24.041s\n",
            "\t \u001b[32mtrain_loss: 0.6154\u001b[0m\n",
            "==============================\n"
          ]
        },
        {
          "name": "stderr",
          "output_type": "stream",
          "text": [
            "\n",
            "train: 100%|██████████| 9107/9107 [00:23<00:00, 379.61it/s]"
          ]
        },
        {
          "name": "stdout",
          "output_type": "stream",
          "text": [
            "Epoch 5 elapsed: 23.992s\n",
            "\t \u001b[32mtrain_loss: 0.592\u001b[0m\n",
            "==============================\n"
          ]
        },
        {
          "name": "stderr",
          "output_type": "stream",
          "text": [
            "\n",
            "train: 100%|██████████| 9107/9107 [00:23<00:00, 381.71it/s]"
          ]
        },
        {
          "name": "stdout",
          "output_type": "stream",
          "text": [
            "Epoch 6 elapsed: 23.861s\n",
            "\t \u001b[32mtrain_loss: 0.5707\u001b[0m\n",
            "==============================\n"
          ]
        },
        {
          "name": "stderr",
          "output_type": "stream",
          "text": [
            "\n",
            "train: 100%|██████████| 9107/9107 [00:24<00:00, 378.13it/s]"
          ]
        },
        {
          "name": "stdout",
          "output_type": "stream",
          "text": [
            "Epoch 7 elapsed: 24.086s\n",
            "\t \u001b[32mtrain_loss: 0.5524\u001b[0m\n",
            "==============================\n"
          ]
        },
        {
          "name": "stderr",
          "output_type": "stream",
          "text": [
            "\n",
            "train: 100%|██████████| 9107/9107 [00:24<00:00, 379.19it/s]"
          ]
        },
        {
          "name": "stdout",
          "output_type": "stream",
          "text": [
            "Epoch 8 elapsed: 24.019s\n",
            "\t \u001b[32mtrain_loss: 0.5374\u001b[0m\n",
            "==============================\n"
          ]
        },
        {
          "name": "stderr",
          "output_type": "stream",
          "text": [
            "\n",
            "train: 100%|██████████| 9107/9107 [00:23<00:00, 381.42it/s]"
          ]
        },
        {
          "name": "stdout",
          "output_type": "stream",
          "text": [
            "Epoch 9 elapsed: 23.878s\n",
            "\t \u001b[32mtrain_loss: 0.5257\u001b[0m\n",
            "==============================\n"
          ]
        },
        {
          "name": "stderr",
          "output_type": "stream",
          "text": [
            "\n",
            "train: 100%|██████████| 9107/9107 [00:24<00:00, 375.06it/s]"
          ]
        },
        {
          "name": "stdout",
          "output_type": "stream",
          "text": [
            "Epoch 10 elapsed: 24.283s\n",
            "\t \u001b[32mtrain_loss: 0.5167\u001b[0m\n",
            "==============================\n"
          ]
        },
        {
          "name": "stderr",
          "output_type": "stream",
          "text": [
            "\n",
            "eval_pointwise: 100%|██████████| 36/36 [00:00<00:00, 403.77it/s]"
          ]
        },
        {
          "name": "stdout",
          "output_type": "stream",
          "text": [
            "\n",
            "LibReco SVDpp (0.7931922340629776, 0.0012905184384033326) ('Train Loss:', 0.51698, 0.0006493073232299105)\n"
          ]
        },
        {
          "name": "stderr",
          "output_type": "stream",
          "text": [
            "\n"
          ]
        }
      ],
      "source": [
        "train_lib_model(\"SVDpp\", ext)"
      ]
    },
    {
      "cell_type": "code",
      "execution_count": null,
      "id": "f6PZ3Hs3SEYr",
      "metadata": {
        "colab": {
          "background_save": true
        },
        "id": "f6PZ3Hs3SEYr",
        "outputId": "8bdce613-4d4e-4aa7-c6f2-cf8796f3a559"
      },
      "outputs": [
        {
          "name": "stdout",
          "output_type": "stream",
          "text": [
            "Training start time: \u001b[35m2025-05-23 13:40:23\u001b[0m\n"
          ]
        },
        {
          "name": "stderr",
          "output_type": "stream",
          "text": [
            "train: 100%|██████████| 9107/9107 [00:24<00:00, 373.36it/s]"
          ]
        },
        {
          "name": "stdout",
          "output_type": "stream",
          "text": [
            "Epoch 1 elapsed: 24.394s\n",
            "\t \u001b[32mtrain_loss: 1.0168\u001b[0m\n"
          ]
        },
        {
          "name": "stderr",
          "output_type": "stream",
          "text": [
            "\n"
          ]
        },
        {
          "name": "stdout",
          "output_type": "stream",
          "text": [
            "==============================\n"
          ]
        },
        {
          "name": "stderr",
          "output_type": "stream",
          "text": [
            "train: 100%|██████████| 9107/9107 [00:23<00:00, 381.49it/s]"
          ]
        },
        {
          "name": "stdout",
          "output_type": "stream",
          "text": [
            "Epoch 2 elapsed: 23.874s\n",
            "\t \u001b[32mtrain_loss: 0.6504\u001b[0m\n",
            "==============================\n"
          ]
        },
        {
          "name": "stderr",
          "output_type": "stream",
          "text": [
            "\n",
            "train: 100%|██████████| 9107/9107 [00:24<00:00, 379.15it/s]"
          ]
        },
        {
          "name": "stdout",
          "output_type": "stream",
          "text": [
            "Epoch 3 elapsed: 24.021s\n",
            "\t \u001b[32mtrain_loss: 0.6316\u001b[0m\n",
            "==============================\n"
          ]
        },
        {
          "name": "stderr",
          "output_type": "stream",
          "text": [
            "\n",
            "train: 100%|██████████| 9107/9107 [00:24<00:00, 377.06it/s]"
          ]
        },
        {
          "name": "stdout",
          "output_type": "stream",
          "text": [
            "Epoch 4 elapsed: 24.155s\n",
            "\t \u001b[32mtrain_loss: 0.6124\u001b[0m\n",
            "==============================\n"
          ]
        },
        {
          "name": "stderr",
          "output_type": "stream",
          "text": [
            "\n",
            "train: 100%|██████████| 9107/9107 [00:24<00:00, 377.05it/s]"
          ]
        },
        {
          "name": "stdout",
          "output_type": "stream",
          "text": [
            "Epoch 5 elapsed: 24.155s\n",
            "\t \u001b[32mtrain_loss: 0.594\u001b[0m\n",
            "==============================\n"
          ]
        },
        {
          "name": "stderr",
          "output_type": "stream",
          "text": [
            "\n",
            "train: 100%|██████████| 9107/9107 [00:23<00:00, 381.16it/s]"
          ]
        },
        {
          "name": "stdout",
          "output_type": "stream",
          "text": [
            "Epoch 6 elapsed: 23.895s\n",
            "\t \u001b[32mtrain_loss: 0.5762\u001b[0m\n",
            "==============================\n"
          ]
        },
        {
          "name": "stderr",
          "output_type": "stream",
          "text": [
            "\n",
            "train: 100%|██████████| 9107/9107 [00:24<00:00, 377.59it/s]"
          ]
        },
        {
          "name": "stdout",
          "output_type": "stream",
          "text": [
            "Epoch 7 elapsed: 24.120s\n",
            "\t \u001b[32mtrain_loss: 0.5595\u001b[0m\n",
            "==============================\n"
          ]
        },
        {
          "name": "stderr",
          "output_type": "stream",
          "text": [
            "\n",
            "train: 100%|██████████| 9107/9107 [00:24<00:00, 378.79it/s]"
          ]
        },
        {
          "name": "stdout",
          "output_type": "stream",
          "text": [
            "Epoch 8 elapsed: 24.044s\n",
            "\t \u001b[32mtrain_loss: 0.545\u001b[0m\n",
            "==============================\n"
          ]
        },
        {
          "name": "stderr",
          "output_type": "stream",
          "text": [
            "\n",
            "train: 100%|██████████| 9107/9107 [00:23<00:00, 381.77it/s]"
          ]
        },
        {
          "name": "stdout",
          "output_type": "stream",
          "text": [
            "Epoch 9 elapsed: 23.856s\n",
            "\t \u001b[32mtrain_loss: 0.5333\u001b[0m\n",
            "==============================\n"
          ]
        },
        {
          "name": "stderr",
          "output_type": "stream",
          "text": [
            "\n",
            "train: 100%|██████████| 9107/9107 [00:24<00:00, 378.59it/s]"
          ]
        },
        {
          "name": "stdout",
          "output_type": "stream",
          "text": [
            "Epoch 10 elapsed: 24.057s\n",
            "\t \u001b[32mtrain_loss: 0.5243\u001b[0m\n",
            "==============================\n"
          ]
        },
        {
          "name": "stderr",
          "output_type": "stream",
          "text": [
            "\n",
            "eval_pointwise: 100%|██████████| 36/36 [00:00<00:00, 449.27it/s]\n"
          ]
        },
        {
          "name": "stdout",
          "output_type": "stream",
          "text": [
            "Training start time: \u001b[35m2025-05-23 13:44:25\u001b[0m\n"
          ]
        },
        {
          "name": "stderr",
          "output_type": "stream",
          "text": [
            "train: 100%|██████████| 9107/9107 [00:25<00:00, 358.37it/s]"
          ]
        },
        {
          "name": "stdout",
          "output_type": "stream",
          "text": [
            "Epoch 1 elapsed: 25.414s\n",
            "\t \u001b[32mtrain_loss: 1.023\u001b[0m\n"
          ]
        },
        {
          "name": "stderr",
          "output_type": "stream",
          "text": [
            "\n"
          ]
        },
        {
          "name": "stdout",
          "output_type": "stream",
          "text": [
            "==============================\n"
          ]
        },
        {
          "name": "stderr",
          "output_type": "stream",
          "text": [
            "train: 100%|██████████| 9107/9107 [00:25<00:00, 357.47it/s]"
          ]
        },
        {
          "name": "stdout",
          "output_type": "stream",
          "text": [
            "Epoch 2 elapsed: 25.478s\n",
            "\t \u001b[32mtrain_loss: 0.6551\u001b[0m\n",
            "==============================\n"
          ]
        },
        {
          "name": "stderr",
          "output_type": "stream",
          "text": [
            "\n",
            "train: 100%|██████████| 9107/9107 [00:25<00:00, 360.58it/s]"
          ]
        },
        {
          "name": "stdout",
          "output_type": "stream",
          "text": [
            "Epoch 3 elapsed: 25.259s\n",
            "\t \u001b[32mtrain_loss: 0.6333\u001b[0m\n",
            "==============================\n"
          ]
        },
        {
          "name": "stderr",
          "output_type": "stream",
          "text": [
            "\n",
            "train: 100%|██████████| 9107/9107 [00:25<00:00, 361.24it/s]"
          ]
        },
        {
          "name": "stdout",
          "output_type": "stream",
          "text": [
            "Epoch 4 elapsed: 25.213s\n",
            "\t \u001b[32mtrain_loss: 0.6118\u001b[0m\n",
            "==============================\n"
          ]
        },
        {
          "name": "stderr",
          "output_type": "stream",
          "text": [
            "\n",
            "train: 100%|██████████| 9107/9107 [00:25<00:00, 364.26it/s]"
          ]
        },
        {
          "name": "stdout",
          "output_type": "stream",
          "text": [
            "Epoch 5 elapsed: 25.004s\n",
            "\t \u001b[32mtrain_loss: 0.5925\u001b[0m\n",
            "==============================\n"
          ]
        },
        {
          "name": "stderr",
          "output_type": "stream",
          "text": [
            "\n",
            "train: 100%|██████████| 9107/9107 [00:25<00:00, 363.70it/s]"
          ]
        },
        {
          "name": "stdout",
          "output_type": "stream",
          "text": [
            "Epoch 6 elapsed: 25.042s\n",
            "\t \u001b[32mtrain_loss: 0.5744\u001b[0m\n",
            "=============================="
          ]
        },
        {
          "name": "stderr",
          "output_type": "stream",
          "text": [
            "\n"
          ]
        },
        {
          "name": "stdout",
          "output_type": "stream",
          "text": [
            "\n"
          ]
        },
        {
          "name": "stderr",
          "output_type": "stream",
          "text": [
            "train: 100%|██████████| 9107/9107 [00:25<00:00, 364.09it/s]"
          ]
        },
        {
          "name": "stdout",
          "output_type": "stream",
          "text": [
            "Epoch 7 elapsed: 25.015s\n",
            "\t \u001b[32mtrain_loss: 0.5576\u001b[0m\n",
            "==============================\n"
          ]
        },
        {
          "name": "stderr",
          "output_type": "stream",
          "text": [
            "\n",
            "train: 100%|██████████| 9107/9107 [00:24<00:00, 365.04it/s]"
          ]
        },
        {
          "name": "stdout",
          "output_type": "stream",
          "text": [
            "Epoch 8 elapsed: 24.950s\n",
            "\t \u001b[32mtrain_loss: 0.5431\u001b[0m\n",
            "==============================\n"
          ]
        },
        {
          "name": "stderr",
          "output_type": "stream",
          "text": [
            "\n",
            "train: 100%|██████████| 9107/9107 [00:24<00:00, 367.75it/s]"
          ]
        },
        {
          "name": "stdout",
          "output_type": "stream",
          "text": [
            "Epoch 9 elapsed: 24.766s\n",
            "\t \u001b[32mtrain_loss: 0.5314\u001b[0m\n",
            "==============================\n"
          ]
        },
        {
          "name": "stderr",
          "output_type": "stream",
          "text": [
            "\n",
            "train: 100%|██████████| 9107/9107 [00:24<00:00, 365.51it/s]"
          ]
        },
        {
          "name": "stdout",
          "output_type": "stream",
          "text": [
            "Epoch 10 elapsed: 24.917s\n",
            "\t \u001b[32mtrain_loss: 0.5229\u001b[0m\n",
            "==============================\n"
          ]
        },
        {
          "name": "stderr",
          "output_type": "stream",
          "text": [
            "\n",
            "eval_pointwise: 100%|██████████| 36/36 [00:00<00:00, 446.56it/s]\n"
          ]
        },
        {
          "name": "stdout",
          "output_type": "stream",
          "text": [
            "Training start time: \u001b[35m2025-05-23 13:48:39\u001b[0m\n"
          ]
        },
        {
          "name": "stderr",
          "output_type": "stream",
          "text": [
            "train: 100%|██████████| 9107/9107 [00:24<00:00, 374.30it/s]"
          ]
        },
        {
          "name": "stdout",
          "output_type": "stream",
          "text": [
            "Epoch 1 elapsed: 24.332s\n",
            "\t \u001b[32mtrain_loss: 1.0147\u001b[0m\n"
          ]
        },
        {
          "name": "stderr",
          "output_type": "stream",
          "text": [
            "\n"
          ]
        },
        {
          "name": "stdout",
          "output_type": "stream",
          "text": [
            "==============================\n"
          ]
        },
        {
          "name": "stderr",
          "output_type": "stream",
          "text": [
            "train: 100%|██████████| 9107/9107 [00:23<00:00, 382.30it/s]"
          ]
        },
        {
          "name": "stdout",
          "output_type": "stream",
          "text": [
            "Epoch 2 elapsed: 23.824s\n",
            "\t \u001b[32mtrain_loss: 0.6625\u001b[0m\n",
            "==============================\n"
          ]
        },
        {
          "name": "stderr",
          "output_type": "stream",
          "text": [
            "\n",
            "train: 100%|██████████| 9107/9107 [00:24<00:00, 378.30it/s]"
          ]
        },
        {
          "name": "stdout",
          "output_type": "stream",
          "text": [
            "Epoch 3 elapsed: 24.075s\n",
            "\t \u001b[32mtrain_loss: 0.6455\u001b[0m\n",
            "==============================\n"
          ]
        },
        {
          "name": "stderr",
          "output_type": "stream",
          "text": [
            "\n",
            "train: 100%|██████████| 9107/9107 [00:24<00:00, 379.39it/s]"
          ]
        },
        {
          "name": "stdout",
          "output_type": "stream",
          "text": [
            "Epoch 4 elapsed: 24.006s\n",
            "\t \u001b[32mtrain_loss: 0.6247\u001b[0m\n",
            "==============================\n"
          ]
        },
        {
          "name": "stderr",
          "output_type": "stream",
          "text": [
            "\n",
            "train: 100%|██████████| 9107/9107 [00:24<00:00, 375.89it/s]"
          ]
        },
        {
          "name": "stdout",
          "output_type": "stream",
          "text": [
            "Epoch 5 elapsed: 24.230s\n",
            "\t \u001b[32mtrain_loss: 0.6015\u001b[0m\n",
            "==============================\n"
          ]
        },
        {
          "name": "stderr",
          "output_type": "stream",
          "text": [
            "\n",
            "train: 100%|██████████| 9107/9107 [00:23<00:00, 379.72it/s]"
          ]
        },
        {
          "name": "stdout",
          "output_type": "stream",
          "text": [
            "Epoch 6 elapsed: 23.985s\n",
            "\t \u001b[32mtrain_loss: 0.5791\u001b[0m\n",
            "==============================\n"
          ]
        },
        {
          "name": "stderr",
          "output_type": "stream",
          "text": [
            "\n",
            "train: 100%|██████████| 9107/9107 [00:24<00:00, 379.31it/s]"
          ]
        },
        {
          "name": "stdout",
          "output_type": "stream",
          "text": [
            "Epoch 7 elapsed: 24.011s\n",
            "\t \u001b[32mtrain_loss: 0.5597\u001b[0m\n",
            "==============================\n"
          ]
        },
        {
          "name": "stderr",
          "output_type": "stream",
          "text": [
            "\n",
            "train: 100%|██████████| 9107/9107 [00:23<00:00, 379.87it/s]"
          ]
        },
        {
          "name": "stdout",
          "output_type": "stream",
          "text": [
            "Epoch 8 elapsed: 23.976s\n",
            "\t \u001b[32mtrain_loss: 0.544\u001b[0m\n",
            "==============================\n"
          ]
        },
        {
          "name": "stderr",
          "output_type": "stream",
          "text": [
            "\n",
            "train: 100%|██████████| 9107/9107 [00:23<00:00, 381.99it/s]"
          ]
        },
        {
          "name": "stdout",
          "output_type": "stream",
          "text": [
            "Epoch 9 elapsed: 23.844s\n",
            "\t \u001b[32mtrain_loss: 0.5321\u001b[0m\n",
            "==============================\n"
          ]
        },
        {
          "name": "stderr",
          "output_type": "stream",
          "text": [
            "\n",
            "train: 100%|██████████| 9107/9107 [00:24<00:00, 379.43it/s]"
          ]
        },
        {
          "name": "stdout",
          "output_type": "stream",
          "text": [
            "Epoch 10 elapsed: 24.004s\n",
            "\t \u001b[32mtrain_loss: 0.5229\u001b[0m\n",
            "==============================\n"
          ]
        },
        {
          "name": "stderr",
          "output_type": "stream",
          "text": [
            "\n",
            "eval_pointwise: 100%|██████████| 36/36 [00:00<00:00, 443.28it/s]\n"
          ]
        },
        {
          "name": "stdout",
          "output_type": "stream",
          "text": [
            "Training start time: \u001b[35m2025-05-23 13:52:42\u001b[0m\n"
          ]
        },
        {
          "name": "stderr",
          "output_type": "stream",
          "text": [
            "train: 100%|██████████| 9107/9107 [00:25<00:00, 361.00it/s]"
          ]
        },
        {
          "name": "stdout",
          "output_type": "stream",
          "text": [
            "Epoch 1 elapsed: 25.229s\n",
            "\t \u001b[32mtrain_loss: 1.0194\u001b[0m\n"
          ]
        },
        {
          "name": "stderr",
          "output_type": "stream",
          "text": [
            "\n"
          ]
        },
        {
          "name": "stdout",
          "output_type": "stream",
          "text": [
            "==============================\n"
          ]
        },
        {
          "name": "stderr",
          "output_type": "stream",
          "text": [
            "train: 100%|██████████| 9107/9107 [00:24<00:00, 368.61it/s]"
          ]
        },
        {
          "name": "stdout",
          "output_type": "stream",
          "text": [
            "Epoch 2 elapsed: 24.708s\n",
            "\t \u001b[32mtrain_loss: 0.661\u001b[0m\n",
            "==============================\n"
          ]
        },
        {
          "name": "stderr",
          "output_type": "stream",
          "text": [
            "\n",
            "train: 100%|██████████| 9107/9107 [00:24<00:00, 366.27it/s]"
          ]
        },
        {
          "name": "stdout",
          "output_type": "stream",
          "text": [
            "Epoch 3 elapsed: 24.866s\n",
            "\t \u001b[32mtrain_loss: 0.6428\u001b[0m\n",
            "==============================\n"
          ]
        },
        {
          "name": "stderr",
          "output_type": "stream",
          "text": [
            "\n",
            "train: 100%|██████████| 9107/9107 [00:24<00:00, 365.21it/s]"
          ]
        },
        {
          "name": "stdout",
          "output_type": "stream",
          "text": [
            "Epoch 4 elapsed: 24.938s\n",
            "\t \u001b[32mtrain_loss: 0.6214\u001b[0m\n",
            "==============================\n"
          ]
        },
        {
          "name": "stderr",
          "output_type": "stream",
          "text": [
            "\n",
            "train: 100%|██████████| 9107/9107 [00:24<00:00, 368.78it/s]"
          ]
        },
        {
          "name": "stdout",
          "output_type": "stream",
          "text": [
            "Epoch 5 elapsed: 24.697s\n",
            "\t \u001b[32mtrain_loss: 0.5977\u001b[0m\n",
            "==============================\n"
          ]
        },
        {
          "name": "stderr",
          "output_type": "stream",
          "text": [
            "\n",
            "train: 100%|██████████| 9107/9107 [00:24<00:00, 366.67it/s]"
          ]
        },
        {
          "name": "stdout",
          "output_type": "stream",
          "text": [
            "Epoch 6 elapsed: 24.839s\n",
            "\t \u001b[32mtrain_loss: 0.576\u001b[0m\n",
            "==============================\n"
          ]
        },
        {
          "name": "stderr",
          "output_type": "stream",
          "text": [
            "\n",
            "train: 100%|██████████| 9107/9107 [00:25<00:00, 363.43it/s]"
          ]
        },
        {
          "name": "stdout",
          "output_type": "stream",
          "text": [
            "Epoch 7 elapsed: 25.060s\n",
            "\t \u001b[32mtrain_loss: 0.5574\u001b[0m\n",
            "==============================\n"
          ]
        },
        {
          "name": "stderr",
          "output_type": "stream",
          "text": [
            "\n",
            "train: 100%|██████████| 9107/9107 [00:24<00:00, 367.69it/s]"
          ]
        },
        {
          "name": "stdout",
          "output_type": "stream",
          "text": [
            "Epoch 8 elapsed: 24.770s\n",
            "\t \u001b[32mtrain_loss: 0.5425\u001b[0m\n",
            "==============================\n"
          ]
        },
        {
          "name": "stderr",
          "output_type": "stream",
          "text": [
            "\n",
            "train: 100%|██████████| 9107/9107 [00:24<00:00, 366.14it/s]"
          ]
        },
        {
          "name": "stdout",
          "output_type": "stream",
          "text": [
            "Epoch 9 elapsed: 24.875s\n",
            "\t \u001b[32mtrain_loss: 0.5308\u001b[0m\n",
            "==============================\n"
          ]
        },
        {
          "name": "stderr",
          "output_type": "stream",
          "text": [
            "\n",
            "train: 100%|██████████| 9107/9107 [00:24<00:00, 366.55it/s]"
          ]
        },
        {
          "name": "stdout",
          "output_type": "stream",
          "text": [
            "Epoch 10 elapsed: 24.847s\n",
            "\t \u001b[32mtrain_loss: 0.5219\u001b[0m\n"
          ]
        },
        {
          "name": "stderr",
          "output_type": "stream",
          "text": [
            "\n"
          ]
        },
        {
          "name": "stdout",
          "output_type": "stream",
          "text": [
            "==============================\n"
          ]
        },
        {
          "name": "stderr",
          "output_type": "stream",
          "text": [
            "eval_pointwise: 100%|██████████| 36/36 [00:00<00:00, 385.05it/s]\n"
          ]
        },
        {
          "name": "stdout",
          "output_type": "stream",
          "text": [
            "Training start time: \u001b[35m2025-05-23 13:56:53\u001b[0m\n"
          ]
        },
        {
          "name": "stderr",
          "output_type": "stream",
          "text": [
            "train: 100%|██████████| 9107/9107 [00:24<00:00, 370.76it/s]"
          ]
        },
        {
          "name": "stdout",
          "output_type": "stream",
          "text": [
            "Epoch 1 elapsed: 24.565s\n",
            "\t \u001b[32mtrain_loss: 1.0194\u001b[0m\n"
          ]
        },
        {
          "name": "stderr",
          "output_type": "stream",
          "text": [
            "\n"
          ]
        },
        {
          "name": "stdout",
          "output_type": "stream",
          "text": [
            "==============================\n"
          ]
        },
        {
          "name": "stderr",
          "output_type": "stream",
          "text": [
            "train: 100%|██████████| 9107/9107 [00:24<00:00, 375.12it/s]"
          ]
        },
        {
          "name": "stdout",
          "output_type": "stream",
          "text": [
            "Epoch 2 elapsed: 24.280s\n",
            "\t \u001b[32mtrain_loss: 0.6622\u001b[0m\n"
          ]
        },
        {
          "name": "stderr",
          "output_type": "stream",
          "text": [
            "\n"
          ]
        },
        {
          "name": "stdout",
          "output_type": "stream",
          "text": [
            "==============================\n"
          ]
        },
        {
          "name": "stderr",
          "output_type": "stream",
          "text": [
            "train: 100%|██████████| 9107/9107 [00:24<00:00, 374.47it/s]"
          ]
        },
        {
          "name": "stdout",
          "output_type": "stream",
          "text": [
            "Epoch 3 elapsed: 24.322s\n",
            "\t \u001b[32mtrain_loss: 0.6455\u001b[0m\n",
            "==============================\n"
          ]
        },
        {
          "name": "stderr",
          "output_type": "stream",
          "text": [
            "\n",
            "train: 100%|██████████| 9107/9107 [00:24<00:00, 373.05it/s]"
          ]
        },
        {
          "name": "stdout",
          "output_type": "stream",
          "text": [
            "Epoch 4 elapsed: 24.414s\n",
            "\t \u001b[32mtrain_loss: 0.6245\u001b[0m\n",
            "==============================\n"
          ]
        },
        {
          "name": "stderr",
          "output_type": "stream",
          "text": [
            "\n",
            "train: 100%|██████████| 9107/9107 [00:24<00:00, 378.47it/s]"
          ]
        },
        {
          "name": "stdout",
          "output_type": "stream",
          "text": [
            "Epoch 5 elapsed: 24.064s\n",
            "\t \u001b[32mtrain_loss: 0.6002\u001b[0m\n",
            "==============================\n"
          ]
        },
        {
          "name": "stderr",
          "output_type": "stream",
          "text": [
            "\n",
            "train: 100%|██████████| 9107/9107 [00:24<00:00, 374.68it/s]"
          ]
        },
        {
          "name": "stdout",
          "output_type": "stream",
          "text": [
            "Epoch 6 elapsed: 24.308s\n",
            "\t \u001b[32mtrain_loss: 0.5775\u001b[0m\n",
            "==============================\n"
          ]
        },
        {
          "name": "stderr",
          "output_type": "stream",
          "text": [
            "\n",
            "train: 100%|██████████| 9107/9107 [00:24<00:00, 374.91it/s]"
          ]
        },
        {
          "name": "stdout",
          "output_type": "stream",
          "text": [
            "Epoch 7 elapsed: 24.293s\n",
            "\t \u001b[32mtrain_loss: 0.5581\u001b[0m\n",
            "==============================\n"
          ]
        },
        {
          "name": "stderr",
          "output_type": "stream",
          "text": [
            "\n",
            "train: 100%|██████████| 9107/9107 [00:24<00:00, 376.86it/s]"
          ]
        },
        {
          "name": "stdout",
          "output_type": "stream",
          "text": [
            "Epoch 8 elapsed: 24.168s\n",
            "\t \u001b[32mtrain_loss: 0.5427\u001b[0m\n",
            "==============================\n"
          ]
        },
        {
          "name": "stderr",
          "output_type": "stream",
          "text": [
            "\n",
            "train: 100%|██████████| 9107/9107 [00:24<00:00, 375.61it/s]"
          ]
        },
        {
          "name": "stdout",
          "output_type": "stream",
          "text": [
            "Epoch 9 elapsed: 24.247s\n",
            "\t \u001b[32mtrain_loss: 0.5308\u001b[0m\n",
            "==============================\n"
          ]
        },
        {
          "name": "stderr",
          "output_type": "stream",
          "text": [
            "\n",
            "train: 100%|██████████| 9107/9107 [00:24<00:00, 369.66it/s]"
          ]
        },
        {
          "name": "stdout",
          "output_type": "stream",
          "text": [
            "Epoch 10 elapsed: 24.638s\n",
            "\t \u001b[32mtrain_loss: 0.5218\u001b[0m\n",
            "==============================\n"
          ]
        },
        {
          "name": "stderr",
          "output_type": "stream",
          "text": [
            "\n",
            "eval_pointwise: 100%|██████████| 36/36 [00:00<00:00, 426.35it/s]"
          ]
        },
        {
          "name": "stdout",
          "output_type": "stream",
          "text": [
            "\n",
            "LibReco SVDpp (0.7972160116020002, 0.001168685183872605) ('Train Loss:', 0.5227600000000001, 0.0009024411338142615)\n"
          ]
        },
        {
          "name": "stderr",
          "output_type": "stream",
          "text": [
            "\n"
          ]
        }
      ],
      "source": [
        "train_lib_model(\"SVDpp\", column_ext)"
      ]
    },
    {
      "cell_type": "code",
      "execution_count": null,
      "id": "B5OPSLBcSEh2",
      "metadata": {
        "colab": {
          "background_save": true
        },
        "id": "B5OPSLBcSEh2",
        "outputId": "759b825e-2266-4fa8-b65c-f149dd020b4a"
      },
      "outputs": [
        {
          "name": "stdout",
          "output_type": "stream",
          "text": [
            "Training start time: \u001b[35m2025-05-23 14:00:59\u001b[0m\n"
          ]
        },
        {
          "name": "stderr",
          "output_type": "stream",
          "text": [
            "train: 100%|██████████| 9107/9107 [00:24<00:00, 374.48it/s]"
          ]
        },
        {
          "name": "stdout",
          "output_type": "stream",
          "text": [
            "Epoch 1 elapsed: 24.321s\n",
            "\t \u001b[32mtrain_loss: 1.0282\u001b[0m\n"
          ]
        },
        {
          "name": "stderr",
          "output_type": "stream",
          "text": [
            "\n"
          ]
        },
        {
          "name": "stdout",
          "output_type": "stream",
          "text": [
            "==============================\n"
          ]
        },
        {
          "name": "stderr",
          "output_type": "stream",
          "text": [
            "train: 100%|██████████| 9107/9107 [00:24<00:00, 377.51it/s]"
          ]
        },
        {
          "name": "stdout",
          "output_type": "stream",
          "text": [
            "Epoch 2 elapsed: 24.126s\n",
            "\t \u001b[32mtrain_loss: 0.6704\u001b[0m\n",
            "==============================\n"
          ]
        },
        {
          "name": "stderr",
          "output_type": "stream",
          "text": [
            "\n",
            "train: 100%|██████████| 9107/9107 [00:24<00:00, 377.63it/s]"
          ]
        },
        {
          "name": "stdout",
          "output_type": "stream",
          "text": [
            "Epoch 3 elapsed: 24.118s\n",
            "\t \u001b[32mtrain_loss: 0.6493\u001b[0m\n",
            "==============================\n"
          ]
        },
        {
          "name": "stderr",
          "output_type": "stream",
          "text": [
            "\n",
            "train: 100%|██████████| 9107/9107 [00:24<00:00, 377.97it/s]"
          ]
        },
        {
          "name": "stdout",
          "output_type": "stream",
          "text": [
            "Epoch 4 elapsed: 24.096s\n",
            "\t \u001b[32mtrain_loss: 0.6271\u001b[0m\n",
            "==============================\n"
          ]
        },
        {
          "name": "stderr",
          "output_type": "stream",
          "text": [
            "\n",
            "train: 100%|██████████| 9107/9107 [00:24<00:00, 378.94it/s]"
          ]
        },
        {
          "name": "stdout",
          "output_type": "stream",
          "text": [
            "Epoch 5 elapsed: 24.035s\n",
            "\t \u001b[32mtrain_loss: 0.6056\u001b[0m\n",
            "==============================\n"
          ]
        },
        {
          "name": "stderr",
          "output_type": "stream",
          "text": [
            "\n",
            "train: 100%|██████████| 9107/9107 [00:25<00:00, 352.53it/s]"
          ]
        },
        {
          "name": "stdout",
          "output_type": "stream",
          "text": [
            "Epoch 6 elapsed: 25.835s\n",
            "\t \u001b[32mtrain_loss: 0.5855\u001b[0m\n"
          ]
        },
        {
          "name": "stderr",
          "output_type": "stream",
          "text": [
            "\n"
          ]
        },
        {
          "name": "stdout",
          "output_type": "stream",
          "text": [
            "==============================\n"
          ]
        },
        {
          "name": "stderr",
          "output_type": "stream",
          "text": [
            "train: 100%|██████████| 9107/9107 [00:25<00:00, 364.14it/s]"
          ]
        },
        {
          "name": "stdout",
          "output_type": "stream",
          "text": [
            "Epoch 7 elapsed: 25.011s\n",
            "\t \u001b[32mtrain_loss: 0.5678\u001b[0m\n",
            "==============================\n"
          ]
        },
        {
          "name": "stderr",
          "output_type": "stream",
          "text": [
            "\n",
            "train: 100%|██████████| 9107/9107 [00:23<00:00, 380.09it/s]"
          ]
        },
        {
          "name": "stdout",
          "output_type": "stream",
          "text": [
            "Epoch 8 elapsed: 23.962s\n",
            "\t \u001b[32mtrain_loss: 0.5528\u001b[0m\n",
            "==============================\n"
          ]
        },
        {
          "name": "stderr",
          "output_type": "stream",
          "text": [
            "\n",
            "train: 100%|██████████| 9107/9107 [00:24<00:00, 376.93it/s]"
          ]
        },
        {
          "name": "stdout",
          "output_type": "stream",
          "text": [
            "Epoch 9 elapsed: 24.163s\n",
            "\t \u001b[32mtrain_loss: 0.541\u001b[0m\n",
            "==============================\n"
          ]
        },
        {
          "name": "stderr",
          "output_type": "stream",
          "text": [
            "\n",
            "train: 100%|██████████| 9107/9107 [00:24<00:00, 377.47it/s]"
          ]
        },
        {
          "name": "stdout",
          "output_type": "stream",
          "text": [
            "Epoch 10 elapsed: 24.128s\n",
            "\t \u001b[32mtrain_loss: 0.532\u001b[0m\n",
            "==============================\n"
          ]
        },
        {
          "name": "stderr",
          "output_type": "stream",
          "text": [
            "\n",
            "eval_pointwise: 100%|██████████| 36/36 [00:00<00:00, 436.24it/s]\n"
          ]
        },
        {
          "name": "stdout",
          "output_type": "stream",
          "text": [
            "Training start time: \u001b[35m2025-05-23 14:05:04\u001b[0m\n"
          ]
        },
        {
          "name": "stderr",
          "output_type": "stream",
          "text": [
            "train: 100%|██████████| 9107/9107 [00:24<00:00, 375.49it/s]"
          ]
        },
        {
          "name": "stdout",
          "output_type": "stream",
          "text": [
            "Epoch 1 elapsed: 24.255s\n",
            "\t \u001b[32mtrain_loss: 1.0342\u001b[0m\n"
          ]
        },
        {
          "name": "stderr",
          "output_type": "stream",
          "text": [
            "\n"
          ]
        },
        {
          "name": "stdout",
          "output_type": "stream",
          "text": [
            "==============================\n"
          ]
        },
        {
          "name": "stderr",
          "output_type": "stream",
          "text": [
            "train: 100%|██████████| 9107/9107 [00:24<00:00, 374.26it/s]"
          ]
        },
        {
          "name": "stdout",
          "output_type": "stream",
          "text": [
            "Epoch 2 elapsed: 24.336s\n",
            "\t \u001b[32mtrain_loss: 0.6606\u001b[0m\n",
            "==============================\n"
          ]
        },
        {
          "name": "stderr",
          "output_type": "stream",
          "text": [
            "\n",
            "train: 100%|██████████| 9107/9107 [00:24<00:00, 372.10it/s]"
          ]
        },
        {
          "name": "stdout",
          "output_type": "stream",
          "text": [
            "Epoch 3 elapsed: 24.477s\n",
            "\t \u001b[32mtrain_loss: 0.6399\u001b[0m\n",
            "==============================\n"
          ]
        },
        {
          "name": "stderr",
          "output_type": "stream",
          "text": [
            "\n",
            "train: 100%|██████████| 9107/9107 [00:24<00:00, 378.23it/s]"
          ]
        },
        {
          "name": "stdout",
          "output_type": "stream",
          "text": [
            "Epoch 4 elapsed: 24.080s\n",
            "\t \u001b[32mtrain_loss: 0.6205\u001b[0m\n"
          ]
        },
        {
          "name": "stderr",
          "output_type": "stream",
          "text": [
            "\n"
          ]
        },
        {
          "name": "stdout",
          "output_type": "stream",
          "text": [
            "==============================\n"
          ]
        },
        {
          "name": "stderr",
          "output_type": "stream",
          "text": [
            "train: 100%|██████████| 9107/9107 [00:23<00:00, 379.51it/s]"
          ]
        },
        {
          "name": "stdout",
          "output_type": "stream",
          "text": [
            "Epoch 5 elapsed: 23.999s\n",
            "\t \u001b[32mtrain_loss: 0.602\u001b[0m\n"
          ]
        },
        {
          "name": "stderr",
          "output_type": "stream",
          "text": [
            "\n"
          ]
        },
        {
          "name": "stdout",
          "output_type": "stream",
          "text": [
            "==============================\n"
          ]
        },
        {
          "name": "stderr",
          "output_type": "stream",
          "text": [
            "train: 100%|██████████| 9107/9107 [00:24<00:00, 377.58it/s]"
          ]
        },
        {
          "name": "stdout",
          "output_type": "stream",
          "text": [
            "Epoch 6 elapsed: 24.121s\n",
            "\t \u001b[32mtrain_loss: 0.5839\u001b[0m\n",
            "==============================\n"
          ]
        },
        {
          "name": "stderr",
          "output_type": "stream",
          "text": [
            "\n",
            "train: 100%|██████████| 9107/9107 [00:24<00:00, 377.49it/s]"
          ]
        },
        {
          "name": "stdout",
          "output_type": "stream",
          "text": [
            "Epoch 7 elapsed: 24.127s\n",
            "\t \u001b[32mtrain_loss: 0.5668\u001b[0m\n",
            "==============================\n"
          ]
        },
        {
          "name": "stderr",
          "output_type": "stream",
          "text": [
            "\n",
            "train: 100%|██████████| 9107/9107 [00:23<00:00, 380.11it/s]"
          ]
        },
        {
          "name": "stdout",
          "output_type": "stream",
          "text": [
            "Epoch 8 elapsed: 23.961s\n",
            "\t \u001b[32mtrain_loss: 0.5521\u001b[0m\n",
            "==============================\n"
          ]
        },
        {
          "name": "stderr",
          "output_type": "stream",
          "text": [
            "\n",
            "train: 100%|██████████| 9107/9107 [00:24<00:00, 378.38it/s]"
          ]
        },
        {
          "name": "stdout",
          "output_type": "stream",
          "text": [
            "Epoch 9 elapsed: 24.070s"
          ]
        },
        {
          "name": "stderr",
          "output_type": "stream",
          "text": [
            "\n"
          ]
        },
        {
          "name": "stdout",
          "output_type": "stream",
          "text": [
            "\n",
            "\t \u001b[32mtrain_loss: 0.5403\u001b[0m\n",
            "==============================\n"
          ]
        },
        {
          "name": "stderr",
          "output_type": "stream",
          "text": [
            "train: 100%|██████████| 9107/9107 [00:24<00:00, 378.20it/s]"
          ]
        },
        {
          "name": "stdout",
          "output_type": "stream",
          "text": [
            "Epoch 10 elapsed: 24.082s\n",
            "\t \u001b[32mtrain_loss: 0.5316\u001b[0m\n"
          ]
        },
        {
          "name": "stderr",
          "output_type": "stream",
          "text": [
            "\n"
          ]
        },
        {
          "name": "stdout",
          "output_type": "stream",
          "text": [
            "==============================\n"
          ]
        },
        {
          "name": "stderr",
          "output_type": "stream",
          "text": [
            "eval_pointwise: 100%|██████████| 36/36 [00:00<00:00, 423.47it/s]\n"
          ]
        },
        {
          "name": "stdout",
          "output_type": "stream",
          "text": [
            "Training start time: \u001b[35m2025-05-23 14:09:09\u001b[0m\n"
          ]
        },
        {
          "name": "stderr",
          "output_type": "stream",
          "text": [
            "train: 100%|██████████| 9107/9107 [00:25<00:00, 362.47it/s]"
          ]
        },
        {
          "name": "stdout",
          "output_type": "stream",
          "text": [
            "Epoch 1 elapsed: 25.126s\n",
            "\t \u001b[32mtrain_loss: 1.0256\u001b[0m\n"
          ]
        },
        {
          "name": "stderr",
          "output_type": "stream",
          "text": [
            "\n"
          ]
        },
        {
          "name": "stdout",
          "output_type": "stream",
          "text": [
            "==============================\n"
          ]
        },
        {
          "name": "stderr",
          "output_type": "stream",
          "text": [
            "train: 100%|██████████| 9107/9107 [00:25<00:00, 364.02it/s]"
          ]
        },
        {
          "name": "stdout",
          "output_type": "stream",
          "text": [
            "Epoch 2 elapsed: 25.020s\n",
            "\t \u001b[32mtrain_loss: 0.6736\u001b[0m\n",
            "==============================\n"
          ]
        },
        {
          "name": "stderr",
          "output_type": "stream",
          "text": [
            "\n",
            "train: 100%|██████████| 9107/9107 [00:24<00:00, 364.70it/s]"
          ]
        },
        {
          "name": "stdout",
          "output_type": "stream",
          "text": [
            "Epoch 3 elapsed: 24.973s\n",
            "\t \u001b[32mtrain_loss: 0.6561\u001b[0m\n",
            "==============================\n"
          ]
        },
        {
          "name": "stderr",
          "output_type": "stream",
          "text": [
            "\n",
            "train: 100%|██████████| 9107/9107 [00:24<00:00, 366.41it/s]"
          ]
        },
        {
          "name": "stdout",
          "output_type": "stream",
          "text": [
            "Epoch 4 elapsed: 24.857s\n",
            "\t \u001b[32mtrain_loss: 0.6348\u001b[0m\n",
            "==============================\n"
          ]
        },
        {
          "name": "stderr",
          "output_type": "stream",
          "text": [
            "\n",
            "train: 100%|██████████| 9107/9107 [00:25<00:00, 358.92it/s]"
          ]
        },
        {
          "name": "stdout",
          "output_type": "stream",
          "text": [
            "Epoch 5 elapsed: 25.375s\n",
            "\t \u001b[32mtrain_loss: 0.6111\u001b[0m\n",
            "==============================\n"
          ]
        },
        {
          "name": "stderr",
          "output_type": "stream",
          "text": [
            "\n",
            "train: 100%|██████████| 9107/9107 [00:24<00:00, 364.44it/s]"
          ]
        },
        {
          "name": "stdout",
          "output_type": "stream",
          "text": [
            "Epoch 6 elapsed: 24.991s\n",
            "\t \u001b[32mtrain_loss: 0.5881\u001b[0m\n",
            "==============================\n"
          ]
        },
        {
          "name": "stderr",
          "output_type": "stream",
          "text": [
            "\n",
            "train: 100%|██████████| 9107/9107 [00:24<00:00, 365.16it/s]"
          ]
        },
        {
          "name": "stdout",
          "output_type": "stream",
          "text": [
            "Epoch 7 elapsed: 24.942s\n",
            "\t \u001b[32mtrain_loss: 0.5685\u001b[0m\n",
            "==============================\n"
          ]
        },
        {
          "name": "stderr",
          "output_type": "stream",
          "text": [
            "\n",
            "train: 100%|██████████| 9107/9107 [00:24<00:00, 365.70it/s]"
          ]
        },
        {
          "name": "stdout",
          "output_type": "stream",
          "text": [
            "Epoch 8 elapsed: 24.905s\n",
            "\t \u001b[32mtrain_loss: 0.5526\u001b[0m\n",
            "==============================\n"
          ]
        },
        {
          "name": "stderr",
          "output_type": "stream",
          "text": [
            "\n",
            "train: 100%|██████████| 9107/9107 [00:24<00:00, 365.11it/s]"
          ]
        },
        {
          "name": "stdout",
          "output_type": "stream",
          "text": [
            "Epoch 9 elapsed: 24.945s\n",
            "\t \u001b[32mtrain_loss: 0.5406\u001b[0m\n",
            "==============================\n"
          ]
        },
        {
          "name": "stderr",
          "output_type": "stream",
          "text": [
            "\n",
            "train: 100%|██████████| 9107/9107 [00:24<00:00, 364.69it/s]"
          ]
        },
        {
          "name": "stdout",
          "output_type": "stream",
          "text": [
            "Epoch 10 elapsed: 24.974s\n",
            "\t \u001b[32mtrain_loss: 0.5314\u001b[0m\n",
            "==============================\n"
          ]
        },
        {
          "name": "stderr",
          "output_type": "stream",
          "text": [
            "\n",
            "eval_pointwise: 100%|██████████| 36/36 [00:00<00:00, 423.87it/s]\n"
          ]
        },
        {
          "name": "stdout",
          "output_type": "stream",
          "text": [
            "Training start time: \u001b[35m2025-05-23 14:13:21\u001b[0m\n"
          ]
        },
        {
          "name": "stderr",
          "output_type": "stream",
          "text": [
            "train: 100%|██████████| 9107/9107 [00:24<00:00, 372.21it/s]"
          ]
        },
        {
          "name": "stdout",
          "output_type": "stream",
          "text": [
            "Epoch 1 elapsed: 24.469s\n",
            "\t \u001b[32mtrain_loss: 1.0308\u001b[0m\n"
          ]
        },
        {
          "name": "stderr",
          "output_type": "stream",
          "text": [
            "\n"
          ]
        },
        {
          "name": "stdout",
          "output_type": "stream",
          "text": [
            "==============================\n"
          ]
        },
        {
          "name": "stderr",
          "output_type": "stream",
          "text": [
            "train: 100%|██████████| 9107/9107 [00:24<00:00, 372.88it/s]"
          ]
        },
        {
          "name": "stdout",
          "output_type": "stream",
          "text": [
            "Epoch 2 elapsed: 24.425s\n",
            "\t \u001b[32mtrain_loss: 0.6724\u001b[0m\n",
            "==============================\n"
          ]
        },
        {
          "name": "stderr",
          "output_type": "stream",
          "text": [
            "\n",
            "train: 100%|██████████| 9107/9107 [00:24<00:00, 372.88it/s]"
          ]
        },
        {
          "name": "stdout",
          "output_type": "stream",
          "text": [
            "Epoch 3 elapsed: 24.425s\n",
            "\t \u001b[32mtrain_loss: 0.6538\u001b[0m\n",
            "==============================\n"
          ]
        },
        {
          "name": "stderr",
          "output_type": "stream",
          "text": [
            "\n",
            "train: 100%|██████████| 9107/9107 [00:24<00:00, 376.26it/s]"
          ]
        },
        {
          "name": "stdout",
          "output_type": "stream",
          "text": [
            "Epoch 4 elapsed: 24.206s\n",
            "\t \u001b[32mtrain_loss: 0.6316\u001b[0m\n",
            "==============================\n"
          ]
        },
        {
          "name": "stderr",
          "output_type": "stream",
          "text": [
            "\n",
            "train: 100%|██████████| 9107/9107 [00:24<00:00, 372.97it/s]"
          ]
        },
        {
          "name": "stdout",
          "output_type": "stream",
          "text": [
            "Epoch 5 elapsed: 24.419s\n",
            "\t \u001b[32mtrain_loss: 0.6071\u001b[0m\n",
            "==============================\n"
          ]
        },
        {
          "name": "stderr",
          "output_type": "stream",
          "text": [
            "\n",
            "train: 100%|██████████| 9107/9107 [00:24<00:00, 372.50it/s]"
          ]
        },
        {
          "name": "stdout",
          "output_type": "stream",
          "text": [
            "Epoch 6 elapsed: 24.450s\n",
            "\t \u001b[32mtrain_loss: 0.585\u001b[0m\n",
            "==============================\n"
          ]
        },
        {
          "name": "stderr",
          "output_type": "stream",
          "text": [
            "\n",
            "train: 100%|██████████| 9107/9107 [00:24<00:00, 373.34it/s]"
          ]
        },
        {
          "name": "stdout",
          "output_type": "stream",
          "text": [
            "Epoch 7 elapsed: 24.395s\n",
            "\t \u001b[32mtrain_loss: 0.5662\u001b[0m\n",
            "==============================\n"
          ]
        },
        {
          "name": "stderr",
          "output_type": "stream",
          "text": [
            "\n",
            "train: 100%|██████████| 9107/9107 [00:24<00:00, 369.58it/s]"
          ]
        },
        {
          "name": "stdout",
          "output_type": "stream",
          "text": [
            "Epoch 8 elapsed: 24.643s"
          ]
        },
        {
          "name": "stderr",
          "output_type": "stream",
          "text": [
            "\n"
          ]
        },
        {
          "name": "stdout",
          "output_type": "stream",
          "text": [
            "\n",
            "\t \u001b[32mtrain_loss: 0.5511\u001b[0m\n",
            "==============================\n"
          ]
        },
        {
          "name": "stderr",
          "output_type": "stream",
          "text": [
            "train: 100%|██████████| 9107/9107 [00:24<00:00, 374.07it/s]"
          ]
        },
        {
          "name": "stdout",
          "output_type": "stream",
          "text": [
            "Epoch 9 elapsed: 24.347s\n",
            "\t \u001b[32mtrain_loss: 0.5392\u001b[0m\n",
            "==============================\n"
          ]
        },
        {
          "name": "stderr",
          "output_type": "stream",
          "text": [
            "\n",
            "train: 100%|██████████| 9107/9107 [00:24<00:00, 373.98it/s]"
          ]
        },
        {
          "name": "stdout",
          "output_type": "stream",
          "text": [
            "Epoch 10 elapsed: 24.353s\n",
            "\t \u001b[32mtrain_loss: 0.5301\u001b[0m\n",
            "==============================\n"
          ]
        },
        {
          "name": "stderr",
          "output_type": "stream",
          "text": [
            "\n",
            "eval_pointwise: 100%|██████████| 36/36 [00:00<00:00, 436.39it/s]\n"
          ]
        },
        {
          "name": "stdout",
          "output_type": "stream",
          "text": [
            "Training start time: \u001b[35m2025-05-23 14:17:27\u001b[0m\n"
          ]
        },
        {
          "name": "stderr",
          "output_type": "stream",
          "text": [
            "train: 100%|██████████| 9107/9107 [00:24<00:00, 376.66it/s]"
          ]
        },
        {
          "name": "stdout",
          "output_type": "stream",
          "text": [
            "Epoch 1 elapsed: 24.180s\n",
            "\t \u001b[32mtrain_loss: 1.0308\u001b[0m\n"
          ]
        },
        {
          "name": "stderr",
          "output_type": "stream",
          "text": [
            "\n"
          ]
        },
        {
          "name": "stdout",
          "output_type": "stream",
          "text": [
            "==============================\n"
          ]
        },
        {
          "name": "stderr",
          "output_type": "stream",
          "text": [
            "train: 100%|██████████| 9107/9107 [00:23<00:00, 379.52it/s]"
          ]
        },
        {
          "name": "stdout",
          "output_type": "stream",
          "text": [
            "Epoch 2 elapsed: 23.999s\n",
            "\t \u001b[32mtrain_loss: 0.6734\u001b[0m\n",
            "==============================\n"
          ]
        },
        {
          "name": "stderr",
          "output_type": "stream",
          "text": [
            "\n",
            "train: 100%|██████████| 9107/9107 [00:24<00:00, 379.08it/s]"
          ]
        },
        {
          "name": "stdout",
          "output_type": "stream",
          "text": [
            "Epoch 3 elapsed: 24.026s\n",
            "\t \u001b[32mtrain_loss: 0.6561\u001b[0m\n",
            "==============================\n"
          ]
        },
        {
          "name": "stderr",
          "output_type": "stream",
          "text": [
            "\n",
            "train: 100%|██████████| 9107/9107 [00:23<00:00, 382.95it/s]"
          ]
        },
        {
          "name": "stdout",
          "output_type": "stream",
          "text": [
            "Epoch 4 elapsed: 23.783s\n",
            "\t \u001b[32mtrain_loss: 0.6345\u001b[0m\n",
            "==============================\n"
          ]
        },
        {
          "name": "stderr",
          "output_type": "stream",
          "text": [
            "\n",
            "train: 100%|██████████| 9107/9107 [00:23<00:00, 379.61it/s]"
          ]
        },
        {
          "name": "stdout",
          "output_type": "stream",
          "text": [
            "Epoch 5 elapsed: 23.993s\n",
            "\t \u001b[32mtrain_loss: 0.6097\u001b[0m\n",
            "==============================\n"
          ]
        },
        {
          "name": "stderr",
          "output_type": "stream",
          "text": [
            "\n",
            "train: 100%|██████████| 9107/9107 [00:24<00:00, 378.63it/s]"
          ]
        },
        {
          "name": "stdout",
          "output_type": "stream",
          "text": [
            "Epoch 6 elapsed: 24.054s\n"
          ]
        },
        {
          "name": "stderr",
          "output_type": "stream",
          "text": [
            "\n"
          ]
        },
        {
          "name": "stdout",
          "output_type": "stream",
          "text": [
            "\t \u001b[32mtrain_loss: 0.5867\u001b[0m\n",
            "==============================\n"
          ]
        },
        {
          "name": "stderr",
          "output_type": "stream",
          "text": [
            "train: 100%|██████████| 9107/9107 [00:23<00:00, 382.27it/s]"
          ]
        },
        {
          "name": "stdout",
          "output_type": "stream",
          "text": [
            "Epoch 7 elapsed: 23.825s\n",
            "\t \u001b[32mtrain_loss: 0.5672\u001b[0m\n",
            "==============================\n"
          ]
        },
        {
          "name": "stderr",
          "output_type": "stream",
          "text": [
            "\n",
            "train: 100%|██████████| 9107/9107 [00:23<00:00, 379.53it/s]"
          ]
        },
        {
          "name": "stdout",
          "output_type": "stream",
          "text": [
            "Epoch 8 elapsed: 23.997s\n",
            "\t \u001b[32mtrain_loss: 0.5517\u001b[0m\n",
            "==============================\n"
          ]
        },
        {
          "name": "stderr",
          "output_type": "stream",
          "text": [
            "\n",
            "train: 100%|██████████| 9107/9107 [00:24<00:00, 379.10it/s]"
          ]
        },
        {
          "name": "stdout",
          "output_type": "stream",
          "text": [
            "Epoch 9 elapsed: 24.025s\n",
            "\t \u001b[32mtrain_loss: 0.5397\u001b[0m\n",
            "==============================\n"
          ]
        },
        {
          "name": "stderr",
          "output_type": "stream",
          "text": [
            "\n",
            "train: 100%|██████████| 9107/9107 [00:24<00:00, 376.51it/s]"
          ]
        },
        {
          "name": "stdout",
          "output_type": "stream",
          "text": [
            "Epoch 10 elapsed: 24.191s\n",
            "\t \u001b[32mtrain_loss: 0.5307\u001b[0m\n",
            "==============================\n"
          ]
        },
        {
          "name": "stderr",
          "output_type": "stream",
          "text": [
            "\n",
            "eval_pointwise: 100%|██████████| 36/36 [00:00<00:00, 427.86it/s]"
          ]
        },
        {
          "name": "stdout",
          "output_type": "stream",
          "text": [
            "\n",
            "LibReco SVDpp (0.8040954095430928, 0.0009838207973307657)"
          ]
        },
        {
          "name": "stderr",
          "output_type": "stream",
          "text": [
            "\n"
          ]
        },
        {
          "name": "stdout",
          "output_type": "stream",
          "text": [
            " ('Train Loss:', 0.5311600000000001, 0.0006770524351924331)\n"
          ]
        }
      ],
      "source": [
        "train_lib_model(\"SVDpp\", global_ext)"
      ]
    },
    {
      "cell_type": "code",
      "execution_count": null,
      "id": "9cprHTnDSEnP",
      "metadata": {
        "colab": {
          "background_save": true,
          "base_uri": "https://localhost:8080/"
        },
        "id": "9cprHTnDSEnP",
        "outputId": "b2f572be-bfb4-4b40-b996-280881910e26"
      },
      "outputs": [
        {
          "name": "stdout",
          "output_type": "stream",
          "text": [
            "Training start time: \u001b[35m2025-05-23 14:21:30\u001b[0m\n"
          ]
        },
        {
          "name": "stderr",
          "output_type": "stream",
          "text": [
            "train: 100%|██████████| 9107/9107 [00:24<00:00, 374.52it/s]"
          ]
        },
        {
          "name": "stdout",
          "output_type": "stream",
          "text": [
            "Epoch 1 elapsed: 24.318s\n",
            "\t \u001b[32mtrain_loss: 1.0963\u001b[0m\n"
          ]
        },
        {
          "name": "stderr",
          "output_type": "stream",
          "text": [
            "\n"
          ]
        },
        {
          "name": "stdout",
          "output_type": "stream",
          "text": [
            "==============================\n"
          ]
        },
        {
          "name": "stderr",
          "output_type": "stream",
          "text": [
            "train: 100%|██████████| 9107/9107 [00:23<00:00, 380.97it/s]"
          ]
        },
        {
          "name": "stdout",
          "output_type": "stream",
          "text": [
            "Epoch 2 elapsed: 23.907s\n",
            "\t \u001b[32mtrain_loss: 0.7695\u001b[0m\n",
            "==============================\n"
          ]
        },
        {
          "name": "stderr",
          "output_type": "stream",
          "text": [
            "\n",
            "train: 100%|██████████| 9107/9107 [00:23<00:00, 381.70it/s]"
          ]
        },
        {
          "name": "stdout",
          "output_type": "stream",
          "text": [
            "Epoch 3 elapsed: 23.861s\n",
            "\t \u001b[32mtrain_loss: 0.7436\u001b[0m\n",
            "==============================\n"
          ]
        },
        {
          "name": "stderr",
          "output_type": "stream",
          "text": [
            "\n",
            "train: 100%|██████████| 9107/9107 [00:23<00:00, 384.32it/s]"
          ]
        },
        {
          "name": "stdout",
          "output_type": "stream",
          "text": [
            "Epoch 4 elapsed: 23.699s\n",
            "\t \u001b[32mtrain_loss: 0.7144\u001b[0m\n",
            "==============================\n"
          ]
        },
        {
          "name": "stderr",
          "output_type": "stream",
          "text": [
            "\n",
            "train: 100%|██████████| 9107/9107 [00:23<00:00, 381.66it/s]"
          ]
        },
        {
          "name": "stdout",
          "output_type": "stream",
          "text": [
            "Epoch 5 elapsed: 23.863s\n",
            "\t \u001b[32mtrain_loss: 0.6878\u001b[0m\n",
            "==============================\n"
          ]
        },
        {
          "name": "stderr",
          "output_type": "stream",
          "text": [
            "\n",
            "train: 100%|██████████| 9107/9107 [00:23<00:00, 381.90it/s]"
          ]
        },
        {
          "name": "stdout",
          "output_type": "stream",
          "text": [
            "Epoch 6 elapsed: 23.848s\n",
            "\t \u001b[32mtrain_loss: 0.6654\u001b[0m\n",
            "==============================\n"
          ]
        },
        {
          "name": "stderr",
          "output_type": "stream",
          "text": [
            "\n",
            "train: 100%|██████████| 9107/9107 [00:23<00:00, 384.63it/s]"
          ]
        },
        {
          "name": "stdout",
          "output_type": "stream",
          "text": [
            "Epoch 7 elapsed: 23.679s\n",
            "\t \u001b[32mtrain_loss: 0.6467\u001b[0m\n",
            "==============================\n"
          ]
        },
        {
          "name": "stderr",
          "output_type": "stream",
          "text": [
            "\n",
            "train: 100%|██████████| 9107/9107 [00:23<00:00, 382.56it/s]"
          ]
        },
        {
          "name": "stdout",
          "output_type": "stream",
          "text": [
            "Epoch 8 elapsed: 23.807s\n",
            "\t \u001b[32mtrain_loss: 0.6315\u001b[0m\n",
            "==============================\n"
          ]
        },
        {
          "name": "stderr",
          "output_type": "stream",
          "text": [
            "\n",
            "train: 100%|██████████| 9107/9107 [00:23<00:00, 381.24it/s]"
          ]
        },
        {
          "name": "stdout",
          "output_type": "stream",
          "text": [
            "Epoch 9 elapsed: 23.890s\n",
            "\t \u001b[32mtrain_loss: 0.6196\u001b[0m\n",
            "==============================\n"
          ]
        },
        {
          "name": "stderr",
          "output_type": "stream",
          "text": [
            "\n",
            "train: 100%|██████████| 9107/9107 [00:23<00:00, 382.17it/s]"
          ]
        },
        {
          "name": "stdout",
          "output_type": "stream",
          "text": [
            "Epoch 10 elapsed: 23.831s\n",
            "\t \u001b[32mtrain_loss: 0.6105\u001b[0m\n",
            "==============================\n"
          ]
        },
        {
          "name": "stderr",
          "output_type": "stream",
          "text": [
            "\n",
            "eval_pointwise: 100%|██████████| 36/36 [00:00<00:00, 420.28it/s]\n"
          ]
        },
        {
          "name": "stdout",
          "output_type": "stream",
          "text": [
            "Training start time: \u001b[35m2025-05-23 14:25:30\u001b[0m\n"
          ]
        },
        {
          "name": "stderr",
          "output_type": "stream",
          "text": [
            "train: 100%|██████████| 9107/9107 [00:24<00:00, 366.03it/s]"
          ]
        },
        {
          "name": "stdout",
          "output_type": "stream",
          "text": [
            "Epoch 1 elapsed: 24.882s\n",
            "\t \u001b[32mtrain_loss: 1.1012\u001b[0m\n"
          ]
        },
        {
          "name": "stderr",
          "output_type": "stream",
          "text": [
            "\n"
          ]
        },
        {
          "name": "stdout",
          "output_type": "stream",
          "text": [
            "==============================\n"
          ]
        },
        {
          "name": "stderr",
          "output_type": "stream",
          "text": [
            "train: 100%|██████████| 9107/9107 [00:24<00:00, 367.47it/s]"
          ]
        },
        {
          "name": "stdout",
          "output_type": "stream",
          "text": [
            "Epoch 2 elapsed: 24.784s\n",
            "\t \u001b[32mtrain_loss: 0.7622\u001b[0m\n",
            "==============================\n"
          ]
        },
        {
          "name": "stderr",
          "output_type": "stream",
          "text": [
            "\n",
            "train: 100%|██████████| 9107/9107 [00:25<00:00, 362.68it/s]"
          ]
        },
        {
          "name": "stdout",
          "output_type": "stream",
          "text": [
            "Epoch 3 elapsed: 25.113s\n",
            "\t \u001b[32mtrain_loss: 0.7348\u001b[0m\n",
            "==============================\n"
          ]
        },
        {
          "name": "stderr",
          "output_type": "stream",
          "text": [
            "\n",
            "train: 100%|██████████| 9107/9107 [00:24<00:00, 369.10it/s]"
          ]
        },
        {
          "name": "stdout",
          "output_type": "stream",
          "text": [
            "Epoch 4 elapsed: 24.676s\n",
            "\t \u001b[32mtrain_loss: 0.7079\u001b[0m\n",
            "==============================\n"
          ]
        },
        {
          "name": "stderr",
          "output_type": "stream",
          "text": [
            "\n",
            "train: 100%|██████████| 9107/9107 [00:24<00:00, 368.42it/s]"
          ]
        },
        {
          "name": "stdout",
          "output_type": "stream",
          "text": [
            "Epoch 5 elapsed: 24.721s\n",
            "\t \u001b[32mtrain_loss: 0.6841\u001b[0m\n",
            "==============================\n"
          ]
        },
        {
          "name": "stderr",
          "output_type": "stream",
          "text": [
            "\n",
            "train: 100%|██████████| 9107/9107 [00:24<00:00, 368.28it/s]"
          ]
        },
        {
          "name": "stdout",
          "output_type": "stream",
          "text": [
            "Epoch 6 elapsed: 24.731s\n",
            "\t \u001b[32mtrain_loss: 0.6633\u001b[0m\n",
            "==============================\n"
          ]
        },
        {
          "name": "stderr",
          "output_type": "stream",
          "text": [
            "\n",
            "train: 100%|██████████| 9107/9107 [00:24<00:00, 370.51it/s]"
          ]
        },
        {
          "name": "stdout",
          "output_type": "stream",
          "text": [
            "Epoch 7 elapsed: 24.581s\n",
            "\t \u001b[32mtrain_loss: 0.6452\u001b[0m\n",
            "==============================\n"
          ]
        },
        {
          "name": "stderr",
          "output_type": "stream",
          "text": [
            "\n",
            "train: 100%|██████████| 9107/9107 [00:24<00:00, 367.97it/s]"
          ]
        },
        {
          "name": "stdout",
          "output_type": "stream",
          "text": [
            "Epoch 8 elapsed: 24.751s\n",
            "\t \u001b[32mtrain_loss: 0.6302\u001b[0m\n",
            "==============================\n"
          ]
        },
        {
          "name": "stderr",
          "output_type": "stream",
          "text": [
            "\n",
            "train: 100%|██████████| 9107/9107 [00:24<00:00, 367.77it/s]"
          ]
        },
        {
          "name": "stdout",
          "output_type": "stream",
          "text": [
            "Epoch 9 elapsed: 24.765s\n",
            "\t \u001b[32mtrain_loss: 0.6182\u001b[0m\n",
            "==============================\n"
          ]
        },
        {
          "name": "stderr",
          "output_type": "stream",
          "text": [
            "\n",
            "train: 100%|██████████| 9107/9107 [00:24<00:00, 368.73it/s]"
          ]
        },
        {
          "name": "stdout",
          "output_type": "stream",
          "text": [
            "Epoch 10 elapsed: 24.701s\n",
            "\t \u001b[32mtrain_loss: 0.6092\u001b[0m\n",
            "==============================\n"
          ]
        },
        {
          "name": "stderr",
          "output_type": "stream",
          "text": [
            "\n",
            "eval_pointwise: 100%|██████████| 36/36 [00:00<00:00, 422.69it/s]\n"
          ]
        },
        {
          "name": "stdout",
          "output_type": "stream",
          "text": [
            "Training start time: \u001b[35m2025-05-23 14:29:41\u001b[0m\n"
          ]
        },
        {
          "name": "stderr",
          "output_type": "stream",
          "text": [
            "train: 100%|██████████| 9107/9107 [00:25<00:00, 363.46it/s]"
          ]
        },
        {
          "name": "stdout",
          "output_type": "stream",
          "text": [
            "Epoch 1 elapsed: 25.058s\n",
            "\t \u001b[32mtrain_loss: 1.0945\u001b[0m\n"
          ]
        },
        {
          "name": "stderr",
          "output_type": "stream",
          "text": [
            "\n"
          ]
        },
        {
          "name": "stdout",
          "output_type": "stream",
          "text": [
            "==============================\n"
          ]
        },
        {
          "name": "stderr",
          "output_type": "stream",
          "text": [
            "train: 100%|██████████| 9107/9107 [00:24<00:00, 368.47it/s]"
          ]
        },
        {
          "name": "stdout",
          "output_type": "stream",
          "text": [
            "Epoch 2 elapsed: 24.717s\n",
            "\t \u001b[32mtrain_loss: 0.7732\u001b[0m\n",
            "==============================\n"
          ]
        },
        {
          "name": "stderr",
          "output_type": "stream",
          "text": [
            "\n",
            "train: 100%|██████████| 9107/9107 [00:24<00:00, 369.06it/s]"
          ]
        },
        {
          "name": "stdout",
          "output_type": "stream",
          "text": [
            "Epoch 3 elapsed: 24.678s\n",
            "\t \u001b[32mtrain_loss: 0.7517\u001b[0m\n",
            "==============================\n"
          ]
        },
        {
          "name": "stderr",
          "output_type": "stream",
          "text": [
            "\n",
            "train: 100%|██████████| 9107/9107 [00:24<00:00, 369.40it/s]"
          ]
        },
        {
          "name": "stdout",
          "output_type": "stream",
          "text": [
            "Epoch 4 elapsed: 24.655s\n",
            "\t \u001b[32mtrain_loss: 0.7238\u001b[0m\n",
            "==============================\n"
          ]
        },
        {
          "name": "stderr",
          "output_type": "stream",
          "text": [
            "\n",
            "train: 100%|██████████| 9107/9107 [00:24<00:00, 367.28it/s]"
          ]
        },
        {
          "name": "stdout",
          "output_type": "stream",
          "text": [
            "Epoch 5 elapsed: 24.798s\n",
            "\t \u001b[32mtrain_loss: 0.6938\u001b[0m\n",
            "==============================\n"
          ]
        },
        {
          "name": "stderr",
          "output_type": "stream",
          "text": [
            "\n",
            "train: 100%|██████████| 9107/9107 [00:24<00:00, 364.38it/s]"
          ]
        },
        {
          "name": "stdout",
          "output_type": "stream",
          "text": [
            "Epoch 6 elapsed: 24.996s\n",
            "\t \u001b[32mtrain_loss: 0.6675\u001b[0m\n",
            "==============================\n"
          ]
        },
        {
          "name": "stderr",
          "output_type": "stream",
          "text": [
            "\n",
            "train: 100%|██████████| 9107/9107 [00:24<00:00, 372.02it/s]"
          ]
        },
        {
          "name": "stdout",
          "output_type": "stream",
          "text": [
            "Epoch 7 elapsed: 24.482s\n",
            "\t \u001b[32mtrain_loss: 0.6467\u001b[0m\n",
            "==============================\n"
          ]
        },
        {
          "name": "stderr",
          "output_type": "stream",
          "text": [
            "\n",
            "train: 100%|██████████| 9107/9107 [00:24<00:00, 368.86it/s]"
          ]
        },
        {
          "name": "stdout",
          "output_type": "stream",
          "text": [
            "Epoch 8 elapsed: 24.691s\n",
            "\t \u001b[32mtrain_loss: 0.6306\u001b[0m\n",
            "==============================\n"
          ]
        },
        {
          "name": "stderr",
          "output_type": "stream",
          "text": [
            "\n",
            "train: 100%|██████████| 9107/9107 [00:24<00:00, 369.14it/s]"
          ]
        },
        {
          "name": "stdout",
          "output_type": "stream",
          "text": [
            "Epoch 9 elapsed: 24.673s\n",
            "\t \u001b[32mtrain_loss: 0.6186\u001b[0m\n",
            "==============================\n"
          ]
        },
        {
          "name": "stderr",
          "output_type": "stream",
          "text": [
            "\n",
            "train: 100%|██████████| 9107/9107 [00:24<00:00, 371.69it/s]"
          ]
        },
        {
          "name": "stdout",
          "output_type": "stream",
          "text": [
            "Epoch 10 elapsed: 24.504s\n",
            "\t \u001b[32mtrain_loss: 0.6092\u001b[0m\n",
            "==============================\n"
          ]
        },
        {
          "name": "stderr",
          "output_type": "stream",
          "text": [
            "\n",
            "eval_pointwise: 100%|██████████| 36/36 [00:00<00:00, 414.56it/s]\n"
          ]
        },
        {
          "name": "stdout",
          "output_type": "stream",
          "text": [
            "Training start time: \u001b[35m2025-05-23 14:33:51\u001b[0m\n"
          ]
        },
        {
          "name": "stderr",
          "output_type": "stream",
          "text": [
            "train: 100%|██████████| 9107/9107 [00:25<00:00, 360.35it/s]"
          ]
        },
        {
          "name": "stdout",
          "output_type": "stream",
          "text": [
            "Epoch 1 elapsed: 25.275s\n",
            "\t \u001b[32mtrain_loss: 1.099\u001b[0m\n"
          ]
        },
        {
          "name": "stderr",
          "output_type": "stream",
          "text": [
            "\n"
          ]
        },
        {
          "name": "stdout",
          "output_type": "stream",
          "text": [
            "==============================\n"
          ]
        },
        {
          "name": "stderr",
          "output_type": "stream",
          "text": [
            "train: 100%|██████████| 9107/9107 [00:25<00:00, 363.87it/s]"
          ]
        },
        {
          "name": "stdout",
          "output_type": "stream",
          "text": [
            "Epoch 2 elapsed: 25.030s\n",
            "\t \u001b[32mtrain_loss: 0.7708\u001b[0m\n",
            "==============================\n"
          ]
        },
        {
          "name": "stderr",
          "output_type": "stream",
          "text": [
            "\n",
            "train: 100%|██████████| 9107/9107 [00:24<00:00, 365.78it/s]"
          ]
        },
        {
          "name": "stdout",
          "output_type": "stream",
          "text": [
            "Epoch 3 elapsed: 24.900s\n",
            "\t \u001b[32mtrain_loss: 0.7476\u001b[0m\n",
            "==============================\n"
          ]
        },
        {
          "name": "stderr",
          "output_type": "stream",
          "text": [
            "\n",
            "train: 100%|██████████| 9107/9107 [00:25<00:00, 361.36it/s]"
          ]
        },
        {
          "name": "stdout",
          "output_type": "stream",
          "text": [
            "Epoch 4 elapsed: 25.204s\n",
            "\t \u001b[32mtrain_loss: 0.7196\u001b[0m\n",
            "==============================\n"
          ]
        },
        {
          "name": "stderr",
          "output_type": "stream",
          "text": [
            "\n",
            "train: 100%|██████████| 9107/9107 [00:24<00:00, 367.87it/s]"
          ]
        },
        {
          "name": "stdout",
          "output_type": "stream",
          "text": [
            "Epoch 5 elapsed: 24.758s\n",
            "\t \u001b[32mtrain_loss: 0.6908\u001b[0m\n",
            "==============================\n"
          ]
        },
        {
          "name": "stderr",
          "output_type": "stream",
          "text": [
            "\n",
            "train: 100%|██████████| 9107/9107 [00:24<00:00, 369.39it/s]"
          ]
        },
        {
          "name": "stdout",
          "output_type": "stream",
          "text": [
            "Epoch 6 elapsed: 24.656s\n",
            "\t \u001b[32mtrain_loss: 0.6662\u001b[0m\n",
            "==============================\n"
          ]
        },
        {
          "name": "stderr",
          "output_type": "stream",
          "text": [
            "\n",
            "train: 100%|██████████| 9107/9107 [00:24<00:00, 368.77it/s]"
          ]
        },
        {
          "name": "stdout",
          "output_type": "stream",
          "text": [
            "Epoch 7 elapsed: 24.698s\n",
            "\t \u001b[32mtrain_loss: 0.6461\u001b[0m\n",
            "==============================\n"
          ]
        },
        {
          "name": "stderr",
          "output_type": "stream",
          "text": [
            "\n",
            "train: 100%|██████████| 9107/9107 [00:25<00:00, 359.71it/s]"
          ]
        },
        {
          "name": "stdout",
          "output_type": "stream",
          "text": [
            "Epoch 8 elapsed: 25.319s\n",
            "\t \u001b[32mtrain_loss: 0.6302\u001b[0m\n",
            "==============================\n"
          ]
        },
        {
          "name": "stderr",
          "output_type": "stream",
          "text": [
            "\n",
            "train: 100%|██████████| 9107/9107 [00:24<00:00, 367.99it/s]"
          ]
        },
        {
          "name": "stdout",
          "output_type": "stream",
          "text": [
            "Epoch 9 elapsed: 24.749s\n",
            "\t \u001b[32mtrain_loss: 0.6181\u001b[0m\n",
            "==============================\n"
          ]
        },
        {
          "name": "stderr",
          "output_type": "stream",
          "text": [
            "\n",
            "train: 100%|██████████| 9107/9107 [00:24<00:00, 367.49it/s]"
          ]
        },
        {
          "name": "stdout",
          "output_type": "stream",
          "text": [
            "Epoch 10 elapsed: 24.783s\n",
            "\t \u001b[32mtrain_loss: 0.6087\u001b[0m\n",
            "==============================\n"
          ]
        },
        {
          "name": "stderr",
          "output_type": "stream",
          "text": [
            "\n",
            "eval_pointwise: 100%|██████████| 36/36 [00:00<00:00, 356.33it/s]\n"
          ]
        },
        {
          "name": "stdout",
          "output_type": "stream",
          "text": [
            "Training start time: \u001b[35m2025-05-23 14:38:02\u001b[0m\n"
          ]
        },
        {
          "name": "stderr",
          "output_type": "stream",
          "text": [
            "train: 100%|██████████| 9107/9107 [00:25<00:00, 353.58it/s]"
          ]
        },
        {
          "name": "stdout",
          "output_type": "stream",
          "text": [
            "Epoch 1 elapsed: 25.758s\n",
            "\t \u001b[32mtrain_loss: 1.0982\u001b[0m\n"
          ]
        },
        {
          "name": "stderr",
          "output_type": "stream",
          "text": [
            "\n"
          ]
        },
        {
          "name": "stdout",
          "output_type": "stream",
          "text": [
            "==============================\n"
          ]
        },
        {
          "name": "stderr",
          "output_type": "stream",
          "text": [
            "train: 100%|██████████| 9107/9107 [00:25<00:00, 356.51it/s]"
          ]
        },
        {
          "name": "stdout",
          "output_type": "stream",
          "text": [
            "Epoch 2 elapsed: 25.547s\n",
            "\t \u001b[32mtrain_loss: 0.7735\u001b[0m\n",
            "==============================\n"
          ]
        },
        {
          "name": "stderr",
          "output_type": "stream",
          "text": [
            "\n",
            "train: 100%|██████████| 9107/9107 [00:25<00:00, 359.20it/s]"
          ]
        },
        {
          "name": "stdout",
          "output_type": "stream",
          "text": [
            "Epoch 3 elapsed: 25.355s\n",
            "\t \u001b[32mtrain_loss: 0.7525\u001b[0m\n",
            "==============================\n"
          ]
        },
        {
          "name": "stderr",
          "output_type": "stream",
          "text": [
            "\n",
            "train: 100%|██████████| 9107/9107 [00:25<00:00, 357.67it/s]"
          ]
        },
        {
          "name": "stdout",
          "output_type": "stream",
          "text": [
            "Epoch 4 elapsed: 25.464s\n",
            "\t \u001b[32mtrain_loss: 0.7244\u001b[0m\n",
            "==============================\n"
          ]
        },
        {
          "name": "stderr",
          "output_type": "stream",
          "text": [
            "\n",
            "train: 100%|██████████| 9107/9107 [00:25<00:00, 357.34it/s]"
          ]
        },
        {
          "name": "stdout",
          "output_type": "stream",
          "text": [
            "Epoch 5 elapsed: 25.487s\n",
            "\t \u001b[32mtrain_loss: 0.6934\u001b[0m\n",
            "==============================\n"
          ]
        },
        {
          "name": "stderr",
          "output_type": "stream",
          "text": [
            "\n",
            "train: 100%|██████████| 9107/9107 [00:25<00:00, 360.25it/s]"
          ]
        },
        {
          "name": "stdout",
          "output_type": "stream",
          "text": [
            "Epoch 6 elapsed: 25.282s\n",
            "\t \u001b[32mtrain_loss: 0.6666\u001b[0m\n",
            "==============================\n"
          ]
        },
        {
          "name": "stderr",
          "output_type": "stream",
          "text": [
            "\n",
            "train: 100%|██████████| 9107/9107 [00:25<00:00, 356.50it/s]"
          ]
        },
        {
          "name": "stdout",
          "output_type": "stream",
          "text": [
            "Epoch 7 elapsed: 25.547s\n",
            "\t \u001b[32mtrain_loss: 0.6455\u001b[0m\n",
            "==============================\n"
          ]
        },
        {
          "name": "stderr",
          "output_type": "stream",
          "text": [
            "\n",
            "train: 100%|██████████| 9107/9107 [00:25<00:00, 357.68it/s]"
          ]
        },
        {
          "name": "stdout",
          "output_type": "stream",
          "text": [
            "Epoch 8 elapsed: 25.463s\n",
            "\t \u001b[32mtrain_loss: 0.6293\u001b[0m\n",
            "==============================\n"
          ]
        },
        {
          "name": "stderr",
          "output_type": "stream",
          "text": [
            "\n",
            "train: 100%|██████████| 9107/9107 [00:25<00:00, 360.39it/s]"
          ]
        },
        {
          "name": "stdout",
          "output_type": "stream",
          "text": [
            "Epoch 9 elapsed: 25.272s\n",
            "\t \u001b[32mtrain_loss: 0.6172\u001b[0m\n",
            "==============================\n"
          ]
        },
        {
          "name": "stderr",
          "output_type": "stream",
          "text": [
            "\n",
            "train: 100%|██████████| 9107/9107 [00:25<00:00, 353.67it/s]"
          ]
        },
        {
          "name": "stdout",
          "output_type": "stream",
          "text": [
            "Epoch 10 elapsed: 25.752s\n",
            "\t \u001b[32mtrain_loss: 0.6079\u001b[0m\n",
            "==============================\n"
          ]
        },
        {
          "name": "stderr",
          "output_type": "stream",
          "text": [
            "\n",
            "eval_pointwise: 100%|██████████| 36/36 [00:00<00:00, 432.83it/s]"
          ]
        },
        {
          "name": "stdout",
          "output_type": "stream",
          "text": [
            "\n",
            "LibReco SVDpp (0.8622309337277126, 0.0006802606859189307) ('Train Loss:', 0.6091, 0.0008461678320522589)\n"
          ]
        },
        {
          "name": "stderr",
          "output_type": "stream",
          "text": [
            "\n"
          ]
        }
      ],
      "source": [
        "train_lib_model(\"SVDpp\", const_ext)"
      ]
    },
    {
      "cell_type": "markdown",
      "id": "et5GS_JPSRLe",
      "metadata": {
        "id": "et5GS_JPSRLe"
      },
      "source": [
        "## Custom NCF"
      ]
    },
    {
      "cell_type": "code",
      "execution_count": null,
      "id": "fd2ba560",
      "metadata": {
        "colab": {
          "background_save": true
        },
        "id": "fd2ba560",
        "outputId": "ad7904b4-5436-4961-f08d-82a29d483be0"
      },
      "outputs": [
        {
          "name": "stderr",
          "output_type": "stream",
          "text": [
            "WARNING:tensorflow:From /usr/local/lib/python3.11/dist-packages/keras/initializers/initializers_v1.py:297: calling RandomUniform.__init__ (from tensorflow.python.ops.init_ops) with dtype is deprecated and will be removed in a future version.\n",
            "Instructions for updating:\n",
            "Call initializer instance with the dtype argument instead of passing it to the constructor\n",
            "/usr/local/lib/python3.11/dist-packages/keras/engine/training_v1.py:2359: UserWarning: `Model.state_updates` will be removed in a future version. This property should not be used in TensorFlow 2.0, as `updates` are applied automatically.\n",
            "  updates=self.state_updates,\n",
            "/usr/local/lib/python3.11/dist-packages/keras/engine/training_v1.py:2359: UserWarning: `Model.state_updates` will be removed in a future version. This property should not be used in TensorFlow 2.0, as `updates` are applied automatically.\n",
            "  updates=self.state_updates,\n",
            "/usr/local/lib/python3.11/dist-packages/keras/engine/training_v1.py:2359: UserWarning: `Model.state_updates` will be removed in a future version. This property should not be used in TensorFlow 2.0, as `updates` are applied automatically.\n",
            "  updates=self.state_updates,\n",
            "/usr/local/lib/python3.11/dist-packages/keras/engine/training_v1.py:2359: UserWarning: `Model.state_updates` will be removed in a future version. This property should not be used in TensorFlow 2.0, as `updates` are applied automatically.\n",
            "  updates=self.state_updates,\n",
            "/usr/local/lib/python3.11/dist-packages/keras/engine/training_v1.py:2359: UserWarning: `Model.state_updates` will be removed in a future version. This property should not be used in TensorFlow 2.0, as `updates` are applied automatically.\n",
            "  updates=self.state_updates,\n"
          ]
        },
        {
          "name": "stdout",
          "output_type": "stream",
          "text": [
            "\n",
            "Custom NCF: 0.6451194689060531 0.006420341109765451 0.79339934323362 0.00330380983589912\n"
          ]
        }
      ],
      "source": [
        "print(\"\\nCustom NCF:\", *ncf_cv(ext))"
      ]
    },
    {
      "cell_type": "code",
      "execution_count": null,
      "id": "B2fwN3PqSrXp",
      "metadata": {
        "colab": {
          "background_save": true
        },
        "id": "B2fwN3PqSrXp",
        "outputId": "f05843ca-ec8e-45d6-ffc2-b550463c9351"
      },
      "outputs": [
        {
          "name": "stderr",
          "output_type": "stream",
          "text": [
            "/usr/local/lib/python3.11/dist-packages/keras/engine/training_v1.py:2359: UserWarning: `Model.state_updates` will be removed in a future version. This property should not be used in TensorFlow 2.0, as `updates` are applied automatically.\n",
            "  updates=self.state_updates,\n",
            "/usr/local/lib/python3.11/dist-packages/keras/engine/training_v1.py:2359: UserWarning: `Model.state_updates` will be removed in a future version. This property should not be used in TensorFlow 2.0, as `updates` are applied automatically.\n",
            "  updates=self.state_updates,\n",
            "/usr/local/lib/python3.11/dist-packages/keras/engine/training_v1.py:2359: UserWarning: `Model.state_updates` will be removed in a future version. This property should not be used in TensorFlow 2.0, as `updates` are applied automatically.\n",
            "  updates=self.state_updates,\n",
            "/usr/local/lib/python3.11/dist-packages/keras/engine/training_v1.py:2359: UserWarning: `Model.state_updates` will be removed in a future version. This property should not be used in TensorFlow 2.0, as `updates` are applied automatically.\n",
            "  updates=self.state_updates,\n",
            "/usr/local/lib/python3.11/dist-packages/keras/engine/training_v1.py:2359: UserWarning: `Model.state_updates` will be removed in a future version. This property should not be used in TensorFlow 2.0, as `updates` are applied automatically.\n",
            "  updates=self.state_updates,\n"
          ]
        },
        {
          "name": "stdout",
          "output_type": "stream",
          "text": [
            "\n",
            "Custom NCF: 0.6486748805103278 0.009024934682902688 0.7943879339073535 0.004819712348853736\n"
          ]
        }
      ],
      "source": [
        "print(\"\\nCustom NCF:\", *ncf_cv(column_ext))"
      ]
    },
    {
      "cell_type": "code",
      "execution_count": null,
      "id": "DvnlclsiSrlt",
      "metadata": {
        "colab": {
          "background_save": true
        },
        "id": "DvnlclsiSrlt",
        "outputId": "4d2c169f-878b-4ae7-af9e-4d35cad9b69c"
      },
      "outputs": [
        {
          "name": "stderr",
          "output_type": "stream",
          "text": [
            "/usr/local/lib/python3.11/dist-packages/keras/engine/training_v1.py:2359: UserWarning: `Model.state_updates` will be removed in a future version. This property should not be used in TensorFlow 2.0, as `updates` are applied automatically.\n",
            "  updates=self.state_updates,\n",
            "/usr/local/lib/python3.11/dist-packages/keras/engine/training_v1.py:2359: UserWarning: `Model.state_updates` will be removed in a future version. This property should not be used in TensorFlow 2.0, as `updates` are applied automatically.\n",
            "  updates=self.state_updates,\n",
            "/usr/local/lib/python3.11/dist-packages/keras/engine/training_v1.py:2359: UserWarning: `Model.state_updates` will be removed in a future version. This property should not be used in TensorFlow 2.0, as `updates` are applied automatically.\n",
            "  updates=self.state_updates,\n",
            "/usr/local/lib/python3.11/dist-packages/keras/engine/training_v1.py:2359: UserWarning: `Model.state_updates` will be removed in a future version. This property should not be used in TensorFlow 2.0, as `updates` are applied automatically.\n",
            "  updates=self.state_updates,\n",
            "/usr/local/lib/python3.11/dist-packages/keras/engine/training_v1.py:2359: UserWarning: `Model.state_updates` will be removed in a future version. This property should not be used in TensorFlow 2.0, as `updates` are applied automatically.\n",
            "  updates=self.state_updates,\n"
          ]
        },
        {
          "name": "stdout",
          "output_type": "stream",
          "text": [
            "\n",
            "Custom NCF: 0.6510460938668885 0.0062485832548579605 0.7994886188819341 0.0031381415318192025\n"
          ]
        }
      ],
      "source": [
        "print(\"\\nCustom NCF:\", *ncf_cv(global_ext))"
      ]
    },
    {
      "cell_type": "code",
      "execution_count": null,
      "id": "9cTTL1K1Srqe",
      "metadata": {
        "colab": {
          "background_save": true
        },
        "id": "9cTTL1K1Srqe",
        "outputId": "f5b168c1-3eea-4aa0-ecc4-401fed19e8fc"
      },
      "outputs": [
        {
          "name": "stderr",
          "output_type": "stream",
          "text": [
            "/usr/local/lib/python3.11/dist-packages/keras/engine/training_v1.py:2359: UserWarning: `Model.state_updates` will be removed in a future version. This property should not be used in TensorFlow 2.0, as `updates` are applied automatically.\n",
            "  updates=self.state_updates,\n",
            "/usr/local/lib/python3.11/dist-packages/keras/engine/training_v1.py:2359: UserWarning: `Model.state_updates` will be removed in a future version. This property should not be used in TensorFlow 2.0, as `updates` are applied automatically.\n",
            "  updates=self.state_updates,\n",
            "/usr/local/lib/python3.11/dist-packages/keras/engine/training_v1.py:2359: UserWarning: `Model.state_updates` will be removed in a future version. This property should not be used in TensorFlow 2.0, as `updates` are applied automatically.\n",
            "  updates=self.state_updates,\n",
            "/usr/local/lib/python3.11/dist-packages/keras/engine/training_v1.py:2359: UserWarning: `Model.state_updates` will be removed in a future version. This property should not be used in TensorFlow 2.0, as `updates` are applied automatically.\n",
            "  updates=self.state_updates,\n",
            "/usr/local/lib/python3.11/dist-packages/keras/engine/training_v1.py:2359: UserWarning: `Model.state_updates` will be removed in a future version. This property should not be used in TensorFlow 2.0, as `updates` are applied automatically.\n",
            "  updates=self.state_updates,\n"
          ]
        },
        {
          "name": "stdout",
          "output_type": "stream",
          "text": [
            "\n",
            "Custom NCF: 0.7528974315175766 0.0028811523468754876 0.8604620888149178 0.0029352383306234615\n"
          ]
        }
      ],
      "source": [
        "print(\"\\nCustom NCF:\", *ncf_cv(const_ext))"
      ]
    },
    {
      "cell_type": "markdown",
      "id": "FuN3gY6IUBqS",
      "metadata": {
        "id": "FuN3gY6IUBqS"
      },
      "source": [
        "## LibReco NCF"
      ]
    },
    {
      "cell_type": "code",
      "execution_count": null,
      "id": "X8ojbuFTtdRH",
      "metadata": {
        "colab": {
          "background_save": true
        },
        "id": "X8ojbuFTtdRH",
        "outputId": "60955b82-b119-4766-e0b1-9cb3497e65be"
      },
      "outputs": [
        {
          "name": "stdout",
          "output_type": "stream",
          "text": [
            "Training start time: \u001b[35m2025-05-23 14:57:09\u001b[0m\n"
          ]
        },
        {
          "name": "stderr",
          "output_type": "stream",
          "text": [
            "/usr/local/lib/python3.11/dist-packages/libreco/layers/dense.py:31: UserWarning: `tf.layers.batch_normalization` is deprecated and will be removed in a future version. Please use `tf.keras.layers.BatchNormalization` instead. In particular, `tf.control_dependencies(tf.GraphKeys.UPDATE_OPS)` should not be used (consult the `tf.keras.layers.BatchNormalization` documentation).\n",
            "  net = tf.layers.batch_normalization(net, training=is_training)\n",
            "WARNING:tensorflow:From /usr/local/lib/python3.11/dist-packages/keras/layers/normalization/batch_normalization.py:581: _colocate_with (from tensorflow.python.framework.ops) is deprecated and will be removed in a future version.\n",
            "Instructions for updating:\n",
            "Colocations handled automatically by placer.\n",
            "/usr/local/lib/python3.11/dist-packages/libreco/layers/dense.py:39: UserWarning: `tf.layers.batch_normalization` is deprecated and will be removed in a future version. Please use `tf.keras.layers.BatchNormalization` instead. In particular, `tf.control_dependencies(tf.GraphKeys.UPDATE_OPS)` should not be used (consult the `tf.keras.layers.BatchNormalization` documentation).\n",
            "  net = tf.layers.batch_normalization(net, training=is_training)\n",
            "train: 100%|██████████| 9107/9107 [00:31<00:00, 288.55it/s]"
          ]
        },
        {
          "name": "stdout",
          "output_type": "stream",
          "text": [
            "Epoch 1 elapsed: 31.562s\n",
            "\t \u001b[32mtrain_loss: 0.7\u001b[0m\n",
            "==============================\n"
          ]
        },
        {
          "name": "stderr",
          "output_type": "stream",
          "text": [
            "\n",
            "train: 100%|██████████| 9107/9107 [00:31<00:00, 292.72it/s]"
          ]
        },
        {
          "name": "stdout",
          "output_type": "stream",
          "text": [
            "Epoch 2 elapsed: 31.114s\n",
            "\t \u001b[32mtrain_loss: 0.6235\u001b[0m\n",
            "==============================\n"
          ]
        },
        {
          "name": "stderr",
          "output_type": "stream",
          "text": [
            "\n",
            "train: 100%|██████████| 9107/9107 [00:31<00:00, 293.06it/s]"
          ]
        },
        {
          "name": "stdout",
          "output_type": "stream",
          "text": [
            "Epoch 3 elapsed: 31.077s\n",
            "\t \u001b[32mtrain_loss: 0.5961\u001b[0m\n",
            "==============================\n"
          ]
        },
        {
          "name": "stderr",
          "output_type": "stream",
          "text": [
            "\n",
            "train: 100%|██████████| 9107/9107 [00:31<00:00, 291.98it/s]"
          ]
        },
        {
          "name": "stdout",
          "output_type": "stream",
          "text": [
            "Epoch 4 elapsed: 31.192s\n",
            "\t \u001b[32mtrain_loss: 0.5758\u001b[0m\n",
            "==============================\n"
          ]
        },
        {
          "name": "stderr",
          "output_type": "stream",
          "text": [
            "\n",
            "train: 100%|██████████| 9107/9107 [00:31<00:00, 293.43it/s]"
          ]
        },
        {
          "name": "stdout",
          "output_type": "stream",
          "text": [
            "Epoch 5 elapsed: 31.038s\n",
            "\t \u001b[32mtrain_loss: 0.5583\u001b[0m\n",
            "==============================\n"
          ]
        },
        {
          "name": "stderr",
          "output_type": "stream",
          "text": [
            "\n",
            "train: 100%|██████████| 9107/9107 [00:31<00:00, 292.91it/s]"
          ]
        },
        {
          "name": "stdout",
          "output_type": "stream",
          "text": [
            "Epoch 6 elapsed: 31.094s\n",
            "\t \u001b[32mtrain_loss: 0.5447\u001b[0m\n",
            "==============================\n"
          ]
        },
        {
          "name": "stderr",
          "output_type": "stream",
          "text": [
            "\n",
            "train: 100%|██████████| 9107/9107 [00:30<00:00, 294.20it/s]"
          ]
        },
        {
          "name": "stdout",
          "output_type": "stream",
          "text": [
            "Epoch 7 elapsed: 30.957s\n",
            "\t \u001b[32mtrain_loss: 0.5341\u001b[0m\n",
            "==============================\n"
          ]
        },
        {
          "name": "stderr",
          "output_type": "stream",
          "text": [
            "\n",
            "train: 100%|██████████| 9107/9107 [00:31<00:00, 291.89it/s]"
          ]
        },
        {
          "name": "stdout",
          "output_type": "stream",
          "text": [
            "Epoch 8 elapsed: 31.202s\n",
            "\t \u001b[32mtrain_loss: 0.5266\u001b[0m\n",
            "==============================\n"
          ]
        },
        {
          "name": "stderr",
          "output_type": "stream",
          "text": [
            "\n",
            "train: 100%|██████████| 9107/9107 [00:31<00:00, 292.57it/s]"
          ]
        },
        {
          "name": "stdout",
          "output_type": "stream",
          "text": [
            "Epoch 9 elapsed: 31.129s\n",
            "\t \u001b[32mtrain_loss: 0.5206\u001b[0m\n",
            "==============================\n"
          ]
        },
        {
          "name": "stderr",
          "output_type": "stream",
          "text": [
            "\n",
            "train: 100%|██████████| 9107/9107 [00:30<00:00, 294.32it/s]"
          ]
        },
        {
          "name": "stdout",
          "output_type": "stream",
          "text": [
            "Epoch 10 elapsed: 30.945s\n",
            "\t \u001b[32mtrain_loss: 0.5156\u001b[0m\n",
            "==============================\n"
          ]
        },
        {
          "name": "stderr",
          "output_type": "stream",
          "text": [
            "\n",
            "train: 100%|██████████| 9107/9107 [00:31<00:00, 291.01it/s]"
          ]
        },
        {
          "name": "stdout",
          "output_type": "stream",
          "text": [
            "Epoch 11 elapsed: 31.298s\n",
            "\t \u001b[32mtrain_loss: 0.5121\u001b[0m\n",
            "==============================\n"
          ]
        },
        {
          "name": "stderr",
          "output_type": "stream",
          "text": [
            "\n",
            "train: 100%|██████████| 9107/9107 [00:31<00:00, 292.08it/s]"
          ]
        },
        {
          "name": "stdout",
          "output_type": "stream",
          "text": [
            "Epoch 12 elapsed: 31.182s\n",
            "\t \u001b[32mtrain_loss: 0.509\u001b[0m\n",
            "==============================\n"
          ]
        },
        {
          "name": "stderr",
          "output_type": "stream",
          "text": [
            "\n",
            "train: 100%|██████████| 9107/9107 [00:31<00:00, 293.04it/s]"
          ]
        },
        {
          "name": "stdout",
          "output_type": "stream",
          "text": [
            "Epoch 13 elapsed: 31.080s\n",
            "\t \u001b[32mtrain_loss: 0.5071\u001b[0m\n",
            "==============================\n"
          ]
        },
        {
          "name": "stderr",
          "output_type": "stream",
          "text": [
            "\n",
            "train: 100%|██████████| 9107/9107 [00:31<00:00, 292.65it/s]"
          ]
        },
        {
          "name": "stdout",
          "output_type": "stream",
          "text": [
            "Epoch 14 elapsed: 31.121s\n",
            "\t \u001b[32mtrain_loss: 0.5045\u001b[0m\n",
            "==============================\n"
          ]
        },
        {
          "name": "stderr",
          "output_type": "stream",
          "text": [
            "\n",
            "train: 100%|██████████| 9107/9107 [00:30<00:00, 293.81it/s]"
          ]
        },
        {
          "name": "stdout",
          "output_type": "stream",
          "text": [
            "Epoch 15 elapsed: 30.999s\n",
            "\t \u001b[32mtrain_loss: 0.5036\u001b[0m\n",
            "==============================\n"
          ]
        },
        {
          "name": "stderr",
          "output_type": "stream",
          "text": [
            "\n",
            "train: 100%|██████████| 9107/9107 [00:31<00:00, 292.33it/s]"
          ]
        },
        {
          "name": "stdout",
          "output_type": "stream",
          "text": [
            "Epoch 16 elapsed: 31.155s\n",
            "\t \u001b[32mtrain_loss: 0.5021\u001b[0m\n",
            "==============================\n"
          ]
        },
        {
          "name": "stderr",
          "output_type": "stream",
          "text": [
            "\n",
            "train: 100%|██████████| 9107/9107 [00:30<00:00, 294.03it/s]"
          ]
        },
        {
          "name": "stdout",
          "output_type": "stream",
          "text": [
            "Epoch 17 elapsed: 30.975s\n",
            "\t \u001b[32mtrain_loss: 0.5014\u001b[0m\n",
            "==============================\n"
          ]
        },
        {
          "name": "stderr",
          "output_type": "stream",
          "text": [
            "\n",
            "train: 100%|██████████| 9107/9107 [00:31<00:00, 293.00it/s]"
          ]
        },
        {
          "name": "stdout",
          "output_type": "stream",
          "text": [
            "Epoch 18 elapsed: 31.084s\n",
            "\t \u001b[32mtrain_loss: 0.4998\u001b[0m\n",
            "==============================\n"
          ]
        },
        {
          "name": "stderr",
          "output_type": "stream",
          "text": [
            "\n",
            "train: 100%|██████████| 9107/9107 [00:31<00:00, 292.22it/s]"
          ]
        },
        {
          "name": "stdout",
          "output_type": "stream",
          "text": [
            "Epoch 19 elapsed: 31.167s\n",
            "\t \u001b[32mtrain_loss: 0.4989\u001b[0m\n",
            "==============================\n"
          ]
        },
        {
          "name": "stderr",
          "output_type": "stream",
          "text": [
            "\n",
            "train: 100%|██████████| 9107/9107 [00:30<00:00, 295.04it/s]"
          ]
        },
        {
          "name": "stdout",
          "output_type": "stream",
          "text": [
            "Epoch 20 elapsed: 30.869s\n",
            "\t \u001b[32mtrain_loss: 0.498\u001b[0m\n",
            "==============================\n"
          ]
        },
        {
          "name": "stderr",
          "output_type": "stream",
          "text": [
            "\n",
            "eval_pointwise: 100%|██████████| 36/36 [00:00<00:00, 383.74it/s]\n"
          ]
        },
        {
          "name": "stdout",
          "output_type": "stream",
          "text": [
            "Training start time: \u001b[35m2025-05-23 15:07:34\u001b[0m\n"
          ]
        },
        {
          "name": "stderr",
          "output_type": "stream",
          "text": [
            "/usr/local/lib/python3.11/dist-packages/libreco/layers/dense.py:31: UserWarning: `tf.layers.batch_normalization` is deprecated and will be removed in a future version. Please use `tf.keras.layers.BatchNormalization` instead. In particular, `tf.control_dependencies(tf.GraphKeys.UPDATE_OPS)` should not be used (consult the `tf.keras.layers.BatchNormalization` documentation).\n",
            "  net = tf.layers.batch_normalization(net, training=is_training)\n",
            "/usr/local/lib/python3.11/dist-packages/libreco/layers/dense.py:39: UserWarning: `tf.layers.batch_normalization` is deprecated and will be removed in a future version. Please use `tf.keras.layers.BatchNormalization` instead. In particular, `tf.control_dependencies(tf.GraphKeys.UPDATE_OPS)` should not be used (consult the `tf.keras.layers.BatchNormalization` documentation).\n",
            "  net = tf.layers.batch_normalization(net, training=is_training)\n",
            "train: 100%|██████████| 9107/9107 [00:30<00:00, 294.82it/s]"
          ]
        },
        {
          "name": "stdout",
          "output_type": "stream",
          "text": [
            "Epoch 1 elapsed: 30.892s\n",
            "\t \u001b[32mtrain_loss: 0.7006\u001b[0m\n",
            "==============================\n"
          ]
        },
        {
          "name": "stderr",
          "output_type": "stream",
          "text": [
            "\n",
            "train: 100%|██████████| 9107/9107 [00:30<00:00, 296.44it/s]"
          ]
        },
        {
          "name": "stdout",
          "output_type": "stream",
          "text": [
            "Epoch 2 elapsed: 30.723s\n",
            "\t \u001b[32mtrain_loss: 0.6256\u001b[0m\n",
            "==============================\n"
          ]
        },
        {
          "name": "stderr",
          "output_type": "stream",
          "text": [
            "\n",
            "train: 100%|██████████| 9107/9107 [00:30<00:00, 298.45it/s]"
          ]
        },
        {
          "name": "stdout",
          "output_type": "stream",
          "text": [
            "Epoch 3 elapsed: 30.517s\n",
            "\t \u001b[32mtrain_loss: 0.5968\u001b[0m\n",
            "==============================\n"
          ]
        },
        {
          "name": "stderr",
          "output_type": "stream",
          "text": [
            "\n",
            "train: 100%|██████████| 9107/9107 [00:30<00:00, 298.37it/s]"
          ]
        },
        {
          "name": "stdout",
          "output_type": "stream",
          "text": [
            "Epoch 4 elapsed: 30.524s\n",
            "\t \u001b[32mtrain_loss: 0.5737\u001b[0m\n",
            "==============================\n"
          ]
        },
        {
          "name": "stderr",
          "output_type": "stream",
          "text": [
            "\n",
            "train: 100%|██████████| 9107/9107 [00:30<00:00, 298.25it/s]"
          ]
        },
        {
          "name": "stdout",
          "output_type": "stream",
          "text": [
            "Epoch 5 elapsed: 30.538s\n",
            "\t \u001b[32mtrain_loss: 0.5571\u001b[0m\n",
            "==============================\n"
          ]
        },
        {
          "name": "stderr",
          "output_type": "stream",
          "text": [
            "\n",
            "train: 100%|██████████| 9107/9107 [00:30<00:00, 298.08it/s]"
          ]
        },
        {
          "name": "stdout",
          "output_type": "stream",
          "text": [
            "Epoch 6 elapsed: 30.555s\n",
            "\t \u001b[32mtrain_loss: 0.5446\u001b[0m\n",
            "==============================\n"
          ]
        },
        {
          "name": "stderr",
          "output_type": "stream",
          "text": [
            "\n",
            "train: 100%|██████████| 9107/9107 [00:30<00:00, 298.40it/s]"
          ]
        },
        {
          "name": "stdout",
          "output_type": "stream",
          "text": [
            "Epoch 7 elapsed: 30.521s\n",
            "\t \u001b[32mtrain_loss: 0.5344\u001b[0m\n",
            "==============================\n"
          ]
        },
        {
          "name": "stderr",
          "output_type": "stream",
          "text": [
            "\n",
            "train: 100%|██████████| 9107/9107 [00:30<00:00, 298.68it/s]"
          ]
        },
        {
          "name": "stdout",
          "output_type": "stream",
          "text": [
            "Epoch 8 elapsed: 30.493s\n",
            "\t \u001b[32mtrain_loss: 0.5273\u001b[0m\n",
            "==============================\n"
          ]
        },
        {
          "name": "stderr",
          "output_type": "stream",
          "text": [
            "\n",
            "train: 100%|██████████| 9107/9107 [00:30<00:00, 297.44it/s]"
          ]
        },
        {
          "name": "stdout",
          "output_type": "stream",
          "text": [
            "Epoch 9 elapsed: 30.620s\n",
            "\t \u001b[32mtrain_loss: 0.5214\u001b[0m\n",
            "==============================\n"
          ]
        },
        {
          "name": "stderr",
          "output_type": "stream",
          "text": [
            "\n",
            "train: 100%|██████████| 9107/9107 [00:30<00:00, 297.93it/s]"
          ]
        },
        {
          "name": "stdout",
          "output_type": "stream",
          "text": [
            "Epoch 10 elapsed: 30.570s\n",
            "\t \u001b[32mtrain_loss: 0.5172\u001b[0m\n",
            "==============================\n"
          ]
        },
        {
          "name": "stderr",
          "output_type": "stream",
          "text": [
            "\n",
            "train: 100%|██████████| 9107/9107 [00:30<00:00, 297.71it/s]"
          ]
        },
        {
          "name": "stdout",
          "output_type": "stream",
          "text": [
            "Epoch 11 elapsed: 30.593s\n",
            "\t \u001b[32mtrain_loss: 0.5136\u001b[0m\n",
            "==============================\n"
          ]
        },
        {
          "name": "stderr",
          "output_type": "stream",
          "text": [
            "\n",
            "train: 100%|██████████| 9107/9107 [00:30<00:00, 295.62it/s]"
          ]
        },
        {
          "name": "stdout",
          "output_type": "stream",
          "text": [
            "Epoch 12 elapsed: 30.808s\n",
            "\t \u001b[32mtrain_loss: 0.5109\u001b[0m\n",
            "==============================\n"
          ]
        },
        {
          "name": "stderr",
          "output_type": "stream",
          "text": [
            "\n",
            "train: 100%|██████████| 9107/9107 [00:30<00:00, 299.29it/s]"
          ]
        },
        {
          "name": "stdout",
          "output_type": "stream",
          "text": [
            "Epoch 13 elapsed: 30.431s\n",
            "\t \u001b[32mtrain_loss: 0.5092\u001b[0m\n",
            "==============================\n"
          ]
        },
        {
          "name": "stderr",
          "output_type": "stream",
          "text": [
            "\n",
            "train: 100%|██████████| 9107/9107 [00:30<00:00, 297.63it/s]"
          ]
        },
        {
          "name": "stdout",
          "output_type": "stream",
          "text": [
            "Epoch 14 elapsed: 30.600s\n",
            "\t \u001b[32mtrain_loss: 0.5077\u001b[0m\n",
            "==============================\n"
          ]
        },
        {
          "name": "stderr",
          "output_type": "stream",
          "text": [
            "\n",
            "train: 100%|██████████| 9107/9107 [00:30<00:00, 296.71it/s]"
          ]
        },
        {
          "name": "stdout",
          "output_type": "stream",
          "text": [
            "Epoch 15 elapsed: 30.695s\n",
            "\t \u001b[32mtrain_loss: 0.5055\u001b[0m\n",
            "==============================\n"
          ]
        },
        {
          "name": "stderr",
          "output_type": "stream",
          "text": [
            "\n",
            "train: 100%|██████████| 9107/9107 [00:30<00:00, 298.93it/s]"
          ]
        },
        {
          "name": "stdout",
          "output_type": "stream",
          "text": [
            "Epoch 16 elapsed: 30.468s\n",
            "\t \u001b[32mtrain_loss: 0.5038\u001b[0m\n",
            "==============================\n"
          ]
        },
        {
          "name": "stderr",
          "output_type": "stream",
          "text": [
            "\n",
            "train: 100%|██████████| 9107/9107 [00:30<00:00, 296.79it/s]"
          ]
        },
        {
          "name": "stdout",
          "output_type": "stream",
          "text": [
            "Epoch 17 elapsed: 30.687s\n",
            "\t \u001b[32mtrain_loss: 0.5027\u001b[0m\n",
            "==============================\n"
          ]
        },
        {
          "name": "stderr",
          "output_type": "stream",
          "text": [
            "\n",
            "train: 100%|██████████| 9107/9107 [00:30<00:00, 297.43it/s]"
          ]
        },
        {
          "name": "stdout",
          "output_type": "stream",
          "text": [
            "Epoch 18 elapsed: 30.621s\n",
            "\t \u001b[32mtrain_loss: 0.5019\u001b[0m\n",
            "==============================\n"
          ]
        },
        {
          "name": "stderr",
          "output_type": "stream",
          "text": [
            "\n",
            "train: 100%|██████████| 9107/9107 [00:30<00:00, 298.16it/s]"
          ]
        },
        {
          "name": "stdout",
          "output_type": "stream",
          "text": [
            "Epoch 19 elapsed: 30.546s\n",
            "\t \u001b[32mtrain_loss: 0.501\u001b[0m\n",
            "==============================\n"
          ]
        },
        {
          "name": "stderr",
          "output_type": "stream",
          "text": [
            "\n",
            "train: 100%|██████████| 9107/9107 [00:30<00:00, 297.80it/s]"
          ]
        },
        {
          "name": "stdout",
          "output_type": "stream",
          "text": [
            "Epoch 20 elapsed: 30.583s\n",
            "\t \u001b[32mtrain_loss: 0.5003\u001b[0m\n",
            "==============================\n"
          ]
        },
        {
          "name": "stderr",
          "output_type": "stream",
          "text": [
            "\n",
            "eval_pointwise: 100%|██████████| 36/36 [00:00<00:00, 411.36it/s]\n"
          ]
        },
        {
          "name": "stdout",
          "output_type": "stream",
          "text": [
            "Training start time: \u001b[35m2025-05-23 15:17:49\u001b[0m\n"
          ]
        },
        {
          "name": "stderr",
          "output_type": "stream",
          "text": [
            "/usr/local/lib/python3.11/dist-packages/libreco/layers/dense.py:31: UserWarning: `tf.layers.batch_normalization` is deprecated and will be removed in a future version. Please use `tf.keras.layers.BatchNormalization` instead. In particular, `tf.control_dependencies(tf.GraphKeys.UPDATE_OPS)` should not be used (consult the `tf.keras.layers.BatchNormalization` documentation).\n",
            "  net = tf.layers.batch_normalization(net, training=is_training)\n",
            "/usr/local/lib/python3.11/dist-packages/libreco/layers/dense.py:39: UserWarning: `tf.layers.batch_normalization` is deprecated and will be removed in a future version. Please use `tf.keras.layers.BatchNormalization` instead. In particular, `tf.control_dependencies(tf.GraphKeys.UPDATE_OPS)` should not be used (consult the `tf.keras.layers.BatchNormalization` documentation).\n",
            "  net = tf.layers.batch_normalization(net, training=is_training)\n",
            "train: 100%|██████████| 9107/9107 [00:30<00:00, 296.03it/s]"
          ]
        },
        {
          "name": "stdout",
          "output_type": "stream",
          "text": [
            "Epoch 1 elapsed: 30.766s\n",
            "\t \u001b[32mtrain_loss: 0.7011\u001b[0m\n",
            "==============================\n"
          ]
        },
        {
          "name": "stderr",
          "output_type": "stream",
          "text": [
            "\n",
            "train: 100%|██████████| 9107/9107 [00:30<00:00, 295.46it/s]"
          ]
        },
        {
          "name": "stdout",
          "output_type": "stream",
          "text": [
            "Epoch 2 elapsed: 30.825s\n",
            "\t \u001b[32mtrain_loss: 0.6221\u001b[0m\n",
            "==============================\n"
          ]
        },
        {
          "name": "stderr",
          "output_type": "stream",
          "text": [
            "\n",
            "train: 100%|██████████| 9107/9107 [00:30<00:00, 297.12it/s]"
          ]
        },
        {
          "name": "stdout",
          "output_type": "stream",
          "text": [
            "Epoch 3 elapsed: 30.653s\n",
            "\t \u001b[32mtrain_loss: 0.5921\u001b[0m\n",
            "==============================\n"
          ]
        },
        {
          "name": "stderr",
          "output_type": "stream",
          "text": [
            "\n",
            "train: 100%|██████████| 9107/9107 [00:30<00:00, 299.13it/s]"
          ]
        },
        {
          "name": "stdout",
          "output_type": "stream",
          "text": [
            "Epoch 4 elapsed: 30.447s\n",
            "\t \u001b[32mtrain_loss: 0.5712\u001b[0m\n",
            "==============================\n"
          ]
        },
        {
          "name": "stderr",
          "output_type": "stream",
          "text": [
            "\n",
            "train: 100%|██████████| 9107/9107 [00:30<00:00, 296.41it/s]"
          ]
        },
        {
          "name": "stdout",
          "output_type": "stream",
          "text": [
            "Epoch 5 elapsed: 30.726s\n",
            "\t \u001b[32mtrain_loss: 0.5556\u001b[0m\n",
            "==============================\n"
          ]
        },
        {
          "name": "stderr",
          "output_type": "stream",
          "text": [
            "\n",
            "train: 100%|██████████| 9107/9107 [00:30<00:00, 298.06it/s]"
          ]
        },
        {
          "name": "stdout",
          "output_type": "stream",
          "text": [
            "Epoch 6 elapsed: 30.556s\n",
            "\t \u001b[32mtrain_loss: 0.5439\u001b[0m\n",
            "==============================\n"
          ]
        },
        {
          "name": "stderr",
          "output_type": "stream",
          "text": [
            "\n",
            "train: 100%|██████████| 9107/9107 [00:30<00:00, 297.71it/s]"
          ]
        },
        {
          "name": "stdout",
          "output_type": "stream",
          "text": [
            "Epoch 7 elapsed: 30.592s\n",
            "\t \u001b[32mtrain_loss: 0.534\u001b[0m\n",
            "==============================\n"
          ]
        },
        {
          "name": "stderr",
          "output_type": "stream",
          "text": [
            "\n",
            "train: 100%|██████████| 9107/9107 [00:30<00:00, 297.17it/s]"
          ]
        },
        {
          "name": "stdout",
          "output_type": "stream",
          "text": [
            "Epoch 8 elapsed: 30.647s\n",
            "\t \u001b[32mtrain_loss: 0.5265\u001b[0m\n",
            "==============================\n"
          ]
        },
        {
          "name": "stderr",
          "output_type": "stream",
          "text": [
            "\n",
            "train: 100%|██████████| 9107/9107 [00:30<00:00, 298.59it/s]"
          ]
        },
        {
          "name": "stdout",
          "output_type": "stream",
          "text": [
            "Epoch 9 elapsed: 30.502s\n",
            "\t \u001b[32mtrain_loss: 0.5217\u001b[0m\n",
            "==============================\n"
          ]
        },
        {
          "name": "stderr",
          "output_type": "stream",
          "text": [
            "\n",
            "train: 100%|██████████| 9107/9107 [00:30<00:00, 298.52it/s]"
          ]
        },
        {
          "name": "stdout",
          "output_type": "stream",
          "text": [
            "Epoch 10 elapsed: 30.509s\n",
            "\t \u001b[32mtrain_loss: 0.5173\u001b[0m\n",
            "==============================\n"
          ]
        },
        {
          "name": "stderr",
          "output_type": "stream",
          "text": [
            "\n",
            "train: 100%|██████████| 9107/9107 [00:30<00:00, 297.93it/s]"
          ]
        },
        {
          "name": "stdout",
          "output_type": "stream",
          "text": [
            "Epoch 11 elapsed: 30.569s\n",
            "\t \u001b[32mtrain_loss: 0.5141\u001b[0m\n",
            "==============================\n"
          ]
        },
        {
          "name": "stderr",
          "output_type": "stream",
          "text": [
            "\n",
            "train: 100%|██████████| 9107/9107 [00:30<00:00, 294.53it/s]"
          ]
        },
        {
          "name": "stdout",
          "output_type": "stream",
          "text": [
            "Epoch 12 elapsed: 30.924s\n",
            "\t \u001b[32mtrain_loss: 0.512\u001b[0m\n",
            "==============================\n"
          ]
        },
        {
          "name": "stderr",
          "output_type": "stream",
          "text": [
            "\n",
            "train: 100%|██████████| 9107/9107 [00:30<00:00, 298.53it/s]"
          ]
        },
        {
          "name": "stdout",
          "output_type": "stream",
          "text": [
            "Epoch 13 elapsed: 30.507s\n",
            "\t \u001b[32mtrain_loss: 0.5094\u001b[0m\n",
            "==============================\n"
          ]
        },
        {
          "name": "stderr",
          "output_type": "stream",
          "text": [
            "\n",
            "train: 100%|██████████| 9107/9107 [00:30<00:00, 298.90it/s]"
          ]
        },
        {
          "name": "stdout",
          "output_type": "stream",
          "text": [
            "Epoch 14 elapsed: 30.471s\n",
            "\t \u001b[32mtrain_loss: 0.5074\u001b[0m\n",
            "==============================\n"
          ]
        },
        {
          "name": "stderr",
          "output_type": "stream",
          "text": [
            "\n",
            "train: 100%|██████████| 9107/9107 [00:30<00:00, 297.67it/s]"
          ]
        },
        {
          "name": "stdout",
          "output_type": "stream",
          "text": [
            "Epoch 15 elapsed: 30.596s\n",
            "\t \u001b[32mtrain_loss: 0.5067\u001b[0m\n",
            "==============================\n"
          ]
        },
        {
          "name": "stderr",
          "output_type": "stream",
          "text": [
            "\n",
            "train: 100%|██████████| 9107/9107 [00:30<00:00, 298.24it/s]"
          ]
        },
        {
          "name": "stdout",
          "output_type": "stream",
          "text": [
            "Epoch 16 elapsed: 30.538s\n",
            "\t \u001b[32mtrain_loss: 0.5044\u001b[0m\n",
            "==============================\n"
          ]
        },
        {
          "name": "stderr",
          "output_type": "stream",
          "text": [
            "\n",
            "train: 100%|██████████| 9107/9107 [00:30<00:00, 298.59it/s]"
          ]
        },
        {
          "name": "stdout",
          "output_type": "stream",
          "text": [
            "Epoch 17 elapsed: 30.502s\n",
            "\t \u001b[32mtrain_loss: 0.5035\u001b[0m\n",
            "==============================\n"
          ]
        },
        {
          "name": "stderr",
          "output_type": "stream",
          "text": [
            "\n",
            "train: 100%|██████████| 9107/9107 [00:30<00:00, 297.37it/s]"
          ]
        },
        {
          "name": "stdout",
          "output_type": "stream",
          "text": [
            "Epoch 18 elapsed: 30.627s\n",
            "\t \u001b[32mtrain_loss: 0.5024\u001b[0m\n",
            "==============================\n"
          ]
        },
        {
          "name": "stderr",
          "output_type": "stream",
          "text": [
            "\n",
            "train: 100%|██████████| 9107/9107 [00:30<00:00, 298.60it/s]"
          ]
        },
        {
          "name": "stdout",
          "output_type": "stream",
          "text": [
            "Epoch 19 elapsed: 30.501s\n",
            "\t \u001b[32mtrain_loss: 0.5013\u001b[0m\n",
            "==============================\n"
          ]
        },
        {
          "name": "stderr",
          "output_type": "stream",
          "text": [
            "\n",
            "train: 100%|██████████| 9107/9107 [00:30<00:00, 297.67it/s]"
          ]
        },
        {
          "name": "stdout",
          "output_type": "stream",
          "text": [
            "Epoch 20 elapsed: 30.597s\n",
            "\t \u001b[32mtrain_loss: 0.5\u001b[0m\n",
            "==============================\n"
          ]
        },
        {
          "name": "stderr",
          "output_type": "stream",
          "text": [
            "\n",
            "eval_pointwise: 100%|██████████| 36/36 [00:00<00:00, 388.64it/s]\n"
          ]
        },
        {
          "name": "stdout",
          "output_type": "stream",
          "text": [
            "Training start time: \u001b[35m2025-05-23 15:28:03\u001b[0m\n"
          ]
        },
        {
          "name": "stderr",
          "output_type": "stream",
          "text": [
            "/usr/local/lib/python3.11/dist-packages/libreco/layers/dense.py:31: UserWarning: `tf.layers.batch_normalization` is deprecated and will be removed in a future version. Please use `tf.keras.layers.BatchNormalization` instead. In particular, `tf.control_dependencies(tf.GraphKeys.UPDATE_OPS)` should not be used (consult the `tf.keras.layers.BatchNormalization` documentation).\n",
            "  net = tf.layers.batch_normalization(net, training=is_training)\n",
            "/usr/local/lib/python3.11/dist-packages/libreco/layers/dense.py:39: UserWarning: `tf.layers.batch_normalization` is deprecated and will be removed in a future version. Please use `tf.keras.layers.BatchNormalization` instead. In particular, `tf.control_dependencies(tf.GraphKeys.UPDATE_OPS)` should not be used (consult the `tf.keras.layers.BatchNormalization` documentation).\n",
            "  net = tf.layers.batch_normalization(net, training=is_training)\n",
            "train: 100%|██████████| 9107/9107 [00:30<00:00, 293.99it/s]"
          ]
        },
        {
          "name": "stdout",
          "output_type": "stream",
          "text": [
            "Epoch 1 elapsed: 30.979s\n",
            "\t \u001b[32mtrain_loss: 0.7005\u001b[0m\n",
            "==============================\n"
          ]
        },
        {
          "name": "stderr",
          "output_type": "stream",
          "text": [
            "\n",
            "train: 100%|██████████| 9107/9107 [00:30<00:00, 294.06it/s]"
          ]
        },
        {
          "name": "stdout",
          "output_type": "stream",
          "text": [
            "Epoch 2 elapsed: 30.972s\n",
            "\t \u001b[32mtrain_loss: 0.6214\u001b[0m\n",
            "==============================\n"
          ]
        },
        {
          "name": "stderr",
          "output_type": "stream",
          "text": [
            "\n",
            "train: 100%|██████████| 9107/9107 [00:30<00:00, 297.32it/s]"
          ]
        },
        {
          "name": "stdout",
          "output_type": "stream",
          "text": [
            "Epoch 3 elapsed: 30.632s\n",
            "\t \u001b[32mtrain_loss: 0.5963\u001b[0m\n",
            "==============================\n"
          ]
        },
        {
          "name": "stderr",
          "output_type": "stream",
          "text": [
            "\n",
            "train: 100%|██████████| 9107/9107 [00:30<00:00, 296.01it/s]"
          ]
        },
        {
          "name": "stdout",
          "output_type": "stream",
          "text": [
            "Epoch 4 elapsed: 30.768s\n",
            "\t \u001b[32mtrain_loss: 0.5739\u001b[0m\n",
            "==============================\n"
          ]
        },
        {
          "name": "stderr",
          "output_type": "stream",
          "text": [
            "\n",
            "train: 100%|██████████| 9107/9107 [00:30<00:00, 297.51it/s]"
          ]
        },
        {
          "name": "stdout",
          "output_type": "stream",
          "text": [
            "Epoch 5 elapsed: 30.613s\n",
            "\t \u001b[32mtrain_loss: 0.5546\u001b[0m\n",
            "==============================\n"
          ]
        },
        {
          "name": "stderr",
          "output_type": "stream",
          "text": [
            "\n",
            "train: 100%|██████████| 9107/9107 [00:30<00:00, 295.20it/s]"
          ]
        },
        {
          "name": "stdout",
          "output_type": "stream",
          "text": [
            "Epoch 6 elapsed: 30.853s\n",
            "\t \u001b[32mtrain_loss: 0.5408\u001b[0m\n",
            "==============================\n"
          ]
        },
        {
          "name": "stderr",
          "output_type": "stream",
          "text": [
            "\n",
            "train: 100%|██████████| 9107/9107 [00:30<00:00, 297.61it/s]"
          ]
        },
        {
          "name": "stdout",
          "output_type": "stream",
          "text": [
            "Epoch 7 elapsed: 30.603s\n",
            "\t \u001b[32mtrain_loss: 0.5307\u001b[0m\n",
            "==============================\n"
          ]
        },
        {
          "name": "stderr",
          "output_type": "stream",
          "text": [
            "\n",
            "train: 100%|██████████| 9107/9107 [00:30<00:00, 296.01it/s]"
          ]
        },
        {
          "name": "stdout",
          "output_type": "stream",
          "text": [
            "Epoch 8 elapsed: 30.768s\n",
            "\t \u001b[32mtrain_loss: 0.5238\u001b[0m\n",
            "==============================\n"
          ]
        },
        {
          "name": "stderr",
          "output_type": "stream",
          "text": [
            "\n",
            "train: 100%|██████████| 9107/9107 [00:30<00:00, 296.44it/s]"
          ]
        },
        {
          "name": "stdout",
          "output_type": "stream",
          "text": [
            "Epoch 9 elapsed: 30.724s\n",
            "\t \u001b[32mtrain_loss: 0.5193\u001b[0m\n",
            "==============================\n"
          ]
        },
        {
          "name": "stderr",
          "output_type": "stream",
          "text": [
            "\n",
            "train: 100%|██████████| 9107/9107 [00:30<00:00, 297.59it/s]"
          ]
        },
        {
          "name": "stdout",
          "output_type": "stream",
          "text": [
            "Epoch 10 elapsed: 30.604s\n",
            "\t \u001b[32mtrain_loss: 0.5153\u001b[0m\n",
            "==============================\n"
          ]
        },
        {
          "name": "stderr",
          "output_type": "stream",
          "text": [
            "\n",
            "train: 100%|██████████| 9107/9107 [00:30<00:00, 295.51it/s]"
          ]
        },
        {
          "name": "stdout",
          "output_type": "stream",
          "text": [
            "Epoch 11 elapsed: 30.820s\n",
            "\t \u001b[32mtrain_loss: 0.5123\u001b[0m\n",
            "==============================\n"
          ]
        },
        {
          "name": "stderr",
          "output_type": "stream",
          "text": [
            "\n",
            "train: 100%|██████████| 9107/9107 [00:31<00:00, 292.24it/s]"
          ]
        },
        {
          "name": "stdout",
          "output_type": "stream",
          "text": [
            "Epoch 12 elapsed: 31.165s\n",
            "\t \u001b[32mtrain_loss: 0.5097\u001b[0m\n",
            "==============================\n"
          ]
        },
        {
          "name": "stderr",
          "output_type": "stream",
          "text": [
            "\n",
            "train: 100%|██████████| 9107/9107 [00:30<00:00, 296.74it/s]"
          ]
        },
        {
          "name": "stdout",
          "output_type": "stream",
          "text": [
            "Epoch 13 elapsed: 30.693s\n",
            "\t \u001b[32mtrain_loss: 0.5077\u001b[0m\n",
            "==============================\n"
          ]
        },
        {
          "name": "stderr",
          "output_type": "stream",
          "text": [
            "\n",
            "train: 100%|██████████| 9107/9107 [00:30<00:00, 295.71it/s]"
          ]
        },
        {
          "name": "stdout",
          "output_type": "stream",
          "text": [
            "Epoch 14 elapsed: 30.799s\n",
            "\t \u001b[32mtrain_loss: 0.5059\u001b[0m\n",
            "==============================\n"
          ]
        },
        {
          "name": "stderr",
          "output_type": "stream",
          "text": [
            "\n",
            "train: 100%|██████████| 9107/9107 [00:30<00:00, 296.33it/s]"
          ]
        },
        {
          "name": "stdout",
          "output_type": "stream",
          "text": [
            "Epoch 15 elapsed: 30.735s\n",
            "\t \u001b[32mtrain_loss: 0.504\u001b[0m\n",
            "==============================\n"
          ]
        },
        {
          "name": "stderr",
          "output_type": "stream",
          "text": [
            "\n",
            "train: 100%|██████████| 9107/9107 [00:30<00:00, 296.31it/s]"
          ]
        },
        {
          "name": "stdout",
          "output_type": "stream",
          "text": [
            "Epoch 16 elapsed: 30.737s\n",
            "\t \u001b[32mtrain_loss: 0.5029\u001b[0m\n",
            "==============================\n"
          ]
        },
        {
          "name": "stderr",
          "output_type": "stream",
          "text": [
            "\n",
            "train: 100%|██████████| 9107/9107 [00:30<00:00, 295.89it/s]"
          ]
        },
        {
          "name": "stdout",
          "output_type": "stream",
          "text": [
            "Epoch 17 elapsed: 30.781s\n",
            "\t \u001b[32mtrain_loss: 0.5017\u001b[0m\n",
            "==============================\n"
          ]
        },
        {
          "name": "stderr",
          "output_type": "stream",
          "text": [
            "\n",
            "train: 100%|██████████| 9107/9107 [00:30<00:00, 297.63it/s]"
          ]
        },
        {
          "name": "stdout",
          "output_type": "stream",
          "text": [
            "Epoch 18 elapsed: 30.601s\n",
            "\t \u001b[32mtrain_loss: 0.501\u001b[0m\n",
            "==============================\n"
          ]
        },
        {
          "name": "stderr",
          "output_type": "stream",
          "text": [
            "\n",
            "train: 100%|██████████| 9107/9107 [00:30<00:00, 297.28it/s]"
          ]
        },
        {
          "name": "stdout",
          "output_type": "stream",
          "text": [
            "Epoch 19 elapsed: 30.637s\n",
            "\t \u001b[32mtrain_loss: 0.5001\u001b[0m\n",
            "==============================\n"
          ]
        },
        {
          "name": "stderr",
          "output_type": "stream",
          "text": [
            "\n",
            "train: 100%|██████████| 9107/9107 [00:30<00:00, 296.37it/s]"
          ]
        },
        {
          "name": "stdout",
          "output_type": "stream",
          "text": [
            "Epoch 20 elapsed: 30.730s\n",
            "\t \u001b[32mtrain_loss: 0.4993\u001b[0m\n",
            "==============================\n"
          ]
        },
        {
          "name": "stderr",
          "output_type": "stream",
          "text": [
            "\n",
            "eval_pointwise: 100%|██████████| 36/36 [00:00<00:00, 392.29it/s]\n"
          ]
        },
        {
          "name": "stdout",
          "output_type": "stream",
          "text": [
            "Training start time: \u001b[35m2025-05-23 15:38:21\u001b[0m\n"
          ]
        },
        {
          "name": "stderr",
          "output_type": "stream",
          "text": [
            "/usr/local/lib/python3.11/dist-packages/libreco/layers/dense.py:31: UserWarning: `tf.layers.batch_normalization` is deprecated and will be removed in a future version. Please use `tf.keras.layers.BatchNormalization` instead. In particular, `tf.control_dependencies(tf.GraphKeys.UPDATE_OPS)` should not be used (consult the `tf.keras.layers.BatchNormalization` documentation).\n",
            "  net = tf.layers.batch_normalization(net, training=is_training)\n",
            "/usr/local/lib/python3.11/dist-packages/libreco/layers/dense.py:39: UserWarning: `tf.layers.batch_normalization` is deprecated and will be removed in a future version. Please use `tf.keras.layers.BatchNormalization` instead. In particular, `tf.control_dependencies(tf.GraphKeys.UPDATE_OPS)` should not be used (consult the `tf.keras.layers.BatchNormalization` documentation).\n",
            "  net = tf.layers.batch_normalization(net, training=is_training)\n",
            "train: 100%|██████████| 9107/9107 [00:30<00:00, 300.21it/s]"
          ]
        },
        {
          "name": "stdout",
          "output_type": "stream",
          "text": [
            "Epoch 1 elapsed: 30.337s\n",
            "\t \u001b[32mtrain_loss: 0.7002\u001b[0m\n",
            "==============================\n"
          ]
        },
        {
          "name": "stderr",
          "output_type": "stream",
          "text": [
            "\n",
            "train: 100%|██████████| 9107/9107 [00:30<00:00, 299.53it/s]"
          ]
        },
        {
          "name": "stdout",
          "output_type": "stream",
          "text": [
            "Epoch 2 elapsed: 30.407s\n",
            "\t \u001b[32mtrain_loss: 0.6283\u001b[0m\n",
            "==============================\n"
          ]
        },
        {
          "name": "stderr",
          "output_type": "stream",
          "text": [
            "\n",
            "train: 100%|██████████| 9107/9107 [00:29<00:00, 305.29it/s]"
          ]
        },
        {
          "name": "stdout",
          "output_type": "stream",
          "text": [
            "Epoch 3 elapsed: 29.833s\n",
            "\t \u001b[32mtrain_loss: 0.5982\u001b[0m\n",
            "==============================\n"
          ]
        },
        {
          "name": "stderr",
          "output_type": "stream",
          "text": [
            "\n",
            "train: 100%|██████████| 9107/9107 [00:30<00:00, 302.66it/s]"
          ]
        },
        {
          "name": "stdout",
          "output_type": "stream",
          "text": [
            "Epoch 4 elapsed: 30.092s\n",
            "\t \u001b[32mtrain_loss: 0.5749\u001b[0m\n",
            "==============================\n"
          ]
        },
        {
          "name": "stderr",
          "output_type": "stream",
          "text": [
            "\n",
            "train: 100%|██████████| 9107/9107 [00:30<00:00, 302.44it/s]"
          ]
        },
        {
          "name": "stdout",
          "output_type": "stream",
          "text": [
            "Epoch 5 elapsed: 30.114s\n",
            "\t \u001b[32mtrain_loss: 0.5569\u001b[0m\n",
            "==============================\n"
          ]
        },
        {
          "name": "stderr",
          "output_type": "stream",
          "text": [
            "\n",
            "train: 100%|██████████| 9107/9107 [00:29<00:00, 304.80it/s]"
          ]
        },
        {
          "name": "stdout",
          "output_type": "stream",
          "text": [
            "Epoch 6 elapsed: 29.880s\n",
            "\t \u001b[32mtrain_loss: 0.5449\u001b[0m\n",
            "==============================\n"
          ]
        },
        {
          "name": "stderr",
          "output_type": "stream",
          "text": [
            "\n",
            "train: 100%|██████████| 9107/9107 [00:30<00:00, 302.86it/s]"
          ]
        },
        {
          "name": "stdout",
          "output_type": "stream",
          "text": [
            "Epoch 7 elapsed: 30.072s\n",
            "\t \u001b[32mtrain_loss: 0.5355\u001b[0m\n",
            "==============================\n"
          ]
        },
        {
          "name": "stderr",
          "output_type": "stream",
          "text": [
            "\n",
            "train: 100%|██████████| 9107/9107 [00:29<00:00, 304.41it/s]"
          ]
        },
        {
          "name": "stdout",
          "output_type": "stream",
          "text": [
            "Epoch 8 elapsed: 29.919s\n",
            "\t \u001b[32mtrain_loss: 0.5289\u001b[0m\n",
            "==============================\n"
          ]
        },
        {
          "name": "stderr",
          "output_type": "stream",
          "text": [
            "\n",
            "train: 100%|██████████| 9107/9107 [00:30<00:00, 302.25it/s]"
          ]
        },
        {
          "name": "stdout",
          "output_type": "stream",
          "text": [
            "Epoch 9 elapsed: 30.132s\n",
            "\t \u001b[32mtrain_loss: 0.5233\u001b[0m\n",
            "==============================\n"
          ]
        },
        {
          "name": "stderr",
          "output_type": "stream",
          "text": [
            "\n",
            "train: 100%|██████████| 9107/9107 [00:30<00:00, 301.78it/s]"
          ]
        },
        {
          "name": "stdout",
          "output_type": "stream",
          "text": [
            "Epoch 10 elapsed: 30.180s\n",
            "\t \u001b[32mtrain_loss: 0.5183\u001b[0m\n",
            "==============================\n"
          ]
        },
        {
          "name": "stderr",
          "output_type": "stream",
          "text": [
            "\n",
            "train: 100%|██████████| 9107/9107 [00:29<00:00, 305.31it/s]"
          ]
        },
        {
          "name": "stdout",
          "output_type": "stream",
          "text": [
            "Epoch 11 elapsed: 29.831s\n",
            "\t \u001b[32mtrain_loss: 0.5143\u001b[0m\n",
            "==============================\n"
          ]
        },
        {
          "name": "stderr",
          "output_type": "stream",
          "text": [
            "\n",
            "train: 100%|██████████| 9107/9107 [00:30<00:00, 300.31it/s]"
          ]
        },
        {
          "name": "stdout",
          "output_type": "stream",
          "text": [
            "Epoch 12 elapsed: 30.328s\n",
            "\t \u001b[32mtrain_loss: 0.511\u001b[0m\n",
            "==============================\n"
          ]
        },
        {
          "name": "stderr",
          "output_type": "stream",
          "text": [
            "\n",
            "train: 100%|██████████| 9107/9107 [00:30<00:00, 302.50it/s]"
          ]
        },
        {
          "name": "stdout",
          "output_type": "stream",
          "text": [
            "Epoch 13 elapsed: 30.108s\n",
            "\t \u001b[32mtrain_loss: 0.5082\u001b[0m\n",
            "==============================\n"
          ]
        },
        {
          "name": "stderr",
          "output_type": "stream",
          "text": [
            "\n",
            "train: 100%|██████████| 9107/9107 [00:29<00:00, 304.61it/s]"
          ]
        },
        {
          "name": "stdout",
          "output_type": "stream",
          "text": [
            "Epoch 14 elapsed: 29.899s\n",
            "\t \u001b[32mtrain_loss: 0.5065\u001b[0m\n",
            "==============================\n"
          ]
        },
        {
          "name": "stderr",
          "output_type": "stream",
          "text": [
            "\n",
            "train: 100%|██████████| 9107/9107 [00:30<00:00, 302.71it/s]"
          ]
        },
        {
          "name": "stdout",
          "output_type": "stream",
          "text": [
            "Epoch 15 elapsed: 30.087s\n",
            "\t \u001b[32mtrain_loss: 0.5045\u001b[0m\n",
            "==============================\n"
          ]
        },
        {
          "name": "stderr",
          "output_type": "stream",
          "text": [
            "\n",
            "train: 100%|██████████| 9107/9107 [00:30<00:00, 303.01it/s]"
          ]
        },
        {
          "name": "stdout",
          "output_type": "stream",
          "text": [
            "Epoch 16 elapsed: 30.058s\n",
            "\t \u001b[32mtrain_loss: 0.5036\u001b[0m\n",
            "==============================\n"
          ]
        },
        {
          "name": "stderr",
          "output_type": "stream",
          "text": [
            "\n",
            "train: 100%|██████████| 9107/9107 [00:30<00:00, 303.43it/s]"
          ]
        },
        {
          "name": "stdout",
          "output_type": "stream",
          "text": [
            "Epoch 17 elapsed: 30.016s\n",
            "\t \u001b[32mtrain_loss: 0.5022\u001b[0m\n",
            "==============================\n"
          ]
        },
        {
          "name": "stderr",
          "output_type": "stream",
          "text": [
            "\n",
            "train: 100%|██████████| 9107/9107 [00:30<00:00, 302.20it/s]"
          ]
        },
        {
          "name": "stdout",
          "output_type": "stream",
          "text": [
            "Epoch 18 elapsed: 30.139s\n",
            "\t \u001b[32mtrain_loss: 0.5012\u001b[0m\n",
            "==============================\n"
          ]
        },
        {
          "name": "stderr",
          "output_type": "stream",
          "text": [
            "\n",
            "train: 100%|██████████| 9107/9107 [00:29<00:00, 304.66it/s]"
          ]
        },
        {
          "name": "stdout",
          "output_type": "stream",
          "text": [
            "Epoch 19 elapsed: 29.894s\n",
            "\t \u001b[32mtrain_loss: 0.5003\u001b[0m\n",
            "==============================\n"
          ]
        },
        {
          "name": "stderr",
          "output_type": "stream",
          "text": [
            "\n",
            "train: 100%|██████████| 9107/9107 [00:30<00:00, 302.68it/s]"
          ]
        },
        {
          "name": "stdout",
          "output_type": "stream",
          "text": [
            "Epoch 20 elapsed: 30.090s\n",
            "\t \u001b[32mtrain_loss: 0.4994\u001b[0m\n",
            "==============================\n"
          ]
        },
        {
          "name": "stderr",
          "output_type": "stream",
          "text": [
            "\n",
            "eval_pointwise: 100%|██████████| 36/36 [00:00<00:00, 409.13it/s]\n"
          ]
        },
        {
          "name": "stdout",
          "output_type": "stream",
          "text": [
            "\n",
            "LibReco NCF (0.7947440051558067, 0.0044923200441185) ('Train Loss:', 0.49939999999999996, 0.0007924645102463506)\n"
          ]
        }
      ],
      "source": [
        "train_lib_model(\"NCF\", ext)"
      ]
    },
    {
      "cell_type": "code",
      "execution_count": null,
      "id": "WKSpFXgCUQDb",
      "metadata": {
        "colab": {
          "background_save": true
        },
        "id": "WKSpFXgCUQDb",
        "outputId": "d7e021d6-811e-4ee5-c8eb-7bcf17c74c22"
      },
      "outputs": [
        {
          "name": "stdout",
          "output_type": "stream",
          "text": [
            "Training start time: \u001b[35m2025-05-23 15:48:25\u001b[0m\n"
          ]
        },
        {
          "name": "stderr",
          "output_type": "stream",
          "text": [
            "/usr/local/lib/python3.11/dist-packages/libreco/layers/dense.py:31: UserWarning: `tf.layers.batch_normalization` is deprecated and will be removed in a future version. Please use `tf.keras.layers.BatchNormalization` instead. In particular, `tf.control_dependencies(tf.GraphKeys.UPDATE_OPS)` should not be used (consult the `tf.keras.layers.BatchNormalization` documentation).\n",
            "  net = tf.layers.batch_normalization(net, training=is_training)\n",
            "/usr/local/lib/python3.11/dist-packages/libreco/layers/dense.py:39: UserWarning: `tf.layers.batch_normalization` is deprecated and will be removed in a future version. Please use `tf.keras.layers.BatchNormalization` instead. In particular, `tf.control_dependencies(tf.GraphKeys.UPDATE_OPS)` should not be used (consult the `tf.keras.layers.BatchNormalization` documentation).\n",
            "  net = tf.layers.batch_normalization(net, training=is_training)\n",
            "train: 100%|██████████| 9107/9107 [00:30<00:00, 296.98it/s]"
          ]
        },
        {
          "name": "stdout",
          "output_type": "stream",
          "text": [
            "Epoch 1 elapsed: 30.667s\n",
            "\t \u001b[32mtrain_loss: 0.7024\u001b[0m\n",
            "==============================\n"
          ]
        },
        {
          "name": "stderr",
          "output_type": "stream",
          "text": [
            "\n",
            "train: 100%|██████████| 9107/9107 [00:30<00:00, 299.19it/s]"
          ]
        },
        {
          "name": "stdout",
          "output_type": "stream",
          "text": [
            "Epoch 2 elapsed: 30.441s\n",
            "\t \u001b[32mtrain_loss: 0.6264\u001b[0m\n",
            "==============================\n"
          ]
        },
        {
          "name": "stderr",
          "output_type": "stream",
          "text": [
            "\n",
            "train: 100%|██████████| 9107/9107 [00:30<00:00, 298.44it/s]"
          ]
        },
        {
          "name": "stdout",
          "output_type": "stream",
          "text": [
            "Epoch 3 elapsed: 30.517s\n",
            "\t \u001b[32mtrain_loss: 0.5964\u001b[0m\n",
            "==============================\n"
          ]
        },
        {
          "name": "stderr",
          "output_type": "stream",
          "text": [
            "\n",
            "train: 100%|██████████| 9107/9107 [00:30<00:00, 300.23it/s]"
          ]
        },
        {
          "name": "stdout",
          "output_type": "stream",
          "text": [
            "Epoch 4 elapsed: 30.336s\n",
            "\t \u001b[32mtrain_loss: 0.5766\u001b[0m\n",
            "==============================\n"
          ]
        },
        {
          "name": "stderr",
          "output_type": "stream",
          "text": [
            "\n",
            "train: 100%|██████████| 9107/9107 [00:30<00:00, 298.93it/s]"
          ]
        },
        {
          "name": "stdout",
          "output_type": "stream",
          "text": [
            "Epoch 5 elapsed: 30.467s\n",
            "\t \u001b[32mtrain_loss: 0.5598\u001b[0m\n",
            "==============================\n"
          ]
        },
        {
          "name": "stderr",
          "output_type": "stream",
          "text": [
            "\n",
            "train: 100%|██████████| 9107/9107 [00:30<00:00, 299.74it/s]"
          ]
        },
        {
          "name": "stdout",
          "output_type": "stream",
          "text": [
            "Epoch 6 elapsed: 30.385s\n",
            "\t \u001b[32mtrain_loss: 0.5455\u001b[0m\n",
            "==============================\n"
          ]
        },
        {
          "name": "stderr",
          "output_type": "stream",
          "text": [
            "\n",
            "train: 100%|██████████| 9107/9107 [00:30<00:00, 300.74it/s]"
          ]
        },
        {
          "name": "stdout",
          "output_type": "stream",
          "text": [
            "Epoch 7 elapsed: 30.284s\n",
            "\t \u001b[32mtrain_loss: 0.5347\u001b[0m\n",
            "==============================\n"
          ]
        },
        {
          "name": "stderr",
          "output_type": "stream",
          "text": [
            "\n",
            "train: 100%|██████████| 9107/9107 [00:30<00:00, 299.28it/s]"
          ]
        },
        {
          "name": "stdout",
          "output_type": "stream",
          "text": [
            "Epoch 8 elapsed: 30.432s\n",
            "\t \u001b[32mtrain_loss: 0.527\u001b[0m\n",
            "==============================\n"
          ]
        },
        {
          "name": "stderr",
          "output_type": "stream",
          "text": [
            "\n",
            "train: 100%|██████████| 9107/9107 [00:30<00:00, 299.49it/s]"
          ]
        },
        {
          "name": "stdout",
          "output_type": "stream",
          "text": [
            "Epoch 9 elapsed: 30.411s\n",
            "\t \u001b[32mtrain_loss: 0.5223\u001b[0m\n",
            "==============================\n"
          ]
        },
        {
          "name": "stderr",
          "output_type": "stream",
          "text": [
            "\n",
            "train: 100%|██████████| 9107/9107 [00:30<00:00, 300.46it/s]"
          ]
        },
        {
          "name": "stdout",
          "output_type": "stream",
          "text": [
            "Epoch 10 elapsed: 30.312s\n",
            "\t \u001b[32mtrain_loss: 0.5177\u001b[0m\n",
            "==============================\n"
          ]
        },
        {
          "name": "stderr",
          "output_type": "stream",
          "text": [
            "\n",
            "train: 100%|██████████| 9107/9107 [00:30<00:00, 299.83it/s]"
          ]
        },
        {
          "name": "stdout",
          "output_type": "stream",
          "text": [
            "Epoch 11 elapsed: 30.376s\n",
            "\t \u001b[32mtrain_loss: 0.5148\u001b[0m\n",
            "==============================\n"
          ]
        },
        {
          "name": "stderr",
          "output_type": "stream",
          "text": [
            "\n",
            "train: 100%|██████████| 9107/9107 [00:30<00:00, 300.33it/s]"
          ]
        },
        {
          "name": "stdout",
          "output_type": "stream",
          "text": [
            "Epoch 12 elapsed: 30.325s\n",
            "\t \u001b[32mtrain_loss: 0.5118\u001b[0m\n",
            "==============================\n"
          ]
        },
        {
          "name": "stderr",
          "output_type": "stream",
          "text": [
            "\n",
            "train: 100%|██████████| 9107/9107 [00:30<00:00, 295.94it/s]"
          ]
        },
        {
          "name": "stdout",
          "output_type": "stream",
          "text": [
            "Epoch 13 elapsed: 30.775s\n",
            "\t \u001b[32mtrain_loss: 0.5103\u001b[0m\n",
            "==============================\n"
          ]
        },
        {
          "name": "stderr",
          "output_type": "stream",
          "text": [
            "\n",
            "train: 100%|██████████| 9107/9107 [00:30<00:00, 299.44it/s]"
          ]
        },
        {
          "name": "stdout",
          "output_type": "stream",
          "text": [
            "Epoch 14 elapsed: 30.416s\n",
            "\t \u001b[32mtrain_loss: 0.5083\u001b[0m\n",
            "==============================\n"
          ]
        },
        {
          "name": "stderr",
          "output_type": "stream",
          "text": [
            "\n",
            "train: 100%|██████████| 9107/9107 [00:30<00:00, 299.40it/s]"
          ]
        },
        {
          "name": "stdout",
          "output_type": "stream",
          "text": [
            "Epoch 15 elapsed: 30.420s\n",
            "\t \u001b[32mtrain_loss: 0.5071\u001b[0m\n",
            "==============================\n"
          ]
        },
        {
          "name": "stderr",
          "output_type": "stream",
          "text": [
            "\n",
            "train: 100%|██████████| 9107/9107 [00:30<00:00, 298.46it/s]"
          ]
        },
        {
          "name": "stdout",
          "output_type": "stream",
          "text": [
            "Epoch 16 elapsed: 30.516s\n",
            "\t \u001b[32mtrain_loss: 0.5058\u001b[0m\n",
            "==============================\n"
          ]
        },
        {
          "name": "stderr",
          "output_type": "stream",
          "text": [
            "\n",
            "train: 100%|██████████| 9107/9107 [00:30<00:00, 298.91it/s]"
          ]
        },
        {
          "name": "stdout",
          "output_type": "stream",
          "text": [
            "Epoch 17 elapsed: 30.470s\n",
            "\t \u001b[32mtrain_loss: 0.5047\u001b[0m\n",
            "==============================\n"
          ]
        },
        {
          "name": "stderr",
          "output_type": "stream",
          "text": [
            "\n",
            "train: 100%|██████████| 9107/9107 [00:30<00:00, 300.97it/s]"
          ]
        },
        {
          "name": "stdout",
          "output_type": "stream",
          "text": [
            "Epoch 18 elapsed: 30.261s\n",
            "\t \u001b[32mtrain_loss: 0.5036\u001b[0m\n",
            "==============================\n"
          ]
        },
        {
          "name": "stderr",
          "output_type": "stream",
          "text": [
            "\n",
            "train: 100%|██████████| 9107/9107 [00:30<00:00, 298.39it/s]"
          ]
        },
        {
          "name": "stdout",
          "output_type": "stream",
          "text": [
            "Epoch 19 elapsed: 30.523s\n",
            "\t \u001b[32mtrain_loss: 0.5027\u001b[0m\n",
            "==============================\n"
          ]
        },
        {
          "name": "stderr",
          "output_type": "stream",
          "text": [
            "\n",
            "train: 100%|██████████| 9107/9107 [00:30<00:00, 300.71it/s]"
          ]
        },
        {
          "name": "stdout",
          "output_type": "stream",
          "text": [
            "Epoch 20 elapsed: 30.287s\n",
            "\t \u001b[32mtrain_loss: 0.5021\u001b[0m\n",
            "==============================\n"
          ]
        },
        {
          "name": "stderr",
          "output_type": "stream",
          "text": [
            "\n",
            "eval_pointwise: 100%|██████████| 36/36 [00:00<00:00, 424.83it/s]\n"
          ]
        },
        {
          "name": "stdout",
          "output_type": "stream",
          "text": [
            "Training start time: \u001b[35m2025-05-23 15:58:37\u001b[0m\n"
          ]
        },
        {
          "name": "stderr",
          "output_type": "stream",
          "text": [
            "/usr/local/lib/python3.11/dist-packages/libreco/layers/dense.py:31: UserWarning: `tf.layers.batch_normalization` is deprecated and will be removed in a future version. Please use `tf.keras.layers.BatchNormalization` instead. In particular, `tf.control_dependencies(tf.GraphKeys.UPDATE_OPS)` should not be used (consult the `tf.keras.layers.BatchNormalization` documentation).\n",
            "  net = tf.layers.batch_normalization(net, training=is_training)\n",
            "/usr/local/lib/python3.11/dist-packages/libreco/layers/dense.py:39: UserWarning: `tf.layers.batch_normalization` is deprecated and will be removed in a future version. Please use `tf.keras.layers.BatchNormalization` instead. In particular, `tf.control_dependencies(tf.GraphKeys.UPDATE_OPS)` should not be used (consult the `tf.keras.layers.BatchNormalization` documentation).\n",
            "  net = tf.layers.batch_normalization(net, training=is_training)\n",
            "train: 100%|██████████| 9107/9107 [00:30<00:00, 294.31it/s]"
          ]
        },
        {
          "name": "stdout",
          "output_type": "stream",
          "text": [
            "Epoch 1 elapsed: 30.945s\n",
            "\t \u001b[32mtrain_loss: 0.7045\u001b[0m\n",
            "==============================\n"
          ]
        },
        {
          "name": "stderr",
          "output_type": "stream",
          "text": [
            "\n",
            "train: 100%|██████████| 9107/9107 [00:30<00:00, 296.48it/s]"
          ]
        },
        {
          "name": "stdout",
          "output_type": "stream",
          "text": [
            "Epoch 2 elapsed: 30.720s\n",
            "\t \u001b[32mtrain_loss: 0.6294\u001b[0m\n",
            "==============================\n"
          ]
        },
        {
          "name": "stderr",
          "output_type": "stream",
          "text": [
            "\n",
            "train: 100%|██████████| 9107/9107 [00:31<00:00, 293.26it/s]"
          ]
        },
        {
          "name": "stdout",
          "output_type": "stream",
          "text": [
            "Epoch 3 elapsed: 31.056s\n",
            "\t \u001b[32mtrain_loss: 0.5963\u001b[0m\n",
            "==============================\n"
          ]
        },
        {
          "name": "stderr",
          "output_type": "stream",
          "text": [
            "\n",
            "train: 100%|██████████| 9107/9107 [00:30<00:00, 296.90it/s]"
          ]
        },
        {
          "name": "stdout",
          "output_type": "stream",
          "text": [
            "Epoch 4 elapsed: 30.676s\n",
            "\t \u001b[32mtrain_loss: 0.5739\u001b[0m\n",
            "==============================\n"
          ]
        },
        {
          "name": "stderr",
          "output_type": "stream",
          "text": [
            "\n",
            "train: 100%|██████████| 9107/9107 [00:30<00:00, 295.93it/s]"
          ]
        },
        {
          "name": "stdout",
          "output_type": "stream",
          "text": [
            "Epoch 5 elapsed: 30.776s\n",
            "\t \u001b[32mtrain_loss: 0.5582\u001b[0m\n",
            "==============================\n"
          ]
        },
        {
          "name": "stderr",
          "output_type": "stream",
          "text": [
            "\n",
            "train: 100%|██████████| 9107/9107 [00:30<00:00, 296.70it/s]"
          ]
        },
        {
          "name": "stdout",
          "output_type": "stream",
          "text": [
            "Epoch 6 elapsed: 30.696s\n",
            "\t \u001b[32mtrain_loss: 0.5458\u001b[0m\n",
            "==============================\n"
          ]
        },
        {
          "name": "stderr",
          "output_type": "stream",
          "text": [
            "\n",
            "train: 100%|██████████| 9107/9107 [00:30<00:00, 296.35it/s]"
          ]
        },
        {
          "name": "stdout",
          "output_type": "stream",
          "text": [
            "Epoch 7 elapsed: 30.733s\n",
            "\t \u001b[32mtrain_loss: 0.5357\u001b[0m\n",
            "==============================\n"
          ]
        },
        {
          "name": "stderr",
          "output_type": "stream",
          "text": [
            "\n",
            "train: 100%|██████████| 9107/9107 [00:30<00:00, 298.03it/s]"
          ]
        },
        {
          "name": "stdout",
          "output_type": "stream",
          "text": [
            "Epoch 8 elapsed: 30.559s\n",
            "\t \u001b[32mtrain_loss: 0.5279\u001b[0m\n",
            "==============================\n"
          ]
        },
        {
          "name": "stderr",
          "output_type": "stream",
          "text": [
            "\n",
            "train: 100%|██████████| 9107/9107 [00:30<00:00, 296.54it/s]"
          ]
        },
        {
          "name": "stdout",
          "output_type": "stream",
          "text": [
            "Epoch 9 elapsed: 30.712s\n",
            "\t \u001b[32mtrain_loss: 0.5222\u001b[0m\n",
            "==============================\n"
          ]
        },
        {
          "name": "stderr",
          "output_type": "stream",
          "text": [
            "\n",
            "train: 100%|██████████| 9107/9107 [00:30<00:00, 296.18it/s]"
          ]
        },
        {
          "name": "stdout",
          "output_type": "stream",
          "text": [
            "Epoch 10 elapsed: 30.750s\n",
            "\t \u001b[32mtrain_loss: 0.518\u001b[0m\n",
            "==============================\n"
          ]
        },
        {
          "name": "stderr",
          "output_type": "stream",
          "text": [
            "\n",
            "train: 100%|██████████| 9107/9107 [00:30<00:00, 298.94it/s]"
          ]
        },
        {
          "name": "stdout",
          "output_type": "stream",
          "text": [
            "Epoch 11 elapsed: 30.466s\n",
            "\t \u001b[32mtrain_loss: 0.5149\u001b[0m\n",
            "==============================\n"
          ]
        },
        {
          "name": "stderr",
          "output_type": "stream",
          "text": [
            "\n",
            "train: 100%|██████████| 9107/9107 [00:30<00:00, 297.21it/s]"
          ]
        },
        {
          "name": "stdout",
          "output_type": "stream",
          "text": [
            "Epoch 12 elapsed: 30.643s\n",
            "\t \u001b[32mtrain_loss: 0.5123\u001b[0m\n",
            "==============================\n"
          ]
        },
        {
          "name": "stderr",
          "output_type": "stream",
          "text": [
            "\n",
            "train: 100%|██████████| 9107/9107 [00:30<00:00, 295.06it/s]"
          ]
        },
        {
          "name": "stdout",
          "output_type": "stream",
          "text": [
            "Epoch 13 elapsed: 30.866s\n",
            "\t \u001b[32mtrain_loss: 0.5108\u001b[0m\n",
            "==============================\n"
          ]
        },
        {
          "name": "stderr",
          "output_type": "stream",
          "text": [
            "\n",
            "train: 100%|██████████| 9107/9107 [00:30<00:00, 297.71it/s]"
          ]
        },
        {
          "name": "stdout",
          "output_type": "stream",
          "text": [
            "Epoch 14 elapsed: 30.592s\n",
            "\t \u001b[32mtrain_loss: 0.5088\u001b[0m\n",
            "==============================\n"
          ]
        },
        {
          "name": "stderr",
          "output_type": "stream",
          "text": [
            "\n",
            "train: 100%|██████████| 9107/9107 [00:30<00:00, 296.51it/s]"
          ]
        },
        {
          "name": "stdout",
          "output_type": "stream",
          "text": [
            "Epoch 15 elapsed: 30.716s\n",
            "\t \u001b[32mtrain_loss: 0.5074\u001b[0m\n",
            "==============================\n"
          ]
        },
        {
          "name": "stderr",
          "output_type": "stream",
          "text": [
            "\n",
            "train: 100%|██████████| 9107/9107 [00:30<00:00, 298.56it/s]"
          ]
        },
        {
          "name": "stdout",
          "output_type": "stream",
          "text": [
            "Epoch 16 elapsed: 30.506s\n",
            "\t \u001b[32mtrain_loss: 0.5059\u001b[0m\n",
            "==============================\n"
          ]
        },
        {
          "name": "stderr",
          "output_type": "stream",
          "text": [
            "\n",
            "train: 100%|██████████| 9107/9107 [00:30<00:00, 296.92it/s]"
          ]
        },
        {
          "name": "stdout",
          "output_type": "stream",
          "text": [
            "Epoch 17 elapsed: 30.675s\n",
            "\t \u001b[32mtrain_loss: 0.5051\u001b[0m\n",
            "==============================\n"
          ]
        },
        {
          "name": "stderr",
          "output_type": "stream",
          "text": [
            "\n",
            "train: 100%|██████████| 9107/9107 [00:30<00:00, 297.11it/s]"
          ]
        },
        {
          "name": "stdout",
          "output_type": "stream",
          "text": [
            "Epoch 18 elapsed: 30.654s\n",
            "\t \u001b[32mtrain_loss: 0.504\u001b[0m\n",
            "==============================\n"
          ]
        },
        {
          "name": "stderr",
          "output_type": "stream",
          "text": [
            "\n",
            "train: 100%|██████████| 9107/9107 [00:30<00:00, 297.43it/s]"
          ]
        },
        {
          "name": "stdout",
          "output_type": "stream",
          "text": [
            "Epoch 19 elapsed: 30.621s\n",
            "\t \u001b[32mtrain_loss: 0.5034\u001b[0m\n",
            "==============================\n"
          ]
        },
        {
          "name": "stderr",
          "output_type": "stream",
          "text": [
            "\n",
            "train: 100%|██████████| 9107/9107 [00:30<00:00, 297.30it/s]"
          ]
        },
        {
          "name": "stdout",
          "output_type": "stream",
          "text": [
            "Epoch 20 elapsed: 30.635s\n",
            "\t \u001b[32mtrain_loss: 0.5024\u001b[0m\n",
            "==============================\n"
          ]
        },
        {
          "name": "stderr",
          "output_type": "stream",
          "text": [
            "\n",
            "eval_pointwise: 100%|██████████| 36/36 [00:00<00:00, 378.94it/s]\n"
          ]
        },
        {
          "name": "stdout",
          "output_type": "stream",
          "text": [
            "Training start time: \u001b[35m2025-05-23 16:08:53\u001b[0m\n"
          ]
        },
        {
          "name": "stderr",
          "output_type": "stream",
          "text": [
            "/usr/local/lib/python3.11/dist-packages/libreco/layers/dense.py:31: UserWarning: `tf.layers.batch_normalization` is deprecated and will be removed in a future version. Please use `tf.keras.layers.BatchNormalization` instead. In particular, `tf.control_dependencies(tf.GraphKeys.UPDATE_OPS)` should not be used (consult the `tf.keras.layers.BatchNormalization` documentation).\n",
            "  net = tf.layers.batch_normalization(net, training=is_training)\n",
            "/usr/local/lib/python3.11/dist-packages/libreco/layers/dense.py:39: UserWarning: `tf.layers.batch_normalization` is deprecated and will be removed in a future version. Please use `tf.keras.layers.BatchNormalization` instead. In particular, `tf.control_dependencies(tf.GraphKeys.UPDATE_OPS)` should not be used (consult the `tf.keras.layers.BatchNormalization` documentation).\n",
            "  net = tf.layers.batch_normalization(net, training=is_training)\n",
            "train: 100%|██████████| 9107/9107 [00:31<00:00, 288.37it/s]"
          ]
        },
        {
          "name": "stdout",
          "output_type": "stream",
          "text": [
            "Epoch 1 elapsed: 31.583s\n",
            "\t \u001b[32mtrain_loss: 0.7046\u001b[0m\n",
            "==============================\n"
          ]
        },
        {
          "name": "stderr",
          "output_type": "stream",
          "text": [
            "\n",
            "train: 100%|██████████| 9107/9107 [00:31<00:00, 289.99it/s]"
          ]
        },
        {
          "name": "stdout",
          "output_type": "stream",
          "text": [
            "Epoch 2 elapsed: 31.406s\n",
            "\t \u001b[32mtrain_loss: 0.6283\u001b[0m\n",
            "==============================\n"
          ]
        },
        {
          "name": "stderr",
          "output_type": "stream",
          "text": [
            "\n",
            "train: 100%|██████████| 9107/9107 [00:31<00:00, 287.14it/s]"
          ]
        },
        {
          "name": "stdout",
          "output_type": "stream",
          "text": [
            "Epoch 3 elapsed: 31.718s\n",
            "\t \u001b[32mtrain_loss: 0.5968\u001b[0m\n",
            "==============================\n"
          ]
        },
        {
          "name": "stderr",
          "output_type": "stream",
          "text": [
            "\n",
            "train: 100%|██████████| 9107/9107 [00:31<00:00, 290.39it/s]"
          ]
        },
        {
          "name": "stdout",
          "output_type": "stream",
          "text": [
            "Epoch 4 elapsed: 31.364s\n",
            "\t \u001b[32mtrain_loss: 0.575\u001b[0m\n",
            "==============================\n"
          ]
        },
        {
          "name": "stderr",
          "output_type": "stream",
          "text": [
            "\n",
            "train: 100%|██████████| 9107/9107 [00:31<00:00, 290.49it/s]"
          ]
        },
        {
          "name": "stdout",
          "output_type": "stream",
          "text": [
            "Epoch 5 elapsed: 31.352s\n",
            "\t \u001b[32mtrain_loss: 0.5573\u001b[0m\n",
            "==============================\n"
          ]
        },
        {
          "name": "stderr",
          "output_type": "stream",
          "text": [
            "\n",
            "train: 100%|██████████| 9107/9107 [00:31<00:00, 291.14it/s]"
          ]
        },
        {
          "name": "stdout",
          "output_type": "stream",
          "text": [
            "Epoch 6 elapsed: 31.282s\n",
            "\t \u001b[32mtrain_loss: 0.543\u001b[0m\n",
            "==============================\n"
          ]
        },
        {
          "name": "stderr",
          "output_type": "stream",
          "text": [
            "\n",
            "train: 100%|██████████| 9107/9107 [00:31<00:00, 289.89it/s]"
          ]
        },
        {
          "name": "stdout",
          "output_type": "stream",
          "text": [
            "Epoch 7 elapsed: 31.418s\n",
            "\t \u001b[32mtrain_loss: 0.5331\u001b[0m\n",
            "==============================\n"
          ]
        },
        {
          "name": "stderr",
          "output_type": "stream",
          "text": [
            "\n",
            "train: 100%|██████████| 9107/9107 [00:31<00:00, 289.57it/s]"
          ]
        },
        {
          "name": "stdout",
          "output_type": "stream",
          "text": [
            "Epoch 8 elapsed: 31.452s\n",
            "\t \u001b[32mtrain_loss: 0.5256\u001b[0m\n",
            "==============================\n"
          ]
        },
        {
          "name": "stderr",
          "output_type": "stream",
          "text": [
            "\n",
            "train: 100%|██████████| 9107/9107 [00:31<00:00, 291.25it/s]"
          ]
        },
        {
          "name": "stdout",
          "output_type": "stream",
          "text": [
            "Epoch 9 elapsed: 31.271s\n",
            "\t \u001b[32mtrain_loss: 0.5209\u001b[0m\n",
            "==============================\n"
          ]
        },
        {
          "name": "stderr",
          "output_type": "stream",
          "text": [
            "\n",
            "train: 100%|██████████| 9107/9107 [00:31<00:00, 289.65it/s]"
          ]
        },
        {
          "name": "stdout",
          "output_type": "stream",
          "text": [
            "Epoch 10 elapsed: 31.443s\n",
            "\t \u001b[32mtrain_loss: 0.5175\u001b[0m\n",
            "==============================\n"
          ]
        },
        {
          "name": "stderr",
          "output_type": "stream",
          "text": [
            "\n",
            "train: 100%|██████████| 9107/9107 [00:31<00:00, 289.09it/s]"
          ]
        },
        {
          "name": "stdout",
          "output_type": "stream",
          "text": [
            "Epoch 11 elapsed: 31.504s\n",
            "\t \u001b[32mtrain_loss: 0.5145\u001b[0m\n",
            "==============================\n"
          ]
        },
        {
          "name": "stderr",
          "output_type": "stream",
          "text": [
            "\n",
            "train: 100%|██████████| 9107/9107 [00:31<00:00, 289.99it/s]"
          ]
        },
        {
          "name": "stdout",
          "output_type": "stream",
          "text": [
            "Epoch 12 elapsed: 31.406s\n",
            "\t \u001b[32mtrain_loss: 0.5128\u001b[0m\n",
            "==============================\n"
          ]
        },
        {
          "name": "stderr",
          "output_type": "stream",
          "text": [
            "\n",
            "train: 100%|██████████| 9107/9107 [00:31<00:00, 287.91it/s]"
          ]
        },
        {
          "name": "stdout",
          "output_type": "stream",
          "text": [
            "Epoch 13 elapsed: 31.633s\n",
            "\t \u001b[32mtrain_loss: 0.5104\u001b[0m\n",
            "==============================\n"
          ]
        },
        {
          "name": "stderr",
          "output_type": "stream",
          "text": [
            "\n",
            "train: 100%|██████████| 9107/9107 [00:31<00:00, 290.48it/s]"
          ]
        },
        {
          "name": "stdout",
          "output_type": "stream",
          "text": [
            "Epoch 14 elapsed: 31.354s\n",
            "\t \u001b[32mtrain_loss: 0.509\u001b[0m\n",
            "==============================\n"
          ]
        },
        {
          "name": "stderr",
          "output_type": "stream",
          "text": [
            "\n",
            "train: 100%|██████████| 9107/9107 [00:31<00:00, 289.35it/s]"
          ]
        },
        {
          "name": "stdout",
          "output_type": "stream",
          "text": [
            "Epoch 15 elapsed: 31.476s\n",
            "\t \u001b[32mtrain_loss: 0.5075\u001b[0m\n",
            "==============================\n"
          ]
        },
        {
          "name": "stderr",
          "output_type": "stream",
          "text": [
            "\n",
            "train: 100%|██████████| 9107/9107 [00:31<00:00, 289.72it/s]"
          ]
        },
        {
          "name": "stdout",
          "output_type": "stream",
          "text": [
            "Epoch 16 elapsed: 31.436s\n",
            "\t \u001b[32mtrain_loss: 0.506\u001b[0m\n",
            "==============================\n"
          ]
        },
        {
          "name": "stderr",
          "output_type": "stream",
          "text": [
            "\n",
            "train: 100%|██████████| 9107/9107 [00:31<00:00, 291.15it/s]"
          ]
        },
        {
          "name": "stdout",
          "output_type": "stream",
          "text": [
            "Epoch 17 elapsed: 31.281s\n",
            "\t \u001b[32mtrain_loss: 0.5049\u001b[0m\n",
            "==============================\n"
          ]
        },
        {
          "name": "stderr",
          "output_type": "stream",
          "text": [
            "\n",
            "train: 100%|██████████| 9107/9107 [00:31<00:00, 288.72it/s]"
          ]
        },
        {
          "name": "stdout",
          "output_type": "stream",
          "text": [
            "Epoch 18 elapsed: 31.545s\n",
            "\t \u001b[32mtrain_loss: 0.5042\u001b[0m\n",
            "==============================\n"
          ]
        },
        {
          "name": "stderr",
          "output_type": "stream",
          "text": [
            "\n",
            "train: 100%|██████████| 9107/9107 [00:31<00:00, 289.97it/s]"
          ]
        },
        {
          "name": "stdout",
          "output_type": "stream",
          "text": [
            "Epoch 19 elapsed: 31.409s\n",
            "\t \u001b[32mtrain_loss: 0.5033\u001b[0m\n",
            "==============================\n"
          ]
        },
        {
          "name": "stderr",
          "output_type": "stream",
          "text": [
            "\n",
            "train: 100%|██████████| 9107/9107 [00:31<00:00, 289.65it/s]"
          ]
        },
        {
          "name": "stdout",
          "output_type": "stream",
          "text": [
            "Epoch 20 elapsed: 31.443s\n",
            "\t \u001b[32mtrain_loss: 0.5023\u001b[0m\n",
            "==============================\n"
          ]
        },
        {
          "name": "stderr",
          "output_type": "stream",
          "text": [
            "\n",
            "eval_pointwise: 100%|██████████| 36/36 [00:00<00:00, 387.80it/s]\n"
          ]
        },
        {
          "name": "stdout",
          "output_type": "stream",
          "text": [
            "Training start time: \u001b[35m2025-05-23 16:19:24\u001b[0m\n"
          ]
        },
        {
          "name": "stderr",
          "output_type": "stream",
          "text": [
            "/usr/local/lib/python3.11/dist-packages/libreco/layers/dense.py:31: UserWarning: `tf.layers.batch_normalization` is deprecated and will be removed in a future version. Please use `tf.keras.layers.BatchNormalization` instead. In particular, `tf.control_dependencies(tf.GraphKeys.UPDATE_OPS)` should not be used (consult the `tf.keras.layers.BatchNormalization` documentation).\n",
            "  net = tf.layers.batch_normalization(net, training=is_training)\n",
            "/usr/local/lib/python3.11/dist-packages/libreco/layers/dense.py:39: UserWarning: `tf.layers.batch_normalization` is deprecated and will be removed in a future version. Please use `tf.keras.layers.BatchNormalization` instead. In particular, `tf.control_dependencies(tf.GraphKeys.UPDATE_OPS)` should not be used (consult the `tf.keras.layers.BatchNormalization` documentation).\n",
            "  net = tf.layers.batch_normalization(net, training=is_training)\n",
            "train: 100%|██████████| 9107/9107 [00:30<00:00, 295.24it/s]"
          ]
        },
        {
          "name": "stdout",
          "output_type": "stream",
          "text": [
            "Epoch 1 elapsed: 30.847s\n",
            "\t \u001b[32mtrain_loss: 0.7037\u001b[0m\n",
            "==============================\n"
          ]
        },
        {
          "name": "stderr",
          "output_type": "stream",
          "text": [
            "\n",
            "train: 100%|██████████| 9107/9107 [00:30<00:00, 298.80it/s]"
          ]
        },
        {
          "name": "stdout",
          "output_type": "stream",
          "text": [
            "Epoch 2 elapsed: 30.481s\n",
            "\t \u001b[32mtrain_loss: 0.6267\u001b[0m\n",
            "==============================\n"
          ]
        },
        {
          "name": "stderr",
          "output_type": "stream",
          "text": [
            "\n",
            "train: 100%|██████████| 9107/9107 [00:30<00:00, 294.61it/s]"
          ]
        },
        {
          "name": "stdout",
          "output_type": "stream",
          "text": [
            "Epoch 3 elapsed: 30.914s\n",
            "\t \u001b[32mtrain_loss: 0.5986\u001b[0m\n",
            "==============================\n"
          ]
        },
        {
          "name": "stderr",
          "output_type": "stream",
          "text": [
            "\n",
            "train: 100%|██████████| 9107/9107 [00:30<00:00, 299.11it/s]"
          ]
        },
        {
          "name": "stdout",
          "output_type": "stream",
          "text": [
            "Epoch 4 elapsed: 30.450s\n",
            "\t \u001b[32mtrain_loss: 0.5784\u001b[0m\n",
            "==============================\n"
          ]
        },
        {
          "name": "stderr",
          "output_type": "stream",
          "text": [
            "\n",
            "train: 100%|██████████| 9107/9107 [00:30<00:00, 297.79it/s]"
          ]
        },
        {
          "name": "stdout",
          "output_type": "stream",
          "text": [
            "Epoch 5 elapsed: 30.584s\n",
            "\t \u001b[32mtrain_loss: 0.5608\u001b[0m\n",
            "==============================\n"
          ]
        },
        {
          "name": "stderr",
          "output_type": "stream",
          "text": [
            "\n",
            "train: 100%|██████████| 9107/9107 [00:30<00:00, 297.49it/s]"
          ]
        },
        {
          "name": "stdout",
          "output_type": "stream",
          "text": [
            "Epoch 6 elapsed: 30.615s\n",
            "\t \u001b[32mtrain_loss: 0.547\u001b[0m\n",
            "==============================\n"
          ]
        },
        {
          "name": "stderr",
          "output_type": "stream",
          "text": [
            "\n",
            "train: 100%|██████████| 9107/9107 [00:30<00:00, 298.54it/s]"
          ]
        },
        {
          "name": "stdout",
          "output_type": "stream",
          "text": [
            "Epoch 7 elapsed: 30.507s\n",
            "\t \u001b[32mtrain_loss: 0.5362\u001b[0m\n",
            "==============================\n"
          ]
        },
        {
          "name": "stderr",
          "output_type": "stream",
          "text": [
            "\n",
            "train: 100%|██████████| 9107/9107 [00:30<00:00, 298.63it/s]"
          ]
        },
        {
          "name": "stdout",
          "output_type": "stream",
          "text": [
            "Epoch 8 elapsed: 30.499s\n",
            "\t \u001b[32mtrain_loss: 0.5285\u001b[0m\n",
            "==============================\n"
          ]
        },
        {
          "name": "stderr",
          "output_type": "stream",
          "text": [
            "\n",
            "train: 100%|██████████| 9107/9107 [00:30<00:00, 297.55it/s]"
          ]
        },
        {
          "name": "stdout",
          "output_type": "stream",
          "text": [
            "Epoch 9 elapsed: 30.609s\n",
            "\t \u001b[32mtrain_loss: 0.5226\u001b[0m\n",
            "==============================\n"
          ]
        },
        {
          "name": "stderr",
          "output_type": "stream",
          "text": [
            "\n",
            "train: 100%|██████████| 9107/9107 [00:30<00:00, 299.10it/s]"
          ]
        },
        {
          "name": "stdout",
          "output_type": "stream",
          "text": [
            "Epoch 10 elapsed: 30.450s\n",
            "\t \u001b[32mtrain_loss: 0.5179\u001b[0m\n",
            "==============================\n"
          ]
        },
        {
          "name": "stderr",
          "output_type": "stream",
          "text": [
            "\n",
            "train: 100%|██████████| 9107/9107 [00:30<00:00, 298.05it/s]"
          ]
        },
        {
          "name": "stdout",
          "output_type": "stream",
          "text": [
            "Epoch 11 elapsed: 30.557s\n",
            "\t \u001b[32mtrain_loss: 0.5149\u001b[0m\n",
            "==============================\n"
          ]
        },
        {
          "name": "stderr",
          "output_type": "stream",
          "text": [
            "\n",
            "train: 100%|██████████| 9107/9107 [00:30<00:00, 298.71it/s]"
          ]
        },
        {
          "name": "stdout",
          "output_type": "stream",
          "text": [
            "Epoch 12 elapsed: 30.489s\n",
            "\t \u001b[32mtrain_loss: 0.5125\u001b[0m\n",
            "==============================\n"
          ]
        },
        {
          "name": "stderr",
          "output_type": "stream",
          "text": [
            "\n",
            "train: 100%|██████████| 9107/9107 [00:30<00:00, 294.83it/s]"
          ]
        },
        {
          "name": "stdout",
          "output_type": "stream",
          "text": [
            "Epoch 13 elapsed: 30.891s\n",
            "\t \u001b[32mtrain_loss: 0.5102\u001b[0m\n",
            "==============================\n"
          ]
        },
        {
          "name": "stderr",
          "output_type": "stream",
          "text": [
            "\n",
            "train: 100%|██████████| 9107/9107 [00:30<00:00, 297.60it/s]"
          ]
        },
        {
          "name": "stdout",
          "output_type": "stream",
          "text": [
            "Epoch 14 elapsed: 30.604s\n",
            "\t \u001b[32mtrain_loss: 0.5088\u001b[0m\n",
            "==============================\n"
          ]
        },
        {
          "name": "stderr",
          "output_type": "stream",
          "text": [
            "\n",
            "train: 100%|██████████| 9107/9107 [00:30<00:00, 297.91it/s]"
          ]
        },
        {
          "name": "stdout",
          "output_type": "stream",
          "text": [
            "Epoch 15 elapsed: 30.572s\n",
            "\t \u001b[32mtrain_loss: 0.5068\u001b[0m\n",
            "==============================\n"
          ]
        },
        {
          "name": "stderr",
          "output_type": "stream",
          "text": [
            "\n",
            "train: 100%|██████████| 9107/9107 [00:30<00:00, 296.38it/s]"
          ]
        },
        {
          "name": "stdout",
          "output_type": "stream",
          "text": [
            "Epoch 16 elapsed: 30.730s\n",
            "\t \u001b[32mtrain_loss: 0.5054\u001b[0m\n",
            "==============================\n"
          ]
        },
        {
          "name": "stderr",
          "output_type": "stream",
          "text": [
            "\n",
            "train: 100%|██████████| 9107/9107 [00:30<00:00, 297.92it/s]"
          ]
        },
        {
          "name": "stdout",
          "output_type": "stream",
          "text": [
            "Epoch 17 elapsed: 30.572s\n",
            "\t \u001b[32mtrain_loss: 0.5047\u001b[0m\n",
            "==============================\n"
          ]
        },
        {
          "name": "stderr",
          "output_type": "stream",
          "text": [
            "\n",
            "train: 100%|██████████| 9107/9107 [00:30<00:00, 298.65it/s]"
          ]
        },
        {
          "name": "stdout",
          "output_type": "stream",
          "text": [
            "Epoch 18 elapsed: 30.497s\n",
            "\t \u001b[32mtrain_loss: 0.504\u001b[0m\n",
            "==============================\n"
          ]
        },
        {
          "name": "stderr",
          "output_type": "stream",
          "text": [
            "\n",
            "train: 100%|██████████| 9107/9107 [00:30<00:00, 297.78it/s]"
          ]
        },
        {
          "name": "stdout",
          "output_type": "stream",
          "text": [
            "Epoch 19 elapsed: 30.585s\n",
            "\t \u001b[32mtrain_loss: 0.5028\u001b[0m\n",
            "==============================\n"
          ]
        },
        {
          "name": "stderr",
          "output_type": "stream",
          "text": [
            "\n",
            "train: 100%|██████████| 9107/9107 [00:30<00:00, 298.79it/s]"
          ]
        },
        {
          "name": "stdout",
          "output_type": "stream",
          "text": [
            "Epoch 20 elapsed: 30.482s\n",
            "\t \u001b[32mtrain_loss: 0.502\u001b[0m\n",
            "==============================\n"
          ]
        },
        {
          "name": "stderr",
          "output_type": "stream",
          "text": [
            "\n",
            "eval_pointwise: 100%|██████████| 36/36 [00:00<00:00, 340.93it/s]\n"
          ]
        },
        {
          "name": "stdout",
          "output_type": "stream",
          "text": [
            "Training start time: \u001b[35m2025-05-23 16:29:38\u001b[0m\n"
          ]
        },
        {
          "name": "stderr",
          "output_type": "stream",
          "text": [
            "/usr/local/lib/python3.11/dist-packages/libreco/layers/dense.py:31: UserWarning: `tf.layers.batch_normalization` is deprecated and will be removed in a future version. Please use `tf.keras.layers.BatchNormalization` instead. In particular, `tf.control_dependencies(tf.GraphKeys.UPDATE_OPS)` should not be used (consult the `tf.keras.layers.BatchNormalization` documentation).\n",
            "  net = tf.layers.batch_normalization(net, training=is_training)\n",
            "/usr/local/lib/python3.11/dist-packages/libreco/layers/dense.py:39: UserWarning: `tf.layers.batch_normalization` is deprecated and will be removed in a future version. Please use `tf.keras.layers.BatchNormalization` instead. In particular, `tf.control_dependencies(tf.GraphKeys.UPDATE_OPS)` should not be used (consult the `tf.keras.layers.BatchNormalization` documentation).\n",
            "  net = tf.layers.batch_normalization(net, training=is_training)\n",
            "train: 100%|██████████| 9107/9107 [00:30<00:00, 296.08it/s]"
          ]
        },
        {
          "name": "stdout",
          "output_type": "stream",
          "text": [
            "Epoch 1 elapsed: 30.760s\n",
            "\t \u001b[32mtrain_loss: 0.7031\u001b[0m\n",
            "==============================\n"
          ]
        },
        {
          "name": "stderr",
          "output_type": "stream",
          "text": [
            "\n",
            "train: 100%|██████████| 9107/9107 [00:30<00:00, 297.74it/s]"
          ]
        },
        {
          "name": "stdout",
          "output_type": "stream",
          "text": [
            "Epoch 2 elapsed: 30.589s\n",
            "\t \u001b[32mtrain_loss: 0.6249\u001b[0m\n",
            "==============================\n"
          ]
        },
        {
          "name": "stderr",
          "output_type": "stream",
          "text": [
            "\n",
            "train: 100%|██████████| 9107/9107 [00:30<00:00, 294.50it/s]"
          ]
        },
        {
          "name": "stdout",
          "output_type": "stream",
          "text": [
            "Epoch 3 elapsed: 30.926s\n",
            "\t \u001b[32mtrain_loss: 0.5918\u001b[0m\n",
            "==============================\n"
          ]
        },
        {
          "name": "stderr",
          "output_type": "stream",
          "text": [
            "\n",
            "train: 100%|██████████| 9107/9107 [00:30<00:00, 298.20it/s]"
          ]
        },
        {
          "name": "stdout",
          "output_type": "stream",
          "text": [
            "Epoch 4 elapsed: 30.542s\n",
            "\t \u001b[32mtrain_loss: 0.5676\u001b[0m\n",
            "==============================\n"
          ]
        },
        {
          "name": "stderr",
          "output_type": "stream",
          "text": [
            "\n",
            "train: 100%|██████████| 9107/9107 [00:30<00:00, 298.42it/s]"
          ]
        },
        {
          "name": "stdout",
          "output_type": "stream",
          "text": [
            "Epoch 5 elapsed: 30.519s\n",
            "\t \u001b[32mtrain_loss: 0.5504\u001b[0m\n",
            "==============================\n"
          ]
        },
        {
          "name": "stderr",
          "output_type": "stream",
          "text": [
            "\n",
            "train: 100%|██████████| 9107/9107 [00:30<00:00, 297.87it/s]"
          ]
        },
        {
          "name": "stdout",
          "output_type": "stream",
          "text": [
            "Epoch 6 elapsed: 30.575s\n",
            "\t \u001b[32mtrain_loss: 0.5396\u001b[0m\n",
            "==============================\n"
          ]
        },
        {
          "name": "stderr",
          "output_type": "stream",
          "text": [
            "\n",
            "train: 100%|██████████| 9107/9107 [00:30<00:00, 298.58it/s]"
          ]
        },
        {
          "name": "stdout",
          "output_type": "stream",
          "text": [
            "Epoch 7 elapsed: 30.503s\n",
            "\t \u001b[32mtrain_loss: 0.5314\u001b[0m\n",
            "==============================\n"
          ]
        },
        {
          "name": "stderr",
          "output_type": "stream",
          "text": [
            "\n",
            "train: 100%|██████████| 9107/9107 [00:30<00:00, 299.84it/s]"
          ]
        },
        {
          "name": "stdout",
          "output_type": "stream",
          "text": [
            "Epoch 8 elapsed: 30.375s\n",
            "\t \u001b[32mtrain_loss: 0.5251\u001b[0m\n",
            "==============================\n"
          ]
        },
        {
          "name": "stderr",
          "output_type": "stream",
          "text": [
            "\n",
            "train: 100%|██████████| 9107/9107 [00:30<00:00, 298.11it/s]"
          ]
        },
        {
          "name": "stdout",
          "output_type": "stream",
          "text": [
            "Epoch 9 elapsed: 30.551s\n",
            "\t \u001b[32mtrain_loss: 0.5207\u001b[0m\n",
            "==============================\n"
          ]
        },
        {
          "name": "stderr",
          "output_type": "stream",
          "text": [
            "\n",
            "train: 100%|██████████| 9107/9107 [00:30<00:00, 299.11it/s]"
          ]
        },
        {
          "name": "stdout",
          "output_type": "stream",
          "text": [
            "Epoch 10 elapsed: 30.449s\n",
            "\t \u001b[32mtrain_loss: 0.5171\u001b[0m\n",
            "==============================\n"
          ]
        },
        {
          "name": "stderr",
          "output_type": "stream",
          "text": [
            "\n",
            "train: 100%|██████████| 9107/9107 [00:30<00:00, 299.50it/s]"
          ]
        },
        {
          "name": "stdout",
          "output_type": "stream",
          "text": [
            "Epoch 11 elapsed: 30.409s\n",
            "\t \u001b[32mtrain_loss: 0.5143\u001b[0m\n",
            "==============================\n"
          ]
        },
        {
          "name": "stderr",
          "output_type": "stream",
          "text": [
            "\n",
            "train: 100%|██████████| 9107/9107 [00:30<00:00, 298.36it/s]"
          ]
        },
        {
          "name": "stdout",
          "output_type": "stream",
          "text": [
            "Epoch 12 elapsed: 30.525s\n",
            "\t \u001b[32mtrain_loss: 0.5119\u001b[0m\n",
            "==============================\n"
          ]
        },
        {
          "name": "stderr",
          "output_type": "stream",
          "text": [
            "\n",
            "train: 100%|██████████| 9107/9107 [00:30<00:00, 295.37it/s]"
          ]
        },
        {
          "name": "stdout",
          "output_type": "stream",
          "text": [
            "Epoch 13 elapsed: 30.834s\n",
            "\t \u001b[32mtrain_loss: 0.5103\u001b[0m\n",
            "==============================\n"
          ]
        },
        {
          "name": "stderr",
          "output_type": "stream",
          "text": [
            "\n",
            "train: 100%|██████████| 9107/9107 [00:30<00:00, 299.43it/s]"
          ]
        },
        {
          "name": "stdout",
          "output_type": "stream",
          "text": [
            "Epoch 14 elapsed: 30.416s\n",
            "\t \u001b[32mtrain_loss: 0.509\u001b[0m\n",
            "==============================\n"
          ]
        },
        {
          "name": "stderr",
          "output_type": "stream",
          "text": [
            "\n",
            "train: 100%|██████████| 9107/9107 [00:30<00:00, 297.46it/s]"
          ]
        },
        {
          "name": "stdout",
          "output_type": "stream",
          "text": [
            "Epoch 15 elapsed: 30.617s\n",
            "\t \u001b[32mtrain_loss: 0.5073\u001b[0m\n",
            "==============================\n"
          ]
        },
        {
          "name": "stderr",
          "output_type": "stream",
          "text": [
            "\n",
            "train: 100%|██████████| 9107/9107 [00:30<00:00, 299.26it/s]"
          ]
        },
        {
          "name": "stdout",
          "output_type": "stream",
          "text": [
            "Epoch 16 elapsed: 30.433s\n",
            "\t \u001b[32mtrain_loss: 0.5061\u001b[0m\n",
            "==============================\n"
          ]
        },
        {
          "name": "stderr",
          "output_type": "stream",
          "text": [
            "\n",
            "train: 100%|██████████| 9107/9107 [00:30<00:00, 297.75it/s]"
          ]
        },
        {
          "name": "stdout",
          "output_type": "stream",
          "text": [
            "Epoch 17 elapsed: 30.588s\n",
            "\t \u001b[32mtrain_loss: 0.5054\u001b[0m\n",
            "==============================\n"
          ]
        },
        {
          "name": "stderr",
          "output_type": "stream",
          "text": [
            "\n",
            "train: 100%|██████████| 9107/9107 [00:30<00:00, 298.43it/s]"
          ]
        },
        {
          "name": "stdout",
          "output_type": "stream",
          "text": [
            "Epoch 18 elapsed: 30.518s\n",
            "\t \u001b[32mtrain_loss: 0.5048\u001b[0m\n",
            "==============================\n"
          ]
        },
        {
          "name": "stderr",
          "output_type": "stream",
          "text": [
            "\n",
            "train: 100%|██████████| 9107/9107 [00:30<00:00, 299.53it/s]"
          ]
        },
        {
          "name": "stdout",
          "output_type": "stream",
          "text": [
            "Epoch 19 elapsed: 30.406s\n",
            "\t \u001b[32mtrain_loss: 0.504\u001b[0m\n",
            "==============================\n"
          ]
        },
        {
          "name": "stderr",
          "output_type": "stream",
          "text": [
            "\n",
            "train: 100%|██████████| 9107/9107 [00:30<00:00, 298.52it/s]"
          ]
        },
        {
          "name": "stdout",
          "output_type": "stream",
          "text": [
            "Epoch 20 elapsed: 30.509s\n",
            "\t \u001b[32mtrain_loss: 0.5032\u001b[0m\n",
            "==============================\n"
          ]
        },
        {
          "name": "stderr",
          "output_type": "stream",
          "text": [
            "\n",
            "eval_pointwise: 100%|██████████| 36/36 [00:00<00:00, 398.73it/s]\n"
          ]
        },
        {
          "name": "stdout",
          "output_type": "stream",
          "text": [
            "\n",
            "LibReco NCF (0.8000564638884867, 0.004480444826996287) ('Train Loss:', 0.5024, 0.0004242640687119236)\n"
          ]
        }
      ],
      "source": [
        "train_lib_model(\"NCF\", column_ext)"
      ]
    },
    {
      "cell_type": "code",
      "execution_count": null,
      "id": "FIFdz0f6UQPd",
      "metadata": {
        "colab": {
          "base_uri": "https://localhost:8080/"
        },
        "id": "FIFdz0f6UQPd",
        "outputId": "ac27e101-77f1-4ebe-bd4f-fdc45300a14b"
      },
      "outputs": [
        {
          "name": "stdout",
          "output_type": "stream",
          "text": [
            "Training start time: \u001b[35m2025-05-23 16:39:52\u001b[0m\n"
          ]
        },
        {
          "name": "stderr",
          "output_type": "stream",
          "text": [
            "/usr/local/lib/python3.11/dist-packages/libreco/layers/dense.py:31: UserWarning: `tf.layers.batch_normalization` is deprecated and will be removed in a future version. Please use `tf.keras.layers.BatchNormalization` instead. In particular, `tf.control_dependencies(tf.GraphKeys.UPDATE_OPS)` should not be used (consult the `tf.keras.layers.BatchNormalization` documentation).\n",
            "  net = tf.layers.batch_normalization(net, training=is_training)\n",
            "/usr/local/lib/python3.11/dist-packages/libreco/layers/dense.py:39: UserWarning: `tf.layers.batch_normalization` is deprecated and will be removed in a future version. Please use `tf.keras.layers.BatchNormalization` instead. In particular, `tf.control_dependencies(tf.GraphKeys.UPDATE_OPS)` should not be used (consult the `tf.keras.layers.BatchNormalization` documentation).\n",
            "  net = tf.layers.batch_normalization(net, training=is_training)\n",
            "train: 100%|██████████| 9107/9107 [00:30<00:00, 300.95it/s]"
          ]
        },
        {
          "name": "stdout",
          "output_type": "stream",
          "text": [
            "Epoch 1 elapsed: 30.263s\n",
            "\t \u001b[32mtrain_loss: 0.713\u001b[0m\n",
            "==============================\n"
          ]
        },
        {
          "name": "stderr",
          "output_type": "stream",
          "text": [
            "\n",
            "train: 100%|██████████| 9107/9107 [00:30<00:00, 302.30it/s]"
          ]
        },
        {
          "name": "stdout",
          "output_type": "stream",
          "text": [
            "Epoch 2 elapsed: 30.128s\n",
            "\t \u001b[32mtrain_loss: 0.6349\u001b[0m\n",
            "==============================\n"
          ]
        },
        {
          "name": "stderr",
          "output_type": "stream",
          "text": [
            "\n",
            "train: 100%|██████████| 9107/9107 [00:30<00:00, 300.44it/s]"
          ]
        },
        {
          "name": "stdout",
          "output_type": "stream",
          "text": [
            "Epoch 3 elapsed: 30.314s\n",
            "\t \u001b[32mtrain_loss: 0.6004\u001b[0m\n",
            "==============================\n"
          ]
        },
        {
          "name": "stderr",
          "output_type": "stream",
          "text": [
            "\n",
            "train: 100%|██████████| 9107/9107 [00:30<00:00, 303.39it/s]"
          ]
        },
        {
          "name": "stdout",
          "output_type": "stream",
          "text": [
            "Epoch 4 elapsed: 30.019s\n",
            "\t \u001b[32mtrain_loss: 0.5774\u001b[0m\n",
            "==============================\n"
          ]
        },
        {
          "name": "stderr",
          "output_type": "stream",
          "text": [
            "\n",
            "train: 100%|██████████| 9107/9107 [00:30<00:00, 301.96it/s]"
          ]
        },
        {
          "name": "stdout",
          "output_type": "stream",
          "text": [
            "Epoch 5 elapsed: 30.163s\n",
            "\t \u001b[32mtrain_loss: 0.5611\u001b[0m\n",
            "==============================\n"
          ]
        },
        {
          "name": "stderr",
          "output_type": "stream",
          "text": [
            "\n",
            "train: 100%|██████████| 9107/9107 [00:30<00:00, 303.35it/s]"
          ]
        },
        {
          "name": "stdout",
          "output_type": "stream",
          "text": [
            "Epoch 6 elapsed: 30.024s\n",
            "\t \u001b[32mtrain_loss: 0.5504\u001b[0m\n",
            "==============================\n"
          ]
        },
        {
          "name": "stderr",
          "output_type": "stream",
          "text": [
            "\n",
            "train: 100%|██████████| 9107/9107 [00:30<00:00, 303.20it/s]"
          ]
        },
        {
          "name": "stdout",
          "output_type": "stream",
          "text": [
            "Epoch 7 elapsed: 30.038s\n",
            "\t \u001b[32mtrain_loss: 0.5423\u001b[0m\n",
            "==============================\n"
          ]
        },
        {
          "name": "stderr",
          "output_type": "stream",
          "text": [
            "\n",
            "train: 100%|██████████| 9107/9107 [00:30<00:00, 302.37it/s]"
          ]
        },
        {
          "name": "stdout",
          "output_type": "stream",
          "text": [
            "Epoch 8 elapsed: 30.120s\n",
            "\t \u001b[32mtrain_loss: 0.5361\u001b[0m\n",
            "==============================\n"
          ]
        },
        {
          "name": "stderr",
          "output_type": "stream",
          "text": [
            "\n",
            "train: 100%|██████████| 9107/9107 [00:29<00:00, 303.89it/s]"
          ]
        },
        {
          "name": "stdout",
          "output_type": "stream",
          "text": [
            "Epoch 9 elapsed: 29.971s\n",
            "\t \u001b[32mtrain_loss: 0.5312\u001b[0m\n",
            "==============================\n"
          ]
        },
        {
          "name": "stderr",
          "output_type": "stream",
          "text": [
            "\n",
            "train: 100%|██████████| 9107/9107 [00:30<00:00, 302.44it/s]"
          ]
        },
        {
          "name": "stdout",
          "output_type": "stream",
          "text": [
            "Epoch 10 elapsed: 30.113s\n",
            "\t \u001b[32mtrain_loss: 0.5268\u001b[0m\n",
            "==============================\n"
          ]
        },
        {
          "name": "stderr",
          "output_type": "stream",
          "text": [
            "\n",
            "train: 100%|██████████| 9107/9107 [00:30<00:00, 302.75it/s]"
          ]
        },
        {
          "name": "stdout",
          "output_type": "stream",
          "text": [
            "Epoch 11 elapsed: 30.083s\n",
            "\t \u001b[32mtrain_loss: 0.5239\u001b[0m\n",
            "==============================\n"
          ]
        },
        {
          "name": "stderr",
          "output_type": "stream",
          "text": [
            "\n",
            "train: 100%|██████████| 9107/9107 [00:29<00:00, 303.79it/s]"
          ]
        },
        {
          "name": "stdout",
          "output_type": "stream",
          "text": [
            "Epoch 12 elapsed: 29.980s\n",
            "\t \u001b[32mtrain_loss: 0.5213\u001b[0m\n",
            "==============================\n"
          ]
        },
        {
          "name": "stderr",
          "output_type": "stream",
          "text": [
            "\n",
            "train: 100%|██████████| 9107/9107 [00:30<00:00, 300.28it/s]"
          ]
        },
        {
          "name": "stdout",
          "output_type": "stream",
          "text": [
            "Epoch 13 elapsed: 30.331s\n",
            "\t \u001b[32mtrain_loss: 0.5191\u001b[0m\n",
            "==============================\n"
          ]
        },
        {
          "name": "stderr",
          "output_type": "stream",
          "text": [
            "\n",
            "train: 100%|██████████| 9107/9107 [00:30<00:00, 301.48it/s]"
          ]
        },
        {
          "name": "stdout",
          "output_type": "stream",
          "text": [
            "Epoch 14 elapsed: 30.210s\n",
            "\t \u001b[32mtrain_loss: 0.5176\u001b[0m\n",
            "==============================\n"
          ]
        },
        {
          "name": "stderr",
          "output_type": "stream",
          "text": [
            "\n",
            "train: 100%|██████████| 9107/9107 [00:30<00:00, 303.13it/s]"
          ]
        },
        {
          "name": "stdout",
          "output_type": "stream",
          "text": [
            "Epoch 15 elapsed: 30.045s\n",
            "\t \u001b[32mtrain_loss: 0.5156\u001b[0m\n",
            "==============================\n"
          ]
        },
        {
          "name": "stderr",
          "output_type": "stream",
          "text": [
            "\n",
            "train: 100%|██████████| 9107/9107 [00:30<00:00, 301.70it/s]"
          ]
        },
        {
          "name": "stdout",
          "output_type": "stream",
          "text": [
            "Epoch 16 elapsed: 30.187s\n",
            "\t \u001b[32mtrain_loss: 0.5146\u001b[0m\n",
            "==============================\n"
          ]
        },
        {
          "name": "stderr",
          "output_type": "stream",
          "text": [
            "\n",
            "train: 100%|██████████| 9107/9107 [00:29<00:00, 304.55it/s]"
          ]
        },
        {
          "name": "stdout",
          "output_type": "stream",
          "text": [
            "Epoch 17 elapsed: 29.906s\n",
            "\t \u001b[32mtrain_loss: 0.5131\u001b[0m\n",
            "==============================\n"
          ]
        },
        {
          "name": "stderr",
          "output_type": "stream",
          "text": [
            "\n",
            "train: 100%|██████████| 9107/9107 [00:30<00:00, 302.08it/s]"
          ]
        },
        {
          "name": "stdout",
          "output_type": "stream",
          "text": [
            "Epoch 18 elapsed: 30.150s\n",
            "\t \u001b[32mtrain_loss: 0.5117\u001b[0m\n",
            "==============================\n"
          ]
        },
        {
          "name": "stderr",
          "output_type": "stream",
          "text": [
            "\n",
            "train: 100%|██████████| 9107/9107 [00:30<00:00, 302.05it/s]"
          ]
        },
        {
          "name": "stdout",
          "output_type": "stream",
          "text": [
            "Epoch 19 elapsed: 30.152s\n",
            "\t \u001b[32mtrain_loss: 0.5113\u001b[0m\n",
            "==============================\n"
          ]
        },
        {
          "name": "stderr",
          "output_type": "stream",
          "text": [
            "\n",
            "train: 100%|██████████| 9107/9107 [00:29<00:00, 304.55it/s]"
          ]
        },
        {
          "name": "stdout",
          "output_type": "stream",
          "text": [
            "Epoch 20 elapsed: 29.906s\n",
            "\t \u001b[32mtrain_loss: 0.5101\u001b[0m\n",
            "==============================\n"
          ]
        },
        {
          "name": "stderr",
          "output_type": "stream",
          "text": [
            "\n",
            "eval_pointwise: 100%|██████████| 36/36 [00:00<00:00, 425.51it/s]\n"
          ]
        },
        {
          "name": "stdout",
          "output_type": "stream",
          "text": [
            "Training start time: \u001b[35m2025-05-23 16:49:57\u001b[0m\n"
          ]
        },
        {
          "name": "stderr",
          "output_type": "stream",
          "text": [
            "/usr/local/lib/python3.11/dist-packages/libreco/layers/dense.py:31: UserWarning: `tf.layers.batch_normalization` is deprecated and will be removed in a future version. Please use `tf.keras.layers.BatchNormalization` instead. In particular, `tf.control_dependencies(tf.GraphKeys.UPDATE_OPS)` should not be used (consult the `tf.keras.layers.BatchNormalization` documentation).\n",
            "  net = tf.layers.batch_normalization(net, training=is_training)\n",
            "/usr/local/lib/python3.11/dist-packages/libreco/layers/dense.py:39: UserWarning: `tf.layers.batch_normalization` is deprecated and will be removed in a future version. Please use `tf.keras.layers.BatchNormalization` instead. In particular, `tf.control_dependencies(tf.GraphKeys.UPDATE_OPS)` should not be used (consult the `tf.keras.layers.BatchNormalization` documentation).\n",
            "  net = tf.layers.batch_normalization(net, training=is_training)\n",
            "train: 100%|██████████| 9107/9107 [00:31<00:00, 290.26it/s]"
          ]
        },
        {
          "name": "stdout",
          "output_type": "stream",
          "text": [
            "Epoch 1 elapsed: 31.377s\n",
            "\t \u001b[32mtrain_loss: 0.7115\u001b[0m\n",
            "==============================\n"
          ]
        },
        {
          "name": "stderr",
          "output_type": "stream",
          "text": [
            "\n",
            "train: 100%|██████████| 9107/9107 [00:31<00:00, 293.55it/s]"
          ]
        },
        {
          "name": "stdout",
          "output_type": "stream",
          "text": [
            "Epoch 2 elapsed: 31.025s\n",
            "\t \u001b[32mtrain_loss: 0.6351\u001b[0m\n",
            "==============================\n"
          ]
        },
        {
          "name": "stderr",
          "output_type": "stream",
          "text": [
            "\n",
            "train: 100%|██████████| 9107/9107 [00:31<00:00, 293.51it/s]"
          ]
        },
        {
          "name": "stdout",
          "output_type": "stream",
          "text": [
            "Epoch 3 elapsed: 31.030s\n",
            "\t \u001b[32mtrain_loss: 0.6008\u001b[0m\n",
            "==============================\n"
          ]
        },
        {
          "name": "stderr",
          "output_type": "stream",
          "text": [
            "\n",
            "train: 100%|██████████| 9107/9107 [00:31<00:00, 292.19it/s]"
          ]
        },
        {
          "name": "stdout",
          "output_type": "stream",
          "text": [
            "Epoch 4 elapsed: 31.170s\n",
            "\t \u001b[32mtrain_loss: 0.5775\u001b[0m\n",
            "==============================\n"
          ]
        },
        {
          "name": "stderr",
          "output_type": "stream",
          "text": [
            "\n",
            "train: 100%|██████████| 9107/9107 [00:30<00:00, 294.54it/s]"
          ]
        },
        {
          "name": "stdout",
          "output_type": "stream",
          "text": [
            "Epoch 5 elapsed: 30.921s\n",
            "\t \u001b[32mtrain_loss: 0.5601\u001b[0m\n",
            "==============================\n"
          ]
        },
        {
          "name": "stderr",
          "output_type": "stream",
          "text": [
            "\n",
            "train: 100%|██████████| 9107/9107 [00:31<00:00, 293.19it/s]"
          ]
        },
        {
          "name": "stdout",
          "output_type": "stream",
          "text": [
            "Epoch 6 elapsed: 31.064s\n",
            "\t \u001b[32mtrain_loss: 0.5467\u001b[0m\n",
            "==============================\n"
          ]
        },
        {
          "name": "stderr",
          "output_type": "stream",
          "text": [
            "\n",
            "train: 100%|██████████| 9107/9107 [00:30<00:00, 294.07it/s]"
          ]
        },
        {
          "name": "stdout",
          "output_type": "stream",
          "text": [
            "Epoch 7 elapsed: 30.971s\n",
            "\t \u001b[32mtrain_loss: 0.5383\u001b[0m\n",
            "==============================\n"
          ]
        },
        {
          "name": "stderr",
          "output_type": "stream",
          "text": [
            "\n",
            "train: 100%|██████████| 9107/9107 [00:30<00:00, 295.07it/s]"
          ]
        },
        {
          "name": "stdout",
          "output_type": "stream",
          "text": [
            "Epoch 8 elapsed: 30.865s\n",
            "\t \u001b[32mtrain_loss: 0.5323\u001b[0m\n",
            "==============================\n"
          ]
        },
        {
          "name": "stderr",
          "output_type": "stream",
          "text": [
            "\n",
            "train: 100%|██████████| 9107/9107 [00:31<00:00, 293.13it/s]"
          ]
        },
        {
          "name": "stdout",
          "output_type": "stream",
          "text": [
            "Epoch 9 elapsed: 31.071s\n",
            "\t \u001b[32mtrain_loss: 0.5276\u001b[0m\n",
            "==============================\n"
          ]
        },
        {
          "name": "stderr",
          "output_type": "stream",
          "text": [
            "\n",
            "train: 100%|██████████| 9107/9107 [00:30<00:00, 294.27it/s]"
          ]
        },
        {
          "name": "stdout",
          "output_type": "stream",
          "text": [
            "Epoch 10 elapsed: 30.950s\n",
            "\t \u001b[32mtrain_loss: 0.5238\u001b[0m\n",
            "==============================\n"
          ]
        },
        {
          "name": "stderr",
          "output_type": "stream",
          "text": [
            "\n",
            "train: 100%|██████████| 9107/9107 [00:30<00:00, 293.94it/s]"
          ]
        },
        {
          "name": "stdout",
          "output_type": "stream",
          "text": [
            "Epoch 11 elapsed: 30.985s\n",
            "\t \u001b[32mtrain_loss: 0.5209\u001b[0m\n",
            "==============================\n"
          ]
        },
        {
          "name": "stderr",
          "output_type": "stream",
          "text": [
            "\n",
            "train: 100%|██████████| 9107/9107 [00:31<00:00, 292.75it/s]"
          ]
        },
        {
          "name": "stdout",
          "output_type": "stream",
          "text": [
            "Epoch 12 elapsed: 31.111s\n",
            "\t \u001b[32mtrain_loss: 0.5186\u001b[0m\n",
            "==============================\n"
          ]
        },
        {
          "name": "stderr",
          "output_type": "stream",
          "text": [
            "\n",
            "train: 100%|██████████| 9107/9107 [00:30<00:00, 294.40it/s]"
          ]
        },
        {
          "name": "stdout",
          "output_type": "stream",
          "text": [
            "Epoch 13 elapsed: 30.936s\n",
            "\t \u001b[32mtrain_loss: 0.5169\u001b[0m\n",
            "==============================\n"
          ]
        },
        {
          "name": "stderr",
          "output_type": "stream",
          "text": [
            "\n",
            "train: 100%|██████████| 9107/9107 [00:31<00:00, 292.09it/s]"
          ]
        },
        {
          "name": "stdout",
          "output_type": "stream",
          "text": [
            "Epoch 14 elapsed: 31.181s\n",
            "\t \u001b[32mtrain_loss: 0.5158\u001b[0m\n",
            "==============================\n"
          ]
        },
        {
          "name": "stderr",
          "output_type": "stream",
          "text": [
            "\n",
            "train: 100%|██████████| 9107/9107 [00:30<00:00, 294.64it/s]"
          ]
        },
        {
          "name": "stdout",
          "output_type": "stream",
          "text": [
            "Epoch 15 elapsed: 30.911s\n",
            "\t \u001b[32mtrain_loss: 0.5139\u001b[0m\n",
            "==============================\n"
          ]
        },
        {
          "name": "stderr",
          "output_type": "stream",
          "text": [
            "\n",
            "train: 100%|██████████| 9107/9107 [00:30<00:00, 294.26it/s]"
          ]
        },
        {
          "name": "stdout",
          "output_type": "stream",
          "text": [
            "Epoch 16 elapsed: 30.951s\n",
            "\t \u001b[32mtrain_loss: 0.5131\u001b[0m\n",
            "==============================\n"
          ]
        },
        {
          "name": "stderr",
          "output_type": "stream",
          "text": [
            "\n",
            "train: 100%|██████████| 9107/9107 [00:31<00:00, 293.61it/s]"
          ]
        },
        {
          "name": "stdout",
          "output_type": "stream",
          "text": [
            "Epoch 17 elapsed: 31.021s\n",
            "\t \u001b[32mtrain_loss: 0.5118\u001b[0m\n",
            "==============================\n"
          ]
        },
        {
          "name": "stderr",
          "output_type": "stream",
          "text": [
            "\n",
            "train: 100%|██████████| 9107/9107 [00:30<00:00, 295.57it/s]"
          ]
        },
        {
          "name": "stdout",
          "output_type": "stream",
          "text": [
            "Epoch 18 elapsed: 30.814s\n",
            "\t \u001b[32mtrain_loss: 0.511\u001b[0m\n",
            "==============================\n"
          ]
        },
        {
          "name": "stderr",
          "output_type": "stream",
          "text": [
            "\n",
            "train: 100%|██████████| 9107/9107 [00:30<00:00, 293.79it/s]"
          ]
        },
        {
          "name": "stdout",
          "output_type": "stream",
          "text": [
            "Epoch 19 elapsed: 31.000s\n",
            "\t \u001b[32mtrain_loss: 0.5101\u001b[0m\n",
            "==============================\n"
          ]
        },
        {
          "name": "stderr",
          "output_type": "stream",
          "text": [
            "\n",
            "train: 100%|██████████| 9107/9107 [00:30<00:00, 294.01it/s]"
          ]
        },
        {
          "name": "stdout",
          "output_type": "stream",
          "text": [
            "Epoch 20 elapsed: 30.979s\n",
            "\t \u001b[32mtrain_loss: 0.5094\u001b[0m\n",
            "==============================\n"
          ]
        },
        {
          "name": "stderr",
          "output_type": "stream",
          "text": [
            "\n",
            "eval_pointwise: 100%|██████████| 36/36 [00:00<00:00, 356.90it/s]\n"
          ]
        },
        {
          "name": "stdout",
          "output_type": "stream",
          "text": [
            "Training start time: \u001b[35m2025-05-23 17:00:20\u001b[0m\n"
          ]
        },
        {
          "name": "stderr",
          "output_type": "stream",
          "text": [
            "/usr/local/lib/python3.11/dist-packages/libreco/layers/dense.py:31: UserWarning: `tf.layers.batch_normalization` is deprecated and will be removed in a future version. Please use `tf.keras.layers.BatchNormalization` instead. In particular, `tf.control_dependencies(tf.GraphKeys.UPDATE_OPS)` should not be used (consult the `tf.keras.layers.BatchNormalization` documentation).\n",
            "  net = tf.layers.batch_normalization(net, training=is_training)\n",
            "/usr/local/lib/python3.11/dist-packages/libreco/layers/dense.py:39: UserWarning: `tf.layers.batch_normalization` is deprecated and will be removed in a future version. Please use `tf.keras.layers.BatchNormalization` instead. In particular, `tf.control_dependencies(tf.GraphKeys.UPDATE_OPS)` should not be used (consult the `tf.keras.layers.BatchNormalization` documentation).\n",
            "  net = tf.layers.batch_normalization(net, training=is_training)\n",
            "train: 100%|██████████| 9107/9107 [00:30<00:00, 295.40it/s]"
          ]
        },
        {
          "name": "stdout",
          "output_type": "stream",
          "text": [
            "Epoch 1 elapsed: 30.831s\n",
            "\t \u001b[32mtrain_loss: 0.7117\u001b[0m\n",
            "==============================\n"
          ]
        },
        {
          "name": "stderr",
          "output_type": "stream",
          "text": [
            "\n",
            "train: 100%|██████████| 9107/9107 [00:30<00:00, 295.65it/s]"
          ]
        },
        {
          "name": "stdout",
          "output_type": "stream",
          "text": [
            "Epoch 2 elapsed: 30.806s\n",
            "\t \u001b[32mtrain_loss: 0.6319\u001b[0m\n",
            "==============================\n"
          ]
        },
        {
          "name": "stderr",
          "output_type": "stream",
          "text": [
            "\n",
            "train: 100%|██████████| 9107/9107 [00:30<00:00, 296.20it/s]"
          ]
        },
        {
          "name": "stdout",
          "output_type": "stream",
          "text": [
            "Epoch 3 elapsed: 30.749s\n",
            "\t \u001b[32mtrain_loss: 0.6023\u001b[0m\n",
            "==============================\n"
          ]
        },
        {
          "name": "stderr",
          "output_type": "stream",
          "text": [
            "\n",
            "train: 100%|██████████| 9107/9107 [00:30<00:00, 294.36it/s]"
          ]
        },
        {
          "name": "stdout",
          "output_type": "stream",
          "text": [
            "Epoch 4 elapsed: 30.941s\n",
            "\t \u001b[32mtrain_loss: 0.5816\u001b[0m\n",
            "==============================\n"
          ]
        },
        {
          "name": "stderr",
          "output_type": "stream",
          "text": [
            "\n",
            "train: 100%|██████████| 9107/9107 [00:30<00:00, 296.30it/s]"
          ]
        },
        {
          "name": "stdout",
          "output_type": "stream",
          "text": [
            "Epoch 5 elapsed: 30.738s\n",
            "\t \u001b[32mtrain_loss: 0.5645\u001b[0m\n",
            "==============================\n"
          ]
        },
        {
          "name": "stderr",
          "output_type": "stream",
          "text": [
            "\n",
            "train: 100%|██████████| 9107/9107 [00:30<00:00, 297.76it/s]"
          ]
        },
        {
          "name": "stdout",
          "output_type": "stream",
          "text": [
            "Epoch 6 elapsed: 30.587s\n",
            "\t \u001b[32mtrain_loss: 0.5508\u001b[0m\n",
            "==============================\n"
          ]
        },
        {
          "name": "stderr",
          "output_type": "stream",
          "text": [
            "\n",
            "train: 100%|██████████| 9107/9107 [00:30<00:00, 297.23it/s]"
          ]
        },
        {
          "name": "stdout",
          "output_type": "stream",
          "text": [
            "Epoch 7 elapsed: 30.642s\n",
            "\t \u001b[32mtrain_loss: 0.5408\u001b[0m\n",
            "==============================\n"
          ]
        },
        {
          "name": "stderr",
          "output_type": "stream",
          "text": [
            "\n",
            "train: 100%|██████████| 9107/9107 [00:30<00:00, 297.40it/s]"
          ]
        },
        {
          "name": "stdout",
          "output_type": "stream",
          "text": [
            "Epoch 8 elapsed: 30.624s\n",
            "\t \u001b[32mtrain_loss: 0.5335\u001b[0m\n",
            "==============================\n"
          ]
        },
        {
          "name": "stderr",
          "output_type": "stream",
          "text": [
            "\n",
            "train: 100%|██████████| 9107/9107 [00:30<00:00, 297.78it/s]"
          ]
        },
        {
          "name": "stdout",
          "output_type": "stream",
          "text": [
            "Epoch 9 elapsed: 30.584s\n",
            "\t \u001b[32mtrain_loss: 0.529\u001b[0m\n",
            "==============================\n"
          ]
        },
        {
          "name": "stderr",
          "output_type": "stream",
          "text": [
            "\n",
            "train: 100%|██████████| 9107/9107 [00:30<00:00, 296.56it/s]"
          ]
        },
        {
          "name": "stdout",
          "output_type": "stream",
          "text": [
            "Epoch 10 elapsed: 30.711s\n",
            "\t \u001b[32mtrain_loss: 0.5246\u001b[0m\n",
            "==============================\n"
          ]
        },
        {
          "name": "stderr",
          "output_type": "stream",
          "text": [
            "\n",
            "train: 100%|██████████| 9107/9107 [00:30<00:00, 297.72it/s]"
          ]
        },
        {
          "name": "stdout",
          "output_type": "stream",
          "text": [
            "Epoch 11 elapsed: 30.591s\n",
            "\t \u001b[32mtrain_loss: 0.5219\u001b[0m\n",
            "==============================\n"
          ]
        },
        {
          "name": "stderr",
          "output_type": "stream",
          "text": [
            "\n",
            "train: 100%|██████████| 9107/9107 [00:30<00:00, 297.03it/s]"
          ]
        },
        {
          "name": "stdout",
          "output_type": "stream",
          "text": [
            "Epoch 12 elapsed: 30.662s\n",
            "\t \u001b[32mtrain_loss: 0.5201\u001b[0m\n",
            "==============================\n"
          ]
        },
        {
          "name": "stderr",
          "output_type": "stream",
          "text": [
            "\n",
            "train: 100%|██████████| 9107/9107 [00:30<00:00, 296.05it/s]"
          ]
        },
        {
          "name": "stdout",
          "output_type": "stream",
          "text": [
            "Epoch 13 elapsed: 30.764s\n",
            "\t \u001b[32mtrain_loss: 0.5176\u001b[0m\n",
            "==============================\n"
          ]
        },
        {
          "name": "stderr",
          "output_type": "stream",
          "text": [
            "\n",
            "train: 100%|██████████| 9107/9107 [00:31<00:00, 293.14it/s]"
          ]
        },
        {
          "name": "stdout",
          "output_type": "stream",
          "text": [
            "Epoch 14 elapsed: 31.070s\n",
            "\t \u001b[32mtrain_loss: 0.516\u001b[0m\n",
            "==============================\n"
          ]
        },
        {
          "name": "stderr",
          "output_type": "stream",
          "text": [
            "\n",
            "train: 100%|██████████| 9107/9107 [00:30<00:00, 295.89it/s]"
          ]
        },
        {
          "name": "stdout",
          "output_type": "stream",
          "text": [
            "Epoch 15 elapsed: 30.780s\n",
            "\t \u001b[32mtrain_loss: 0.515\u001b[0m\n",
            "==============================\n"
          ]
        },
        {
          "name": "stderr",
          "output_type": "stream",
          "text": [
            "\n",
            "train: 100%|██████████| 9107/9107 [00:30<00:00, 296.33it/s]"
          ]
        },
        {
          "name": "stdout",
          "output_type": "stream",
          "text": [
            "Epoch 16 elapsed: 30.734s\n",
            "\t \u001b[32mtrain_loss: 0.5131\u001b[0m\n",
            "==============================\n"
          ]
        },
        {
          "name": "stderr",
          "output_type": "stream",
          "text": [
            "\n",
            "train: 100%|██████████| 9107/9107 [00:30<00:00, 296.05it/s]"
          ]
        },
        {
          "name": "stdout",
          "output_type": "stream",
          "text": [
            "Epoch 17 elapsed: 30.764s\n",
            "\t \u001b[32mtrain_loss: 0.5119\u001b[0m\n",
            "==============================\n"
          ]
        },
        {
          "name": "stderr",
          "output_type": "stream",
          "text": [
            "\n",
            "train: 100%|██████████| 9107/9107 [00:30<00:00, 296.57it/s]"
          ]
        },
        {
          "name": "stdout",
          "output_type": "stream",
          "text": [
            "Epoch 18 elapsed: 30.711s\n",
            "\t \u001b[32mtrain_loss: 0.5116\u001b[0m\n",
            "==============================\n"
          ]
        },
        {
          "name": "stderr",
          "output_type": "stream",
          "text": [
            "\n",
            "train: 100%|██████████| 9107/9107 [00:30<00:00, 296.53it/s]"
          ]
        },
        {
          "name": "stdout",
          "output_type": "stream",
          "text": [
            "Epoch 19 elapsed: 30.714s\n",
            "\t \u001b[32mtrain_loss: 0.5108\u001b[0m\n",
            "==============================\n"
          ]
        },
        {
          "name": "stderr",
          "output_type": "stream",
          "text": [
            "\n",
            "train: 100%|██████████| 9107/9107 [00:30<00:00, 295.40it/s]"
          ]
        },
        {
          "name": "stdout",
          "output_type": "stream",
          "text": [
            "Epoch 20 elapsed: 30.831s\n",
            "\t \u001b[32mtrain_loss: 0.5099\u001b[0m\n",
            "==============================\n"
          ]
        },
        {
          "name": "stderr",
          "output_type": "stream",
          "text": [
            "\n",
            "eval_pointwise: 100%|██████████| 36/36 [00:00<00:00, 368.31it/s]\n"
          ]
        },
        {
          "name": "stdout",
          "output_type": "stream",
          "text": [
            "Training start time: \u001b[35m2025-05-23 17:10:37\u001b[0m\n"
          ]
        },
        {
          "name": "stderr",
          "output_type": "stream",
          "text": [
            "/usr/local/lib/python3.11/dist-packages/libreco/layers/dense.py:31: UserWarning: `tf.layers.batch_normalization` is deprecated and will be removed in a future version. Please use `tf.keras.layers.BatchNormalization` instead. In particular, `tf.control_dependencies(tf.GraphKeys.UPDATE_OPS)` should not be used (consult the `tf.keras.layers.BatchNormalization` documentation).\n",
            "  net = tf.layers.batch_normalization(net, training=is_training)\n",
            "/usr/local/lib/python3.11/dist-packages/libreco/layers/dense.py:39: UserWarning: `tf.layers.batch_normalization` is deprecated and will be removed in a future version. Please use `tf.keras.layers.BatchNormalization` instead. In particular, `tf.control_dependencies(tf.GraphKeys.UPDATE_OPS)` should not be used (consult the `tf.keras.layers.BatchNormalization` documentation).\n",
            "  net = tf.layers.batch_normalization(net, training=is_training)\n",
            "train: 100%|██████████| 9107/9107 [00:30<00:00, 296.65it/s]"
          ]
        },
        {
          "name": "stdout",
          "output_type": "stream",
          "text": [
            "Epoch 1 elapsed: 30.701s\n",
            "\t \u001b[32mtrain_loss: 0.7133\u001b[0m\n",
            "==============================\n"
          ]
        },
        {
          "name": "stderr",
          "output_type": "stream",
          "text": [
            "\n",
            "train: 100%|██████████| 9107/9107 [00:30<00:00, 300.96it/s]"
          ]
        },
        {
          "name": "stdout",
          "output_type": "stream",
          "text": [
            "Epoch 2 elapsed: 30.262s\n",
            "\t \u001b[32mtrain_loss: 0.6408\u001b[0m\n",
            "==============================\n"
          ]
        },
        {
          "name": "stderr",
          "output_type": "stream",
          "text": [
            "\n",
            "train: 100%|██████████| 9107/9107 [00:30<00:00, 298.45it/s]"
          ]
        },
        {
          "name": "stdout",
          "output_type": "stream",
          "text": [
            "Epoch 3 elapsed: 30.517s\n",
            "\t \u001b[32mtrain_loss: 0.6057\u001b[0m\n",
            "==============================\n"
          ]
        },
        {
          "name": "stderr",
          "output_type": "stream",
          "text": [
            "\n",
            "train: 100%|██████████| 9107/9107 [00:30<00:00, 297.24it/s]"
          ]
        },
        {
          "name": "stdout",
          "output_type": "stream",
          "text": [
            "Epoch 4 elapsed: 30.641s\n",
            "\t \u001b[32mtrain_loss: 0.5792\u001b[0m\n",
            "==============================\n"
          ]
        },
        {
          "name": "stderr",
          "output_type": "stream",
          "text": [
            "\n",
            "train: 100%|██████████| 9107/9107 [00:30<00:00, 299.14it/s]"
          ]
        },
        {
          "name": "stdout",
          "output_type": "stream",
          "text": [
            "Epoch 5 elapsed: 30.446s\n",
            "\t \u001b[32mtrain_loss: 0.5606\u001b[0m\n",
            "==============================\n"
          ]
        },
        {
          "name": "stderr",
          "output_type": "stream",
          "text": [
            "\n",
            "train: 100%|██████████| 9107/9107 [00:30<00:00, 298.54it/s]"
          ]
        },
        {
          "name": "stdout",
          "output_type": "stream",
          "text": [
            "Epoch 6 elapsed: 30.507s\n",
            "\t \u001b[32mtrain_loss: 0.5491\u001b[0m\n",
            "==============================\n"
          ]
        },
        {
          "name": "stderr",
          "output_type": "stream",
          "text": [
            "\n",
            "train: 100%|██████████| 9107/9107 [00:30<00:00, 299.29it/s]"
          ]
        },
        {
          "name": "stdout",
          "output_type": "stream",
          "text": [
            "Epoch 7 elapsed: 30.431s\n",
            "\t \u001b[32mtrain_loss: 0.5406\u001b[0m\n",
            "==============================\n"
          ]
        },
        {
          "name": "stderr",
          "output_type": "stream",
          "text": [
            "\n",
            "train: 100%|██████████| 9107/9107 [00:30<00:00, 298.97it/s]"
          ]
        },
        {
          "name": "stdout",
          "output_type": "stream",
          "text": [
            "Epoch 8 elapsed: 30.463s\n",
            "\t \u001b[32mtrain_loss: 0.5343\u001b[0m\n",
            "==============================\n"
          ]
        },
        {
          "name": "stderr",
          "output_type": "stream",
          "text": [
            "\n",
            "train: 100%|██████████| 9107/9107 [00:30<00:00, 298.05it/s]"
          ]
        },
        {
          "name": "stdout",
          "output_type": "stream",
          "text": [
            "Epoch 9 elapsed: 30.557s\n",
            "\t \u001b[32mtrain_loss: 0.5297\u001b[0m\n",
            "==============================\n"
          ]
        },
        {
          "name": "stderr",
          "output_type": "stream",
          "text": [
            "\n",
            "train: 100%|██████████| 9107/9107 [00:30<00:00, 299.27it/s]"
          ]
        },
        {
          "name": "stdout",
          "output_type": "stream",
          "text": [
            "Epoch 10 elapsed: 30.433s\n",
            "\t \u001b[32mtrain_loss: 0.5264\u001b[0m\n",
            "==============================\n"
          ]
        },
        {
          "name": "stderr",
          "output_type": "stream",
          "text": [
            "\n",
            "train: 100%|██████████| 9107/9107 [00:30<00:00, 297.97it/s]"
          ]
        },
        {
          "name": "stdout",
          "output_type": "stream",
          "text": [
            "Epoch 11 elapsed: 30.566s\n",
            "\t \u001b[32mtrain_loss: 0.5236\u001b[0m\n",
            "==============================\n"
          ]
        },
        {
          "name": "stderr",
          "output_type": "stream",
          "text": [
            "\n",
            "train: 100%|██████████| 9107/9107 [00:30<00:00, 299.89it/s]"
          ]
        },
        {
          "name": "stdout",
          "output_type": "stream",
          "text": [
            "Epoch 12 elapsed: 30.371s\n",
            "\t \u001b[32mtrain_loss: 0.5213\u001b[0m\n",
            "==============================\n"
          ]
        },
        {
          "name": "stderr",
          "output_type": "stream",
          "text": [
            "\n",
            "train: 100%|██████████| 9107/9107 [00:30<00:00, 298.49it/s]"
          ]
        },
        {
          "name": "stdout",
          "output_type": "stream",
          "text": [
            "Epoch 13 elapsed: 30.512s\n",
            "\t \u001b[32mtrain_loss: 0.5191\u001b[0m\n",
            "==============================\n"
          ]
        },
        {
          "name": "stderr",
          "output_type": "stream",
          "text": [
            "\n",
            "train: 100%|██████████| 9107/9107 [00:30<00:00, 296.81it/s]"
          ]
        },
        {
          "name": "stdout",
          "output_type": "stream",
          "text": [
            "Epoch 14 elapsed: 30.685s\n",
            "\t \u001b[32mtrain_loss: 0.5172\u001b[0m\n",
            "==============================\n"
          ]
        },
        {
          "name": "stderr",
          "output_type": "stream",
          "text": [
            "\n",
            "train: 100%|██████████| 9107/9107 [00:30<00:00, 299.46it/s]"
          ]
        },
        {
          "name": "stdout",
          "output_type": "stream",
          "text": [
            "Epoch 15 elapsed: 30.413s\n",
            "\t \u001b[32mtrain_loss: 0.516\u001b[0m\n",
            "==============================\n"
          ]
        },
        {
          "name": "stderr",
          "output_type": "stream",
          "text": [
            "\n",
            "train: 100%|██████████| 9107/9107 [00:30<00:00, 298.92it/s]"
          ]
        },
        {
          "name": "stdout",
          "output_type": "stream",
          "text": [
            "Epoch 16 elapsed: 30.468s\n",
            "\t \u001b[32mtrain_loss: 0.5147\u001b[0m\n",
            "==============================\n"
          ]
        },
        {
          "name": "stderr",
          "output_type": "stream",
          "text": [
            "\n",
            "train: 100%|██████████| 9107/9107 [00:30<00:00, 299.32it/s]"
          ]
        },
        {
          "name": "stdout",
          "output_type": "stream",
          "text": [
            "Epoch 17 elapsed: 30.428s\n",
            "\t \u001b[32mtrain_loss: 0.5136\u001b[0m\n",
            "==============================\n"
          ]
        },
        {
          "name": "stderr",
          "output_type": "stream",
          "text": [
            "\n",
            "train: 100%|██████████| 9107/9107 [00:30<00:00, 299.74it/s]"
          ]
        },
        {
          "name": "stdout",
          "output_type": "stream",
          "text": [
            "Epoch 18 elapsed: 30.385s\n",
            "\t \u001b[32mtrain_loss: 0.5129\u001b[0m\n",
            "==============================\n"
          ]
        },
        {
          "name": "stderr",
          "output_type": "stream",
          "text": [
            "\n",
            "train: 100%|██████████| 9107/9107 [00:30<00:00, 298.30it/s]"
          ]
        },
        {
          "name": "stdout",
          "output_type": "stream",
          "text": [
            "Epoch 19 elapsed: 30.531s\n",
            "\t \u001b[32mtrain_loss: 0.5113\u001b[0m\n",
            "==============================\n"
          ]
        },
        {
          "name": "stderr",
          "output_type": "stream",
          "text": [
            "\n",
            "train: 100%|██████████| 9107/9107 [00:30<00:00, 300.78it/s]"
          ]
        },
        {
          "name": "stdout",
          "output_type": "stream",
          "text": [
            "Epoch 20 elapsed: 30.280s\n",
            "\t \u001b[32mtrain_loss: 0.5107\u001b[0m\n",
            "==============================\n"
          ]
        },
        {
          "name": "stderr",
          "output_type": "stream",
          "text": [
            "\n",
            "eval_pointwise: 100%|██████████| 36/36 [00:00<00:00, 372.99it/s]\n"
          ]
        },
        {
          "name": "stdout",
          "output_type": "stream",
          "text": [
            "Training start time: \u001b[35m2025-05-23 17:20:49\u001b[0m\n"
          ]
        },
        {
          "name": "stderr",
          "output_type": "stream",
          "text": [
            "/usr/local/lib/python3.11/dist-packages/libreco/layers/dense.py:31: UserWarning: `tf.layers.batch_normalization` is deprecated and will be removed in a future version. Please use `tf.keras.layers.BatchNormalization` instead. In particular, `tf.control_dependencies(tf.GraphKeys.UPDATE_OPS)` should not be used (consult the `tf.keras.layers.BatchNormalization` documentation).\n",
            "  net = tf.layers.batch_normalization(net, training=is_training)\n",
            "/usr/local/lib/python3.11/dist-packages/libreco/layers/dense.py:39: UserWarning: `tf.layers.batch_normalization` is deprecated and will be removed in a future version. Please use `tf.keras.layers.BatchNormalization` instead. In particular, `tf.control_dependencies(tf.GraphKeys.UPDATE_OPS)` should not be used (consult the `tf.keras.layers.BatchNormalization` documentation).\n",
            "  net = tf.layers.batch_normalization(net, training=is_training)\n",
            "train: 100%|██████████| 9107/9107 [00:30<00:00, 300.28it/s]"
          ]
        },
        {
          "name": "stdout",
          "output_type": "stream",
          "text": [
            "Epoch 1 elapsed: 30.330s\n",
            "\t \u001b[32mtrain_loss: 0.7104\u001b[0m\n",
            "==============================\n"
          ]
        },
        {
          "name": "stderr",
          "output_type": "stream",
          "text": [
            "\n",
            "train: 100%|██████████| 9107/9107 [00:30<00:00, 302.72it/s]"
          ]
        },
        {
          "name": "stdout",
          "output_type": "stream",
          "text": [
            "Epoch 2 elapsed: 30.086s\n",
            "\t \u001b[32mtrain_loss: 0.633\u001b[0m\n",
            "==============================\n"
          ]
        },
        {
          "name": "stderr",
          "output_type": "stream",
          "text": [
            "\n",
            "train: 100%|██████████| 9107/9107 [00:29<00:00, 304.63it/s]"
          ]
        },
        {
          "name": "stdout",
          "output_type": "stream",
          "text": [
            "Epoch 3 elapsed: 29.897s\n",
            "\t \u001b[32mtrain_loss: 0.6071\u001b[0m\n",
            "==============================\n"
          ]
        },
        {
          "name": "stderr",
          "output_type": "stream",
          "text": [
            "\n",
            "train: 100%|██████████| 9107/9107 [00:30<00:00, 299.37it/s]"
          ]
        },
        {
          "name": "stdout",
          "output_type": "stream",
          "text": [
            "Epoch 4 elapsed: 30.422s\n",
            "\t \u001b[32mtrain_loss: 0.5867\u001b[0m\n",
            "==============================\n"
          ]
        },
        {
          "name": "stderr",
          "output_type": "stream",
          "text": [
            "\n",
            "train: 100%|██████████| 9107/9107 [00:30<00:00, 302.40it/s]"
          ]
        },
        {
          "name": "stdout",
          "output_type": "stream",
          "text": [
            "Epoch 5 elapsed: 30.118s\n",
            "\t \u001b[32mtrain_loss: 0.568\u001b[0m\n",
            "==============================\n"
          ]
        },
        {
          "name": "stderr",
          "output_type": "stream",
          "text": [
            "\n",
            "train: 100%|██████████| 9107/9107 [00:29<00:00, 303.87it/s]"
          ]
        },
        {
          "name": "stdout",
          "output_type": "stream",
          "text": [
            "Epoch 6 elapsed: 29.972s\n",
            "\t \u001b[32mtrain_loss: 0.5528\u001b[0m\n",
            "==============================\n"
          ]
        },
        {
          "name": "stderr",
          "output_type": "stream",
          "text": [
            "\n",
            "train: 100%|██████████| 9107/9107 [00:30<00:00, 301.91it/s]"
          ]
        },
        {
          "name": "stdout",
          "output_type": "stream",
          "text": [
            "Epoch 7 elapsed: 30.168s\n",
            "\t \u001b[32mtrain_loss: 0.5414\u001b[0m\n",
            "==============================\n"
          ]
        },
        {
          "name": "stderr",
          "output_type": "stream",
          "text": [
            "\n",
            "train: 100%|██████████| 9107/9107 [00:29<00:00, 303.90it/s]"
          ]
        },
        {
          "name": "stdout",
          "output_type": "stream",
          "text": [
            "Epoch 8 elapsed: 29.969s\n",
            "\t \u001b[32mtrain_loss: 0.5338\u001b[0m\n",
            "==============================\n"
          ]
        },
        {
          "name": "stderr",
          "output_type": "stream",
          "text": [
            "\n",
            "train: 100%|██████████| 9107/9107 [00:30<00:00, 303.19it/s]"
          ]
        },
        {
          "name": "stdout",
          "output_type": "stream",
          "text": [
            "Epoch 9 elapsed: 30.039s\n",
            "\t \u001b[32mtrain_loss: 0.5286\u001b[0m\n",
            "==============================\n"
          ]
        },
        {
          "name": "stderr",
          "output_type": "stream",
          "text": [
            "\n",
            "train: 100%|██████████| 9107/9107 [00:30<00:00, 302.84it/s]"
          ]
        },
        {
          "name": "stdout",
          "output_type": "stream",
          "text": [
            "Epoch 10 elapsed: 30.074s\n",
            "\t \u001b[32mtrain_loss: 0.5246\u001b[0m\n",
            "==============================\n"
          ]
        },
        {
          "name": "stderr",
          "output_type": "stream",
          "text": [
            "\n",
            "train: 100%|██████████| 9107/9107 [00:29<00:00, 304.83it/s]"
          ]
        },
        {
          "name": "stdout",
          "output_type": "stream",
          "text": [
            "Epoch 11 elapsed: 29.878s\n",
            "\t \u001b[32mtrain_loss: 0.5217\u001b[0m\n",
            "==============================\n"
          ]
        },
        {
          "name": "stderr",
          "output_type": "stream",
          "text": [
            "\n",
            "train: 100%|██████████| 9107/9107 [00:30<00:00, 302.78it/s]"
          ]
        },
        {
          "name": "stdout",
          "output_type": "stream",
          "text": [
            "Epoch 12 elapsed: 30.080s\n",
            "\t \u001b[32mtrain_loss: 0.5198\u001b[0m\n",
            "==============================\n"
          ]
        },
        {
          "name": "stderr",
          "output_type": "stream",
          "text": [
            "\n",
            "train: 100%|██████████| 9107/9107 [00:30<00:00, 302.53it/s]"
          ]
        },
        {
          "name": "stdout",
          "output_type": "stream",
          "text": [
            "Epoch 13 elapsed: 30.106s\n",
            "\t \u001b[32mtrain_loss: 0.5174\u001b[0m\n",
            "==============================\n"
          ]
        },
        {
          "name": "stderr",
          "output_type": "stream",
          "text": [
            "\n",
            "train: 100%|██████████| 9107/9107 [00:30<00:00, 303.35it/s]"
          ]
        },
        {
          "name": "stdout",
          "output_type": "stream",
          "text": [
            "Epoch 14 elapsed: 30.023s\n",
            "\t \u001b[32mtrain_loss: 0.5155\u001b[0m\n",
            "==============================\n"
          ]
        },
        {
          "name": "stderr",
          "output_type": "stream",
          "text": [
            "\n",
            "train: 100%|██████████| 9107/9107 [00:30<00:00, 301.16it/s]"
          ]
        },
        {
          "name": "stdout",
          "output_type": "stream",
          "text": [
            "Epoch 15 elapsed: 30.242s\n",
            "\t \u001b[32mtrain_loss: 0.5141\u001b[0m\n",
            "==============================\n"
          ]
        },
        {
          "name": "stderr",
          "output_type": "stream",
          "text": [
            "\n",
            "train: 100%|██████████| 9107/9107 [00:29<00:00, 304.70it/s]"
          ]
        },
        {
          "name": "stdout",
          "output_type": "stream",
          "text": [
            "Epoch 16 elapsed: 29.892s\n",
            "\t \u001b[32mtrain_loss: 0.513\u001b[0m\n",
            "==============================\n"
          ]
        },
        {
          "name": "stderr",
          "output_type": "stream",
          "text": [
            "\n",
            "train: 100%|██████████| 9107/9107 [00:29<00:00, 304.24it/s]"
          ]
        },
        {
          "name": "stdout",
          "output_type": "stream",
          "text": [
            "Epoch 17 elapsed: 29.936s\n",
            "\t \u001b[32mtrain_loss: 0.5118\u001b[0m\n",
            "==============================\n"
          ]
        },
        {
          "name": "stderr",
          "output_type": "stream",
          "text": [
            "\n",
            "train: 100%|██████████| 9107/9107 [00:30<00:00, 302.16it/s]"
          ]
        },
        {
          "name": "stdout",
          "output_type": "stream",
          "text": [
            "Epoch 18 elapsed: 30.141s\n",
            "\t \u001b[32mtrain_loss: 0.511\u001b[0m\n",
            "==============================\n"
          ]
        },
        {
          "name": "stderr",
          "output_type": "stream",
          "text": [
            "\n",
            "train: 100%|██████████| 9107/9107 [00:29<00:00, 304.04it/s]"
          ]
        },
        {
          "name": "stdout",
          "output_type": "stream",
          "text": [
            "Epoch 19 elapsed: 29.955s\n",
            "\t \u001b[32mtrain_loss: 0.5102\u001b[0m\n",
            "==============================\n"
          ]
        },
        {
          "name": "stderr",
          "output_type": "stream",
          "text": [
            "\n",
            "train: 100%|██████████| 9107/9107 [00:29<00:00, 303.80it/s]"
          ]
        },
        {
          "name": "stdout",
          "output_type": "stream",
          "text": [
            "Epoch 20 elapsed: 29.979s\n",
            "\t \u001b[32mtrain_loss: 0.5094\u001b[0m\n",
            "==============================\n"
          ]
        },
        {
          "name": "stderr",
          "output_type": "stream",
          "text": [
            "\n",
            "eval_pointwise: 100%|██████████| 36/36 [00:00<00:00, 396.05it/s]\n"
          ]
        },
        {
          "name": "stdout",
          "output_type": "stream",
          "text": [
            "\n",
            "LibReco NCF (0.8040726278457775, 0.006535322202727892) ('Train Loss:', 0.5098999999999999, 0.0004857983120596735)\n"
          ]
        }
      ],
      "source": [
        "train_lib_model(\"NCF\", global_ext)"
      ]
    },
    {
      "cell_type": "code",
      "execution_count": null,
      "id": "iHP3AGYgUQSu",
      "metadata": {
        "colab": {
          "base_uri": "https://localhost:8080/"
        },
        "id": "iHP3AGYgUQSu",
        "outputId": "ea6b2934-30df-4b37-b5a8-7494a85ed632"
      },
      "outputs": [
        {
          "name": "stdout",
          "output_type": "stream",
          "text": [
            "Training start time: \u001b[35m2025-05-23 17:30:54\u001b[0m\n"
          ]
        },
        {
          "name": "stderr",
          "output_type": "stream",
          "text": [
            "/usr/local/lib/python3.11/dist-packages/libreco/layers/dense.py:31: UserWarning: `tf.layers.batch_normalization` is deprecated and will be removed in a future version. Please use `tf.keras.layers.BatchNormalization` instead. In particular, `tf.control_dependencies(tf.GraphKeys.UPDATE_OPS)` should not be used (consult the `tf.keras.layers.BatchNormalization` documentation).\n",
            "  net = tf.layers.batch_normalization(net, training=is_training)\n",
            "/usr/local/lib/python3.11/dist-packages/libreco/layers/dense.py:39: UserWarning: `tf.layers.batch_normalization` is deprecated and will be removed in a future version. Please use `tf.keras.layers.BatchNormalization` instead. In particular, `tf.control_dependencies(tf.GraphKeys.UPDATE_OPS)` should not be used (consult the `tf.keras.layers.BatchNormalization` documentation).\n",
            "  net = tf.layers.batch_normalization(net, training=is_training)\n",
            "train: 100%|██████████| 9107/9107 [00:31<00:00, 291.65it/s]"
          ]
        },
        {
          "name": "stdout",
          "output_type": "stream",
          "text": [
            "Epoch 1 elapsed: 31.228s\n",
            "\t \u001b[32mtrain_loss: 0.8161\u001b[0m\n",
            "==============================\n"
          ]
        },
        {
          "name": "stderr",
          "output_type": "stream",
          "text": [
            "\n",
            "train: 100%|██████████| 9107/9107 [00:30<00:00, 294.49it/s]"
          ]
        },
        {
          "name": "stdout",
          "output_type": "stream",
          "text": [
            "Epoch 2 elapsed: 30.928s\n",
            "\t \u001b[32mtrain_loss: 0.7432\u001b[0m\n",
            "==============================\n"
          ]
        },
        {
          "name": "stderr",
          "output_type": "stream",
          "text": [
            "\n",
            "train: 100%|██████████| 9107/9107 [00:30<00:00, 293.80it/s]"
          ]
        },
        {
          "name": "stdout",
          "output_type": "stream",
          "text": [
            "Epoch 3 elapsed: 30.999s\n",
            "\t \u001b[32mtrain_loss: 0.7025\u001b[0m\n",
            "==============================\n"
          ]
        },
        {
          "name": "stderr",
          "output_type": "stream",
          "text": [
            "\n",
            "train: 100%|██████████| 9107/9107 [00:30<00:00, 295.78it/s]"
          ]
        },
        {
          "name": "stdout",
          "output_type": "stream",
          "text": [
            "Epoch 4 elapsed: 30.792s\n",
            "\t \u001b[32mtrain_loss: 0.6751\u001b[0m\n",
            "==============================\n"
          ]
        },
        {
          "name": "stderr",
          "output_type": "stream",
          "text": [
            "\n",
            "train: 100%|██████████| 9107/9107 [00:31<00:00, 292.92it/s]"
          ]
        },
        {
          "name": "stdout",
          "output_type": "stream",
          "text": [
            "Epoch 5 elapsed: 31.092s\n",
            "\t \u001b[32mtrain_loss: 0.6524\u001b[0m\n",
            "==============================\n"
          ]
        },
        {
          "name": "stderr",
          "output_type": "stream",
          "text": [
            "\n",
            "train: 100%|██████████| 9107/9107 [00:30<00:00, 294.39it/s]"
          ]
        },
        {
          "name": "stdout",
          "output_type": "stream",
          "text": [
            "Epoch 6 elapsed: 30.937s\n",
            "\t \u001b[32mtrain_loss: 0.6364\u001b[0m\n",
            "==============================\n"
          ]
        },
        {
          "name": "stderr",
          "output_type": "stream",
          "text": [
            "\n",
            "train: 100%|██████████| 9107/9107 [00:30<00:00, 295.89it/s]"
          ]
        },
        {
          "name": "stdout",
          "output_type": "stream",
          "text": [
            "Epoch 7 elapsed: 30.780s\n",
            "\t \u001b[32mtrain_loss: 0.6251\u001b[0m\n",
            "==============================\n"
          ]
        },
        {
          "name": "stderr",
          "output_type": "stream",
          "text": [
            "\n",
            "train: 100%|██████████| 9107/9107 [00:31<00:00, 293.73it/s]"
          ]
        },
        {
          "name": "stdout",
          "output_type": "stream",
          "text": [
            "Epoch 8 elapsed: 31.008s\n",
            "\t \u001b[32mtrain_loss: 0.617\u001b[0m\n",
            "==============================\n"
          ]
        },
        {
          "name": "stderr",
          "output_type": "stream",
          "text": [
            "\n",
            "train: 100%|██████████| 9107/9107 [00:30<00:00, 294.62it/s]"
          ]
        },
        {
          "name": "stdout",
          "output_type": "stream",
          "text": [
            "Epoch 9 elapsed: 30.913s\n",
            "\t \u001b[32mtrain_loss: 0.611\u001b[0m\n",
            "==============================\n"
          ]
        },
        {
          "name": "stderr",
          "output_type": "stream",
          "text": [
            "\n",
            "train: 100%|██████████| 9107/9107 [00:31<00:00, 293.57it/s]"
          ]
        },
        {
          "name": "stdout",
          "output_type": "stream",
          "text": [
            "Epoch 10 elapsed: 31.024s\n",
            "\t \u001b[32mtrain_loss: 0.6061\u001b[0m\n",
            "==============================\n"
          ]
        },
        {
          "name": "stderr",
          "output_type": "stream",
          "text": [
            "\n",
            "train: 100%|██████████| 9107/9107 [00:31<00:00, 293.50it/s]"
          ]
        },
        {
          "name": "stdout",
          "output_type": "stream",
          "text": [
            "Epoch 11 elapsed: 31.031s\n",
            "\t \u001b[32mtrain_loss: 0.6031\u001b[0m\n",
            "==============================\n"
          ]
        },
        {
          "name": "stderr",
          "output_type": "stream",
          "text": [
            "\n",
            "train: 100%|██████████| 9107/9107 [00:30<00:00, 294.75it/s]"
          ]
        },
        {
          "name": "stdout",
          "output_type": "stream",
          "text": [
            "Epoch 12 elapsed: 30.900s\n",
            "\t \u001b[32mtrain_loss: 0.5994\u001b[0m\n",
            "==============================\n"
          ]
        },
        {
          "name": "stderr",
          "output_type": "stream",
          "text": [
            "\n",
            "train: 100%|██████████| 9107/9107 [00:30<00:00, 294.20it/s]"
          ]
        },
        {
          "name": "stdout",
          "output_type": "stream",
          "text": [
            "Epoch 13 elapsed: 30.959s\n",
            "\t \u001b[32mtrain_loss: 0.598\u001b[0m\n",
            "==============================\n"
          ]
        },
        {
          "name": "stderr",
          "output_type": "stream",
          "text": [
            "\n",
            "train: 100%|██████████| 9107/9107 [00:31<00:00, 292.50it/s]"
          ]
        },
        {
          "name": "stdout",
          "output_type": "stream",
          "text": [
            "Epoch 14 elapsed: 31.137s\n",
            "\t \u001b[32mtrain_loss: 0.5955\u001b[0m\n",
            "==============================\n"
          ]
        },
        {
          "name": "stderr",
          "output_type": "stream",
          "text": [
            "\n",
            "train: 100%|██████████| 9107/9107 [00:31<00:00, 291.54it/s]"
          ]
        },
        {
          "name": "stdout",
          "output_type": "stream",
          "text": [
            "Epoch 15 elapsed: 31.239s\n",
            "\t \u001b[32mtrain_loss: 0.5939\u001b[0m\n",
            "==============================\n"
          ]
        },
        {
          "name": "stderr",
          "output_type": "stream",
          "text": [
            "\n",
            "train: 100%|██████████| 9107/9107 [00:31<00:00, 291.77it/s]"
          ]
        },
        {
          "name": "stdout",
          "output_type": "stream",
          "text": [
            "Epoch 16 elapsed: 31.215s\n",
            "\t \u001b[32mtrain_loss: 0.5929\u001b[0m\n",
            "==============================\n"
          ]
        },
        {
          "name": "stderr",
          "output_type": "stream",
          "text": [
            "\n",
            "train: 100%|██████████| 9107/9107 [00:30<00:00, 293.98it/s]"
          ]
        },
        {
          "name": "stdout",
          "output_type": "stream",
          "text": [
            "Epoch 17 elapsed: 30.981s\n",
            "\t \u001b[32mtrain_loss: 0.5909\u001b[0m\n",
            "==============================\n"
          ]
        },
        {
          "name": "stderr",
          "output_type": "stream",
          "text": [
            "\n",
            "train: 100%|██████████| 9107/9107 [00:31<00:00, 291.69it/s]"
          ]
        },
        {
          "name": "stdout",
          "output_type": "stream",
          "text": [
            "Epoch 18 elapsed: 31.223s\n",
            "\t \u001b[32mtrain_loss: 0.5897\u001b[0m\n",
            "==============================\n"
          ]
        },
        {
          "name": "stderr",
          "output_type": "stream",
          "text": [
            "\n",
            "train: 100%|██████████| 9107/9107 [00:31<00:00, 292.66it/s]"
          ]
        },
        {
          "name": "stdout",
          "output_type": "stream",
          "text": [
            "Epoch 19 elapsed: 31.120s\n",
            "\t \u001b[32mtrain_loss: 0.5891\u001b[0m\n",
            "==============================\n"
          ]
        },
        {
          "name": "stderr",
          "output_type": "stream",
          "text": [
            "\n",
            "train: 100%|██████████| 9107/9107 [00:31<00:00, 292.47it/s]"
          ]
        },
        {
          "name": "stdout",
          "output_type": "stream",
          "text": [
            "Epoch 20 elapsed: 31.141s\n",
            "\t \u001b[32mtrain_loss: 0.5884\u001b[0m\n",
            "==============================\n"
          ]
        },
        {
          "name": "stderr",
          "output_type": "stream",
          "text": [
            "\n",
            "eval_pointwise: 100%|██████████| 36/36 [00:00<00:00, 366.39it/s]\n"
          ]
        },
        {
          "name": "stdout",
          "output_type": "stream",
          "text": [
            "Training start time: \u001b[35m2025-05-23 17:41:17\u001b[0m\n"
          ]
        },
        {
          "name": "stderr",
          "output_type": "stream",
          "text": [
            "/usr/local/lib/python3.11/dist-packages/libreco/layers/dense.py:31: UserWarning: `tf.layers.batch_normalization` is deprecated and will be removed in a future version. Please use `tf.keras.layers.BatchNormalization` instead. In particular, `tf.control_dependencies(tf.GraphKeys.UPDATE_OPS)` should not be used (consult the `tf.keras.layers.BatchNormalization` documentation).\n",
            "  net = tf.layers.batch_normalization(net, training=is_training)\n",
            "/usr/local/lib/python3.11/dist-packages/libreco/layers/dense.py:39: UserWarning: `tf.layers.batch_normalization` is deprecated and will be removed in a future version. Please use `tf.keras.layers.BatchNormalization` instead. In particular, `tf.control_dependencies(tf.GraphKeys.UPDATE_OPS)` should not be used (consult the `tf.keras.layers.BatchNormalization` documentation).\n",
            "  net = tf.layers.batch_normalization(net, training=is_training)\n",
            "train: 100%|██████████| 9107/9107 [00:31<00:00, 287.00it/s]"
          ]
        },
        {
          "name": "stdout",
          "output_type": "stream",
          "text": [
            "Epoch 1 elapsed: 31.733s\n",
            "\t \u001b[32mtrain_loss: 0.812\u001b[0m\n",
            "==============================\n"
          ]
        },
        {
          "name": "stderr",
          "output_type": "stream",
          "text": [
            "\n",
            "train: 100%|██████████| 9107/9107 [00:31<00:00, 289.44it/s]"
          ]
        },
        {
          "name": "stdout",
          "output_type": "stream",
          "text": [
            "Epoch 2 elapsed: 31.467s\n",
            "\t \u001b[32mtrain_loss: 0.735\u001b[0m\n",
            "==============================\n"
          ]
        },
        {
          "name": "stderr",
          "output_type": "stream",
          "text": [
            "\n",
            "train: 100%|██████████| 9107/9107 [00:31<00:00, 290.53it/s]"
          ]
        },
        {
          "name": "stdout",
          "output_type": "stream",
          "text": [
            "Epoch 3 elapsed: 31.349s\n",
            "\t \u001b[32mtrain_loss: 0.6991\u001b[0m\n",
            "==============================\n"
          ]
        },
        {
          "name": "stderr",
          "output_type": "stream",
          "text": [
            "\n",
            "train: 100%|██████████| 9107/9107 [00:31<00:00, 287.67it/s]"
          ]
        },
        {
          "name": "stdout",
          "output_type": "stream",
          "text": [
            "Epoch 4 elapsed: 31.660s\n",
            "\t \u001b[32mtrain_loss: 0.674\u001b[0m\n",
            "==============================\n"
          ]
        },
        {
          "name": "stderr",
          "output_type": "stream",
          "text": [
            "\n",
            "train: 100%|██████████| 9107/9107 [00:31<00:00, 289.47it/s]"
          ]
        },
        {
          "name": "stdout",
          "output_type": "stream",
          "text": [
            "Epoch 5 elapsed: 31.463s\n",
            "\t \u001b[32mtrain_loss: 0.6526\u001b[0m\n",
            "==============================\n"
          ]
        },
        {
          "name": "stderr",
          "output_type": "stream",
          "text": [
            "\n",
            "train: 100%|██████████| 9107/9107 [00:31<00:00, 290.49it/s]"
          ]
        },
        {
          "name": "stdout",
          "output_type": "stream",
          "text": [
            "Epoch 6 elapsed: 31.352s\n",
            "\t \u001b[32mtrain_loss: 0.6365\u001b[0m\n",
            "==============================\n"
          ]
        },
        {
          "name": "stderr",
          "output_type": "stream",
          "text": [
            "\n",
            "train: 100%|██████████| 9107/9107 [00:31<00:00, 291.37it/s]"
          ]
        },
        {
          "name": "stdout",
          "output_type": "stream",
          "text": [
            "Epoch 7 elapsed: 31.259s\n",
            "\t \u001b[32mtrain_loss: 0.626\u001b[0m\n",
            "==============================\n"
          ]
        },
        {
          "name": "stderr",
          "output_type": "stream",
          "text": [
            "\n",
            "train: 100%|██████████| 9107/9107 [00:31<00:00, 289.95it/s]"
          ]
        },
        {
          "name": "stdout",
          "output_type": "stream",
          "text": [
            "Epoch 8 elapsed: 31.411s\n",
            "\t \u001b[32mtrain_loss: 0.6184\u001b[0m\n",
            "==============================\n"
          ]
        },
        {
          "name": "stderr",
          "output_type": "stream",
          "text": [
            "\n",
            "train: 100%|██████████| 9107/9107 [00:31<00:00, 289.83it/s]"
          ]
        },
        {
          "name": "stdout",
          "output_type": "stream",
          "text": [
            "Epoch 9 elapsed: 31.424s\n",
            "\t \u001b[32mtrain_loss: 0.6116\u001b[0m\n",
            "==============================\n"
          ]
        },
        {
          "name": "stderr",
          "output_type": "stream",
          "text": [
            "\n",
            "train: 100%|██████████| 9107/9107 [00:31<00:00, 290.03it/s]"
          ]
        },
        {
          "name": "stdout",
          "output_type": "stream",
          "text": [
            "Epoch 10 elapsed: 31.402s\n",
            "\t \u001b[32mtrain_loss: 0.6069\u001b[0m\n",
            "==============================\n"
          ]
        },
        {
          "name": "stderr",
          "output_type": "stream",
          "text": [
            "\n",
            "train: 100%|██████████| 9107/9107 [00:31<00:00, 290.11it/s]"
          ]
        },
        {
          "name": "stdout",
          "output_type": "stream",
          "text": [
            "Epoch 11 elapsed: 31.395s\n",
            "\t \u001b[32mtrain_loss: 0.6028\u001b[0m\n",
            "==============================\n"
          ]
        },
        {
          "name": "stderr",
          "output_type": "stream",
          "text": [
            "\n",
            "train: 100%|██████████| 9107/9107 [00:31<00:00, 291.30it/s]"
          ]
        },
        {
          "name": "stdout",
          "output_type": "stream",
          "text": [
            "Epoch 12 elapsed: 31.265s\n",
            "\t \u001b[32mtrain_loss: 0.6\u001b[0m\n",
            "==============================\n"
          ]
        },
        {
          "name": "stderr",
          "output_type": "stream",
          "text": [
            "\n",
            "train: 100%|██████████| 9107/9107 [00:31<00:00, 290.69it/s]"
          ]
        },
        {
          "name": "stdout",
          "output_type": "stream",
          "text": [
            "Epoch 13 elapsed: 31.331s\n",
            "\t \u001b[32mtrain_loss: 0.5977\u001b[0m\n",
            "==============================\n"
          ]
        },
        {
          "name": "stderr",
          "output_type": "stream",
          "text": [
            "\n",
            "train: 100%|██████████| 9107/9107 [00:31<00:00, 286.47it/s]"
          ]
        },
        {
          "name": "stdout",
          "output_type": "stream",
          "text": [
            "Epoch 14 elapsed: 31.792s\n",
            "\t \u001b[32mtrain_loss: 0.5963\u001b[0m\n",
            "==============================\n"
          ]
        },
        {
          "name": "stderr",
          "output_type": "stream",
          "text": [
            "\n",
            "train: 100%|██████████| 9107/9107 [00:31<00:00, 289.36it/s]"
          ]
        },
        {
          "name": "stdout",
          "output_type": "stream",
          "text": [
            "Epoch 15 elapsed: 31.475s\n",
            "\t \u001b[32mtrain_loss: 0.5939\u001b[0m\n",
            "==============================\n"
          ]
        },
        {
          "name": "stderr",
          "output_type": "stream",
          "text": [
            "\n",
            "train: 100%|██████████| 9107/9107 [00:31<00:00, 290.11it/s]"
          ]
        },
        {
          "name": "stdout",
          "output_type": "stream",
          "text": [
            "Epoch 16 elapsed: 31.394s\n",
            "\t \u001b[32mtrain_loss: 0.5928\u001b[0m\n",
            "==============================\n"
          ]
        },
        {
          "name": "stderr",
          "output_type": "stream",
          "text": [
            "\n",
            "train: 100%|██████████| 9107/9107 [00:31<00:00, 287.99it/s]"
          ]
        },
        {
          "name": "stdout",
          "output_type": "stream",
          "text": [
            "Epoch 17 elapsed: 31.625s\n",
            "\t \u001b[32mtrain_loss: 0.5913\u001b[0m\n",
            "==============================\n"
          ]
        },
        {
          "name": "stderr",
          "output_type": "stream",
          "text": [
            "\n",
            "train: 100%|██████████| 9107/9107 [00:31<00:00, 290.08it/s]"
          ]
        },
        {
          "name": "stdout",
          "output_type": "stream",
          "text": [
            "Epoch 18 elapsed: 31.396s\n",
            "\t \u001b[32mtrain_loss: 0.5901\u001b[0m\n",
            "==============================\n"
          ]
        },
        {
          "name": "stderr",
          "output_type": "stream",
          "text": [
            "\n",
            "train: 100%|██████████| 9107/9107 [00:31<00:00, 289.57it/s]"
          ]
        },
        {
          "name": "stdout",
          "output_type": "stream",
          "text": [
            "Epoch 19 elapsed: 31.453s\n",
            "\t \u001b[32mtrain_loss: 0.5893\u001b[0m\n",
            "==============================\n"
          ]
        },
        {
          "name": "stderr",
          "output_type": "stream",
          "text": [
            "\n",
            "train: 100%|██████████| 9107/9107 [00:31<00:00, 289.89it/s]"
          ]
        },
        {
          "name": "stdout",
          "output_type": "stream",
          "text": [
            "Epoch 20 elapsed: 31.418s\n",
            "\t \u001b[32mtrain_loss: 0.5881\u001b[0m\n",
            "==============================\n"
          ]
        },
        {
          "name": "stderr",
          "output_type": "stream",
          "text": [
            "\n",
            "eval_pointwise: 100%|██████████| 36/36 [00:00<00:00, 367.31it/s]\n"
          ]
        },
        {
          "name": "stdout",
          "output_type": "stream",
          "text": [
            "Training start time: \u001b[35m2025-05-23 17:51:49\u001b[0m\n"
          ]
        },
        {
          "name": "stderr",
          "output_type": "stream",
          "text": [
            "/usr/local/lib/python3.11/dist-packages/libreco/layers/dense.py:31: UserWarning: `tf.layers.batch_normalization` is deprecated and will be removed in a future version. Please use `tf.keras.layers.BatchNormalization` instead. In particular, `tf.control_dependencies(tf.GraphKeys.UPDATE_OPS)` should not be used (consult the `tf.keras.layers.BatchNormalization` documentation).\n",
            "  net = tf.layers.batch_normalization(net, training=is_training)\n",
            "/usr/local/lib/python3.11/dist-packages/libreco/layers/dense.py:39: UserWarning: `tf.layers.batch_normalization` is deprecated and will be removed in a future version. Please use `tf.keras.layers.BatchNormalization` instead. In particular, `tf.control_dependencies(tf.GraphKeys.UPDATE_OPS)` should not be used (consult the `tf.keras.layers.BatchNormalization` documentation).\n",
            "  net = tf.layers.batch_normalization(net, training=is_training)\n",
            "train: 100%|██████████| 9107/9107 [00:31<00:00, 288.90it/s]"
          ]
        },
        {
          "name": "stdout",
          "output_type": "stream",
          "text": [
            "Epoch 1 elapsed: 31.525s\n",
            "\t \u001b[32mtrain_loss: 0.8127\u001b[0m\n",
            "==============================\n"
          ]
        },
        {
          "name": "stderr",
          "output_type": "stream",
          "text": [
            "\n",
            "train: 100%|██████████| 9107/9107 [00:31<00:00, 292.68it/s]"
          ]
        },
        {
          "name": "stdout",
          "output_type": "stream",
          "text": [
            "Epoch 2 elapsed: 31.118s\n",
            "\t \u001b[32mtrain_loss: 0.7307\u001b[0m\n",
            "==============================\n"
          ]
        },
        {
          "name": "stderr",
          "output_type": "stream",
          "text": [
            "\n",
            "train: 100%|██████████| 9107/9107 [00:30<00:00, 294.48it/s]"
          ]
        },
        {
          "name": "stdout",
          "output_type": "stream",
          "text": [
            "Epoch 3 elapsed: 30.928s\n",
            "\t \u001b[32mtrain_loss: 0.6912\u001b[0m\n",
            "==============================\n"
          ]
        },
        {
          "name": "stderr",
          "output_type": "stream",
          "text": [
            "\n",
            "train: 100%|██████████| 9107/9107 [00:31<00:00, 289.11it/s]"
          ]
        },
        {
          "name": "stdout",
          "output_type": "stream",
          "text": [
            "Epoch 4 elapsed: 31.503s\n",
            "\t \u001b[32mtrain_loss: 0.6652\u001b[0m\n",
            "==============================\n"
          ]
        },
        {
          "name": "stderr",
          "output_type": "stream",
          "text": [
            "\n",
            "train: 100%|██████████| 9107/9107 [00:31<00:00, 292.19it/s]"
          ]
        },
        {
          "name": "stdout",
          "output_type": "stream",
          "text": [
            "Epoch 5 elapsed: 31.171s\n",
            "\t \u001b[32mtrain_loss: 0.6457\u001b[0m\n",
            "==============================\n"
          ]
        },
        {
          "name": "stderr",
          "output_type": "stream",
          "text": [
            "\n",
            "train: 100%|██████████| 9107/9107 [00:31<00:00, 291.91it/s]"
          ]
        },
        {
          "name": "stdout",
          "output_type": "stream",
          "text": [
            "Epoch 6 elapsed: 31.200s\n",
            "\t \u001b[32mtrain_loss: 0.631\u001b[0m\n",
            "==============================\n"
          ]
        },
        {
          "name": "stderr",
          "output_type": "stream",
          "text": [
            "\n",
            "train: 100%|██████████| 9107/9107 [00:31<00:00, 292.88it/s]"
          ]
        },
        {
          "name": "stdout",
          "output_type": "stream",
          "text": [
            "Epoch 7 elapsed: 31.096s\n",
            "\t \u001b[32mtrain_loss: 0.62\u001b[0m\n",
            "==============================\n"
          ]
        },
        {
          "name": "stderr",
          "output_type": "stream",
          "text": [
            "\n",
            "train: 100%|██████████| 9107/9107 [00:30<00:00, 293.86it/s]"
          ]
        },
        {
          "name": "stdout",
          "output_type": "stream",
          "text": [
            "Epoch 8 elapsed: 30.993s\n",
            "\t \u001b[32mtrain_loss: 0.6128\u001b[0m\n",
            "==============================\n"
          ]
        },
        {
          "name": "stderr",
          "output_type": "stream",
          "text": [
            "\n",
            "train: 100%|██████████| 9107/9107 [00:31<00:00, 291.71it/s]"
          ]
        },
        {
          "name": "stdout",
          "output_type": "stream",
          "text": [
            "Epoch 9 elapsed: 31.221s\n",
            "\t \u001b[32mtrain_loss: 0.608\u001b[0m\n",
            "==============================\n"
          ]
        },
        {
          "name": "stderr",
          "output_type": "stream",
          "text": [
            "\n",
            "train: 100%|██████████| 9107/9107 [00:31<00:00, 293.63it/s]"
          ]
        },
        {
          "name": "stdout",
          "output_type": "stream",
          "text": [
            "Epoch 10 elapsed: 31.017s\n",
            "\t \u001b[32mtrain_loss: 0.6039\u001b[0m\n",
            "==============================\n"
          ]
        },
        {
          "name": "stderr",
          "output_type": "stream",
          "text": [
            "\n",
            "train: 100%|██████████| 9107/9107 [00:31<00:00, 292.32it/s]"
          ]
        },
        {
          "name": "stdout",
          "output_type": "stream",
          "text": [
            "Epoch 11 elapsed: 31.156s\n",
            "\t \u001b[32mtrain_loss: 0.6006\u001b[0m\n",
            "==============================\n"
          ]
        },
        {
          "name": "stderr",
          "output_type": "stream",
          "text": [
            "\n",
            "train: 100%|██████████| 9107/9107 [00:31<00:00, 291.38it/s]"
          ]
        },
        {
          "name": "stdout",
          "output_type": "stream",
          "text": [
            "Epoch 12 elapsed: 31.257s\n",
            "\t \u001b[32mtrain_loss: 0.5983\u001b[0m\n",
            "==============================\n"
          ]
        },
        {
          "name": "stderr",
          "output_type": "stream",
          "text": [
            "\n",
            "train: 100%|██████████| 9107/9107 [00:31<00:00, 293.00it/s]"
          ]
        },
        {
          "name": "stdout",
          "output_type": "stream",
          "text": [
            "Epoch 13 elapsed: 31.084s\n",
            "\t \u001b[32mtrain_loss: 0.5962\u001b[0m\n",
            "==============================\n"
          ]
        },
        {
          "name": "stderr",
          "output_type": "stream",
          "text": [
            "\n",
            "train: 100%|██████████| 9107/9107 [00:31<00:00, 290.82it/s]"
          ]
        },
        {
          "name": "stdout",
          "output_type": "stream",
          "text": [
            "Epoch 14 elapsed: 31.317s\n",
            "\t \u001b[32mtrain_loss: 0.5945\u001b[0m\n",
            "==============================\n"
          ]
        },
        {
          "name": "stderr",
          "output_type": "stream",
          "text": [
            "\n",
            "train: 100%|██████████| 9107/9107 [00:31<00:00, 291.67it/s]"
          ]
        },
        {
          "name": "stdout",
          "output_type": "stream",
          "text": [
            "Epoch 15 elapsed: 31.226s\n",
            "\t \u001b[32mtrain_loss: 0.5932\u001b[0m\n",
            "==============================\n"
          ]
        },
        {
          "name": "stderr",
          "output_type": "stream",
          "text": [
            "\n",
            "train: 100%|██████████| 9107/9107 [00:31<00:00, 293.01it/s]"
          ]
        },
        {
          "name": "stdout",
          "output_type": "stream",
          "text": [
            "Epoch 16 elapsed: 31.083s\n",
            "\t \u001b[32mtrain_loss: 0.5913\u001b[0m\n",
            "==============================\n"
          ]
        },
        {
          "name": "stderr",
          "output_type": "stream",
          "text": [
            "\n",
            "train: 100%|██████████| 9107/9107 [00:31<00:00, 292.83it/s]"
          ]
        },
        {
          "name": "stdout",
          "output_type": "stream",
          "text": [
            "Epoch 17 elapsed: 31.102s\n",
            "\t \u001b[32mtrain_loss: 0.5904\u001b[0m\n",
            "==============================\n"
          ]
        },
        {
          "name": "stderr",
          "output_type": "stream",
          "text": [
            "\n",
            "train: 100%|██████████| 9107/9107 [00:31<00:00, 293.18it/s]"
          ]
        },
        {
          "name": "stdout",
          "output_type": "stream",
          "text": [
            "Epoch 18 elapsed: 31.065s\n",
            "\t \u001b[32mtrain_loss: 0.5895\u001b[0m\n",
            "==============================\n"
          ]
        },
        {
          "name": "stderr",
          "output_type": "stream",
          "text": [
            "\n",
            "train: 100%|██████████| 9107/9107 [00:31<00:00, 292.64it/s]"
          ]
        },
        {
          "name": "stdout",
          "output_type": "stream",
          "text": [
            "Epoch 19 elapsed: 31.123s\n",
            "\t \u001b[32mtrain_loss: 0.5882\u001b[0m\n",
            "==============================\n"
          ]
        },
        {
          "name": "stderr",
          "output_type": "stream",
          "text": [
            "\n",
            "train: 100%|██████████| 9107/9107 [00:31<00:00, 291.78it/s]"
          ]
        },
        {
          "name": "stdout",
          "output_type": "stream",
          "text": [
            "Epoch 20 elapsed: 31.215s\n",
            "\t \u001b[32mtrain_loss: 0.5871\u001b[0m\n",
            "==============================\n"
          ]
        },
        {
          "name": "stderr",
          "output_type": "stream",
          "text": [
            "\n",
            "eval_pointwise: 100%|██████████| 36/36 [00:00<00:00, 367.41it/s]\n"
          ]
        },
        {
          "name": "stdout",
          "output_type": "stream",
          "text": [
            "Training start time: \u001b[35m2025-05-23 18:02:14\u001b[0m\n"
          ]
        },
        {
          "name": "stderr",
          "output_type": "stream",
          "text": [
            "/usr/local/lib/python3.11/dist-packages/libreco/layers/dense.py:31: UserWarning: `tf.layers.batch_normalization` is deprecated and will be removed in a future version. Please use `tf.keras.layers.BatchNormalization` instead. In particular, `tf.control_dependencies(tf.GraphKeys.UPDATE_OPS)` should not be used (consult the `tf.keras.layers.BatchNormalization` documentation).\n",
            "  net = tf.layers.batch_normalization(net, training=is_training)\n",
            "/usr/local/lib/python3.11/dist-packages/libreco/layers/dense.py:39: UserWarning: `tf.layers.batch_normalization` is deprecated and will be removed in a future version. Please use `tf.keras.layers.BatchNormalization` instead. In particular, `tf.control_dependencies(tf.GraphKeys.UPDATE_OPS)` should not be used (consult the `tf.keras.layers.BatchNormalization` documentation).\n",
            "  net = tf.layers.batch_normalization(net, training=is_training)\n",
            "train: 100%|██████████| 9107/9107 [00:30<00:00, 299.93it/s]"
          ]
        },
        {
          "name": "stdout",
          "output_type": "stream",
          "text": [
            "Epoch 1 elapsed: 30.365s\n",
            "\t \u001b[32mtrain_loss: 0.8127\u001b[0m\n",
            "==============================\n"
          ]
        },
        {
          "name": "stderr",
          "output_type": "stream",
          "text": [
            "\n",
            "train: 100%|██████████| 9107/9107 [00:30<00:00, 300.18it/s]"
          ]
        },
        {
          "name": "stdout",
          "output_type": "stream",
          "text": [
            "Epoch 2 elapsed: 30.341s\n",
            "\t \u001b[32mtrain_loss: 0.7356\u001b[0m\n",
            "==============================\n"
          ]
        },
        {
          "name": "stderr",
          "output_type": "stream",
          "text": [
            "\n",
            "train: 100%|██████████| 9107/9107 [00:30<00:00, 299.94it/s]"
          ]
        },
        {
          "name": "stdout",
          "output_type": "stream",
          "text": [
            "Epoch 3 elapsed: 30.365s\n",
            "\t \u001b[32mtrain_loss: 0.6952\u001b[0m\n",
            "==============================\n"
          ]
        },
        {
          "name": "stderr",
          "output_type": "stream",
          "text": [
            "\n",
            "train: 100%|██████████| 9107/9107 [00:32<00:00, 276.09it/s]"
          ]
        },
        {
          "name": "stdout",
          "output_type": "stream",
          "text": [
            "Epoch 4 elapsed: 32.988s\n",
            "\t \u001b[32mtrain_loss: 0.665\u001b[0m\n",
            "==============================\n"
          ]
        },
        {
          "name": "stderr",
          "output_type": "stream",
          "text": [
            "\n",
            "train: 100%|██████████| 9107/9107 [00:30<00:00, 298.39it/s]"
          ]
        },
        {
          "name": "stdout",
          "output_type": "stream",
          "text": [
            "Epoch 5 elapsed: 30.523s\n",
            "\t \u001b[32mtrain_loss: 0.6434\u001b[0m\n",
            "==============================\n"
          ]
        },
        {
          "name": "stderr",
          "output_type": "stream",
          "text": [
            "\n",
            "train: 100%|██████████| 9107/9107 [00:30<00:00, 301.76it/s]"
          ]
        },
        {
          "name": "stdout",
          "output_type": "stream",
          "text": [
            "Epoch 6 elapsed: 30.182s\n",
            "\t \u001b[32mtrain_loss: 0.6287\u001b[0m\n",
            "==============================\n"
          ]
        },
        {
          "name": "stderr",
          "output_type": "stream",
          "text": [
            "\n",
            "train: 100%|██████████| 9107/9107 [00:30<00:00, 300.09it/s]"
          ]
        },
        {
          "name": "stdout",
          "output_type": "stream",
          "text": [
            "Epoch 7 elapsed: 30.351s\n",
            "\t \u001b[32mtrain_loss: 0.6181\u001b[0m\n",
            "==============================\n"
          ]
        },
        {
          "name": "stderr",
          "output_type": "stream",
          "text": [
            "\n",
            "train: 100%|██████████| 9107/9107 [00:30<00:00, 299.69it/s]"
          ]
        },
        {
          "name": "stdout",
          "output_type": "stream",
          "text": [
            "Epoch 8 elapsed: 30.390s\n",
            "\t \u001b[32mtrain_loss: 0.6111\u001b[0m\n",
            "==============================\n"
          ]
        },
        {
          "name": "stderr",
          "output_type": "stream",
          "text": [
            "\n",
            "train: 100%|██████████| 9107/9107 [00:30<00:00, 300.28it/s]"
          ]
        },
        {
          "name": "stdout",
          "output_type": "stream",
          "text": [
            "Epoch 9 elapsed: 30.331s\n",
            "\t \u001b[32mtrain_loss: 0.6064\u001b[0m\n",
            "==============================\n"
          ]
        },
        {
          "name": "stderr",
          "output_type": "stream",
          "text": [
            "\n",
            "train: 100%|██████████| 9107/9107 [00:30<00:00, 300.42it/s]"
          ]
        },
        {
          "name": "stdout",
          "output_type": "stream",
          "text": [
            "Epoch 10 elapsed: 30.317s\n",
            "\t \u001b[32mtrain_loss: 0.6027\u001b[0m\n",
            "==============================\n"
          ]
        },
        {
          "name": "stderr",
          "output_type": "stream",
          "text": [
            "\n",
            "train: 100%|██████████| 9107/9107 [00:30<00:00, 301.96it/s]"
          ]
        },
        {
          "name": "stdout",
          "output_type": "stream",
          "text": [
            "Epoch 11 elapsed: 30.161s\n",
            "\t \u001b[32mtrain_loss: 0.5992\u001b[0m\n",
            "==============================\n"
          ]
        },
        {
          "name": "stderr",
          "output_type": "stream",
          "text": [
            "\n",
            "train: 100%|██████████| 9107/9107 [00:30<00:00, 298.64it/s]"
          ]
        },
        {
          "name": "stdout",
          "output_type": "stream",
          "text": [
            "Epoch 12 elapsed: 30.497s\n",
            "\t \u001b[32mtrain_loss: 0.5971\u001b[0m\n",
            "==============================\n"
          ]
        },
        {
          "name": "stderr",
          "output_type": "stream",
          "text": [
            "\n",
            "train: 100%|██████████| 9107/9107 [00:30<00:00, 299.36it/s]"
          ]
        },
        {
          "name": "stdout",
          "output_type": "stream",
          "text": [
            "Epoch 13 elapsed: 30.424s\n",
            "\t \u001b[32mtrain_loss: 0.595\u001b[0m\n",
            "==============================\n"
          ]
        },
        {
          "name": "stderr",
          "output_type": "stream",
          "text": [
            "\n",
            "train: 100%|██████████| 9107/9107 [00:30<00:00, 297.97it/s]"
          ]
        },
        {
          "name": "stdout",
          "output_type": "stream",
          "text": [
            "Epoch 14 elapsed: 30.566s\n",
            "\t \u001b[32mtrain_loss: 0.5933\u001b[0m\n",
            "==============================\n"
          ]
        },
        {
          "name": "stderr",
          "output_type": "stream",
          "text": [
            "\n",
            "train: 100%|██████████| 9107/9107 [00:30<00:00, 299.87it/s]"
          ]
        },
        {
          "name": "stdout",
          "output_type": "stream",
          "text": [
            "Epoch 15 elapsed: 30.372s\n",
            "\t \u001b[32mtrain_loss: 0.5917\u001b[0m\n",
            "==============================\n"
          ]
        },
        {
          "name": "stderr",
          "output_type": "stream",
          "text": [
            "\n",
            "train: 100%|██████████| 9107/9107 [00:30<00:00, 299.33it/s]"
          ]
        },
        {
          "name": "stdout",
          "output_type": "stream",
          "text": [
            "Epoch 16 elapsed: 30.428s\n",
            "\t \u001b[32mtrain_loss: 0.59\u001b[0m\n",
            "==============================\n"
          ]
        },
        {
          "name": "stderr",
          "output_type": "stream",
          "text": [
            "\n",
            "train: 100%|██████████| 9107/9107 [00:30<00:00, 301.30it/s]"
          ]
        },
        {
          "name": "stdout",
          "output_type": "stream",
          "text": [
            "Epoch 17 elapsed: 30.229s\n",
            "\t \u001b[32mtrain_loss: 0.5895\u001b[0m\n",
            "==============================\n"
          ]
        },
        {
          "name": "stderr",
          "output_type": "stream",
          "text": [
            "\n",
            "train: 100%|██████████| 9107/9107 [00:30<00:00, 298.88it/s]"
          ]
        },
        {
          "name": "stdout",
          "output_type": "stream",
          "text": [
            "Epoch 18 elapsed: 30.472s\n",
            "\t \u001b[32mtrain_loss: 0.5888\u001b[0m\n",
            "==============================\n"
          ]
        },
        {
          "name": "stderr",
          "output_type": "stream",
          "text": [
            "\n",
            "train: 100%|██████████| 9107/9107 [00:30<00:00, 301.35it/s]"
          ]
        },
        {
          "name": "stdout",
          "output_type": "stream",
          "text": [
            "Epoch 19 elapsed: 30.223s\n",
            "\t \u001b[32mtrain_loss: 0.5882\u001b[0m\n",
            "==============================\n"
          ]
        },
        {
          "name": "stderr",
          "output_type": "stream",
          "text": [
            "\n",
            "train: 100%|██████████| 9107/9107 [00:30<00:00, 299.78it/s]"
          ]
        },
        {
          "name": "stdout",
          "output_type": "stream",
          "text": [
            "Epoch 20 elapsed: 30.381s\n",
            "\t \u001b[32mtrain_loss: 0.5867\u001b[0m\n",
            "==============================\n"
          ]
        },
        {
          "name": "stderr",
          "output_type": "stream",
          "text": [
            "\n",
            "eval_pointwise: 100%|██████████| 36/36 [00:00<00:00, 371.75it/s]\n"
          ]
        },
        {
          "name": "stdout",
          "output_type": "stream",
          "text": [
            "Training start time: \u001b[35m2025-05-23 18:12:28\u001b[0m\n"
          ]
        },
        {
          "name": "stderr",
          "output_type": "stream",
          "text": [
            "/usr/local/lib/python3.11/dist-packages/libreco/layers/dense.py:31: UserWarning: `tf.layers.batch_normalization` is deprecated and will be removed in a future version. Please use `tf.keras.layers.BatchNormalization` instead. In particular, `tf.control_dependencies(tf.GraphKeys.UPDATE_OPS)` should not be used (consult the `tf.keras.layers.BatchNormalization` documentation).\n",
            "  net = tf.layers.batch_normalization(net, training=is_training)\n",
            "/usr/local/lib/python3.11/dist-packages/libreco/layers/dense.py:39: UserWarning: `tf.layers.batch_normalization` is deprecated and will be removed in a future version. Please use `tf.keras.layers.BatchNormalization` instead. In particular, `tf.control_dependencies(tf.GraphKeys.UPDATE_OPS)` should not be used (consult the `tf.keras.layers.BatchNormalization` documentation).\n",
            "  net = tf.layers.batch_normalization(net, training=is_training)\n",
            "train: 100%|██████████| 9107/9107 [00:31<00:00, 290.44it/s]"
          ]
        },
        {
          "name": "stdout",
          "output_type": "stream",
          "text": [
            "Epoch 1 elapsed: 31.358s\n",
            "\t \u001b[32mtrain_loss: 0.8154\u001b[0m\n",
            "==============================\n"
          ]
        },
        {
          "name": "stderr",
          "output_type": "stream",
          "text": [
            "\n",
            "train: 100%|██████████| 9107/9107 [00:30<00:00, 294.35it/s]"
          ]
        },
        {
          "name": "stdout",
          "output_type": "stream",
          "text": [
            "Epoch 2 elapsed: 30.942s\n",
            "\t \u001b[32mtrain_loss: 0.7363\u001b[0m\n",
            "==============================\n"
          ]
        },
        {
          "name": "stderr",
          "output_type": "stream",
          "text": [
            "\n",
            "train: 100%|██████████| 9107/9107 [00:31<00:00, 293.65it/s]"
          ]
        },
        {
          "name": "stdout",
          "output_type": "stream",
          "text": [
            "Epoch 3 elapsed: 31.015s\n",
            "\t \u001b[32mtrain_loss: 0.6972\u001b[0m\n",
            "==============================\n"
          ]
        },
        {
          "name": "stderr",
          "output_type": "stream",
          "text": [
            "\n",
            "train: 100%|██████████| 9107/9107 [00:31<00:00, 290.84it/s]"
          ]
        },
        {
          "name": "stdout",
          "output_type": "stream",
          "text": [
            "Epoch 4 elapsed: 31.315s\n",
            "\t \u001b[32mtrain_loss: 0.6714\u001b[0m\n",
            "==============================\n"
          ]
        },
        {
          "name": "stderr",
          "output_type": "stream",
          "text": [
            "\n",
            "train: 100%|██████████| 9107/9107 [00:31<00:00, 293.56it/s]"
          ]
        },
        {
          "name": "stdout",
          "output_type": "stream",
          "text": [
            "Epoch 5 elapsed: 31.026s\n",
            "\t \u001b[32mtrain_loss: 0.649\u001b[0m\n",
            "==============================\n"
          ]
        },
        {
          "name": "stderr",
          "output_type": "stream",
          "text": [
            "\n",
            "train: 100%|██████████| 9107/9107 [00:31<00:00, 293.57it/s]"
          ]
        },
        {
          "name": "stdout",
          "output_type": "stream",
          "text": [
            "Epoch 6 elapsed: 31.024s\n",
            "\t \u001b[32mtrain_loss: 0.6338\u001b[0m\n",
            "==============================\n"
          ]
        },
        {
          "name": "stderr",
          "output_type": "stream",
          "text": [
            "\n",
            "train: 100%|██████████| 9107/9107 [00:30<00:00, 296.39it/s]"
          ]
        },
        {
          "name": "stdout",
          "output_type": "stream",
          "text": [
            "Epoch 7 elapsed: 30.728s\n",
            "\t \u001b[32mtrain_loss: 0.6225\u001b[0m\n",
            "==============================\n"
          ]
        },
        {
          "name": "stderr",
          "output_type": "stream",
          "text": [
            "\n",
            "train: 100%|██████████| 9107/9107 [00:30<00:00, 293.89it/s]"
          ]
        },
        {
          "name": "stdout",
          "output_type": "stream",
          "text": [
            "Epoch 8 elapsed: 30.990s\n",
            "\t \u001b[32mtrain_loss: 0.6145\u001b[0m\n",
            "==============================\n"
          ]
        },
        {
          "name": "stderr",
          "output_type": "stream",
          "text": [
            "\n",
            "train: 100%|██████████| 9107/9107 [00:30<00:00, 294.56it/s]"
          ]
        },
        {
          "name": "stdout",
          "output_type": "stream",
          "text": [
            "Epoch 9 elapsed: 30.920s\n",
            "\t \u001b[32mtrain_loss: 0.6089\u001b[0m\n",
            "==============================\n"
          ]
        },
        {
          "name": "stderr",
          "output_type": "stream",
          "text": [
            "\n",
            "train: 100%|██████████| 9107/9107 [00:30<00:00, 295.27it/s]"
          ]
        },
        {
          "name": "stdout",
          "output_type": "stream",
          "text": [
            "Epoch 10 elapsed: 30.847s\n",
            "\t \u001b[32mtrain_loss: 0.6043\u001b[0m\n",
            "==============================\n"
          ]
        },
        {
          "name": "stderr",
          "output_type": "stream",
          "text": [
            "\n",
            "train: 100%|██████████| 9107/9107 [00:30<00:00, 294.02it/s]"
          ]
        },
        {
          "name": "stdout",
          "output_type": "stream",
          "text": [
            "Epoch 11 elapsed: 30.976s\n",
            "\t \u001b[32mtrain_loss: 0.6009\u001b[0m\n",
            "==============================\n"
          ]
        },
        {
          "name": "stderr",
          "output_type": "stream",
          "text": [
            "\n",
            "train: 100%|██████████| 9107/9107 [00:31<00:00, 293.66it/s]"
          ]
        },
        {
          "name": "stdout",
          "output_type": "stream",
          "text": [
            "Epoch 12 elapsed: 31.014s\n",
            "\t \u001b[32mtrain_loss: 0.5984\u001b[0m\n",
            "==============================\n"
          ]
        },
        {
          "name": "stderr",
          "output_type": "stream",
          "text": [
            "\n",
            "train: 100%|██████████| 9107/9107 [00:31<00:00, 293.45it/s]"
          ]
        },
        {
          "name": "stdout",
          "output_type": "stream",
          "text": [
            "Epoch 13 elapsed: 31.037s\n",
            "\t \u001b[32mtrain_loss: 0.5963\u001b[0m\n",
            "==============================\n"
          ]
        },
        {
          "name": "stderr",
          "output_type": "stream",
          "text": [
            "\n",
            "train: 100%|██████████| 9107/9107 [00:31<00:00, 291.59it/s]"
          ]
        },
        {
          "name": "stdout",
          "output_type": "stream",
          "text": [
            "Epoch 14 elapsed: 31.236s\n",
            "\t \u001b[32mtrain_loss: 0.5935\u001b[0m\n",
            "==============================\n"
          ]
        },
        {
          "name": "stderr",
          "output_type": "stream",
          "text": [
            "\n",
            "train: 100%|██████████| 9107/9107 [00:30<00:00, 294.79it/s]"
          ]
        },
        {
          "name": "stdout",
          "output_type": "stream",
          "text": [
            "Epoch 15 elapsed: 30.896s\n",
            "\t \u001b[32mtrain_loss: 0.5923\u001b[0m\n",
            "==============================\n"
          ]
        },
        {
          "name": "stderr",
          "output_type": "stream",
          "text": [
            "\n",
            "train: 100%|██████████| 9107/9107 [00:31<00:00, 293.50it/s]"
          ]
        },
        {
          "name": "stdout",
          "output_type": "stream",
          "text": [
            "Epoch 16 elapsed: 31.031s\n",
            "\t \u001b[32mtrain_loss: 0.5906\u001b[0m\n",
            "==============================\n"
          ]
        },
        {
          "name": "stderr",
          "output_type": "stream",
          "text": [
            "\n",
            "train: 100%|██████████| 9107/9107 [00:30<00:00, 295.14it/s]"
          ]
        },
        {
          "name": "stdout",
          "output_type": "stream",
          "text": [
            "Epoch 17 elapsed: 30.858s\n",
            "\t \u001b[32mtrain_loss: 0.5898\u001b[0m\n",
            "==============================\n"
          ]
        },
        {
          "name": "stderr",
          "output_type": "stream",
          "text": [
            "\n",
            "train: 100%|██████████| 9107/9107 [00:30<00:00, 294.75it/s]"
          ]
        },
        {
          "name": "stdout",
          "output_type": "stream",
          "text": [
            "Epoch 18 elapsed: 30.900s\n",
            "\t \u001b[32mtrain_loss: 0.5887\u001b[0m\n",
            "==============================\n"
          ]
        },
        {
          "name": "stderr",
          "output_type": "stream",
          "text": [
            "\n",
            "train: 100%|██████████| 9107/9107 [00:31<00:00, 293.55it/s]"
          ]
        },
        {
          "name": "stdout",
          "output_type": "stream",
          "text": [
            "Epoch 19 elapsed: 31.027s\n",
            "\t \u001b[32mtrain_loss: 0.5875\u001b[0m\n",
            "==============================\n"
          ]
        },
        {
          "name": "stderr",
          "output_type": "stream",
          "text": [
            "\n",
            "train: 100%|██████████| 9107/9107 [00:30<00:00, 296.07it/s]"
          ]
        },
        {
          "name": "stdout",
          "output_type": "stream",
          "text": [
            "Epoch 20 elapsed: 30.762s\n",
            "\t \u001b[32mtrain_loss: 0.5872\u001b[0m\n",
            "==============================\n"
          ]
        },
        {
          "name": "stderr",
          "output_type": "stream",
          "text": [
            "\n",
            "eval_pointwise: 100%|██████████| 36/36 [00:00<00:00, 375.65it/s]"
          ]
        },
        {
          "name": "stdout",
          "output_type": "stream",
          "text": [
            "\n",
            "LibReco NCF (0.8610495689097656, 0.005266890405907833) ('Train Loss:', 0.5875, 0.0006418722614352504)\n"
          ]
        },
        {
          "name": "stderr",
          "output_type": "stream",
          "text": [
            "\n"
          ]
        }
      ],
      "source": [
        "train_lib_model(\"NCF\", const_ext)"
      ]
    },
    {
      "cell_type": "markdown",
      "id": "kB0qHdWoUZn9",
      "metadata": {
        "id": "kB0qHdWoUZn9"
      },
      "source": [
        "## Other LibReco Algorithms"
      ]
    },
    {
      "cell_type": "code",
      "execution_count": null,
      "id": "4362a7c8-ac39-4176-9cde-b776e5bbd6e2",
      "metadata": {
        "colab": {
          "background_save": true
        },
        "id": "4362a7c8-ac39-4176-9cde-b776e5bbd6e2",
        "outputId": "01a7bc3e-00af-4a42-e123-82ac221d9e3d",
        "scrolled": true
      },
      "outputs": [
        {
          "name": "stdout",
          "output_type": "stream",
          "text": [
            "Training start time: \u001b[35m2025-05-23 02:50:43\u001b[0m\n",
            "total params: \u001b[33m187,086\u001b[0m | embedding params: \u001b[33m187,036\u001b[0m | network params: \u001b[33m50\u001b[0m\n"
          ]
        },
        {
          "name": "stderr",
          "output_type": "stream",
          "text": [
            "/usr/local/lib/python3.11/dist-packages/libreco/algorithms/fm.py:166: UserWarning: `tf.layers.batch_normalization` is deprecated and will be removed in a future version. Please use `tf.keras.layers.BatchNormalization` instead. In particular, `tf.control_dependencies(tf.GraphKeys.UPDATE_OPS)` should not be used (consult the `tf.keras.layers.BatchNormalization` documentation).\n",
            "  pairwise_term = tf.layers.batch_normalization(\n",
            "train: 100%|██████████| 9107/9107 [00:33<00:00, 273.72it/s]\n"
          ]
        },
        {
          "name": "stdout",
          "output_type": "stream",
          "text": [
            "Epoch 1 elapsed: 33.273s\n",
            "\t \u001b[32mtrain_loss: 0.8595\u001b[0m\n",
            "==============================\n"
          ]
        },
        {
          "name": "stderr",
          "output_type": "stream",
          "text": [
            "train: 100%|██████████| 9107/9107 [00:32<00:00, 278.90it/s]\n"
          ]
        },
        {
          "name": "stdout",
          "output_type": "stream",
          "text": [
            "Epoch 2 elapsed: 32.655s\n",
            "\t \u001b[32mtrain_loss: 0.571\u001b[0m\n",
            "==============================\n"
          ]
        },
        {
          "name": "stderr",
          "output_type": "stream",
          "text": [
            "train: 100%|██████████| 9107/9107 [00:32<00:00, 277.05it/s]\n"
          ]
        },
        {
          "name": "stdout",
          "output_type": "stream",
          "text": [
            "Epoch 3 elapsed: 32.874s\n",
            "\t \u001b[32mtrain_loss: 0.5311\u001b[0m\n",
            "==============================\n"
          ]
        },
        {
          "name": "stderr",
          "output_type": "stream",
          "text": [
            "train: 100%|██████████| 9107/9107 [00:32<00:00, 280.83it/s]\n"
          ]
        },
        {
          "name": "stdout",
          "output_type": "stream",
          "text": [
            "Epoch 4 elapsed: 32.431s\n",
            "\t \u001b[32mtrain_loss: 0.5121\u001b[0m\n",
            "==============================\n"
          ]
        },
        {
          "name": "stderr",
          "output_type": "stream",
          "text": [
            "train: 100%|██████████| 9107/9107 [00:32<00:00, 282.67it/s]\n"
          ]
        },
        {
          "name": "stdout",
          "output_type": "stream",
          "text": [
            "Epoch 5 elapsed: 32.221s\n",
            "\t \u001b[32mtrain_loss: 0.5007\u001b[0m\n",
            "==============================\n"
          ]
        },
        {
          "name": "stderr",
          "output_type": "stream",
          "text": [
            "train: 100%|██████████| 9107/9107 [00:32<00:00, 280.29it/s]\n"
          ]
        },
        {
          "name": "stdout",
          "output_type": "stream",
          "text": [
            "Epoch 6 elapsed: 32.493s\n",
            "\t \u001b[32mtrain_loss: 0.4927\u001b[0m\n",
            "==============================\n"
          ]
        },
        {
          "name": "stderr",
          "output_type": "stream",
          "text": [
            "train: 100%|██████████| 9107/9107 [00:31<00:00, 284.63it/s]\n"
          ]
        },
        {
          "name": "stdout",
          "output_type": "stream",
          "text": [
            "Epoch 7 elapsed: 31.998s\n",
            "\t \u001b[32mtrain_loss: 0.4868\u001b[0m\n",
            "==============================\n"
          ]
        },
        {
          "name": "stderr",
          "output_type": "stream",
          "text": [
            "train: 100%|██████████| 9107/9107 [00:32<00:00, 284.57it/s]\n"
          ]
        },
        {
          "name": "stdout",
          "output_type": "stream",
          "text": [
            "Epoch 8 elapsed: 32.005s\n",
            "\t \u001b[32mtrain_loss: 0.482\u001b[0m\n",
            "==============================\n"
          ]
        },
        {
          "name": "stderr",
          "output_type": "stream",
          "text": [
            "train: 100%|██████████| 9107/9107 [00:32<00:00, 283.07it/s]\n"
          ]
        },
        {
          "name": "stdout",
          "output_type": "stream",
          "text": [
            "Epoch 9 elapsed: 32.174s\n",
            "\t \u001b[32mtrain_loss: 0.4784\u001b[0m\n",
            "==============================\n"
          ]
        },
        {
          "name": "stderr",
          "output_type": "stream",
          "text": [
            "train: 100%|██████████| 9107/9107 [00:32<00:00, 281.32it/s]\n"
          ]
        },
        {
          "name": "stdout",
          "output_type": "stream",
          "text": [
            "Epoch 10 elapsed: 32.375s\n",
            "\t \u001b[32mtrain_loss: 0.4751\u001b[0m\n",
            "==============================\n"
          ]
        },
        {
          "name": "stderr",
          "output_type": "stream",
          "text": [
            "eval_pointwise: 100%|██████████| 36/36 [00:00<00:00, 429.29it/s]\n"
          ]
        },
        {
          "name": "stdout",
          "output_type": "stream",
          "text": [
            "Training start time: \u001b[35m2025-05-23 02:56:10\u001b[0m\n",
            "total params: \u001b[33m187,086\u001b[0m | embedding params: \u001b[33m187,036\u001b[0m | network params: \u001b[33m50\u001b[0m\n"
          ]
        },
        {
          "name": "stderr",
          "output_type": "stream",
          "text": [
            "/usr/local/lib/python3.11/dist-packages/libreco/algorithms/fm.py:166: UserWarning: `tf.layers.batch_normalization` is deprecated and will be removed in a future version. Please use `tf.keras.layers.BatchNormalization` instead. In particular, `tf.control_dependencies(tf.GraphKeys.UPDATE_OPS)` should not be used (consult the `tf.keras.layers.BatchNormalization` documentation).\n",
            "  pairwise_term = tf.layers.batch_normalization(\n",
            "train: 100%|██████████| 9107/9107 [00:32<00:00, 276.96it/s]\n"
          ]
        },
        {
          "name": "stdout",
          "output_type": "stream",
          "text": [
            "Epoch 1 elapsed: 32.884s\n",
            "\t \u001b[32mtrain_loss: 0.8595\u001b[0m\n",
            "==============================\n"
          ]
        },
        {
          "name": "stderr",
          "output_type": "stream",
          "text": [
            "train: 100%|██████████| 9107/9107 [00:32<00:00, 282.21it/s]\n"
          ]
        },
        {
          "name": "stdout",
          "output_type": "stream",
          "text": [
            "Epoch 2 elapsed: 32.272s\n",
            "\t \u001b[32mtrain_loss: 0.571\u001b[0m\n",
            "==============================\n"
          ]
        },
        {
          "name": "stderr",
          "output_type": "stream",
          "text": [
            "train: 100%|██████████| 9107/9107 [00:32<00:00, 283.59it/s]\n"
          ]
        },
        {
          "name": "stdout",
          "output_type": "stream",
          "text": [
            "Epoch 3 elapsed: 32.115s\n",
            "\t \u001b[32mtrain_loss: 0.5311\u001b[0m\n",
            "==============================\n"
          ]
        },
        {
          "name": "stderr",
          "output_type": "stream",
          "text": [
            "train: 100%|██████████| 9107/9107 [00:31<00:00, 285.21it/s]\n"
          ]
        },
        {
          "name": "stdout",
          "output_type": "stream",
          "text": [
            "Epoch 4 elapsed: 31.933s\n",
            "\t \u001b[32mtrain_loss: 0.5121\u001b[0m\n",
            "==============================\n"
          ]
        },
        {
          "name": "stderr",
          "output_type": "stream",
          "text": [
            "train: 100%|██████████| 9107/9107 [00:32<00:00, 281.23it/s]\n"
          ]
        },
        {
          "name": "stdout",
          "output_type": "stream",
          "text": [
            "Epoch 5 elapsed: 32.384s\n",
            "\t \u001b[32mtrain_loss: 0.5007\u001b[0m\n",
            "==============================\n"
          ]
        },
        {
          "name": "stderr",
          "output_type": "stream",
          "text": [
            "train: 100%|██████████| 9107/9107 [00:32<00:00, 277.48it/s]\n"
          ]
        },
        {
          "name": "stdout",
          "output_type": "stream",
          "text": [
            "Epoch 6 elapsed: 32.823s\n",
            "\t \u001b[32mtrain_loss: 0.4927\u001b[0m\n",
            "==============================\n"
          ]
        },
        {
          "name": "stderr",
          "output_type": "stream",
          "text": [
            "train: 100%|██████████| 9107/9107 [00:32<00:00, 281.21it/s]\n"
          ]
        },
        {
          "name": "stdout",
          "output_type": "stream",
          "text": [
            "Epoch 7 elapsed: 32.387s\n",
            "\t \u001b[32mtrain_loss: 0.4868\u001b[0m\n",
            "==============================\n"
          ]
        },
        {
          "name": "stderr",
          "output_type": "stream",
          "text": [
            "train: 100%|██████████| 9107/9107 [00:32<00:00, 279.15it/s]\n"
          ]
        },
        {
          "name": "stdout",
          "output_type": "stream",
          "text": [
            "Epoch 8 elapsed: 32.626s\n",
            "\t \u001b[32mtrain_loss: 0.482\u001b[0m\n",
            "==============================\n"
          ]
        },
        {
          "name": "stderr",
          "output_type": "stream",
          "text": [
            "train: 100%|██████████| 9107/9107 [00:32<00:00, 280.76it/s]\n"
          ]
        },
        {
          "name": "stdout",
          "output_type": "stream",
          "text": [
            "Epoch 9 elapsed: 32.439s\n",
            "\t \u001b[32mtrain_loss: 0.4784\u001b[0m\n",
            "==============================\n"
          ]
        },
        {
          "name": "stderr",
          "output_type": "stream",
          "text": [
            "train: 100%|██████████| 9107/9107 [00:32<00:00, 280.83it/s]\n"
          ]
        },
        {
          "name": "stdout",
          "output_type": "stream",
          "text": [
            "Epoch 10 elapsed: 32.431s\n",
            "\t \u001b[32mtrain_loss: 0.4751\u001b[0m\n",
            "==============================\n"
          ]
        },
        {
          "name": "stderr",
          "output_type": "stream",
          "text": [
            "eval_pointwise: 100%|██████████| 36/36 [00:00<00:00, 479.52it/s]\n"
          ]
        },
        {
          "name": "stdout",
          "output_type": "stream",
          "text": [
            "Training start time: \u001b[35m2025-05-23 03:01:37\u001b[0m\n",
            "total params: \u001b[33m187,086\u001b[0m | embedding params: \u001b[33m187,036\u001b[0m | network params: \u001b[33m50\u001b[0m\n"
          ]
        },
        {
          "name": "stderr",
          "output_type": "stream",
          "text": [
            "/usr/local/lib/python3.11/dist-packages/libreco/algorithms/fm.py:166: UserWarning: `tf.layers.batch_normalization` is deprecated and will be removed in a future version. Please use `tf.keras.layers.BatchNormalization` instead. In particular, `tf.control_dependencies(tf.GraphKeys.UPDATE_OPS)` should not be used (consult the `tf.keras.layers.BatchNormalization` documentation).\n",
            "  pairwise_term = tf.layers.batch_normalization(\n",
            "train: 100%|██████████| 9107/9107 [00:32<00:00, 276.79it/s]\n"
          ]
        },
        {
          "name": "stdout",
          "output_type": "stream",
          "text": [
            "Epoch 1 elapsed: 32.904s\n",
            "\t \u001b[32mtrain_loss: 0.8595\u001b[0m\n",
            "==============================\n"
          ]
        },
        {
          "name": "stderr",
          "output_type": "stream",
          "text": [
            "train: 100%|██████████| 9107/9107 [00:32<00:00, 283.88it/s]\n"
          ]
        },
        {
          "name": "stdout",
          "output_type": "stream",
          "text": [
            "Epoch 2 elapsed: 32.082s\n",
            "\t \u001b[32mtrain_loss: 0.571\u001b[0m\n",
            "==============================\n"
          ]
        },
        {
          "name": "stderr",
          "output_type": "stream",
          "text": [
            "train: 100%|██████████| 9107/9107 [00:32<00:00, 281.44it/s]\n"
          ]
        },
        {
          "name": "stdout",
          "output_type": "stream",
          "text": [
            "Epoch 3 elapsed: 32.360s\n",
            "\t \u001b[32mtrain_loss: 0.5311\u001b[0m\n",
            "==============================\n"
          ]
        },
        {
          "name": "stderr",
          "output_type": "stream",
          "text": [
            "train: 100%|██████████| 9107/9107 [00:32<00:00, 280.65it/s]\n"
          ]
        },
        {
          "name": "stdout",
          "output_type": "stream",
          "text": [
            "Epoch 4 elapsed: 32.452s\n",
            "\t \u001b[32mtrain_loss: 0.5121\u001b[0m\n",
            "==============================\n"
          ]
        },
        {
          "name": "stderr",
          "output_type": "stream",
          "text": [
            "train: 100%|██████████| 9107/9107 [00:32<00:00, 278.11it/s]\n"
          ]
        },
        {
          "name": "stdout",
          "output_type": "stream",
          "text": [
            "Epoch 5 elapsed: 32.748s\n",
            "\t \u001b[32mtrain_loss: 0.5007\u001b[0m\n",
            "==============================\n"
          ]
        },
        {
          "name": "stderr",
          "output_type": "stream",
          "text": [
            "train: 100%|██████████| 9107/9107 [00:32<00:00, 280.41it/s]\n"
          ]
        },
        {
          "name": "stdout",
          "output_type": "stream",
          "text": [
            "Epoch 6 elapsed: 32.480s\n",
            "\t \u001b[32mtrain_loss: 0.4927\u001b[0m\n",
            "==============================\n"
          ]
        },
        {
          "name": "stderr",
          "output_type": "stream",
          "text": [
            "train: 100%|██████████| 9107/9107 [00:32<00:00, 280.03it/s]\n"
          ]
        },
        {
          "name": "stdout",
          "output_type": "stream",
          "text": [
            "Epoch 7 elapsed: 32.525s\n",
            "\t \u001b[32mtrain_loss: 0.4868\u001b[0m\n",
            "==============================\n"
          ]
        },
        {
          "name": "stderr",
          "output_type": "stream",
          "text": [
            "train: 100%|██████████| 9107/9107 [00:32<00:00, 278.89it/s]\n"
          ]
        },
        {
          "name": "stdout",
          "output_type": "stream",
          "text": [
            "Epoch 8 elapsed: 32.657s\n",
            "\t \u001b[32mtrain_loss: 0.482\u001b[0m\n",
            "==============================\n"
          ]
        },
        {
          "name": "stderr",
          "output_type": "stream",
          "text": [
            "train: 100%|██████████| 9107/9107 [00:32<00:00, 281.79it/s]\n"
          ]
        },
        {
          "name": "stdout",
          "output_type": "stream",
          "text": [
            "Epoch 9 elapsed: 32.321s\n",
            "\t \u001b[32mtrain_loss: 0.4784\u001b[0m\n",
            "==============================\n"
          ]
        },
        {
          "name": "stderr",
          "output_type": "stream",
          "text": [
            "train: 100%|██████████| 9107/9107 [00:32<00:00, 279.84it/s]\n"
          ]
        },
        {
          "name": "stdout",
          "output_type": "stream",
          "text": [
            "Epoch 10 elapsed: 32.547s\n",
            "\t \u001b[32mtrain_loss: 0.4751\u001b[0m\n",
            "==============================\n"
          ]
        },
        {
          "name": "stderr",
          "output_type": "stream",
          "text": [
            "eval_pointwise: 100%|██████████| 36/36 [00:00<00:00, 481.01it/s]\n"
          ]
        },
        {
          "name": "stdout",
          "output_type": "stream",
          "text": [
            "Training start time: \u001b[35m2025-05-23 03:07:05\u001b[0m\n",
            "total params: \u001b[33m187,086\u001b[0m | embedding params: \u001b[33m187,036\u001b[0m | network params: \u001b[33m50\u001b[0m\n"
          ]
        },
        {
          "name": "stderr",
          "output_type": "stream",
          "text": [
            "/usr/local/lib/python3.11/dist-packages/libreco/algorithms/fm.py:166: UserWarning: `tf.layers.batch_normalization` is deprecated and will be removed in a future version. Please use `tf.keras.layers.BatchNormalization` instead. In particular, `tf.control_dependencies(tf.GraphKeys.UPDATE_OPS)` should not be used (consult the `tf.keras.layers.BatchNormalization` documentation).\n",
            "  pairwise_term = tf.layers.batch_normalization(\n",
            "train: 100%|██████████| 9107/9107 [00:33<00:00, 275.87it/s]\n"
          ]
        },
        {
          "name": "stdout",
          "output_type": "stream",
          "text": [
            "Epoch 1 elapsed: 33.013s\n",
            "\t \u001b[32mtrain_loss: 0.8595\u001b[0m\n",
            "==============================\n"
          ]
        },
        {
          "name": "stderr",
          "output_type": "stream",
          "text": [
            "train: 100%|██████████| 9107/9107 [00:32<00:00, 277.73it/s]\n"
          ]
        },
        {
          "name": "stdout",
          "output_type": "stream",
          "text": [
            "Epoch 2 elapsed: 32.793s\n",
            "\t \u001b[32mtrain_loss: 0.571\u001b[0m\n",
            "==============================\n"
          ]
        },
        {
          "name": "stderr",
          "output_type": "stream",
          "text": [
            "train: 100%|██████████| 9107/9107 [00:33<00:00, 275.55it/s]\n"
          ]
        },
        {
          "name": "stdout",
          "output_type": "stream",
          "text": [
            "Epoch 3 elapsed: 33.052s\n",
            "\t \u001b[32mtrain_loss: 0.5311\u001b[0m\n",
            "==============================\n"
          ]
        },
        {
          "name": "stderr",
          "output_type": "stream",
          "text": [
            "train: 100%|██████████| 9107/9107 [00:32<00:00, 280.71it/s]\n"
          ]
        },
        {
          "name": "stdout",
          "output_type": "stream",
          "text": [
            "Epoch 4 elapsed: 32.445s\n",
            "\t \u001b[32mtrain_loss: 0.5121\u001b[0m\n",
            "==============================\n"
          ]
        },
        {
          "name": "stderr",
          "output_type": "stream",
          "text": [
            "train: 100%|██████████| 9107/9107 [00:32<00:00, 277.42it/s]\n"
          ]
        },
        {
          "name": "stdout",
          "output_type": "stream",
          "text": [
            "Epoch 5 elapsed: 32.829s\n",
            "\t \u001b[32mtrain_loss: 0.5007\u001b[0m\n",
            "==============================\n"
          ]
        },
        {
          "name": "stderr",
          "output_type": "stream",
          "text": [
            "train: 100%|██████████| 9107/9107 [00:32<00:00, 284.42it/s]\n"
          ]
        },
        {
          "name": "stdout",
          "output_type": "stream",
          "text": [
            "Epoch 6 elapsed: 32.023s\n",
            "\t \u001b[32mtrain_loss: 0.4927\u001b[0m\n",
            "==============================\n"
          ]
        },
        {
          "name": "stderr",
          "output_type": "stream",
          "text": [
            "train: 100%|██████████| 9107/9107 [00:31<00:00, 285.08it/s]\n"
          ]
        },
        {
          "name": "stdout",
          "output_type": "stream",
          "text": [
            "Epoch 7 elapsed: 31.948s\n",
            "\t \u001b[32mtrain_loss: 0.4868\u001b[0m\n",
            "==============================\n"
          ]
        },
        {
          "name": "stderr",
          "output_type": "stream",
          "text": [
            "train: 100%|██████████| 9107/9107 [00:31<00:00, 284.64it/s]\n"
          ]
        },
        {
          "name": "stdout",
          "output_type": "stream",
          "text": [
            "Epoch 8 elapsed: 31.998s\n",
            "\t \u001b[32mtrain_loss: 0.482\u001b[0m\n",
            "==============================\n"
          ]
        },
        {
          "name": "stderr",
          "output_type": "stream",
          "text": [
            "train: 100%|██████████| 9107/9107 [00:32<00:00, 284.55it/s]\n"
          ]
        },
        {
          "name": "stdout",
          "output_type": "stream",
          "text": [
            "Epoch 9 elapsed: 32.008s\n",
            "\t \u001b[32mtrain_loss: 0.4784\u001b[0m\n",
            "==============================\n"
          ]
        },
        {
          "name": "stderr",
          "output_type": "stream",
          "text": [
            "train: 100%|██████████| 9107/9107 [00:32<00:00, 283.25it/s]\n"
          ]
        },
        {
          "name": "stdout",
          "output_type": "stream",
          "text": [
            "Epoch 10 elapsed: 32.154s\n",
            "\t \u001b[32mtrain_loss: 0.4751\u001b[0m\n",
            "==============================\n"
          ]
        },
        {
          "name": "stderr",
          "output_type": "stream",
          "text": [
            "eval_pointwise: 100%|██████████| 36/36 [00:00<00:00, 539.43it/s]\n"
          ]
        },
        {
          "name": "stdout",
          "output_type": "stream",
          "text": [
            "Training start time: \u001b[35m2025-05-23 03:12:33\u001b[0m\n",
            "total params: \u001b[33m187,086\u001b[0m | embedding params: \u001b[33m187,036\u001b[0m | network params: \u001b[33m50\u001b[0m\n"
          ]
        },
        {
          "name": "stderr",
          "output_type": "stream",
          "text": [
            "/usr/local/lib/python3.11/dist-packages/libreco/algorithms/fm.py:166: UserWarning: `tf.layers.batch_normalization` is deprecated and will be removed in a future version. Please use `tf.keras.layers.BatchNormalization` instead. In particular, `tf.control_dependencies(tf.GraphKeys.UPDATE_OPS)` should not be used (consult the `tf.keras.layers.BatchNormalization` documentation).\n",
            "  pairwise_term = tf.layers.batch_normalization(\n",
            "train: 100%|██████████| 9107/9107 [00:32<00:00, 277.22it/s]\n"
          ]
        },
        {
          "name": "stdout",
          "output_type": "stream",
          "text": [
            "Epoch 1 elapsed: 32.853s\n",
            "\t \u001b[32mtrain_loss: 0.8595\u001b[0m\n",
            "==============================\n"
          ]
        },
        {
          "name": "stderr",
          "output_type": "stream",
          "text": [
            "train: 100%|██████████| 9107/9107 [00:33<00:00, 274.69it/s]\n"
          ]
        },
        {
          "name": "stdout",
          "output_type": "stream",
          "text": [
            "Epoch 2 elapsed: 33.156s\n",
            "\t \u001b[32mtrain_loss: 0.571\u001b[0m\n",
            "==============================\n"
          ]
        },
        {
          "name": "stderr",
          "output_type": "stream",
          "text": [
            "train: 100%|██████████| 9107/9107 [00:33<00:00, 273.57it/s]\n"
          ]
        },
        {
          "name": "stdout",
          "output_type": "stream",
          "text": [
            "Epoch 3 elapsed: 33.291s\n",
            "\t \u001b[32mtrain_loss: 0.5311\u001b[0m\n",
            "==============================\n"
          ]
        },
        {
          "name": "stderr",
          "output_type": "stream",
          "text": [
            "train: 100%|██████████| 9107/9107 [00:33<00:00, 272.22it/s]\n"
          ]
        },
        {
          "name": "stdout",
          "output_type": "stream",
          "text": [
            "Epoch 4 elapsed: 33.456s\n",
            "\t \u001b[32mtrain_loss: 0.5121\u001b[0m\n",
            "==============================\n"
          ]
        },
        {
          "name": "stderr",
          "output_type": "stream",
          "text": [
            "train: 100%|██████████| 9107/9107 [00:33<00:00, 275.83it/s]\n"
          ]
        },
        {
          "name": "stdout",
          "output_type": "stream",
          "text": [
            "Epoch 5 elapsed: 33.019s\n",
            "\t \u001b[32mtrain_loss: 0.5007\u001b[0m\n",
            "==============================\n"
          ]
        },
        {
          "name": "stderr",
          "output_type": "stream",
          "text": [
            "train: 100%|██████████| 9107/9107 [00:32<00:00, 276.88it/s]\n"
          ]
        },
        {
          "name": "stdout",
          "output_type": "stream",
          "text": [
            "Epoch 6 elapsed: 32.894s\n",
            "\t \u001b[32mtrain_loss: 0.4927\u001b[0m\n",
            "==============================\n"
          ]
        },
        {
          "name": "stderr",
          "output_type": "stream",
          "text": [
            "train: 100%|██████████| 9107/9107 [00:33<00:00, 273.04it/s]\n"
          ]
        },
        {
          "name": "stdout",
          "output_type": "stream",
          "text": [
            "Epoch 7 elapsed: 33.356s\n",
            "\t \u001b[32mtrain_loss: 0.4868\u001b[0m\n",
            "==============================\n"
          ]
        },
        {
          "name": "stderr",
          "output_type": "stream",
          "text": [
            "train: 100%|██████████| 9107/9107 [00:33<00:00, 273.29it/s]\n"
          ]
        },
        {
          "name": "stdout",
          "output_type": "stream",
          "text": [
            "Epoch 8 elapsed: 33.326s\n",
            "\t \u001b[32mtrain_loss: 0.482\u001b[0m\n",
            "==============================\n"
          ]
        },
        {
          "name": "stderr",
          "output_type": "stream",
          "text": [
            "train: 100%|██████████| 9107/9107 [00:32<00:00, 277.03it/s]\n"
          ]
        },
        {
          "name": "stdout",
          "output_type": "stream",
          "text": [
            "Epoch 9 elapsed: 32.876s\n",
            "\t \u001b[32mtrain_loss: 0.4784\u001b[0m\n",
            "==============================\n"
          ]
        },
        {
          "name": "stderr",
          "output_type": "stream",
          "text": [
            "train: 100%|██████████| 9107/9107 [00:32<00:00, 276.74it/s]\n"
          ]
        },
        {
          "name": "stdout",
          "output_type": "stream",
          "text": [
            "Epoch 10 elapsed: 32.910s\n",
            "\t \u001b[32mtrain_loss: 0.4751\u001b[0m\n",
            "==============================\n"
          ]
        },
        {
          "name": "stderr",
          "output_type": "stream",
          "text": [
            "eval_pointwise: 100%|██████████| 36/36 [00:00<00:00, 470.04it/s]\n"
          ]
        },
        {
          "name": "stdout",
          "output_type": "stream",
          "text": [
            "\n",
            "LibReco FM: 0.7829767979460565 7.717659106501686e-10\n"
          ]
        }
      ],
      "source": [
        "print(\"\\nLibReco FM:\", *libreco_cv(ext, algo_name='FM'))"
      ]
    },
    {
      "cell_type": "code",
      "execution_count": null,
      "id": "ab713358-e6ff-49c8-af6e-b9a88aee7e10",
      "metadata": {
        "colab": {
          "background_save": true
        },
        "id": "ab713358-e6ff-49c8-af6e-b9a88aee7e10",
        "outputId": "793a98b0-dce1-444e-dc59-f1febb8e7522"
      },
      "outputs": [
        {
          "name": "stdout",
          "output_type": "stream",
          "text": [
            "Training start time: \u001b[35m2025-05-23 03:18:08\u001b[0m\n"
          ]
        },
        {
          "name": "stderr",
          "output_type": "stream",
          "text": [
            "/usr/local/lib/python3.11/dist-packages/libreco/layers/dense.py:31: UserWarning: `tf.layers.batch_normalization` is deprecated and will be removed in a future version. Please use `tf.keras.layers.BatchNormalization` instead. In particular, `tf.control_dependencies(tf.GraphKeys.UPDATE_OPS)` should not be used (consult the `tf.keras.layers.BatchNormalization` documentation).\n",
            "  net = tf.layers.batch_normalization(net, training=is_training)\n",
            "/usr/local/lib/python3.11/dist-packages/libreco/layers/dense.py:39: UserWarning: `tf.layers.batch_normalization` is deprecated and will be removed in a future version. Please use `tf.keras.layers.BatchNormalization` instead. In particular, `tf.control_dependencies(tf.GraphKeys.UPDATE_OPS)` should not be used (consult the `tf.keras.layers.BatchNormalization` documentation).\n",
            "  net = tf.layers.batch_normalization(net, training=is_training)\n"
          ]
        },
        {
          "name": "stdout",
          "output_type": "stream",
          "text": [
            "total params: \u001b[33m202,095\u001b[0m | embedding params: \u001b[33m187,260\u001b[0m | network params: \u001b[33m14,835\u001b[0m\n"
          ]
        },
        {
          "name": "stderr",
          "output_type": "stream",
          "text": [
            "train: 100%|██████████| 9107/9107 [00:44<00:00, 205.08it/s]\n"
          ]
        },
        {
          "name": "stdout",
          "output_type": "stream",
          "text": [
            "Epoch 1 elapsed: 44.409s\n",
            "\t \u001b[32mtrain_loss: 0.7865\u001b[0m\n",
            "==============================\n"
          ]
        },
        {
          "name": "stderr",
          "output_type": "stream",
          "text": [
            "train: 100%|██████████| 9107/9107 [00:44<00:00, 205.75it/s]\n"
          ]
        },
        {
          "name": "stdout",
          "output_type": "stream",
          "text": [
            "Epoch 2 elapsed: 44.264s\n",
            "\t \u001b[32mtrain_loss: 0.6297\u001b[0m\n",
            "==============================\n"
          ]
        },
        {
          "name": "stderr",
          "output_type": "stream",
          "text": [
            "train: 100%|██████████| 9107/9107 [00:44<00:00, 204.15it/s]\n"
          ]
        },
        {
          "name": "stdout",
          "output_type": "stream",
          "text": [
            "Epoch 3 elapsed: 44.612s\n",
            "\t \u001b[32mtrain_loss: 0.604\u001b[0m\n",
            "==============================\n"
          ]
        },
        {
          "name": "stderr",
          "output_type": "stream",
          "text": [
            "train: 100%|██████████| 9107/9107 [00:44<00:00, 204.77it/s]\n"
          ]
        },
        {
          "name": "stdout",
          "output_type": "stream",
          "text": [
            "Epoch 4 elapsed: 44.477s\n",
            "\t \u001b[32mtrain_loss: 0.5729\u001b[0m\n",
            "==============================\n"
          ]
        },
        {
          "name": "stderr",
          "output_type": "stream",
          "text": [
            "train: 100%|██████████| 9107/9107 [00:44<00:00, 205.86it/s]\n"
          ]
        },
        {
          "name": "stdout",
          "output_type": "stream",
          "text": [
            "Epoch 5 elapsed: 44.242s\n",
            "\t \u001b[32mtrain_loss: 0.5438\u001b[0m\n",
            "==============================\n"
          ]
        },
        {
          "name": "stderr",
          "output_type": "stream",
          "text": [
            "train: 100%|██████████| 9107/9107 [00:44<00:00, 205.92it/s]\n"
          ]
        },
        {
          "name": "stdout",
          "output_type": "stream",
          "text": [
            "Epoch 6 elapsed: 44.228s\n",
            "\t \u001b[32mtrain_loss: 0.5229\u001b[0m\n",
            "==============================\n"
          ]
        },
        {
          "name": "stderr",
          "output_type": "stream",
          "text": [
            "train: 100%|██████████| 9107/9107 [00:44<00:00, 205.72it/s]\n"
          ]
        },
        {
          "name": "stdout",
          "output_type": "stream",
          "text": [
            "Epoch 7 elapsed: 44.272s\n",
            "\t \u001b[32mtrain_loss: 0.509\u001b[0m\n",
            "==============================\n"
          ]
        },
        {
          "name": "stderr",
          "output_type": "stream",
          "text": [
            "train: 100%|██████████| 9107/9107 [00:44<00:00, 206.86it/s]\n"
          ]
        },
        {
          "name": "stdout",
          "output_type": "stream",
          "text": [
            "Epoch 8 elapsed: 44.027s\n",
            "\t \u001b[32mtrain_loss: 0.499\u001b[0m\n",
            "==============================\n"
          ]
        },
        {
          "name": "stderr",
          "output_type": "stream",
          "text": [
            "train: 100%|██████████| 9107/9107 [00:43<00:00, 207.90it/s]\n"
          ]
        },
        {
          "name": "stdout",
          "output_type": "stream",
          "text": [
            "Epoch 9 elapsed: 43.807s\n",
            "\t \u001b[32mtrain_loss: 0.4918\u001b[0m\n",
            "==============================\n"
          ]
        },
        {
          "name": "stderr",
          "output_type": "stream",
          "text": [
            "train: 100%|██████████| 9107/9107 [00:43<00:00, 207.54it/s]\n"
          ]
        },
        {
          "name": "stdout",
          "output_type": "stream",
          "text": [
            "Epoch 10 elapsed: 43.883s\n",
            "\t \u001b[32mtrain_loss: 0.4859\u001b[0m\n",
            "==============================\n"
          ]
        },
        {
          "name": "stderr",
          "output_type": "stream",
          "text": [
            "eval_pointwise: 100%|██████████| 36/36 [00:00<00:00, 376.99it/s]\n"
          ]
        },
        {
          "name": "stdout",
          "output_type": "stream",
          "text": [
            "Training start time: \u001b[35m2025-05-23 03:25:33\u001b[0m\n"
          ]
        },
        {
          "name": "stderr",
          "output_type": "stream",
          "text": [
            "/usr/local/lib/python3.11/dist-packages/libreco/layers/dense.py:31: UserWarning: `tf.layers.batch_normalization` is deprecated and will be removed in a future version. Please use `tf.keras.layers.BatchNormalization` instead. In particular, `tf.control_dependencies(tf.GraphKeys.UPDATE_OPS)` should not be used (consult the `tf.keras.layers.BatchNormalization` documentation).\n",
            "  net = tf.layers.batch_normalization(net, training=is_training)\n",
            "/usr/local/lib/python3.11/dist-packages/libreco/layers/dense.py:39: UserWarning: `tf.layers.batch_normalization` is deprecated and will be removed in a future version. Please use `tf.keras.layers.BatchNormalization` instead. In particular, `tf.control_dependencies(tf.GraphKeys.UPDATE_OPS)` should not be used (consult the `tf.keras.layers.BatchNormalization` documentation).\n",
            "  net = tf.layers.batch_normalization(net, training=is_training)\n"
          ]
        },
        {
          "name": "stdout",
          "output_type": "stream",
          "text": [
            "total params: \u001b[33m202,095\u001b[0m | embedding params: \u001b[33m187,260\u001b[0m | network params: \u001b[33m14,835\u001b[0m\n"
          ]
        },
        {
          "name": "stderr",
          "output_type": "stream",
          "text": [
            "train: 100%|██████████| 9107/9107 [00:42<00:00, 213.99it/s]\n"
          ]
        },
        {
          "name": "stdout",
          "output_type": "stream",
          "text": [
            "Epoch 1 elapsed: 42.560s\n",
            "\t \u001b[32mtrain_loss: 0.7862\u001b[0m\n",
            "==============================\n"
          ]
        },
        {
          "name": "stderr",
          "output_type": "stream",
          "text": [
            "train: 100%|██████████| 9107/9107 [00:42<00:00, 216.02it/s]\n"
          ]
        },
        {
          "name": "stdout",
          "output_type": "stream",
          "text": [
            "Epoch 2 elapsed: 42.161s\n",
            "\t \u001b[32mtrain_loss: 0.6303\u001b[0m\n",
            "==============================\n"
          ]
        },
        {
          "name": "stderr",
          "output_type": "stream",
          "text": [
            "train: 100%|██████████| 9107/9107 [00:42<00:00, 215.40it/s]\n"
          ]
        },
        {
          "name": "stdout",
          "output_type": "stream",
          "text": [
            "Epoch 3 elapsed: 42.282s\n",
            "\t \u001b[32mtrain_loss: 0.6045\u001b[0m\n",
            "==============================\n"
          ]
        },
        {
          "name": "stderr",
          "output_type": "stream",
          "text": [
            "train: 100%|██████████| 9107/9107 [00:41<00:00, 216.87it/s]\n"
          ]
        },
        {
          "name": "stdout",
          "output_type": "stream",
          "text": [
            "Epoch 4 elapsed: 41.996s\n",
            "\t \u001b[32mtrain_loss: 0.5736\u001b[0m\n",
            "==============================\n"
          ]
        },
        {
          "name": "stderr",
          "output_type": "stream",
          "text": [
            "train: 100%|██████████| 9107/9107 [00:43<00:00, 210.34it/s]\n"
          ]
        },
        {
          "name": "stdout",
          "output_type": "stream",
          "text": [
            "Epoch 5 elapsed: 43.299s\n",
            "\t \u001b[32mtrain_loss: 0.5444\u001b[0m\n",
            "==============================\n"
          ]
        },
        {
          "name": "stderr",
          "output_type": "stream",
          "text": [
            "train: 100%|██████████| 9107/9107 [00:42<00:00, 212.34it/s]\n"
          ]
        },
        {
          "name": "stdout",
          "output_type": "stream",
          "text": [
            "Epoch 6 elapsed: 42.891s\n",
            "\t \u001b[32mtrain_loss: 0.5229\u001b[0m\n",
            "==============================\n"
          ]
        },
        {
          "name": "stderr",
          "output_type": "stream",
          "text": [
            "train: 100%|██████████| 9107/9107 [00:43<00:00, 210.54it/s]\n"
          ]
        },
        {
          "name": "stdout",
          "output_type": "stream",
          "text": [
            "Epoch 7 elapsed: 43.259s\n",
            "\t \u001b[32mtrain_loss: 0.5084\u001b[0m\n",
            "==============================\n"
          ]
        },
        {
          "name": "stderr",
          "output_type": "stream",
          "text": [
            "train: 100%|██████████| 9107/9107 [00:42<00:00, 212.53it/s]\n"
          ]
        },
        {
          "name": "stdout",
          "output_type": "stream",
          "text": [
            "Epoch 8 elapsed: 42.853s\n",
            "\t \u001b[32mtrain_loss: 0.4983\u001b[0m\n",
            "==============================\n"
          ]
        },
        {
          "name": "stderr",
          "output_type": "stream",
          "text": [
            "train: 100%|██████████| 9107/9107 [00:42<00:00, 214.42it/s]\n"
          ]
        },
        {
          "name": "stdout",
          "output_type": "stream",
          "text": [
            "Epoch 9 elapsed: 42.476s\n",
            "\t \u001b[32mtrain_loss: 0.4911\u001b[0m\n",
            "==============================\n"
          ]
        },
        {
          "name": "stderr",
          "output_type": "stream",
          "text": [
            "train: 100%|██████████| 9107/9107 [00:42<00:00, 212.20it/s]\n"
          ]
        },
        {
          "name": "stdout",
          "output_type": "stream",
          "text": [
            "Epoch 10 elapsed: 42.919s\n",
            "\t \u001b[32mtrain_loss: 0.4853\u001b[0m\n",
            "==============================\n"
          ]
        },
        {
          "name": "stderr",
          "output_type": "stream",
          "text": [
            "eval_pointwise: 100%|██████████| 36/36 [00:00<00:00, 386.80it/s]\n"
          ]
        },
        {
          "name": "stdout",
          "output_type": "stream",
          "text": [
            "Training start time: \u001b[35m2025-05-23 03:32:44\u001b[0m\n"
          ]
        },
        {
          "name": "stderr",
          "output_type": "stream",
          "text": [
            "/usr/local/lib/python3.11/dist-packages/libreco/layers/dense.py:31: UserWarning: `tf.layers.batch_normalization` is deprecated and will be removed in a future version. Please use `tf.keras.layers.BatchNormalization` instead. In particular, `tf.control_dependencies(tf.GraphKeys.UPDATE_OPS)` should not be used (consult the `tf.keras.layers.BatchNormalization` documentation).\n",
            "  net = tf.layers.batch_normalization(net, training=is_training)\n",
            "/usr/local/lib/python3.11/dist-packages/libreco/layers/dense.py:39: UserWarning: `tf.layers.batch_normalization` is deprecated and will be removed in a future version. Please use `tf.keras.layers.BatchNormalization` instead. In particular, `tf.control_dependencies(tf.GraphKeys.UPDATE_OPS)` should not be used (consult the `tf.keras.layers.BatchNormalization` documentation).\n",
            "  net = tf.layers.batch_normalization(net, training=is_training)\n"
          ]
        },
        {
          "name": "stdout",
          "output_type": "stream",
          "text": [
            "total params: \u001b[33m202,095\u001b[0m | embedding params: \u001b[33m187,260\u001b[0m | network params: \u001b[33m14,835\u001b[0m\n"
          ]
        },
        {
          "name": "stderr",
          "output_type": "stream",
          "text": [
            "train: 100%|██████████| 9107/9107 [00:43<00:00, 210.19it/s]\n"
          ]
        },
        {
          "name": "stdout",
          "output_type": "stream",
          "text": [
            "Epoch 1 elapsed: 43.329s\n",
            "\t \u001b[32mtrain_loss: 0.7864\u001b[0m\n",
            "==============================\n"
          ]
        },
        {
          "name": "stderr",
          "output_type": "stream",
          "text": [
            "train: 100%|██████████| 9107/9107 [00:42<00:00, 211.86it/s]\n"
          ]
        },
        {
          "name": "stdout",
          "output_type": "stream",
          "text": [
            "Epoch 2 elapsed: 42.987s\n",
            "\t \u001b[32mtrain_loss: 0.6296\u001b[0m\n",
            "==============================\n"
          ]
        },
        {
          "name": "stderr",
          "output_type": "stream",
          "text": [
            "train: 100%|██████████| 9107/9107 [00:42<00:00, 213.12it/s]\n"
          ]
        },
        {
          "name": "stdout",
          "output_type": "stream",
          "text": [
            "Epoch 3 elapsed: 42.734s\n",
            "\t \u001b[32mtrain_loss: 0.6043\u001b[0m\n",
            "==============================\n"
          ]
        },
        {
          "name": "stderr",
          "output_type": "stream",
          "text": [
            "train: 100%|██████████| 9107/9107 [00:43<00:00, 207.22it/s]\n"
          ]
        },
        {
          "name": "stdout",
          "output_type": "stream",
          "text": [
            "Epoch 4 elapsed: 43.950s\n",
            "\t \u001b[32mtrain_loss: 0.5748\u001b[0m\n",
            "==============================\n"
          ]
        },
        {
          "name": "stderr",
          "output_type": "stream",
          "text": [
            "train: 100%|██████████| 9107/9107 [00:43<00:00, 210.50it/s]\n"
          ]
        },
        {
          "name": "stdout",
          "output_type": "stream",
          "text": [
            "Epoch 5 elapsed: 43.266s\n",
            "\t \u001b[32mtrain_loss: 0.5481\u001b[0m\n",
            "==============================\n"
          ]
        },
        {
          "name": "stderr",
          "output_type": "stream",
          "text": [
            "train: 100%|██████████| 9107/9107 [00:43<00:00, 209.00it/s]\n"
          ]
        },
        {
          "name": "stdout",
          "output_type": "stream",
          "text": [
            "Epoch 6 elapsed: 43.577s\n",
            "\t \u001b[32mtrain_loss: 0.5272\u001b[0m\n",
            "==============================\n"
          ]
        },
        {
          "name": "stderr",
          "output_type": "stream",
          "text": [
            "train: 100%|██████████| 9107/9107 [00:43<00:00, 209.33it/s]\n"
          ]
        },
        {
          "name": "stdout",
          "output_type": "stream",
          "text": [
            "Epoch 7 elapsed: 43.508s\n",
            "\t \u001b[32mtrain_loss: 0.5121\u001b[0m\n",
            "==============================\n"
          ]
        },
        {
          "name": "stderr",
          "output_type": "stream",
          "text": [
            "train: 100%|██████████| 9107/9107 [00:43<00:00, 210.92it/s]\n"
          ]
        },
        {
          "name": "stdout",
          "output_type": "stream",
          "text": [
            "Epoch 8 elapsed: 43.181s\n",
            "\t \u001b[32mtrain_loss: 0.5009\u001b[0m\n",
            "==============================\n"
          ]
        },
        {
          "name": "stderr",
          "output_type": "stream",
          "text": [
            "train: 100%|██████████| 9107/9107 [00:43<00:00, 210.65it/s]\n"
          ]
        },
        {
          "name": "stdout",
          "output_type": "stream",
          "text": [
            "Epoch 9 elapsed: 43.236s\n",
            "\t \u001b[32mtrain_loss: 0.4929\u001b[0m\n",
            "==============================\n"
          ]
        },
        {
          "name": "stderr",
          "output_type": "stream",
          "text": [
            "train: 100%|██████████| 9107/9107 [00:43<00:00, 211.12it/s]\n"
          ]
        },
        {
          "name": "stdout",
          "output_type": "stream",
          "text": [
            "Epoch 10 elapsed: 43.140s\n",
            "\t \u001b[32mtrain_loss: 0.4865\u001b[0m\n",
            "==============================\n"
          ]
        },
        {
          "name": "stderr",
          "output_type": "stream",
          "text": [
            "eval_pointwise: 100%|██████████| 36/36 [00:00<00:00, 339.54it/s]\n"
          ]
        },
        {
          "name": "stdout",
          "output_type": "stream",
          "text": [
            "Training start time: \u001b[35m2025-05-23 03:40:01\u001b[0m\n"
          ]
        },
        {
          "name": "stderr",
          "output_type": "stream",
          "text": [
            "/usr/local/lib/python3.11/dist-packages/libreco/layers/dense.py:31: UserWarning: `tf.layers.batch_normalization` is deprecated and will be removed in a future version. Please use `tf.keras.layers.BatchNormalization` instead. In particular, `tf.control_dependencies(tf.GraphKeys.UPDATE_OPS)` should not be used (consult the `tf.keras.layers.BatchNormalization` documentation).\n",
            "  net = tf.layers.batch_normalization(net, training=is_training)\n",
            "/usr/local/lib/python3.11/dist-packages/libreco/layers/dense.py:39: UserWarning: `tf.layers.batch_normalization` is deprecated and will be removed in a future version. Please use `tf.keras.layers.BatchNormalization` instead. In particular, `tf.control_dependencies(tf.GraphKeys.UPDATE_OPS)` should not be used (consult the `tf.keras.layers.BatchNormalization` documentation).\n",
            "  net = tf.layers.batch_normalization(net, training=is_training)\n"
          ]
        },
        {
          "name": "stdout",
          "output_type": "stream",
          "text": [
            "total params: \u001b[33m202,095\u001b[0m | embedding params: \u001b[33m187,260\u001b[0m | network params: \u001b[33m14,835\u001b[0m\n"
          ]
        },
        {
          "name": "stderr",
          "output_type": "stream",
          "text": [
            "train: 100%|██████████| 9107/9107 [00:44<00:00, 206.42it/s]\n"
          ]
        },
        {
          "name": "stdout",
          "output_type": "stream",
          "text": [
            "Epoch 1 elapsed: 44.120s\n",
            "\t \u001b[32mtrain_loss: 0.7863\u001b[0m\n",
            "==============================\n"
          ]
        },
        {
          "name": "stderr",
          "output_type": "stream",
          "text": [
            "train: 100%|██████████| 9107/9107 [00:43<00:00, 210.44it/s]\n"
          ]
        },
        {
          "name": "stdout",
          "output_type": "stream",
          "text": [
            "Epoch 2 elapsed: 43.279s\n",
            "\t \u001b[32mtrain_loss: 0.631\u001b[0m\n",
            "==============================\n"
          ]
        },
        {
          "name": "stderr",
          "output_type": "stream",
          "text": [
            "train: 100%|██████████| 9107/9107 [00:43<00:00, 208.85it/s]\n"
          ]
        },
        {
          "name": "stdout",
          "output_type": "stream",
          "text": [
            "Epoch 3 elapsed: 43.608s\n",
            "\t \u001b[32mtrain_loss: 0.6074\u001b[0m\n",
            "==============================\n"
          ]
        },
        {
          "name": "stderr",
          "output_type": "stream",
          "text": [
            "train: 100%|██████████| 9107/9107 [00:43<00:00, 209.28it/s]\n"
          ]
        },
        {
          "name": "stdout",
          "output_type": "stream",
          "text": [
            "Epoch 4 elapsed: 43.518s\n",
            "\t \u001b[32mtrain_loss: 0.5736\u001b[0m\n",
            "==============================\n"
          ]
        },
        {
          "name": "stderr",
          "output_type": "stream",
          "text": [
            "train: 100%|██████████| 9107/9107 [00:43<00:00, 208.06it/s]\n"
          ]
        },
        {
          "name": "stdout",
          "output_type": "stream",
          "text": [
            "Epoch 5 elapsed: 43.774s\n",
            "\t \u001b[32mtrain_loss: 0.5428\u001b[0m\n",
            "==============================\n"
          ]
        },
        {
          "name": "stderr",
          "output_type": "stream",
          "text": [
            "train: 100%|██████████| 9107/9107 [00:43<00:00, 211.26it/s]\n"
          ]
        },
        {
          "name": "stdout",
          "output_type": "stream",
          "text": [
            "Epoch 6 elapsed: 43.110s\n",
            "\t \u001b[32mtrain_loss: 0.5214\u001b[0m\n",
            "==============================\n"
          ]
        },
        {
          "name": "stderr",
          "output_type": "stream",
          "text": [
            "train: 100%|██████████| 9107/9107 [00:43<00:00, 210.01it/s]\n"
          ]
        },
        {
          "name": "stdout",
          "output_type": "stream",
          "text": [
            "Epoch 7 elapsed: 43.368s\n",
            "\t \u001b[32mtrain_loss: 0.5073\u001b[0m\n",
            "==============================\n"
          ]
        },
        {
          "name": "stderr",
          "output_type": "stream",
          "text": [
            "train: 100%|██████████| 9107/9107 [00:43<00:00, 208.07it/s]\n"
          ]
        },
        {
          "name": "stdout",
          "output_type": "stream",
          "text": [
            "Epoch 8 elapsed: 43.771s\n",
            "\t \u001b[32mtrain_loss: 0.4976\u001b[0m\n",
            "==============================\n"
          ]
        },
        {
          "name": "stderr",
          "output_type": "stream",
          "text": [
            "train: 100%|██████████| 9107/9107 [00:43<00:00, 208.25it/s]\n"
          ]
        },
        {
          "name": "stdout",
          "output_type": "stream",
          "text": [
            "Epoch 9 elapsed: 43.733s\n",
            "\t \u001b[32mtrain_loss: 0.4903\u001b[0m\n",
            "==============================\n"
          ]
        },
        {
          "name": "stderr",
          "output_type": "stream",
          "text": [
            "train: 100%|██████████| 9107/9107 [00:43<00:00, 210.06it/s]\n"
          ]
        },
        {
          "name": "stdout",
          "output_type": "stream",
          "text": [
            "Epoch 10 elapsed: 43.356s\n",
            "\t \u001b[32mtrain_loss: 0.4847\u001b[0m\n",
            "==============================\n"
          ]
        },
        {
          "name": "stderr",
          "output_type": "stream",
          "text": [
            "eval_pointwise: 100%|██████████| 36/36 [00:00<00:00, 345.95it/s]\n"
          ]
        },
        {
          "name": "stdout",
          "output_type": "stream",
          "text": [
            "Training start time: \u001b[35m2025-05-23 03:47:19\u001b[0m\n"
          ]
        },
        {
          "name": "stderr",
          "output_type": "stream",
          "text": [
            "/usr/local/lib/python3.11/dist-packages/libreco/layers/dense.py:31: UserWarning: `tf.layers.batch_normalization` is deprecated and will be removed in a future version. Please use `tf.keras.layers.BatchNormalization` instead. In particular, `tf.control_dependencies(tf.GraphKeys.UPDATE_OPS)` should not be used (consult the `tf.keras.layers.BatchNormalization` documentation).\n",
            "  net = tf.layers.batch_normalization(net, training=is_training)\n",
            "/usr/local/lib/python3.11/dist-packages/libreco/layers/dense.py:39: UserWarning: `tf.layers.batch_normalization` is deprecated and will be removed in a future version. Please use `tf.keras.layers.BatchNormalization` instead. In particular, `tf.control_dependencies(tf.GraphKeys.UPDATE_OPS)` should not be used (consult the `tf.keras.layers.BatchNormalization` documentation).\n",
            "  net = tf.layers.batch_normalization(net, training=is_training)\n"
          ]
        },
        {
          "name": "stdout",
          "output_type": "stream",
          "text": [
            "total params: \u001b[33m202,095\u001b[0m | embedding params: \u001b[33m187,260\u001b[0m | network params: \u001b[33m14,835\u001b[0m\n"
          ]
        },
        {
          "name": "stderr",
          "output_type": "stream",
          "text": [
            "train: 100%|██████████| 9107/9107 [00:44<00:00, 204.02it/s]\n"
          ]
        },
        {
          "name": "stdout",
          "output_type": "stream",
          "text": [
            "Epoch 1 elapsed: 44.640s\n",
            "\t \u001b[32mtrain_loss: 0.786\u001b[0m\n",
            "==============================\n"
          ]
        },
        {
          "name": "stderr",
          "output_type": "stream",
          "text": [
            "train: 100%|██████████| 9107/9107 [00:44<00:00, 204.55it/s]\n"
          ]
        },
        {
          "name": "stdout",
          "output_type": "stream",
          "text": [
            "Epoch 2 elapsed: 44.524s\n",
            "\t \u001b[32mtrain_loss: 0.6305\u001b[0m\n",
            "==============================\n"
          ]
        },
        {
          "name": "stderr",
          "output_type": "stream",
          "text": [
            "train: 100%|██████████| 9107/9107 [00:44<00:00, 204.50it/s]\n"
          ]
        },
        {
          "name": "stdout",
          "output_type": "stream",
          "text": [
            "Epoch 3 elapsed: 44.535s\n",
            "\t \u001b[32mtrain_loss: 0.6067\u001b[0m\n",
            "==============================\n"
          ]
        },
        {
          "name": "stderr",
          "output_type": "stream",
          "text": [
            "train: 100%|██████████| 9107/9107 [00:44<00:00, 204.03it/s]\n"
          ]
        },
        {
          "name": "stdout",
          "output_type": "stream",
          "text": [
            "Epoch 4 elapsed: 44.639s\n",
            "\t \u001b[32mtrain_loss: 0.5774\u001b[0m\n",
            "==============================\n"
          ]
        },
        {
          "name": "stderr",
          "output_type": "stream",
          "text": [
            "train: 100%|██████████| 9107/9107 [00:44<00:00, 204.16it/s]\n"
          ]
        },
        {
          "name": "stdout",
          "output_type": "stream",
          "text": [
            "Epoch 5 elapsed: 44.609s\n",
            "\t \u001b[32mtrain_loss: 0.5488\u001b[0m\n",
            "==============================\n"
          ]
        },
        {
          "name": "stderr",
          "output_type": "stream",
          "text": [
            "train: 100%|██████████| 9107/9107 [00:44<00:00, 206.29it/s]\n"
          ]
        },
        {
          "name": "stdout",
          "output_type": "stream",
          "text": [
            "Epoch 6 elapsed: 44.148s\n",
            "\t \u001b[32mtrain_loss: 0.5269\u001b[0m\n",
            "==============================\n"
          ]
        },
        {
          "name": "stderr",
          "output_type": "stream",
          "text": [
            "train: 100%|██████████| 9107/9107 [00:43<00:00, 207.08it/s]\n"
          ]
        },
        {
          "name": "stdout",
          "output_type": "stream",
          "text": [
            "Epoch 7 elapsed: 43.980s\n",
            "\t \u001b[32mtrain_loss: 0.5118\u001b[0m\n",
            "==============================\n"
          ]
        },
        {
          "name": "stderr",
          "output_type": "stream",
          "text": [
            "train: 100%|██████████| 9107/9107 [00:44<00:00, 205.80it/s]\n"
          ]
        },
        {
          "name": "stdout",
          "output_type": "stream",
          "text": [
            "Epoch 8 elapsed: 44.255s\n",
            "\t \u001b[32mtrain_loss: 0.5011\u001b[0m\n",
            "==============================\n"
          ]
        },
        {
          "name": "stderr",
          "output_type": "stream",
          "text": [
            "train: 100%|██████████| 9107/9107 [00:44<00:00, 206.06it/s]\n"
          ]
        },
        {
          "name": "stdout",
          "output_type": "stream",
          "text": [
            "Epoch 9 elapsed: 44.199s\n",
            "\t \u001b[32mtrain_loss: 0.4934\u001b[0m\n",
            "==============================\n"
          ]
        },
        {
          "name": "stderr",
          "output_type": "stream",
          "text": [
            "train: 100%|██████████| 9107/9107 [00:44<00:00, 203.71it/s]\n"
          ]
        },
        {
          "name": "stdout",
          "output_type": "stream",
          "text": [
            "Epoch 10 elapsed: 44.710s\n",
            "\t \u001b[32mtrain_loss: 0.4871\u001b[0m\n",
            "==============================\n"
          ]
        },
        {
          "name": "stderr",
          "output_type": "stream",
          "text": [
            "eval_pointwise: 100%|██████████| 36/36 [00:00<00:00, 365.19it/s]"
          ]
        },
        {
          "name": "stdout",
          "output_type": "stream",
          "text": [
            "\n",
            "LibReco DeepFM: 0.7865077137338572 0.0007634806207167776\n"
          ]
        },
        {
          "name": "stderr",
          "output_type": "stream",
          "text": [
            "\n"
          ]
        }
      ],
      "source": [
        "print(\"\\nLibReco DeepFM:\", *libreco_cv(ext, algo_name='DeepFM'))"
      ]
    },
    {
      "cell_type": "code",
      "execution_count": null,
      "id": "add20c55-32b0-41d2-96bc-70952d813de4",
      "metadata": {
        "colab": {
          "background_save": true,
          "base_uri": "https://localhost:8080/"
        },
        "id": "add20c55-32b0-41d2-96bc-70952d813de4",
        "outputId": "57ae7c05-6759-429a-c9cf-b2ed1623ef82"
      },
      "outputs": [
        {
          "name": "stdout",
          "output_type": "stream",
          "text": [
            "Training start time: \u001b[35m2025-05-24 17:47:45\u001b[0m\n",
            "total params: \u001b[33m211,688\u001b[0m | embedding params: \u001b[33m209,128\u001b[0m | network params: \u001b[33m2,560\u001b[0m\n"
          ]
        },
        {
          "name": "stderr",
          "output_type": "stream",
          "text": [
            "train: 100%|██████████| 9107/9107 [00:41<00:00, 220.20it/s]\n"
          ]
        },
        {
          "name": "stdout",
          "output_type": "stream",
          "text": [
            "Epoch 1 elapsed: 41.359s\n",
            "\t \u001b[32mtrain_loss: 0.8755\u001b[0m\n",
            "==============================\n"
          ]
        },
        {
          "name": "stderr",
          "output_type": "stream",
          "text": [
            "train: 100%|██████████| 9107/9107 [00:39<00:00, 230.89it/s]\n"
          ]
        },
        {
          "name": "stdout",
          "output_type": "stream",
          "text": [
            "Epoch 2 elapsed: 39.446s\n",
            "\t \u001b[32mtrain_loss: 0.6317\u001b[0m\n",
            "==============================\n"
          ]
        },
        {
          "name": "stderr",
          "output_type": "stream",
          "text": [
            "train: 100%|██████████| 9107/9107 [00:39<00:00, 230.28it/s]\n"
          ]
        },
        {
          "name": "stdout",
          "output_type": "stream",
          "text": [
            "Epoch 3 elapsed: 39.550s\n",
            "\t \u001b[32mtrain_loss: 0.5838\u001b[0m\n",
            "==============================\n"
          ]
        },
        {
          "name": "stderr",
          "output_type": "stream",
          "text": [
            "train: 100%|██████████| 9107/9107 [00:39<00:00, 230.36it/s]\n"
          ]
        },
        {
          "name": "stdout",
          "output_type": "stream",
          "text": [
            "Epoch 4 elapsed: 39.536s\n",
            "\t \u001b[32mtrain_loss: 0.5475\u001b[0m\n",
            "==============================\n"
          ]
        },
        {
          "name": "stderr",
          "output_type": "stream",
          "text": [
            "train: 100%|██████████| 9107/9107 [00:39<00:00, 230.88it/s]\n"
          ]
        },
        {
          "name": "stdout",
          "output_type": "stream",
          "text": [
            "Epoch 5 elapsed: 39.447s\n",
            "\t \u001b[32mtrain_loss: 0.5244\u001b[0m\n",
            "==============================\n"
          ]
        },
        {
          "name": "stderr",
          "output_type": "stream",
          "text": [
            "train: 100%|██████████| 9107/9107 [00:39<00:00, 231.51it/s]\n"
          ]
        },
        {
          "name": "stdout",
          "output_type": "stream",
          "text": [
            "Epoch 6 elapsed: 39.340s\n",
            "\t \u001b[32mtrain_loss: 0.5104\u001b[0m\n",
            "==============================\n"
          ]
        },
        {
          "name": "stderr",
          "output_type": "stream",
          "text": [
            "train: 100%|██████████| 9107/9107 [00:39<00:00, 230.77it/s]\n"
          ]
        },
        {
          "name": "stdout",
          "output_type": "stream",
          "text": [
            "Epoch 7 elapsed: 39.467s\n",
            "\t \u001b[32mtrain_loss: 0.501\u001b[0m\n",
            "==============================\n"
          ]
        },
        {
          "name": "stderr",
          "output_type": "stream",
          "text": [
            "train: 100%|██████████| 9107/9107 [00:39<00:00, 231.58it/s]\n"
          ]
        },
        {
          "name": "stdout",
          "output_type": "stream",
          "text": [
            "Epoch 8 elapsed: 39.328s\n",
            "\t \u001b[32mtrain_loss: 0.4941\u001b[0m\n",
            "==============================\n"
          ]
        },
        {
          "name": "stderr",
          "output_type": "stream",
          "text": [
            "train: 100%|██████████| 9107/9107 [00:39<00:00, 228.84it/s]\n"
          ]
        },
        {
          "name": "stdout",
          "output_type": "stream",
          "text": [
            "Epoch 9 elapsed: 39.798s\n",
            "\t \u001b[32mtrain_loss: 0.4886\u001b[0m\n",
            "==============================\n"
          ]
        },
        {
          "name": "stderr",
          "output_type": "stream",
          "text": [
            "train: 100%|██████████| 9107/9107 [00:39<00:00, 231.64it/s]\n"
          ]
        },
        {
          "name": "stdout",
          "output_type": "stream",
          "text": [
            "Epoch 10 elapsed: 39.317s\n",
            "\t \u001b[32mtrain_loss: 0.4842\u001b[0m\n",
            "==============================\n"
          ]
        },
        {
          "name": "stderr",
          "output_type": "stream",
          "text": [
            "eval_pointwise: 100%|██████████| 36/36 [00:00<00:00, 379.75it/s]\n"
          ]
        },
        {
          "name": "stdout",
          "output_type": "stream",
          "text": [
            "Training start time: \u001b[35m2025-05-24 17:54:24\u001b[0m\n",
            "total params: \u001b[33m211,688\u001b[0m | embedding params: \u001b[33m209,128\u001b[0m | network params: \u001b[33m2,560\u001b[0m\n"
          ]
        },
        {
          "name": "stderr",
          "output_type": "stream",
          "text": [
            "train: 100%|██████████| 9107/9107 [00:39<00:00, 229.81it/s]\n"
          ]
        },
        {
          "name": "stdout",
          "output_type": "stream",
          "text": [
            "Epoch 1 elapsed: 39.630s\n",
            "\t \u001b[32mtrain_loss: 0.8792\u001b[0m\n",
            "==============================\n"
          ]
        },
        {
          "name": "stderr",
          "output_type": "stream",
          "text": [
            "train: 100%|██████████| 9107/9107 [00:39<00:00, 230.49it/s]\n"
          ]
        },
        {
          "name": "stdout",
          "output_type": "stream",
          "text": [
            "Epoch 2 elapsed: 39.514s\n",
            "\t \u001b[32mtrain_loss: 0.6314\u001b[0m\n",
            "==============================\n"
          ]
        },
        {
          "name": "stderr",
          "output_type": "stream",
          "text": [
            "train: 100%|██████████| 9107/9107 [00:39<00:00, 231.04it/s]\n"
          ]
        },
        {
          "name": "stdout",
          "output_type": "stream",
          "text": [
            "Epoch 3 elapsed: 39.420s\n",
            "\t \u001b[32mtrain_loss: 0.5846\u001b[0m\n",
            "==============================\n"
          ]
        },
        {
          "name": "stderr",
          "output_type": "stream",
          "text": [
            "train: 100%|██████████| 9107/9107 [00:39<00:00, 230.58it/s]\n"
          ]
        },
        {
          "name": "stdout",
          "output_type": "stream",
          "text": [
            "Epoch 4 elapsed: 39.499s\n",
            "\t \u001b[32mtrain_loss: 0.5476\u001b[0m\n",
            "==============================\n"
          ]
        },
        {
          "name": "stderr",
          "output_type": "stream",
          "text": [
            "train: 100%|██████████| 9107/9107 [00:39<00:00, 230.25it/s]\n"
          ]
        },
        {
          "name": "stdout",
          "output_type": "stream",
          "text": [
            "Epoch 5 elapsed: 39.556s\n",
            "\t \u001b[32mtrain_loss: 0.524\u001b[0m\n",
            "==============================\n"
          ]
        },
        {
          "name": "stderr",
          "output_type": "stream",
          "text": [
            "train: 100%|██████████| 9107/9107 [00:39<00:00, 229.57it/s]\n"
          ]
        },
        {
          "name": "stdout",
          "output_type": "stream",
          "text": [
            "Epoch 6 elapsed: 39.673s\n",
            "\t \u001b[32mtrain_loss: 0.5101\u001b[0m\n",
            "==============================\n"
          ]
        },
        {
          "name": "stderr",
          "output_type": "stream",
          "text": [
            "train: 100%|██████████| 9107/9107 [00:39<00:00, 229.14it/s]\n"
          ]
        },
        {
          "name": "stdout",
          "output_type": "stream",
          "text": [
            "Epoch 7 elapsed: 39.747s\n",
            "\t \u001b[32mtrain_loss: 0.501\u001b[0m\n",
            "==============================\n"
          ]
        },
        {
          "name": "stderr",
          "output_type": "stream",
          "text": [
            "train: 100%|██████████| 9107/9107 [00:39<00:00, 229.74it/s]\n"
          ]
        },
        {
          "name": "stdout",
          "output_type": "stream",
          "text": [
            "Epoch 8 elapsed: 39.643s\n",
            "\t \u001b[32mtrain_loss: 0.4942\u001b[0m\n",
            "==============================\n"
          ]
        },
        {
          "name": "stderr",
          "output_type": "stream",
          "text": [
            "train: 100%|██████████| 9107/9107 [00:39<00:00, 232.35it/s]\n"
          ]
        },
        {
          "name": "stdout",
          "output_type": "stream",
          "text": [
            "Epoch 9 elapsed: 39.199s\n",
            "\t \u001b[32mtrain_loss: 0.4886\u001b[0m\n",
            "==============================\n"
          ]
        },
        {
          "name": "stderr",
          "output_type": "stream",
          "text": [
            "train: 100%|██████████| 9107/9107 [00:39<00:00, 231.68it/s]\n"
          ]
        },
        {
          "name": "stdout",
          "output_type": "stream",
          "text": [
            "Epoch 10 elapsed: 39.312s\n",
            "\t \u001b[32mtrain_loss: 0.4843\u001b[0m\n",
            "==============================\n"
          ]
        },
        {
          "name": "stderr",
          "output_type": "stream",
          "text": [
            "eval_pointwise: 100%|██████████| 36/36 [00:00<00:00, 361.13it/s]\n"
          ]
        },
        {
          "name": "stdout",
          "output_type": "stream",
          "text": [
            "Training start time: \u001b[35m2025-05-24 18:01:02\u001b[0m\n",
            "total params: \u001b[33m211,688\u001b[0m | embedding params: \u001b[33m209,128\u001b[0m | network params: \u001b[33m2,560\u001b[0m\n"
          ]
        },
        {
          "name": "stderr",
          "output_type": "stream",
          "text": [
            "train: 100%|██████████| 9107/9107 [00:39<00:00, 230.83it/s]\n"
          ]
        },
        {
          "name": "stdout",
          "output_type": "stream",
          "text": [
            "Epoch 1 elapsed: 39.456s\n",
            "\t \u001b[32mtrain_loss: 0.8881\u001b[0m\n",
            "==============================\n"
          ]
        },
        {
          "name": "stderr",
          "output_type": "stream",
          "text": [
            "train: 100%|██████████| 9107/9107 [00:39<00:00, 229.92it/s]\n"
          ]
        },
        {
          "name": "stdout",
          "output_type": "stream",
          "text": [
            "Epoch 2 elapsed: 39.611s\n",
            "\t \u001b[32mtrain_loss: 0.6303\u001b[0m\n",
            "==============================\n"
          ]
        },
        {
          "name": "stderr",
          "output_type": "stream",
          "text": [
            "train: 100%|██████████| 9107/9107 [00:39<00:00, 229.81it/s]\n"
          ]
        },
        {
          "name": "stdout",
          "output_type": "stream",
          "text": [
            "Epoch 3 elapsed: 39.630s\n",
            "\t \u001b[32mtrain_loss: 0.5855\u001b[0m\n",
            "==============================\n"
          ]
        },
        {
          "name": "stderr",
          "output_type": "stream",
          "text": [
            "train: 100%|██████████| 9107/9107 [00:39<00:00, 228.64it/s]\n"
          ]
        },
        {
          "name": "stdout",
          "output_type": "stream",
          "text": [
            "Epoch 4 elapsed: 39.835s\n",
            "\t \u001b[32mtrain_loss: 0.55\u001b[0m\n",
            "==============================\n"
          ]
        },
        {
          "name": "stderr",
          "output_type": "stream",
          "text": [
            "train: 100%|██████████| 9107/9107 [00:39<00:00, 229.00it/s]\n"
          ]
        },
        {
          "name": "stdout",
          "output_type": "stream",
          "text": [
            "Epoch 5 elapsed: 39.770s\n",
            "\t \u001b[32mtrain_loss: 0.5266\u001b[0m\n",
            "==============================\n"
          ]
        },
        {
          "name": "stderr",
          "output_type": "stream",
          "text": [
            "train: 100%|██████████| 9107/9107 [00:39<00:00, 228.94it/s]\n"
          ]
        },
        {
          "name": "stdout",
          "output_type": "stream",
          "text": [
            "Epoch 6 elapsed: 39.782s\n",
            "\t \u001b[32mtrain_loss: 0.5122\u001b[0m\n",
            "==============================\n"
          ]
        },
        {
          "name": "stderr",
          "output_type": "stream",
          "text": [
            "train: 100%|██████████| 9107/9107 [00:39<00:00, 229.93it/s]\n"
          ]
        },
        {
          "name": "stdout",
          "output_type": "stream",
          "text": [
            "Epoch 7 elapsed: 39.610s\n",
            "\t \u001b[32mtrain_loss: 0.5027\u001b[0m\n",
            "==============================\n"
          ]
        },
        {
          "name": "stderr",
          "output_type": "stream",
          "text": [
            "train: 100%|██████████| 9107/9107 [00:39<00:00, 228.45it/s]\n"
          ]
        },
        {
          "name": "stdout",
          "output_type": "stream",
          "text": [
            "Epoch 8 elapsed: 39.866s\n",
            "\t \u001b[32mtrain_loss: 0.4954\u001b[0m\n",
            "==============================\n"
          ]
        },
        {
          "name": "stderr",
          "output_type": "stream",
          "text": [
            "train: 100%|██████████| 9107/9107 [00:39<00:00, 228.72it/s]\n"
          ]
        },
        {
          "name": "stdout",
          "output_type": "stream",
          "text": [
            "Epoch 9 elapsed: 39.820s\n",
            "\t \u001b[32mtrain_loss: 0.4894\u001b[0m\n",
            "==============================\n"
          ]
        },
        {
          "name": "stderr",
          "output_type": "stream",
          "text": [
            "train: 100%|██████████| 9107/9107 [00:39<00:00, 228.29it/s]\n"
          ]
        },
        {
          "name": "stdout",
          "output_type": "stream",
          "text": [
            "Epoch 10 elapsed: 39.895s\n",
            "\t \u001b[32mtrain_loss: 0.4847\u001b[0m\n",
            "==============================\n"
          ]
        },
        {
          "name": "stderr",
          "output_type": "stream",
          "text": [
            "eval_pointwise: 100%|██████████| 36/36 [00:00<00:00, 360.97it/s]\n"
          ]
        },
        {
          "name": "stdout",
          "output_type": "stream",
          "text": [
            "Training start time: \u001b[35m2025-05-24 18:07:43\u001b[0m\n",
            "total params: \u001b[33m211,688\u001b[0m | embedding params: \u001b[33m209,128\u001b[0m | network params: \u001b[33m2,560\u001b[0m\n"
          ]
        },
        {
          "name": "stderr",
          "output_type": "stream",
          "text": [
            "train: 100%|██████████| 9107/9107 [00:39<00:00, 228.74it/s]\n"
          ]
        },
        {
          "name": "stdout",
          "output_type": "stream",
          "text": [
            "Epoch 1 elapsed: 39.817s\n",
            "\t \u001b[32mtrain_loss: 0.874\u001b[0m\n",
            "==============================\n"
          ]
        },
        {
          "name": "stderr",
          "output_type": "stream",
          "text": [
            "train: 100%|██████████| 9107/9107 [00:39<00:00, 230.12it/s]\n"
          ]
        },
        {
          "name": "stdout",
          "output_type": "stream",
          "text": [
            "Epoch 2 elapsed: 39.578s\n",
            "\t \u001b[32mtrain_loss: 0.6324\u001b[0m\n",
            "==============================\n"
          ]
        },
        {
          "name": "stderr",
          "output_type": "stream",
          "text": [
            "train: 100%|██████████| 9107/9107 [00:39<00:00, 231.16it/s]\n"
          ]
        },
        {
          "name": "stdout",
          "output_type": "stream",
          "text": [
            "Epoch 3 elapsed: 39.399s\n",
            "\t \u001b[32mtrain_loss: 0.5848\u001b[0m\n",
            "==============================\n"
          ]
        },
        {
          "name": "stderr",
          "output_type": "stream",
          "text": [
            "train: 100%|██████████| 9107/9107 [00:39<00:00, 228.67it/s]\n"
          ]
        },
        {
          "name": "stdout",
          "output_type": "stream",
          "text": [
            "Epoch 4 elapsed: 39.829s\n",
            "\t \u001b[32mtrain_loss: 0.5498\u001b[0m\n",
            "==============================\n"
          ]
        },
        {
          "name": "stderr",
          "output_type": "stream",
          "text": [
            "train: 100%|██████████| 9107/9107 [00:39<00:00, 231.81it/s]\n"
          ]
        },
        {
          "name": "stdout",
          "output_type": "stream",
          "text": [
            "Epoch 5 elapsed: 39.289s\n",
            "\t \u001b[32mtrain_loss: 0.5269\u001b[0m\n",
            "==============================\n"
          ]
        },
        {
          "name": "stderr",
          "output_type": "stream",
          "text": [
            "train: 100%|██████████| 9107/9107 [00:39<00:00, 229.80it/s]\n"
          ]
        },
        {
          "name": "stdout",
          "output_type": "stream",
          "text": [
            "Epoch 6 elapsed: 39.633s\n",
            "\t \u001b[32mtrain_loss: 0.513\u001b[0m\n",
            "==============================\n"
          ]
        },
        {
          "name": "stderr",
          "output_type": "stream",
          "text": [
            "train: 100%|██████████| 9107/9107 [00:39<00:00, 232.51it/s]\n"
          ]
        },
        {
          "name": "stdout",
          "output_type": "stream",
          "text": [
            "Epoch 7 elapsed: 39.171s\n",
            "\t \u001b[32mtrain_loss: 0.5037\u001b[0m\n",
            "==============================\n"
          ]
        },
        {
          "name": "stderr",
          "output_type": "stream",
          "text": [
            "train: 100%|██████████| 9107/9107 [00:39<00:00, 230.87it/s]\n"
          ]
        },
        {
          "name": "stdout",
          "output_type": "stream",
          "text": [
            "Epoch 8 elapsed: 39.449s\n",
            "\t \u001b[32mtrain_loss: 0.4964\u001b[0m\n",
            "==============================\n"
          ]
        },
        {
          "name": "stderr",
          "output_type": "stream",
          "text": [
            "train: 100%|██████████| 9107/9107 [00:39<00:00, 231.64it/s]\n"
          ]
        },
        {
          "name": "stdout",
          "output_type": "stream",
          "text": [
            "Epoch 9 elapsed: 39.318s\n",
            "\t \u001b[32mtrain_loss: 0.491\u001b[0m\n",
            "==============================\n"
          ]
        },
        {
          "name": "stderr",
          "output_type": "stream",
          "text": [
            "train: 100%|██████████| 9107/9107 [00:39<00:00, 230.30it/s]\n"
          ]
        },
        {
          "name": "stdout",
          "output_type": "stream",
          "text": [
            "Epoch 10 elapsed: 39.546s\n",
            "\t \u001b[32mtrain_loss: 0.4862\u001b[0m\n",
            "==============================\n"
          ]
        },
        {
          "name": "stderr",
          "output_type": "stream",
          "text": [
            "eval_pointwise: 100%|██████████| 36/36 [00:00<00:00, 336.87it/s]\n"
          ]
        },
        {
          "name": "stdout",
          "output_type": "stream",
          "text": [
            "Training start time: \u001b[35m2025-05-24 18:14:21\u001b[0m\n",
            "total params: \u001b[33m211,688\u001b[0m | embedding params: \u001b[33m209,128\u001b[0m | network params: \u001b[33m2,560\u001b[0m\n"
          ]
        },
        {
          "name": "stderr",
          "output_type": "stream",
          "text": [
            "train: 100%|██████████| 9107/9107 [00:39<00:00, 229.65it/s]\n"
          ]
        },
        {
          "name": "stdout",
          "output_type": "stream",
          "text": [
            "Epoch 1 elapsed: 39.658s\n",
            "\t \u001b[32mtrain_loss: 0.8801\u001b[0m\n",
            "==============================\n"
          ]
        },
        {
          "name": "stderr",
          "output_type": "stream",
          "text": [
            "train: 100%|██████████| 9107/9107 [00:39<00:00, 230.29it/s]\n"
          ]
        },
        {
          "name": "stdout",
          "output_type": "stream",
          "text": [
            "Epoch 2 elapsed: 39.547s\n",
            "\t \u001b[32mtrain_loss: 0.6284\u001b[0m\n",
            "==============================\n"
          ]
        },
        {
          "name": "stderr",
          "output_type": "stream",
          "text": [
            "train: 100%|██████████| 9107/9107 [00:39<00:00, 230.75it/s]\n"
          ]
        },
        {
          "name": "stdout",
          "output_type": "stream",
          "text": [
            "Epoch 3 elapsed: 39.469s\n",
            "\t \u001b[32mtrain_loss: 0.582\u001b[0m\n",
            "==============================\n"
          ]
        },
        {
          "name": "stderr",
          "output_type": "stream",
          "text": [
            "train: 100%|██████████| 9107/9107 [00:39<00:00, 231.08it/s]\n"
          ]
        },
        {
          "name": "stdout",
          "output_type": "stream",
          "text": [
            "Epoch 4 elapsed: 39.414s\n",
            "\t \u001b[32mtrain_loss: 0.5481\u001b[0m\n",
            "==============================\n"
          ]
        },
        {
          "name": "stderr",
          "output_type": "stream",
          "text": [
            "train: 100%|██████████| 9107/9107 [00:39<00:00, 232.01it/s]\n"
          ]
        },
        {
          "name": "stdout",
          "output_type": "stream",
          "text": [
            "Epoch 5 elapsed: 39.255s\n",
            "\t \u001b[32mtrain_loss: 0.5256\u001b[0m\n",
            "==============================\n"
          ]
        },
        {
          "name": "stderr",
          "output_type": "stream",
          "text": [
            "train: 100%|██████████| 9107/9107 [00:39<00:00, 229.62it/s]\n"
          ]
        },
        {
          "name": "stdout",
          "output_type": "stream",
          "text": [
            "Epoch 6 elapsed: 39.664s\n",
            "\t \u001b[32mtrain_loss: 0.5122\u001b[0m\n",
            "==============================\n"
          ]
        },
        {
          "name": "stderr",
          "output_type": "stream",
          "text": [
            "train: 100%|██████████| 9107/9107 [00:40<00:00, 224.15it/s]\n"
          ]
        },
        {
          "name": "stdout",
          "output_type": "stream",
          "text": [
            "Epoch 7 elapsed: 40.632s\n",
            "\t \u001b[32mtrain_loss: 0.5028\u001b[0m\n",
            "==============================\n"
          ]
        },
        {
          "name": "stderr",
          "output_type": "stream",
          "text": [
            "train: 100%|██████████| 9107/9107 [00:40<00:00, 224.91it/s]\n"
          ]
        },
        {
          "name": "stdout",
          "output_type": "stream",
          "text": [
            "Epoch 8 elapsed: 40.495s\n",
            "\t \u001b[32mtrain_loss: 0.496\u001b[0m\n",
            "==============================\n"
          ]
        },
        {
          "name": "stderr",
          "output_type": "stream",
          "text": [
            "train: 100%|██████████| 9107/9107 [00:40<00:00, 224.91it/s]\n"
          ]
        },
        {
          "name": "stdout",
          "output_type": "stream",
          "text": [
            "Epoch 9 elapsed: 40.495s\n",
            "\t \u001b[32mtrain_loss: 0.4904\u001b[0m\n",
            "==============================\n"
          ]
        },
        {
          "name": "stderr",
          "output_type": "stream",
          "text": [
            "train: 100%|██████████| 9107/9107 [00:40<00:00, 224.03it/s]\n"
          ]
        },
        {
          "name": "stdout",
          "output_type": "stream",
          "text": [
            "Epoch 10 elapsed: 40.654s\n",
            "\t \u001b[32mtrain_loss: 0.4856\u001b[0m\n",
            "==============================\n"
          ]
        },
        {
          "name": "stderr",
          "output_type": "stream",
          "text": [
            "eval_pointwise: 100%|██████████| 36/36 [00:00<00:00, 342.24it/s]\n"
          ]
        },
        {
          "name": "stdout",
          "output_type": "stream",
          "text": [
            "\n",
            "LibReco WaveNet: 0.8024914808448486 0.0006860370185840116\n"
          ]
        }
      ],
      "source": [
        "print(\"\\nLibReco WaveNet:\", *libreco_cv(ext, algo_name='WaveNet'))\n"
      ]
    },
    {
      "cell_type": "code",
      "execution_count": null,
      "id": "06122b1d-0716-4709-84b0-eaea3f4d280b",
      "metadata": {
        "colab": {
          "background_save": true
        },
        "id": "06122b1d-0716-4709-84b0-eaea3f4d280b",
        "outputId": "ad371346-1899-4677-df04-0d9570dd7391"
      },
      "outputs": [
        {
          "name": "stderr",
          "output_type": "stream",
          "text": [
            "WARNING:tensorflow:From /usr/local/lib/python3.11/dist-packages/tensorflow/python/ops/init_ops.py:93: calling GlorotUniform.__init__ (from tensorflow.python.ops.init_ops) with dtype is deprecated and will be removed in a future version.\n",
            "Instructions for updating:\n",
            "Call initializer instance with the dtype argument instead of passing it to the constructor\n",
            "WARNING:tensorflow:From /usr/local/lib/python3.11/dist-packages/tensorflow/python/ops/init_ops.py:93: calling Zeros.__init__ (from tensorflow.python.ops.init_ops) with dtype is deprecated and will be removed in a future version.\n",
            "Instructions for updating:\n",
            "Call initializer instance with the dtype argument instead of passing it to the constructor\n",
            "/usr/local/lib/python3.11/dist-packages/libreco/layers/dense.py:31: UserWarning: `tf.layers.batch_normalization` is deprecated and will be removed in a future version. Please use `tf.keras.layers.BatchNormalization` instead. In particular, `tf.control_dependencies(tf.GraphKeys.UPDATE_OPS)` should not be used (consult the `tf.keras.layers.BatchNormalization` documentation).\n",
            "  net = tf.layers.batch_normalization(net, training=is_training)\n",
            "WARNING:tensorflow:From /usr/local/lib/python3.11/dist-packages/keras/layers/normalization/batch_normalization.py:581: _colocate_with (from tensorflow.python.framework.ops) is deprecated and will be removed in a future version.\n",
            "Instructions for updating:\n",
            "Colocations handled automatically by placer.\n"
          ]
        },
        {
          "name": "stdout",
          "output_type": "stream",
          "text": [
            "Training start time: \u001b[35m2025-05-24 18:21:03\u001b[0m\n"
          ]
        },
        {
          "name": "stderr",
          "output_type": "stream",
          "text": [
            "/usr/local/lib/python3.11/dist-packages/libreco/layers/dense.py:39: UserWarning: `tf.layers.batch_normalization` is deprecated and will be removed in a future version. Please use `tf.keras.layers.BatchNormalization` instead. In particular, `tf.control_dependencies(tf.GraphKeys.UPDATE_OPS)` should not be used (consult the `tf.keras.layers.BatchNormalization` documentation).\n",
            "  net = tf.layers.batch_normalization(net, training=is_training)\n"
          ]
        },
        {
          "name": "stdout",
          "output_type": "stream",
          "text": [
            "total params: \u001b[33m207,793\u001b[0m | embedding params: \u001b[33m176,257\u001b[0m | network params: \u001b[33m31,536\u001b[0m\n"
          ]
        },
        {
          "name": "stderr",
          "output_type": "stream",
          "text": [
            "train: 100%|██████████| 9107/9107 [01:06<00:00, 137.60it/s]\n"
          ]
        },
        {
          "name": "stdout",
          "output_type": "stream",
          "text": [
            "Epoch 1 elapsed: 66.187s\n",
            "\t \u001b[32mtrain_loss: 0.7685\u001b[0m\n",
            "==============================\n"
          ]
        },
        {
          "name": "stderr",
          "output_type": "stream",
          "text": [
            "train: 100%|██████████| 9107/9107 [01:05<00:00, 139.54it/s]\n"
          ]
        },
        {
          "name": "stdout",
          "output_type": "stream",
          "text": [
            "Epoch 2 elapsed: 65.266s\n",
            "\t \u001b[32mtrain_loss: 0.6376\u001b[0m\n",
            "==============================\n"
          ]
        },
        {
          "name": "stderr",
          "output_type": "stream",
          "text": [
            "train: 100%|██████████| 9107/9107 [01:04<00:00, 140.60it/s]\n"
          ]
        },
        {
          "name": "stdout",
          "output_type": "stream",
          "text": [
            "Epoch 3 elapsed: 64.776s\n",
            "\t \u001b[32mtrain_loss: 0.6087\u001b[0m\n",
            "==============================\n"
          ]
        },
        {
          "name": "stderr",
          "output_type": "stream",
          "text": [
            "train: 100%|██████████| 9107/9107 [01:04<00:00, 140.45it/s]\n"
          ]
        },
        {
          "name": "stdout",
          "output_type": "stream",
          "text": [
            "Epoch 4 elapsed: 64.847s\n",
            "\t \u001b[32mtrain_loss: 0.5848\u001b[0m\n",
            "==============================\n"
          ]
        },
        {
          "name": "stderr",
          "output_type": "stream",
          "text": [
            "train: 100%|██████████| 9107/9107 [01:04<00:00, 140.49it/s]\n"
          ]
        },
        {
          "name": "stdout",
          "output_type": "stream",
          "text": [
            "Epoch 5 elapsed: 64.825s\n",
            "\t \u001b[32mtrain_loss: 0.5665\u001b[0m\n",
            "==============================\n"
          ]
        },
        {
          "name": "stderr",
          "output_type": "stream",
          "text": [
            "train: 100%|██████████| 9107/9107 [01:04<00:00, 141.49it/s]\n"
          ]
        },
        {
          "name": "stdout",
          "output_type": "stream",
          "text": [
            "Epoch 6 elapsed: 64.367s\n",
            "\t \u001b[32mtrain_loss: 0.5524\u001b[0m\n",
            "==============================\n"
          ]
        },
        {
          "name": "stderr",
          "output_type": "stream",
          "text": [
            "train: 100%|██████████| 9107/9107 [01:05<00:00, 138.20it/s]\n"
          ]
        },
        {
          "name": "stdout",
          "output_type": "stream",
          "text": [
            "Epoch 7 elapsed: 65.901s\n",
            "\t \u001b[32mtrain_loss: 0.5395\u001b[0m\n",
            "==============================\n"
          ]
        },
        {
          "name": "stderr",
          "output_type": "stream",
          "text": [
            "train: 100%|██████████| 9107/9107 [01:05<00:00, 139.94it/s]\n"
          ]
        },
        {
          "name": "stdout",
          "output_type": "stream",
          "text": [
            "Epoch 8 elapsed: 65.080s\n",
            "\t \u001b[32mtrain_loss: 0.5283\u001b[0m\n",
            "==============================\n"
          ]
        },
        {
          "name": "stderr",
          "output_type": "stream",
          "text": [
            "train: 100%|██████████| 9107/9107 [01:04<00:00, 140.44it/s]\n"
          ]
        },
        {
          "name": "stdout",
          "output_type": "stream",
          "text": [
            "Epoch 9 elapsed: 64.849s\n",
            "\t \u001b[32mtrain_loss: 0.5182\u001b[0m\n",
            "==============================\n"
          ]
        },
        {
          "name": "stderr",
          "output_type": "stream",
          "text": [
            "train: 100%|██████████| 9107/9107 [01:04<00:00, 140.25it/s]\n"
          ]
        },
        {
          "name": "stdout",
          "output_type": "stream",
          "text": [
            "Epoch 10 elapsed: 64.937s\n",
            "\t \u001b[32mtrain_loss: 0.5091\u001b[0m\n",
            "==============================\n"
          ]
        },
        {
          "name": "stderr",
          "output_type": "stream",
          "text": [
            "eval_pointwise: 100%|██████████| 36/36 [00:00<00:00, 86.86it/s]\n"
          ]
        },
        {
          "name": "stdout",
          "output_type": "stream",
          "text": [
            "Training start time: \u001b[35m2025-05-24 18:31:58\u001b[0m\n"
          ]
        },
        {
          "name": "stderr",
          "output_type": "stream",
          "text": [
            "/usr/local/lib/python3.11/dist-packages/libreco/layers/dense.py:31: UserWarning: `tf.layers.batch_normalization` is deprecated and will be removed in a future version. Please use `tf.keras.layers.BatchNormalization` instead. In particular, `tf.control_dependencies(tf.GraphKeys.UPDATE_OPS)` should not be used (consult the `tf.keras.layers.BatchNormalization` documentation).\n",
            "  net = tf.layers.batch_normalization(net, training=is_training)\n",
            "/usr/local/lib/python3.11/dist-packages/libreco/layers/dense.py:39: UserWarning: `tf.layers.batch_normalization` is deprecated and will be removed in a future version. Please use `tf.keras.layers.BatchNormalization` instead. In particular, `tf.control_dependencies(tf.GraphKeys.UPDATE_OPS)` should not be used (consult the `tf.keras.layers.BatchNormalization` documentation).\n",
            "  net = tf.layers.batch_normalization(net, training=is_training)\n"
          ]
        },
        {
          "name": "stdout",
          "output_type": "stream",
          "text": [
            "total params: \u001b[33m207,793\u001b[0m | embedding params: \u001b[33m176,257\u001b[0m | network params: \u001b[33m31,536\u001b[0m\n"
          ]
        },
        {
          "name": "stderr",
          "output_type": "stream",
          "text": [
            "train: 100%|██████████| 9107/9107 [01:05<00:00, 138.63it/s]\n"
          ]
        },
        {
          "name": "stdout",
          "output_type": "stream",
          "text": [
            "Epoch 1 elapsed: 65.694s\n",
            "\t \u001b[32mtrain_loss: 0.7669\u001b[0m\n",
            "==============================\n"
          ]
        },
        {
          "name": "stderr",
          "output_type": "stream",
          "text": [
            "train: 100%|██████████| 9107/9107 [01:04<00:00, 141.26it/s]\n"
          ]
        },
        {
          "name": "stdout",
          "output_type": "stream",
          "text": [
            "Epoch 2 elapsed: 64.473s\n",
            "\t \u001b[32mtrain_loss: 0.6334\u001b[0m\n",
            "==============================\n"
          ]
        },
        {
          "name": "stderr",
          "output_type": "stream",
          "text": [
            "train: 100%|██████████| 9107/9107 [01:04<00:00, 140.97it/s]\n"
          ]
        },
        {
          "name": "stdout",
          "output_type": "stream",
          "text": [
            "Epoch 3 elapsed: 64.604s\n",
            "\t \u001b[32mtrain_loss: 0.6028\u001b[0m\n",
            "==============================\n"
          ]
        },
        {
          "name": "stderr",
          "output_type": "stream",
          "text": [
            "train: 100%|██████████| 9107/9107 [01:04<00:00, 141.12it/s]\n"
          ]
        },
        {
          "name": "stdout",
          "output_type": "stream",
          "text": [
            "Epoch 4 elapsed: 64.535s\n",
            "\t \u001b[32mtrain_loss: 0.5808\u001b[0m\n",
            "==============================\n"
          ]
        },
        {
          "name": "stderr",
          "output_type": "stream",
          "text": [
            "train: 100%|██████████| 9107/9107 [01:05<00:00, 139.73it/s]\n"
          ]
        },
        {
          "name": "stdout",
          "output_type": "stream",
          "text": [
            "Epoch 5 elapsed: 65.177s\n",
            "\t \u001b[32mtrain_loss: 0.5635\u001b[0m\n",
            "==============================\n"
          ]
        },
        {
          "name": "stderr",
          "output_type": "stream",
          "text": [
            "train: 100%|██████████| 9107/9107 [01:04<00:00, 140.71it/s]\n"
          ]
        },
        {
          "name": "stdout",
          "output_type": "stream",
          "text": [
            "Epoch 6 elapsed: 64.726s\n",
            "\t \u001b[32mtrain_loss: 0.5484\u001b[0m\n",
            "==============================\n"
          ]
        },
        {
          "name": "stderr",
          "output_type": "stream",
          "text": [
            "train: 100%|██████████| 9107/9107 [01:04<00:00, 141.39it/s]\n"
          ]
        },
        {
          "name": "stdout",
          "output_type": "stream",
          "text": [
            "Epoch 7 elapsed: 64.413s\n",
            "\t \u001b[32mtrain_loss: 0.5353\u001b[0m\n",
            "==============================\n"
          ]
        },
        {
          "name": "stderr",
          "output_type": "stream",
          "text": [
            "train: 100%|██████████| 9107/9107 [01:05<00:00, 139.76it/s]\n"
          ]
        },
        {
          "name": "stdout",
          "output_type": "stream",
          "text": [
            "Epoch 8 elapsed: 65.163s\n",
            "\t \u001b[32mtrain_loss: 0.5244\u001b[0m\n",
            "==============================\n"
          ]
        },
        {
          "name": "stderr",
          "output_type": "stream",
          "text": [
            "train: 100%|██████████| 9107/9107 [01:06<00:00, 137.74it/s]\n"
          ]
        },
        {
          "name": "stdout",
          "output_type": "stream",
          "text": [
            "Epoch 9 elapsed: 66.122s\n",
            "\t \u001b[32mtrain_loss: 0.5139\u001b[0m\n",
            "==============================\n"
          ]
        },
        {
          "name": "stderr",
          "output_type": "stream",
          "text": [
            "train: 100%|██████████| 9107/9107 [01:06<00:00, 137.04it/s]\n"
          ]
        },
        {
          "name": "stdout",
          "output_type": "stream",
          "text": [
            "Epoch 10 elapsed: 66.459s\n",
            "\t \u001b[32mtrain_loss: 0.5056\u001b[0m\n",
            "==============================\n"
          ]
        },
        {
          "name": "stderr",
          "output_type": "stream",
          "text": [
            "eval_pointwise: 100%|██████████| 36/36 [00:00<00:00, 83.65it/s]\n"
          ]
        },
        {
          "name": "stdout",
          "output_type": "stream",
          "text": [
            "Training start time: \u001b[35m2025-05-24 18:42:53\u001b[0m\n"
          ]
        },
        {
          "name": "stderr",
          "output_type": "stream",
          "text": [
            "/usr/local/lib/python3.11/dist-packages/libreco/layers/dense.py:31: UserWarning: `tf.layers.batch_normalization` is deprecated and will be removed in a future version. Please use `tf.keras.layers.BatchNormalization` instead. In particular, `tf.control_dependencies(tf.GraphKeys.UPDATE_OPS)` should not be used (consult the `tf.keras.layers.BatchNormalization` documentation).\n",
            "  net = tf.layers.batch_normalization(net, training=is_training)\n",
            "/usr/local/lib/python3.11/dist-packages/libreco/layers/dense.py:39: UserWarning: `tf.layers.batch_normalization` is deprecated and will be removed in a future version. Please use `tf.keras.layers.BatchNormalization` instead. In particular, `tf.control_dependencies(tf.GraphKeys.UPDATE_OPS)` should not be used (consult the `tf.keras.layers.BatchNormalization` documentation).\n",
            "  net = tf.layers.batch_normalization(net, training=is_training)\n"
          ]
        },
        {
          "name": "stdout",
          "output_type": "stream",
          "text": [
            "total params: \u001b[33m207,793\u001b[0m | embedding params: \u001b[33m176,257\u001b[0m | network params: \u001b[33m31,536\u001b[0m\n"
          ]
        },
        {
          "name": "stderr",
          "output_type": "stream",
          "text": [
            "train: 100%|██████████| 9107/9107 [01:05<00:00, 139.91it/s]\n"
          ]
        },
        {
          "name": "stdout",
          "output_type": "stream",
          "text": [
            "Epoch 1 elapsed: 65.093s\n",
            "\t \u001b[32mtrain_loss: 0.768\u001b[0m\n",
            "==============================\n"
          ]
        },
        {
          "name": "stderr",
          "output_type": "stream",
          "text": [
            "train: 100%|██████████| 9107/9107 [01:03<00:00, 142.94it/s]\n"
          ]
        },
        {
          "name": "stdout",
          "output_type": "stream",
          "text": [
            "Epoch 2 elapsed: 63.714s\n",
            "\t \u001b[32mtrain_loss: 0.6318\u001b[0m\n",
            "==============================\n"
          ]
        },
        {
          "name": "stderr",
          "output_type": "stream",
          "text": [
            "train: 100%|██████████| 9107/9107 [01:04<00:00, 141.85it/s]\n"
          ]
        },
        {
          "name": "stdout",
          "output_type": "stream",
          "text": [
            "Epoch 3 elapsed: 64.206s\n",
            "\t \u001b[32mtrain_loss: 0.6006\u001b[0m\n",
            "==============================\n"
          ]
        },
        {
          "name": "stderr",
          "output_type": "stream",
          "text": [
            "train: 100%|██████████| 9107/9107 [01:03<00:00, 142.76it/s]\n"
          ]
        },
        {
          "name": "stdout",
          "output_type": "stream",
          "text": [
            "Epoch 4 elapsed: 63.795s\n",
            "\t \u001b[32mtrain_loss: 0.5788\u001b[0m\n",
            "==============================\n"
          ]
        },
        {
          "name": "stderr",
          "output_type": "stream",
          "text": [
            "train: 100%|██████████| 9107/9107 [01:03<00:00, 143.34it/s]\n"
          ]
        },
        {
          "name": "stdout",
          "output_type": "stream",
          "text": [
            "Epoch 5 elapsed: 63.536s\n",
            "\t \u001b[32mtrain_loss: 0.5613\u001b[0m\n",
            "==============================\n"
          ]
        },
        {
          "name": "stderr",
          "output_type": "stream",
          "text": [
            "train: 100%|██████████| 9107/9107 [01:03<00:00, 143.84it/s]\n"
          ]
        },
        {
          "name": "stdout",
          "output_type": "stream",
          "text": [
            "Epoch 6 elapsed: 63.317s\n",
            "\t \u001b[32mtrain_loss: 0.5465\u001b[0m\n",
            "==============================\n"
          ]
        },
        {
          "name": "stderr",
          "output_type": "stream",
          "text": [
            "train: 100%|██████████| 9107/9107 [01:03<00:00, 144.36it/s]\n"
          ]
        },
        {
          "name": "stdout",
          "output_type": "stream",
          "text": [
            "Epoch 7 elapsed: 63.089s\n",
            "\t \u001b[32mtrain_loss: 0.5344\u001b[0m\n",
            "==============================\n"
          ]
        },
        {
          "name": "stderr",
          "output_type": "stream",
          "text": [
            "train: 100%|██████████| 9107/9107 [01:03<00:00, 144.51it/s]\n"
          ]
        },
        {
          "name": "stdout",
          "output_type": "stream",
          "text": [
            "Epoch 8 elapsed: 63.021s\n",
            "\t \u001b[32mtrain_loss: 0.5236\u001b[0m\n",
            "==============================\n"
          ]
        },
        {
          "name": "stderr",
          "output_type": "stream",
          "text": [
            "train: 100%|██████████| 9107/9107 [01:04<00:00, 142.20it/s]\n"
          ]
        },
        {
          "name": "stdout",
          "output_type": "stream",
          "text": [
            "Epoch 9 elapsed: 64.046s\n",
            "\t \u001b[32mtrain_loss: 0.5137\u001b[0m\n",
            "==============================\n"
          ]
        },
        {
          "name": "stderr",
          "output_type": "stream",
          "text": [
            "train: 100%|██████████| 9107/9107 [01:04<00:00, 140.97it/s]\n"
          ]
        },
        {
          "name": "stdout",
          "output_type": "stream",
          "text": [
            "Epoch 10 elapsed: 64.605s\n",
            "\t \u001b[32mtrain_loss: 0.5039\u001b[0m\n",
            "==============================\n"
          ]
        },
        {
          "name": "stderr",
          "output_type": "stream",
          "text": [
            "eval_pointwise: 100%|██████████| 36/36 [00:00<00:00, 82.67it/s]\n"
          ]
        },
        {
          "name": "stdout",
          "output_type": "stream",
          "text": [
            "Training start time: \u001b[35m2025-05-24 18:53:35\u001b[0m\n"
          ]
        },
        {
          "name": "stderr",
          "output_type": "stream",
          "text": [
            "/usr/local/lib/python3.11/dist-packages/libreco/layers/dense.py:31: UserWarning: `tf.layers.batch_normalization` is deprecated and will be removed in a future version. Please use `tf.keras.layers.BatchNormalization` instead. In particular, `tf.control_dependencies(tf.GraphKeys.UPDATE_OPS)` should not be used (consult the `tf.keras.layers.BatchNormalization` documentation).\n",
            "  net = tf.layers.batch_normalization(net, training=is_training)\n",
            "/usr/local/lib/python3.11/dist-packages/libreco/layers/dense.py:39: UserWarning: `tf.layers.batch_normalization` is deprecated and will be removed in a future version. Please use `tf.keras.layers.BatchNormalization` instead. In particular, `tf.control_dependencies(tf.GraphKeys.UPDATE_OPS)` should not be used (consult the `tf.keras.layers.BatchNormalization` documentation).\n",
            "  net = tf.layers.batch_normalization(net, training=is_training)\n"
          ]
        },
        {
          "name": "stdout",
          "output_type": "stream",
          "text": [
            "total params: \u001b[33m207,793\u001b[0m | embedding params: \u001b[33m176,257\u001b[0m | network params: \u001b[33m31,536\u001b[0m\n"
          ]
        },
        {
          "name": "stderr",
          "output_type": "stream",
          "text": [
            "train: 100%|██████████| 9107/9107 [01:04<00:00, 140.36it/s]\n"
          ]
        },
        {
          "name": "stdout",
          "output_type": "stream",
          "text": [
            "Epoch 1 elapsed: 64.888s\n",
            "\t \u001b[32mtrain_loss: 0.7663\u001b[0m\n",
            "==============================\n"
          ]
        },
        {
          "name": "stderr",
          "output_type": "stream",
          "text": [
            "train: 100%|██████████| 9107/9107 [01:04<00:00, 140.44it/s]\n"
          ]
        },
        {
          "name": "stdout",
          "output_type": "stream",
          "text": [
            "Epoch 2 elapsed: 64.849s\n",
            "\t \u001b[32mtrain_loss: 0.6363\u001b[0m\n",
            "==============================\n"
          ]
        },
        {
          "name": "stderr",
          "output_type": "stream",
          "text": [
            "train: 100%|██████████| 9107/9107 [01:04<00:00, 140.62it/s]\n"
          ]
        },
        {
          "name": "stdout",
          "output_type": "stream",
          "text": [
            "Epoch 3 elapsed: 64.764s\n",
            "\t \u001b[32mtrain_loss: 0.6056\u001b[0m\n",
            "==============================\n"
          ]
        },
        {
          "name": "stderr",
          "output_type": "stream",
          "text": [
            "train: 100%|██████████| 9107/9107 [01:04<00:00, 141.44it/s]\n"
          ]
        },
        {
          "name": "stdout",
          "output_type": "stream",
          "text": [
            "Epoch 4 elapsed: 64.390s\n",
            "\t \u001b[32mtrain_loss: 0.5833\u001b[0m\n",
            "==============================\n"
          ]
        },
        {
          "name": "stderr",
          "output_type": "stream",
          "text": [
            "train: 100%|██████████| 9107/9107 [01:02<00:00, 145.35it/s]\n"
          ]
        },
        {
          "name": "stdout",
          "output_type": "stream",
          "text": [
            "Epoch 5 elapsed: 62.659s\n",
            "\t \u001b[32mtrain_loss: 0.5664\u001b[0m\n",
            "==============================\n"
          ]
        },
        {
          "name": "stderr",
          "output_type": "stream",
          "text": [
            "train: 100%|██████████| 9107/9107 [01:01<00:00, 147.58it/s]\n"
          ]
        },
        {
          "name": "stdout",
          "output_type": "stream",
          "text": [
            "Epoch 6 elapsed: 61.709s\n",
            "\t \u001b[32mtrain_loss: 0.5521\u001b[0m\n",
            "==============================\n"
          ]
        },
        {
          "name": "stderr",
          "output_type": "stream",
          "text": [
            "train: 100%|██████████| 9107/9107 [01:01<00:00, 147.36it/s]\n"
          ]
        },
        {
          "name": "stdout",
          "output_type": "stream",
          "text": [
            "Epoch 7 elapsed: 61.805s\n",
            "\t \u001b[32mtrain_loss: 0.5391\u001b[0m\n",
            "==============================\n"
          ]
        },
        {
          "name": "stderr",
          "output_type": "stream",
          "text": [
            "train: 100%|██████████| 9107/9107 [01:01<00:00, 147.89it/s]\n"
          ]
        },
        {
          "name": "stdout",
          "output_type": "stream",
          "text": [
            "Epoch 8 elapsed: 61.583s\n",
            "\t \u001b[32mtrain_loss: 0.5282\u001b[0m\n",
            "==============================\n"
          ]
        },
        {
          "name": "stderr",
          "output_type": "stream",
          "text": [
            "train: 100%|██████████| 9107/9107 [01:03<00:00, 143.09it/s]\n"
          ]
        },
        {
          "name": "stdout",
          "output_type": "stream",
          "text": [
            "Epoch 9 elapsed: 63.648s\n",
            "\t \u001b[32mtrain_loss: 0.5179\u001b[0m\n",
            "==============================\n"
          ]
        },
        {
          "name": "stderr",
          "output_type": "stream",
          "text": [
            "train: 100%|██████████| 9107/9107 [01:03<00:00, 142.33it/s]\n"
          ]
        },
        {
          "name": "stdout",
          "output_type": "stream",
          "text": [
            "Epoch 10 elapsed: 63.988s\n",
            "\t \u001b[32mtrain_loss: 0.5091\u001b[0m\n",
            "==============================\n"
          ]
        },
        {
          "name": "stderr",
          "output_type": "stream",
          "text": [
            "eval_pointwise: 100%|██████████| 36/36 [00:00<00:00, 86.78it/s]\n"
          ]
        },
        {
          "name": "stdout",
          "output_type": "stream",
          "text": [
            "Training start time: \u001b[35m2025-05-24 19:04:13\u001b[0m\n"
          ]
        },
        {
          "name": "stderr",
          "output_type": "stream",
          "text": [
            "/usr/local/lib/python3.11/dist-packages/libreco/layers/dense.py:31: UserWarning: `tf.layers.batch_normalization` is deprecated and will be removed in a future version. Please use `tf.keras.layers.BatchNormalization` instead. In particular, `tf.control_dependencies(tf.GraphKeys.UPDATE_OPS)` should not be used (consult the `tf.keras.layers.BatchNormalization` documentation).\n",
            "  net = tf.layers.batch_normalization(net, training=is_training)\n",
            "/usr/local/lib/python3.11/dist-packages/libreco/layers/dense.py:39: UserWarning: `tf.layers.batch_normalization` is deprecated and will be removed in a future version. Please use `tf.keras.layers.BatchNormalization` instead. In particular, `tf.control_dependencies(tf.GraphKeys.UPDATE_OPS)` should not be used (consult the `tf.keras.layers.BatchNormalization` documentation).\n",
            "  net = tf.layers.batch_normalization(net, training=is_training)\n"
          ]
        },
        {
          "name": "stdout",
          "output_type": "stream",
          "text": [
            "total params: \u001b[33m207,793\u001b[0m | embedding params: \u001b[33m176,257\u001b[0m | network params: \u001b[33m31,536\u001b[0m\n"
          ]
        },
        {
          "name": "stderr",
          "output_type": "stream",
          "text": [
            "train: 100%|██████████| 9107/9107 [01:03<00:00, 143.82it/s]\n"
          ]
        },
        {
          "name": "stdout",
          "output_type": "stream",
          "text": [
            "Epoch 1 elapsed: 63.326s\n",
            "\t \u001b[32mtrain_loss: 0.7699\u001b[0m\n",
            "==============================\n"
          ]
        },
        {
          "name": "stderr",
          "output_type": "stream",
          "text": [
            "train: 100%|██████████| 9107/9107 [01:03<00:00, 144.36it/s]\n"
          ]
        },
        {
          "name": "stdout",
          "output_type": "stream",
          "text": [
            "Epoch 2 elapsed: 63.089s\n",
            "\t \u001b[32mtrain_loss: 0.6362\u001b[0m\n",
            "==============================\n"
          ]
        },
        {
          "name": "stderr",
          "output_type": "stream",
          "text": [
            "train: 100%|██████████| 9107/9107 [01:02<00:00, 145.40it/s]\n"
          ]
        },
        {
          "name": "stdout",
          "output_type": "stream",
          "text": [
            "Epoch 3 elapsed: 62.636s\n",
            "\t \u001b[32mtrain_loss: 0.6056\u001b[0m\n",
            "==============================\n"
          ]
        },
        {
          "name": "stderr",
          "output_type": "stream",
          "text": [
            "train: 100%|██████████| 9107/9107 [01:02<00:00, 144.90it/s]\n"
          ]
        },
        {
          "name": "stdout",
          "output_type": "stream",
          "text": [
            "Epoch 4 elapsed: 62.850s\n",
            "\t \u001b[32mtrain_loss: 0.5848\u001b[0m\n",
            "==============================\n"
          ]
        },
        {
          "name": "stderr",
          "output_type": "stream",
          "text": [
            "train: 100%|██████████| 9107/9107 [01:03<00:00, 142.37it/s]\n"
          ]
        },
        {
          "name": "stdout",
          "output_type": "stream",
          "text": [
            "Epoch 5 elapsed: 63.971s\n",
            "\t \u001b[32mtrain_loss: 0.5687\u001b[0m\n",
            "==============================\n"
          ]
        },
        {
          "name": "stderr",
          "output_type": "stream",
          "text": [
            "train: 100%|██████████| 9107/9107 [01:03<00:00, 142.45it/s]\n"
          ]
        },
        {
          "name": "stdout",
          "output_type": "stream",
          "text": [
            "Epoch 6 elapsed: 63.936s\n",
            "\t \u001b[32mtrain_loss: 0.5544\u001b[0m\n",
            "==============================\n"
          ]
        },
        {
          "name": "stderr",
          "output_type": "stream",
          "text": [
            "train: 100%|██████████| 9107/9107 [01:03<00:00, 143.98it/s]\n"
          ]
        },
        {
          "name": "stdout",
          "output_type": "stream",
          "text": [
            "Epoch 7 elapsed: 63.254s\n",
            "\t \u001b[32mtrain_loss: 0.541\u001b[0m\n",
            "==============================\n"
          ]
        },
        {
          "name": "stderr",
          "output_type": "stream",
          "text": [
            "train: 100%|██████████| 9107/9107 [01:02<00:00, 146.28it/s]\n"
          ]
        },
        {
          "name": "stdout",
          "output_type": "stream",
          "text": [
            "Epoch 8 elapsed: 62.260s\n",
            "\t \u001b[32mtrain_loss: 0.5296\u001b[0m\n",
            "==============================\n"
          ]
        },
        {
          "name": "stderr",
          "output_type": "stream",
          "text": [
            "train: 100%|██████████| 9107/9107 [01:04<00:00, 141.75it/s]\n"
          ]
        },
        {
          "name": "stdout",
          "output_type": "stream",
          "text": [
            "Epoch 9 elapsed: 64.251s\n",
            "\t \u001b[32mtrain_loss: 0.52\u001b[0m\n",
            "==============================\n"
          ]
        },
        {
          "name": "stderr",
          "output_type": "stream",
          "text": [
            "train: 100%|██████████| 9107/9107 [01:04<00:00, 140.64it/s]\n"
          ]
        },
        {
          "name": "stdout",
          "output_type": "stream",
          "text": [
            "Epoch 10 elapsed: 64.755s\n",
            "\t \u001b[32mtrain_loss: 0.5108\u001b[0m\n",
            "==============================\n"
          ]
        },
        {
          "name": "stderr",
          "output_type": "stream",
          "text": [
            "eval_pointwise: 100%|██████████| 36/36 [00:00<00:00, 82.29it/s]\n"
          ]
        },
        {
          "name": "stdout",
          "output_type": "stream",
          "text": [
            "\n",
            "LibReco Transformer: 0.8116417306195579 0.0025971799930203598\n"
          ]
        }
      ],
      "source": [
        "print(\"\\nLibReco Transformer:\", *libreco_cv(ext, algo_name='Transformer'))\n"
      ]
    },
    {
      "cell_type": "code",
      "execution_count": null,
      "id": "QRS0tTC6cYIr",
      "metadata": {
        "id": "QRS0tTC6cYIr"
      },
      "outputs": [],
      "source": []
    },
    {
      "cell_type": "markdown",
      "id": "cBtHBtM8NSNR",
      "metadata": {
        "id": "cBtHBtM8NSNR"
      },
      "source": [
        "# Export Predictions"
      ]
    },
    {
      "cell_type": "code",
      "execution_count": null,
      "id": "9zDOvkUwNWAS",
      "metadata": {
        "id": "9zDOvkUwNWAS"
      },
      "outputs": [],
      "source": [
        "def train_libreco(args):\n",
        "    dataset_name, algo_name, ratings = args\n",
        "    df = ratings.copy()\n",
        "    df = df.rename(columns={'sid': 'user', 'pid': 'item', 'rating':'label'})\n",
        "    tf.compat.v1.reset_default_graph()\n",
        "    train_data, train_data_info = DatasetPure.build_trainset(df)\n",
        "\n",
        "    if algo_name == 'FM':\n",
        "        model = FM('rating', train_data_info, n_epochs=10)\n",
        "    elif algo_name == 'DeepFM':\n",
        "        model = DeepFM('rating', train_data_info, n_epochs=10)\n",
        "    elif algo_name == 'WaveNet':\n",
        "        model = WaveNet('rating', train_data_info, n_epochs=10)\n",
        "    elif algo_name == 'Transformer':\n",
        "        model = Transformer('rating', train_data_info, n_epochs=10)\n",
        "    elif algo_name == 'SVD':\n",
        "        model = libSVD('rating', train_data_info, n_epochs=10)\n",
        "    elif algo_name == 'SVDpp':\n",
        "        model = libSVDpp('rating', train_data_info, n_epochs=10)\n",
        "    elif algo_name == 'ALS':\n",
        "        model = libALS('rating', train_data_info, reg=0.01)\n",
        "    elif algo_name == 'NCF':\n",
        "        model = libNCF('rating', train_data_info)\n",
        "    else:\n",
        "        raise ValueError(f\"Algo {algo_name} not supported.\")\n",
        "    model.fit(train_data, False, verbose=2, metrics=['rmse'] )\n",
        "    return model\n",
        "\n",
        "def train_svd(args):\n",
        "    name, ratings = args\n",
        "    reader = Reader(rating_scale=(ratings.rating.min(), ratings.rating.max()))\n",
        "    data = Dataset.load_from_df(ratings[['sid','pid','rating']], reader)\n",
        "    model = SVD(n_factors=100, lr_all=0.005, reg_all=0.02)\n",
        "    model.fit(data.build_full_trainset())\n",
        "    return model\n",
        "\n",
        "def train_svdpp(args):\n",
        "    name, ratings = args\n",
        "    reader = Reader(rating_scale=(ratings.rating.min(), ratings.rating.max()))\n",
        "    data = Dataset.load_from_df(ratings[['sid','pid','rating']], reader)\n",
        "    model = SVDpp(n_factors=50, lr_all=0.005, reg_all=0.02)\n",
        "    model.fit(data.build_full_trainset())\n",
        "    return model\n",
        "\n",
        "def train_ncf(args):\n",
        "    name, ratings = args\n",
        "    n_users = ratings.sid.max() + 1\n",
        "    n_items = ratings.pid.max() + 1\n",
        "\n",
        "    model = build_ncf(n_users, n_items)\n",
        "    model.fit([ratings.sid, ratings.pid],\n",
        "                        ratings.rating,\n",
        "                        epochs=3,\n",
        "                        batch_size=256,\n",
        "                        verbose=0)\n",
        "    graph = tf.compat.v1.get_default_graph()\n",
        "    return model, graph"
      ]
    },
    {
      "cell_type": "code",
      "execution_count": null,
      "id": "U5Zihqv7PIUx",
      "metadata": {
        "colab": {
          "background_save": true,
          "base_uri": "https://localhost:8080/"
        },
        "id": "U5Zihqv7PIUx",
        "outputId": "6931b665-f81f-4d17-e955-ed893a7a9d11"
      },
      "outputs": [
        {
          "name": "stdout",
          "output_type": "stream",
          "text": [
            "Training start time: \u001b[35m2025-05-24 12:38:15\u001b[0m\n"
          ]
        },
        {
          "name": "stderr",
          "output_type": "stream",
          "text": [
            "/usr/local/lib/python3.11/dist-packages/libreco/layers/dense.py:31: UserWarning: `tf.layers.batch_normalization` is deprecated and will be removed in a future version. Please use `tf.keras.layers.BatchNormalization` instead. In particular, `tf.control_dependencies(tf.GraphKeys.UPDATE_OPS)` should not be used (consult the `tf.keras.layers.BatchNormalization` documentation).\n",
            "  net = tf.layers.batch_normalization(net, training=is_training)\n",
            "/usr/local/lib/python3.11/dist-packages/libreco/layers/dense.py:39: UserWarning: `tf.layers.batch_normalization` is deprecated and will be removed in a future version. Please use `tf.keras.layers.BatchNormalization` instead. In particular, `tf.control_dependencies(tf.GraphKeys.UPDATE_OPS)` should not be used (consult the `tf.keras.layers.BatchNormalization` documentation).\n",
            "  net = tf.layers.batch_normalization(net, training=is_training)\n"
          ]
        },
        {
          "name": "stdout",
          "output_type": "stream",
          "text": [
            "total params: \u001b[33m202,095\u001b[0m | embedding params: \u001b[33m187,260\u001b[0m | network params: \u001b[33m14,835\u001b[0m\n"
          ]
        },
        {
          "name": "stderr",
          "output_type": "stream",
          "text": [
            "train: 100%|██████████| 11384/11384 [00:54<00:00, 210.18it/s]\n"
          ]
        },
        {
          "name": "stdout",
          "output_type": "stream",
          "text": [
            "Epoch 1 elapsed: 54.164s\n",
            "\t \u001b[32mtrain_loss: 0.7559\u001b[0m\n",
            "==============================\n"
          ]
        },
        {
          "name": "stderr",
          "output_type": "stream",
          "text": [
            "train: 100%|██████████| 11384/11384 [00:54<00:00, 208.77it/s]\n"
          ]
        },
        {
          "name": "stdout",
          "output_type": "stream",
          "text": [
            "Epoch 2 elapsed: 54.532s\n",
            "\t \u001b[32mtrain_loss: 0.6234\u001b[0m\n",
            "==============================\n"
          ]
        },
        {
          "name": "stderr",
          "output_type": "stream",
          "text": [
            "train: 100%|██████████| 11384/11384 [00:54<00:00, 207.48it/s]\n"
          ]
        },
        {
          "name": "stdout",
          "output_type": "stream",
          "text": [
            "Epoch 3 elapsed: 54.872s\n",
            "\t \u001b[32mtrain_loss: 0.5971\u001b[0m\n",
            "==============================\n"
          ]
        },
        {
          "name": "stderr",
          "output_type": "stream",
          "text": [
            "train: 100%|██████████| 11384/11384 [00:54<00:00, 209.90it/s]\n"
          ]
        },
        {
          "name": "stdout",
          "output_type": "stream",
          "text": [
            "Epoch 4 elapsed: 54.238s\n",
            "\t \u001b[32mtrain_loss: 0.5662\u001b[0m\n",
            "==============================\n"
          ]
        },
        {
          "name": "stderr",
          "output_type": "stream",
          "text": [
            "train: 100%|██████████| 11384/11384 [00:55<00:00, 203.64it/s]\n"
          ]
        },
        {
          "name": "stdout",
          "output_type": "stream",
          "text": [
            "Epoch 5 elapsed: 55.905s\n",
            "\t \u001b[32mtrain_loss: 0.5395\u001b[0m\n",
            "==============================\n"
          ]
        },
        {
          "name": "stderr",
          "output_type": "stream",
          "text": [
            "train: 100%|██████████| 11384/11384 [00:56<00:00, 200.39it/s]\n"
          ]
        },
        {
          "name": "stdout",
          "output_type": "stream",
          "text": [
            "Epoch 6 elapsed: 56.813s\n",
            "\t \u001b[32mtrain_loss: 0.5215\u001b[0m\n",
            "==============================\n"
          ]
        },
        {
          "name": "stderr",
          "output_type": "stream",
          "text": [
            "train: 100%|██████████| 11384/11384 [00:57<00:00, 198.54it/s]\n"
          ]
        },
        {
          "name": "stdout",
          "output_type": "stream",
          "text": [
            "Epoch 7 elapsed: 57.341s\n",
            "\t \u001b[32mtrain_loss: 0.5102\u001b[0m\n",
            "==============================\n"
          ]
        },
        {
          "name": "stderr",
          "output_type": "stream",
          "text": [
            "train: 100%|██████████| 11384/11384 [00:57<00:00, 199.49it/s]\n"
          ]
        },
        {
          "name": "stdout",
          "output_type": "stream",
          "text": [
            "Epoch 8 elapsed: 57.069s\n",
            "\t \u001b[32mtrain_loss: 0.5023\u001b[0m\n",
            "==============================\n"
          ]
        },
        {
          "name": "stderr",
          "output_type": "stream",
          "text": [
            "train: 100%|██████████| 11384/11384 [00:56<00:00, 202.58it/s]\n"
          ]
        },
        {
          "name": "stdout",
          "output_type": "stream",
          "text": [
            "Epoch 9 elapsed: 56.196s\n",
            "\t \u001b[32mtrain_loss: 0.4964\u001b[0m\n",
            "==============================\n"
          ]
        },
        {
          "name": "stderr",
          "output_type": "stream",
          "text": [
            "train: 100%|██████████| 11384/11384 [00:56<00:00, 201.82it/s]\n"
          ]
        },
        {
          "name": "stdout",
          "output_type": "stream",
          "text": [
            "Epoch 10 elapsed: 56.410s\n",
            "\t \u001b[32mtrain_loss: 0.492\u001b[0m\n",
            "==============================\n",
            "Training start time: \u001b[35m2025-05-24 12:47:35\u001b[0m\n"
          ]
        },
        {
          "name": "stderr",
          "output_type": "stream",
          "text": [
            "/usr/local/lib/python3.11/dist-packages/libreco/layers/dense.py:31: UserWarning: `tf.layers.batch_normalization` is deprecated and will be removed in a future version. Please use `tf.keras.layers.BatchNormalization` instead. In particular, `tf.control_dependencies(tf.GraphKeys.UPDATE_OPS)` should not be used (consult the `tf.keras.layers.BatchNormalization` documentation).\n",
            "  net = tf.layers.batch_normalization(net, training=is_training)\n",
            "/usr/local/lib/python3.11/dist-packages/libreco/layers/dense.py:39: UserWarning: `tf.layers.batch_normalization` is deprecated and will be removed in a future version. Please use `tf.keras.layers.BatchNormalization` instead. In particular, `tf.control_dependencies(tf.GraphKeys.UPDATE_OPS)` should not be used (consult the `tf.keras.layers.BatchNormalization` documentation).\n",
            "  net = tf.layers.batch_normalization(net, training=is_training)\n"
          ]
        },
        {
          "name": "stdout",
          "output_type": "stream",
          "text": [
            "total params: \u001b[33m202,095\u001b[0m | embedding params: \u001b[33m187,260\u001b[0m | network params: \u001b[33m14,835\u001b[0m\n"
          ]
        },
        {
          "name": "stderr",
          "output_type": "stream",
          "text": [
            "train: 100%|██████████| 11384/11384 [00:56<00:00, 201.29it/s]\n"
          ]
        },
        {
          "name": "stdout",
          "output_type": "stream",
          "text": [
            "Epoch 1 elapsed: 56.557s\n",
            "\t \u001b[32mtrain_loss: 0.7609\u001b[0m\n",
            "==============================\n"
          ]
        },
        {
          "name": "stderr",
          "output_type": "stream",
          "text": [
            "train: 100%|██████████| 11384/11384 [00:56<00:00, 201.31it/s]\n"
          ]
        },
        {
          "name": "stdout",
          "output_type": "stream",
          "text": [
            "Epoch 2 elapsed: 56.552s\n",
            "\t \u001b[32mtrain_loss: 0.6315\u001b[0m\n",
            "==============================\n"
          ]
        },
        {
          "name": "stderr",
          "output_type": "stream",
          "text": [
            "train: 100%|██████████| 11384/11384 [00:56<00:00, 200.79it/s]\n"
          ]
        },
        {
          "name": "stdout",
          "output_type": "stream",
          "text": [
            "Epoch 3 elapsed: 56.700s\n",
            "\t \u001b[32mtrain_loss: 0.6016\u001b[0m\n",
            "==============================\n"
          ]
        },
        {
          "name": "stderr",
          "output_type": "stream",
          "text": [
            "train: 100%|██████████| 11384/11384 [00:53<00:00, 213.04it/s]\n"
          ]
        },
        {
          "name": "stdout",
          "output_type": "stream",
          "text": [
            "Epoch 4 elapsed: 53.439s\n",
            "\t \u001b[32mtrain_loss: 0.5696\u001b[0m\n",
            "==============================\n"
          ]
        },
        {
          "name": "stderr",
          "output_type": "stream",
          "text": [
            "train: 100%|██████████| 11384/11384 [00:53<00:00, 212.32it/s]\n"
          ]
        },
        {
          "name": "stdout",
          "output_type": "stream",
          "text": [
            "Epoch 5 elapsed: 53.619s\n",
            "\t \u001b[32mtrain_loss: 0.5438\u001b[0m\n",
            "==============================\n"
          ]
        },
        {
          "name": "stderr",
          "output_type": "stream",
          "text": [
            "train: 100%|██████████| 11384/11384 [00:53<00:00, 214.29it/s]\n"
          ]
        },
        {
          "name": "stdout",
          "output_type": "stream",
          "text": [
            "Epoch 6 elapsed: 53.126s\n",
            "\t \u001b[32mtrain_loss: 0.5272\u001b[0m\n",
            "==============================\n"
          ]
        },
        {
          "name": "stderr",
          "output_type": "stream",
          "text": [
            "train: 100%|██████████| 11384/11384 [00:53<00:00, 213.26it/s]\n"
          ]
        },
        {
          "name": "stdout",
          "output_type": "stream",
          "text": [
            "Epoch 7 elapsed: 53.383s\n",
            "\t \u001b[32mtrain_loss: 0.5167\u001b[0m\n",
            "==============================\n"
          ]
        },
        {
          "name": "stderr",
          "output_type": "stream",
          "text": [
            "train: 100%|██████████| 11384/11384 [00:53<00:00, 212.92it/s]\n"
          ]
        },
        {
          "name": "stdout",
          "output_type": "stream",
          "text": [
            "Epoch 8 elapsed: 53.470s\n",
            "\t \u001b[32mtrain_loss: 0.5091\u001b[0m\n",
            "==============================\n"
          ]
        },
        {
          "name": "stderr",
          "output_type": "stream",
          "text": [
            "train: 100%|██████████| 11384/11384 [00:53<00:00, 212.98it/s]\n"
          ]
        },
        {
          "name": "stdout",
          "output_type": "stream",
          "text": [
            "Epoch 9 elapsed: 53.454s\n",
            "\t \u001b[32mtrain_loss: 0.5033\u001b[0m\n",
            "==============================\n"
          ]
        },
        {
          "name": "stderr",
          "output_type": "stream",
          "text": [
            "train: 100%|██████████| 11384/11384 [00:53<00:00, 214.77it/s]\n"
          ]
        },
        {
          "name": "stdout",
          "output_type": "stream",
          "text": [
            "Epoch 10 elapsed: 53.007s\n",
            "\t \u001b[32mtrain_loss: 0.4985\u001b[0m\n",
            "==============================\n",
            "Training start time: \u001b[35m2025-05-24 12:56:40\u001b[0m\n"
          ]
        },
        {
          "name": "stderr",
          "output_type": "stream",
          "text": [
            "/usr/local/lib/python3.11/dist-packages/libreco/layers/dense.py:31: UserWarning: `tf.layers.batch_normalization` is deprecated and will be removed in a future version. Please use `tf.keras.layers.BatchNormalization` instead. In particular, `tf.control_dependencies(tf.GraphKeys.UPDATE_OPS)` should not be used (consult the `tf.keras.layers.BatchNormalization` documentation).\n",
            "  net = tf.layers.batch_normalization(net, training=is_training)\n",
            "/usr/local/lib/python3.11/dist-packages/libreco/layers/dense.py:39: UserWarning: `tf.layers.batch_normalization` is deprecated and will be removed in a future version. Please use `tf.keras.layers.BatchNormalization` instead. In particular, `tf.control_dependencies(tf.GraphKeys.UPDATE_OPS)` should not be used (consult the `tf.keras.layers.BatchNormalization` documentation).\n",
            "  net = tf.layers.batch_normalization(net, training=is_training)\n"
          ]
        },
        {
          "name": "stdout",
          "output_type": "stream",
          "text": [
            "total params: \u001b[33m202,095\u001b[0m | embedding params: \u001b[33m187,260\u001b[0m | network params: \u001b[33m14,835\u001b[0m\n"
          ]
        },
        {
          "name": "stderr",
          "output_type": "stream",
          "text": [
            "train: 100%|██████████| 11384/11384 [00:55<00:00, 206.95it/s]\n"
          ]
        },
        {
          "name": "stdout",
          "output_type": "stream",
          "text": [
            "Epoch 1 elapsed: 55.011s\n",
            "\t \u001b[32mtrain_loss: 0.7714\u001b[0m\n",
            "==============================\n"
          ]
        },
        {
          "name": "stderr",
          "output_type": "stream",
          "text": [
            "train: 100%|██████████| 11384/11384 [00:54<00:00, 210.14it/s]\n"
          ]
        },
        {
          "name": "stdout",
          "output_type": "stream",
          "text": [
            "Epoch 2 elapsed: 54.176s\n",
            "\t \u001b[32mtrain_loss: 0.6442\u001b[0m\n",
            "==============================\n"
          ]
        },
        {
          "name": "stderr",
          "output_type": "stream",
          "text": [
            "train: 100%|██████████| 11384/11384 [00:53<00:00, 211.89it/s]\n"
          ]
        },
        {
          "name": "stdout",
          "output_type": "stream",
          "text": [
            "Epoch 3 elapsed: 53.728s\n",
            "\t \u001b[32mtrain_loss: 0.6113\u001b[0m\n",
            "==============================\n"
          ]
        },
        {
          "name": "stderr",
          "output_type": "stream",
          "text": [
            "train: 100%|██████████| 11384/11384 [00:54<00:00, 210.80it/s]\n"
          ]
        },
        {
          "name": "stdout",
          "output_type": "stream",
          "text": [
            "Epoch 4 elapsed: 54.006s\n",
            "\t \u001b[32mtrain_loss: 0.5768\u001b[0m\n",
            "==============================\n"
          ]
        },
        {
          "name": "stderr",
          "output_type": "stream",
          "text": [
            "train: 100%|██████████| 11384/11384 [00:53<00:00, 211.85it/s]\n"
          ]
        },
        {
          "name": "stdout",
          "output_type": "stream",
          "text": [
            "Epoch 5 elapsed: 53.739s\n",
            "\t \u001b[32mtrain_loss: 0.5508\u001b[0m\n",
            "==============================\n"
          ]
        },
        {
          "name": "stderr",
          "output_type": "stream",
          "text": [
            "train: 100%|██████████| 11384/11384 [00:54<00:00, 210.60it/s]\n"
          ]
        },
        {
          "name": "stdout",
          "output_type": "stream",
          "text": [
            "Epoch 6 elapsed: 54.057s\n",
            "\t \u001b[32mtrain_loss: 0.5339\u001b[0m\n",
            "==============================\n"
          ]
        },
        {
          "name": "stderr",
          "output_type": "stream",
          "text": [
            "train: 100%|██████████| 11384/11384 [00:54<00:00, 210.47it/s]\n"
          ]
        },
        {
          "name": "stdout",
          "output_type": "stream",
          "text": [
            "Epoch 7 elapsed: 54.092s\n",
            "\t \u001b[32mtrain_loss: 0.5229\u001b[0m\n",
            "==============================\n"
          ]
        },
        {
          "name": "stderr",
          "output_type": "stream",
          "text": [
            "train: 100%|██████████| 11384/11384 [00:53<00:00, 213.00it/s]\n"
          ]
        },
        {
          "name": "stdout",
          "output_type": "stream",
          "text": [
            "Epoch 8 elapsed: 53.449s\n",
            "\t \u001b[32mtrain_loss: 0.5152\u001b[0m\n",
            "==============================\n"
          ]
        },
        {
          "name": "stderr",
          "output_type": "stream",
          "text": [
            "train: 100%|██████████| 11384/11384 [00:53<00:00, 213.76it/s]\n"
          ]
        },
        {
          "name": "stdout",
          "output_type": "stream",
          "text": [
            "Epoch 9 elapsed: 53.258s\n",
            "\t \u001b[32mtrain_loss: 0.5092\u001b[0m\n",
            "==============================\n"
          ]
        },
        {
          "name": "stderr",
          "output_type": "stream",
          "text": [
            "train: 100%|██████████| 11384/11384 [00:53<00:00, 212.45it/s]\n"
          ]
        },
        {
          "name": "stdout",
          "output_type": "stream",
          "text": [
            "Epoch 10 elapsed: 53.586s\n",
            "\t \u001b[32mtrain_loss: 0.5047\u001b[0m\n",
            "==============================\n",
            "Training start time: \u001b[35m2025-05-24 13:05:41\u001b[0m\n"
          ]
        },
        {
          "name": "stderr",
          "output_type": "stream",
          "text": [
            "/usr/local/lib/python3.11/dist-packages/libreco/layers/dense.py:31: UserWarning: `tf.layers.batch_normalization` is deprecated and will be removed in a future version. Please use `tf.keras.layers.BatchNormalization` instead. In particular, `tf.control_dependencies(tf.GraphKeys.UPDATE_OPS)` should not be used (consult the `tf.keras.layers.BatchNormalization` documentation).\n",
            "  net = tf.layers.batch_normalization(net, training=is_training)\n",
            "/usr/local/lib/python3.11/dist-packages/libreco/layers/dense.py:39: UserWarning: `tf.layers.batch_normalization` is deprecated and will be removed in a future version. Please use `tf.keras.layers.BatchNormalization` instead. In particular, `tf.control_dependencies(tf.GraphKeys.UPDATE_OPS)` should not be used (consult the `tf.keras.layers.BatchNormalization` documentation).\n",
            "  net = tf.layers.batch_normalization(net, training=is_training)\n"
          ]
        },
        {
          "name": "stdout",
          "output_type": "stream",
          "text": [
            "total params: \u001b[33m202,095\u001b[0m | embedding params: \u001b[33m187,260\u001b[0m | network params: \u001b[33m14,835\u001b[0m\n"
          ]
        },
        {
          "name": "stderr",
          "output_type": "stream",
          "text": [
            "train: 100%|██████████| 11384/11384 [00:53<00:00, 211.36it/s]\n"
          ]
        },
        {
          "name": "stdout",
          "output_type": "stream",
          "text": [
            "Epoch 1 elapsed: 53.862s\n",
            "\t \u001b[32mtrain_loss: 0.8667\u001b[0m\n",
            "==============================\n"
          ]
        },
        {
          "name": "stderr",
          "output_type": "stream",
          "text": [
            "train: 100%|██████████| 11384/11384 [00:53<00:00, 212.59it/s]\n"
          ]
        },
        {
          "name": "stdout",
          "output_type": "stream",
          "text": [
            "Epoch 2 elapsed: 53.552s\n",
            "\t \u001b[32mtrain_loss: 0.748\u001b[0m\n",
            "==============================\n"
          ]
        },
        {
          "name": "stderr",
          "output_type": "stream",
          "text": [
            "train: 100%|██████████| 11384/11384 [00:53<00:00, 211.85it/s]\n"
          ]
        },
        {
          "name": "stdout",
          "output_type": "stream",
          "text": [
            "Epoch 3 elapsed: 53.739s\n",
            "\t \u001b[32mtrain_loss: 0.7012\u001b[0m\n",
            "==============================\n"
          ]
        },
        {
          "name": "stderr",
          "output_type": "stream",
          "text": [
            "train: 100%|██████████| 11384/11384 [00:53<00:00, 212.07it/s]\n"
          ]
        },
        {
          "name": "stdout",
          "output_type": "stream",
          "text": [
            "Epoch 4 elapsed: 53.684s\n",
            "\t \u001b[32mtrain_loss: 0.6632\u001b[0m\n",
            "==============================\n"
          ]
        },
        {
          "name": "stderr",
          "output_type": "stream",
          "text": [
            "train: 100%|██████████| 11384/11384 [00:53<00:00, 212.04it/s]\n"
          ]
        },
        {
          "name": "stdout",
          "output_type": "stream",
          "text": [
            "Epoch 5 elapsed: 53.690s\n",
            "\t \u001b[32mtrain_loss: 0.6355\u001b[0m\n",
            "==============================\n"
          ]
        },
        {
          "name": "stderr",
          "output_type": "stream",
          "text": [
            "train: 100%|██████████| 11384/11384 [00:54<00:00, 210.67it/s]\n"
          ]
        },
        {
          "name": "stdout",
          "output_type": "stream",
          "text": [
            "Epoch 6 elapsed: 54.041s\n",
            "\t \u001b[32mtrain_loss: 0.6164\u001b[0m\n",
            "==============================\n"
          ]
        },
        {
          "name": "stderr",
          "output_type": "stream",
          "text": [
            "train: 100%|██████████| 11384/11384 [00:53<00:00, 212.54it/s]\n"
          ]
        },
        {
          "name": "stdout",
          "output_type": "stream",
          "text": [
            "Epoch 7 elapsed: 53.563s\n",
            "\t \u001b[32mtrain_loss: 0.6038\u001b[0m\n",
            "==============================\n"
          ]
        },
        {
          "name": "stderr",
          "output_type": "stream",
          "text": [
            "train: 100%|██████████| 11384/11384 [00:53<00:00, 214.50it/s]\n"
          ]
        },
        {
          "name": "stdout",
          "output_type": "stream",
          "text": [
            "Epoch 8 elapsed: 53.074s\n",
            "\t \u001b[32mtrain_loss: 0.5946\u001b[0m\n",
            "==============================\n"
          ]
        },
        {
          "name": "stderr",
          "output_type": "stream",
          "text": [
            "train: 100%|██████████| 11384/11384 [00:53<00:00, 213.02it/s]\n"
          ]
        },
        {
          "name": "stdout",
          "output_type": "stream",
          "text": [
            "Epoch 9 elapsed: 53.442s\n",
            "\t \u001b[32mtrain_loss: 0.5878\u001b[0m\n",
            "==============================\n"
          ]
        },
        {
          "name": "stderr",
          "output_type": "stream",
          "text": [
            "train: 100%|██████████| 11384/11384 [00:53<00:00, 214.13it/s]\n"
          ]
        },
        {
          "name": "stdout",
          "output_type": "stream",
          "text": [
            "Epoch 10 elapsed: 53.167s\n",
            "\t \u001b[32mtrain_loss: 0.5823\u001b[0m\n",
            "==============================\n",
            "Done\n"
          ]
        }
      ],
      "source": [
        "datasets = {\n",
        "    'row_ext':     ext,\n",
        "    'col_ext':     column_ext,\n",
        "    'global_ext':  global_ext,\n",
        "    'const_ext':   const_ext,\n",
        "}\n",
        "\n",
        "# datasets = {\n",
        "#     'sample': sample\n",
        "# }\n",
        "\n",
        "models = {}\n",
        "\n",
        "for ds_name, ds_ratings in datasets.items():\n",
        "        models[(ds_name, \"SVD\")] = train_svd((ds_name, ds_ratings))\n",
        "        models[(ds_name, \"SVDpp\")] = train_svdpp((ds_name, ds_ratings))\n",
        "        models[(ds_name, \"LibrecoSVDpp\")] = train_libreco((ds_name, \"SVDpp\", ds_ratings))\n",
        "        models[(ds_name, \"LibrecoNCF\")] = train_libreco((ds_name, \"NCF\", ds_ratings))\n",
        "        models[(ds_name, \"CustomNCF\")] = train_ncf((ds_name, ds_ratings))\n",
        "        models[(ds_name, \"LibrecoFM\")] = train_libreco((ds_name, \"FM\", ds_ratings))\n",
        "        models[(ds_name, \"LibrecoDeepFM\")] = train_libreco((ds_name, \"DeepFM\", ds_ratings))\n",
        "\n",
        "print(\"Done\")"
      ]
    },
    {
      "cell_type": "code",
      "execution_count": null,
      "id": "xpakm5FWPfQW",
      "metadata": {
        "id": "xpakm5FWPfQW"
      },
      "outputs": [],
      "source": [
        "sub_df = pd.read_csv(\"cil/sample_submission.csv\")\n",
        "sub_df[[\"sid\",\"pid\"]] = (\n",
        "    sub_df.sid_pid\n",
        "          .str.split(\"_\", expand=True)\n",
        "          .astype(int)\n",
        ")\n",
        "sid_pid_pairs = list(zip(sub_df.sid_pid, sub_df.sid, sub_df.pid))"
      ]
    },
    {
      "cell_type": "code",
      "execution_count": null,
      "id": "fqp_MAw8Pidr",
      "metadata": {
        "id": "fqp_MAw8Pidr"
      },
      "outputs": [],
      "source": [
        "from tqdm.auto import tqdm\n",
        "\n",
        "def get_prediction(algo, s, p):\n",
        "    result = algo.predict(s, p)\n",
        "    if hasattr(result, 'est'):\n",
        "        return result.est\n",
        "    elif isinstance(result, (list, np.ndarray)):\n",
        "        return result[0]\n",
        "    else:\n",
        "        return result\n",
        "\n",
        "def predict_and_write(task):\n",
        "    ds_name, algo_name, algo, pairs = task\n",
        "    sid_pid_list, sids, pids = zip(*pairs)\n",
        "    if \"Libreco\" in algo_name:\n",
        "        print(\"Batch prediction started...\")\n",
        "        preds = algo.predict(sids, pids)\n",
        "    elif \"Custom\" in algo_name:\n",
        "        model, graph = algo\n",
        "        with graph.as_default():\n",
        "            preds = model.predict([sids, pids]).flatten()\n",
        "    else:\n",
        "        preds = [get_prediction(algo, s, p) for s, p in tqdm(zip(sids, pids), total=len(sids))]\n",
        "    clipped = [min(max(r, 1), 5) for r in preds]\n",
        "\n",
        "    out = pd.DataFrame({\n",
        "        \"sid_pid\": sid_pid_list,\n",
        "        \"rating\": clipped\n",
        "    })\n",
        "    fname = f\"submission_{ds_name}_{algo_name}.csv\"\n",
        "    out.to_csv('/content/gdrive/MyDrive/'+fname, index=False)\n",
        "    return fname"
      ]
    },
    {
      "cell_type": "code",
      "execution_count": null,
      "id": "dDBFM5HaPoz7",
      "metadata": {
        "colab": {
          "background_save": true
        },
        "id": "dDBFM5HaPoz7",
        "outputId": "c64f016a-5cbe-4f07-818a-f29a353bbff2"
      },
      "outputs": [
        {
          "name": "stdout",
          "output_type": "stream",
          "text": [
            "row_ext LibrecoDeepFM\n",
            "Batch prediction started...\n",
            "col_ext LibrecoDeepFM\n",
            "Batch prediction started...\n",
            "global_ext LibrecoDeepFM\n",
            "Batch prediction started...\n",
            "const_ext LibrecoDeepFM\n",
            "Batch prediction started...\n",
            "Wrote files:\n",
            "   submission_row_ext_LibrecoDeepFM.csv\n",
            "   submission_col_ext_LibrecoDeepFM.csv\n",
            "   submission_global_ext_LibrecoDeepFM.csv\n",
            "   submission_const_ext_LibrecoDeepFM.csv\n"
          ]
        }
      ],
      "source": [
        "tasks = [\n",
        "    (ds_name, algo_name, algo, sid_pid_pairs)\n",
        "    for (ds_name, algo_name), algo in models.items()\n",
        "]\n",
        "\n",
        "written = []\n",
        "for t in tasks:\n",
        "    print(t[0], t[1])\n",
        "    written.append(predict_and_write(t))\n",
        "\n",
        "print(\"Wrote files:\")\n",
        "for f in written:\n",
        "    print(\"  \", f)"
      ]
    },
    {
      "cell_type": "code",
      "execution_count": null,
      "id": "NvRWSYail6Fr",
      "metadata": {
        "id": "NvRWSYail6Fr"
      },
      "outputs": [],
      "source": []
    }
  ],
  "metadata": {
    "accelerator": "GPU",
    "colab": {
      "collapsed_sections": [
        "6e65db65",
        "A01CMfCdEj71",
        "yihfC11XROWI",
        "EsV_aFSiRbob",
        "YF40IBIERyV7",
        "7G7EAVr8R9gI",
        "et5GS_JPSRLe"
      ],
      "gpuType": "T4",
      "machine_shape": "hm",
      "provenance": []
    },
    "kernelspec": {
      "display_name": "Python 3",
      "name": "python3"
    },
    "language_info": {
      "name": "python"
    }
  },
  "nbformat": 4,
  "nbformat_minor": 5
}